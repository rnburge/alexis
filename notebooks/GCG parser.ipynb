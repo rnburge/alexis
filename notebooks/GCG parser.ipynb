{
 "cells": [
  {
   "cell_type": "code",
   "execution_count": 1,
   "metadata": {},
   "outputs": [],
   "source": [
    "from controller.game import GameController\n",
    "from view.consolegui import ConsoleGui\n",
    "from model.aiplayer import AiPlayer\n",
    "from model.bag import Bag\n",
    "from model.config import Direction\n",
    "from model.row import Row\n",
    "import numpy as np\n",
    "import os\n",
    "import copy\n",
    "from model.config import LETTER_VALUES, NO_CROSS_WORD, RACK_SIZE, BONUS"
   ]
  },
  {
   "cell_type": "code",
   "execution_count": 6,
   "metadata": {},
   "outputs": [
    {
     "data": {
      "text/plain": [
       "['OVERFACILE',\n",
       " 'OVERFALL',\n",
       " 'OVERFALLEN',\n",
       " 'OVERFALLS',\n",
       " 'OVERFAR',\n",
       " 'OVERFAST',\n",
       " 'OVERFAT',\n",
       " 'OVERFAVOR',\n",
       " 'OVERFAVORS',\n",
       " 'OVERFAVOUR',\n",
       " 'OVERFEAR',\n",
       " 'OVERFEARED',\n",
       " 'OVERFEARS',\n",
       " 'OVERFED',\n",
       " 'OVERFEED',\n",
       " 'OVERFEEDS',\n",
       " 'OVERFELL',\n",
       " 'OVERFILL',\n",
       " 'OVERFILLED',\n",
       " 'OVERFILLS',\n",
       " 'OVERFINE',\n",
       " 'OVERFISH',\n",
       " 'OVERFISHED',\n",
       " 'OVERFISHES',\n",
       " 'OVERFIT',\n",
       " 'OVERFLEW',\n",
       " 'OVERFLIES',\n",
       " 'OVERFLIGHT',\n",
       " 'OVERFLOOD',\n",
       " 'OVERFLOODS',\n",
       " 'OVERFLOW',\n",
       " 'OVERFLOWED',\n",
       " 'OVERFLOWN',\n",
       " 'OVERFLOWS',\n",
       " 'OVERFLUSH',\n",
       " 'OVERFLY',\n",
       " 'OVERFLYING',\n",
       " 'OVERFOCUS',\n",
       " 'OVERFOLD',\n",
       " 'OVERFOLDED',\n",
       " 'OVERFOLDS',\n",
       " 'OVERFOND',\n",
       " 'OVERFONDLY',\n",
       " 'OVERFOUL',\n",
       " 'OVERFRANK',\n",
       " 'OVERFREE',\n",
       " 'OVERFREELY',\n",
       " 'OVERFULFIL',\n",
       " 'OVERFULL',\n",
       " 'OVERFUND',\n",
       " 'OVERFUNDED',\n",
       " 'OVERFUNDS',\n",
       " 'OVERFUSSY']"
      ]
     },
     "execution_count": 6,
     "metadata": {},
     "output_type": "execute_result"
    }
   ],
   "source": [
    "lex.starts_with('overf')"
   ]
  },
  {
   "cell_type": "code",
   "execution_count": 2,
   "metadata": {},
   "outputs": [],
   "source": [
    "players = [None, None]\n",
    "bag = Bag()\n",
    "game = GameController(players, bag)\n",
    "gui = ConsoleGui(game)\n"
   ]
  },
  {
   "cell_type": "code",
   "execution_count": 3,
   "metadata": {},
   "outputs": [],
   "source": [
    "lex = game.lexicon"
   ]
  },
  {
   "cell_type": "code",
   "execution_count": 4,
   "metadata": {},
   "outputs": [
    {
     "data": {
      "text/plain": [
       "False"
      ]
     },
     "execution_count": 4,
     "metadata": {},
     "output_type": "execute_result"
    }
   ],
   "source": [
    "'OVERFATIGUE' in lex"
   ]
  },
  {
   "cell_type": "code",
   "execution_count": 331,
   "metadata": {},
   "outputs": [],
   "source": [
    "path = 'gcg/game_0002.gcg'\n",
    "# later we'll loop through with:\n",
    "# files = os.listdir('gcg')"
   ]
  },
  {
   "cell_type": "code",
   "execution_count": 332,
   "metadata": {},
   "outputs": [],
   "source": [
    "with open(path, 'r') as f:\n",
    "    lines = f.readlines()"
   ]
  },
  {
   "cell_type": "code",
   "execution_count": 345,
   "metadata": {},
   "outputs": [
    {
     "data": {
      "text/plain": [
       "[['#player1', 'Quackle', 'Quackle'],\n",
       " ['#player2', 'New_Player_1', 'New', 'Player', '1'],\n",
       " ['>Quackle:', 'EPRRRWW', '-RRWW', '+0', '0'],\n",
       " ['>New_Player_1:', 'ADDLLNT', '8G', 'DALT', '+10', '10'],\n",
       " ['>Quackle:', 'EEOPRRZ', 'J4', 'ROZE.', '+34', '34'],\n",
       " ['>New_Player_1:', 'DEEILNO', '9B', 'ELOINED', '+68', '78'],\n",
       " ['>Quackle:', 'EGIPRSW', 'E4', 'PERIW.GS', '+106', '140'],\n",
       " ['>New_Player_1:', 'AEEIJUV', '4H', 'JA.VIE', '+48', '126'],\n",
       " ['>Quackle:', 'DHMNORY', 'M3', 'D.MONRY', '+46', '186'],\n",
       " ['>New_Player_1:', 'ENRUUUY', '6H', 'YU.U', '+16', '142'],\n",
       " ['>Quackle:', 'AHHMOTU', 'D3', 'MOHUA', '+37', '223'],\n",
       " ['>New_Player_1:', 'AEIKNRU', 'C7', 'KU.A', '+35', '177'],\n",
       " ['>Quackle:', 'AAEFHTT', 'C2', 'HAFT', '+42', '265'],\n",
       " ['>New_Player_1:', 'EEILNNR', 'B2', 'EN', '+19', '196'],\n",
       " ['>Quackle:', 'AEEFSTX', 'N4', 'SAXE', '+59', '324'],\n",
       " ['>New_Player_1:', 'EGILNRS', '1C', 'SLINGER', '+88', '284'],\n",
       " ['>Quackle:', 'EFLRTTT', 'O7', 'FETT', '+27', '351'],\n",
       " ['>New_Player_1:', '?CIIIOO', '5G', 'IO', '+15', '299'],\n",
       " ['>Quackle:', '?ILOPRT', '11E', '.PORTILy', '+68', '419'],\n",
       " ['>New_Player_1:', '?CIIOQV', 'J10', 'Q.', '+31', '330'],\n",
       " ['>Quackle:', 'AABCDEN', '12G', 'BEAN', '+28', '447'],\n",
       " ['>New_Player_1:', '?CEIIOV', '13C', 'InVOICE', '+97', '427'],\n",
       " ['>Quackle:', 'ACDEOST', '14F', 'DA', '+16', '463'],\n",
       " ['>New_Player_1:', 'ABGINRW', 'N10', 'AWING', '+23', '450'],\n",
       " ['>Quackle:', 'CEOST', '15F', 'ESCOT', '+32', '495'],\n",
       " ['>Quackle:', '(BR)', '+8', '503']]"
      ]
     },
     "execution_count": 345,
     "metadata": {},
     "output_type": "execute_result"
    }
   ],
   "source": [
    "movelist = [line.split() for line in lines]\n",
    "movelist"
   ]
  },
  {
   "cell_type": "code",
   "execution_count": 346,
   "metadata": {},
   "outputs": [],
   "source": [
    "player1 = AiPlayer(game, gui, movelist.pop(0)[1])\n",
    "player2 = AiPlayer(game, gui, movelist.pop(0)[1])"
   ]
  },
  {
   "cell_type": "code",
   "execution_count": 347,
   "metadata": {},
   "outputs": [],
   "source": [
    "game.players = [player1, player2]\n",
    "game.active_player = player1 if player1.name == movelist[0][0][1:-1] else player2"
   ]
  },
  {
   "cell_type": "code",
   "execution_count": 348,
   "metadata": {},
   "outputs": [
    {
     "data": {
      "text/plain": [
       "['>Quackle:', 'EPRRRWW', '-RRWW', '+0', '0']"
      ]
     },
     "execution_count": 348,
     "metadata": {},
     "output_type": "execute_result"
    }
   ],
   "source": [
    "current_move_info = movelist.pop(0)\n",
    "current_move_info"
   ]
  },
  {
   "cell_type": "code",
   "execution_count": 349,
   "metadata": {},
   "outputs": [
    {
     "data": {
      "text/plain": [
       "False"
      ]
     },
     "execution_count": 349,
     "metadata": {},
     "output_type": "execute_result"
    }
   ],
   "source": [
    "'(' in current_move_info"
   ]
  },
  {
   "cell_type": "code",
   "execution_count": 350,
   "metadata": {
    "scrolled": true
   },
   "outputs": [],
   "source": [
    "# we use '@' for blank for pragmatic reasons (it's the ASCII character before 'A')\n",
    "# GCG uses '?', so let's fix that:\n",
    "game.active_player.rack.rack_tiles = list(current_move_info[1].replace('?','@'))"
   ]
  },
  {
   "cell_type": "code",
   "execution_count": 351,
   "metadata": {},
   "outputs": [
    {
     "data": {
      "text/plain": [
       "Rack object containing the following tiles:\n",
       "EPRRRWW"
      ]
     },
     "execution_count": 351,
     "metadata": {},
     "output_type": "execute_result"
    }
   ],
   "source": [
    "# this is the rack we got:\n",
    "game.active_player.rack"
   ]
  },
  {
   "cell_type": "code",
   "execution_count": 223,
   "metadata": {
    "scrolled": true
   },
   "outputs": [
    {
     "data": {
      "text/plain": [
       "[Move object:\n",
       " Move: D8, Horizontal, tiles: BRIGADe, score: 76.0, Move object:\n",
       " Move: H3, Vertical, tiles: ABRIDGe, score: 76.0, Move object:\n",
       " Move: C8, Horizontal, tiles: ABRIDGe, score: 76.0, Move object:\n",
       " Move: H4, Vertical, tiles: BRIGADe, score: 76.0, Move object:\n",
       " Move: H7, Vertical, tiles: BRIGADe, score: 74.0, Move object:\n",
       " Move: H7, Vertical, tiles: ABRIDGe, score: 74.0, Move object:\n",
       " Move: G8, Horizontal, tiles: ABRIDGe, score: 74.0, Move object:\n",
       " Move: H8, Horizontal, tiles: ABRIDGe, score: 74.0, Move object:\n",
       " Move: H8, Vertical, tiles: ABRIDGe, score: 74.0, Move object:\n",
       " Move: G8, Horizontal, tiles: BRIGADe, score: 74.0, Move object:\n",
       " Move: H4, Vertical, tiles: ABRIDGe, score: 72.0, Move object:\n",
       " Move: B8, Horizontal, tiles: BRIGADe, score: 72.0, Move object:\n",
       " Move: D8, Horizontal, tiles: ABRIDGe, score: 72.0, Move object:\n",
       " Move: H2, Vertical, tiles: ABRIDGe, score: 72.0, Move object:\n",
       " Move: B8, Horizontal, tiles: ABRIDGe, score: 72.0, Move object:\n",
       " Move: H3, Vertical, tiles: BRIGADe, score: 72.0, Move object:\n",
       " Move: H8, Vertical, tiles: BRIGADe, score: 72.0, Move object:\n",
       " Move: H2, Vertical, tiles: BRIGADe, score: 72.0, Move object:\n",
       " Move: H8, Horizontal, tiles: BRIGADe, score: 72.0, Move object:\n",
       " Move: C8, Horizontal, tiles: BRIGADe, score: 72.0, Move object:\n",
       " Move: H5, Vertical, tiles: BRIGADe, score: 70.0, Move object:\n",
       " Move: E8, Horizontal, tiles: BRIGADe, score: 70.0, Move object:\n",
       " Move: H5, Vertical, tiles: ABRIDGe, score: 70.0, Move object:\n",
       " Move: H6, Vertical, tiles: BRIGADe, score: 70.0, Move object:\n",
       " Move: F8, Horizontal, tiles: BRIGADe, score: 70.0, Move object:\n",
       " Move: H6, Vertical, tiles: ABRIDGe, score: 70.0, Move object:\n",
       " Move: F8, Horizontal, tiles: ABRIDGe, score: 70.0, Move object:\n",
       " Move: E8, Horizontal, tiles: ABRIDGe, score: 70.0, Move object:\n",
       " Move: D8, Horizontal, tiles: BeGIRD, score: 24.0, Move object:\n",
       " Move: H4, Vertical, tiles: BADGeR, score: 24.0, Move object:\n",
       " Move: H4, Vertical, tiles: BARGeD, score: 24.0, Move object:\n",
       " Move: D8, Horizontal, tiles: BRIDGe, score: 24.0, Move object:\n",
       " Move: H4, Vertical, tiles: BeGIRD, score: 24.0, Move object:\n",
       " Move: H4, Vertical, tiles: BRIDGe, score: 24.0, Move object:\n",
       " Move: D8, Horizontal, tiles: BADGeR, score: 24.0, Move object:\n",
       " Move: D8, Horizontal, tiles: BARGeD, score: 24.0, Move object:\n",
       " Move: H8, Vertical, tiles: BRIDGe, score: 22.0, Move object:\n",
       " Move: D8, Horizontal, tiles: BRAID, score: 22.0, Move object:\n",
       " Move: D8, Horizontal, tiles: BeGAD, score: 22.0, Move object:\n",
       " Move: H4, Vertical, tiles: BADGe, score: 22.0, Move object:\n",
       " Move: G8, Horizontal, tiles: BARGeD, score: 22.0, Move object:\n",
       " Move: H7, Vertical, tiles: GARBeD, score: 22.0, Move object:\n",
       " Move: H4, Vertical, tiles: BRAID, score: 22.0, Move object:\n",
       " Move: H3, Vertical, tiles: ABIDeR, score: 22.0, Move object:\n",
       " Move: H8, Horizontal, tiles: BRIDGe, score: 22.0, Move object:\n",
       " Move: H4, Vertical, tiles: BRAIDe, score: 22.0, Move object:\n",
       " Move: D8, Horizontal, tiles: BRAIDe, score: 22.0, Move object:\n",
       " Move: C8, Horizontal, tiles: ABIDeR, score: 22.0, Move object:\n",
       " Move: D8, Horizontal, tiles: GARBeD, score: 22.0, Move object:\n",
       " Move: H7, Vertical, tiles: BARGeD, score: 22.0, Move object:\n",
       " Move: H4, Vertical, tiles: BeGAD, score: 22.0, Move object:\n",
       " Move: G8, Horizontal, tiles: GARBeD, score: 22.0, Move object:\n",
       " Move: G8, Horizontal, tiles: BeGIRD, score: 22.0, Move object:\n",
       " Move: H4, Vertical, tiles: BARDIe, score: 22.0, Move object:\n",
       " Move: D8, Horizontal, tiles: BARDIe, score: 22.0, Move object:\n",
       " Move: H4, Vertical, tiles: GARBeD, score: 22.0, Move object:\n",
       " Move: D8, Horizontal, tiles: BADGe, score: 22.0, Move object:\n",
       " Move: H7, Vertical, tiles: BeGIRD, score: 22.0, Move object:\n",
       " Move: H8, Horizontal, tiles: RABID, score: 20.0, Move object:\n",
       " Move: H4, Vertical, tiles: BRIDe, score: 20.0, Move object:\n",
       " Move: C8, Horizontal, tiles: BARGeD, score: 20.0, Move object:\n",
       " Move: H3, Vertical, tiles: BADGeR, score: 20.0, Move object:\n",
       " Move: D8, Horizontal, tiles: BeGAR, score: 20.0, Move object:\n",
       " Move: H4, Vertical, tiles: BReAD, score: 20.0, Move object:\n",
       " Move: H7, Vertical, tiles: BADGeR, score: 20.0, Move object:\n",
       " Move: D8, Horizontal, tiles: BReAD, score: 20.0, Move object:\n",
       " Move: H4, Vertical, tiles: BIGAe, score: 20.0, Move object:\n",
       " Move: H8, Vertical, tiles: BeGIRD, score: 20.0, Move object:\n",
       " Move: D8, Horizontal, tiles: BeARD, score: 20.0, Move object:\n",
       " Move: H8, Horizontal, tiles: BeGIRD, score: 20.0, Move object:\n",
       " Move: H8, Vertical, tiles: GIBeD, score: 20.0, Move object:\n",
       " Move: D8, Horizontal, tiles: BAGIe, score: 20.0, Move object:\n",
       " Move: H8, Vertical, tiles: BRAIDe, score: 20.0, Move object:\n",
       " Move: H8, Horizontal, tiles: GIBeD, score: 20.0, Move object:\n",
       " Move: H4, Vertical, tiles: BReID, score: 20.0, Move object:\n",
       " Move: D8, Horizontal, tiles: BRIDe, score: 20.0, Move object:\n",
       " Move: D8, Horizontal, tiles: BAReD, score: 20.0, Move object:\n",
       " Move: H3, Vertical, tiles: BRIDGe, score: 20.0, Move object:\n",
       " Move: H8, Horizontal, tiles: DeBAG, score: 20.0, Move object:\n",
       " Move: H4, Vertical, tiles: BeGAR, score: 20.0, Move object:\n",
       " Move: H4, Vertical, tiles: BIDeR, score: 20.0, Move object:\n",
       " Move: H8, Vertical, tiles: DeBAG, score: 20.0, Move object:\n",
       " Move: D8, Horizontal, tiles: BARGe, score: 20.0, Move object:\n",
       " Move: D8, Horizontal, tiles: BIGAe, score: 20.0, Move object:\n",
       " Move: H4, Vertical, tiles: BARGe, score: 20.0, Move object:\n",
       " Move: C8, Horizontal, tiles: BRIDGe, score: 20.0, Move object:\n",
       " Move: D8, Horizontal, tiles: BReID, score: 20.0, Move object:\n",
       " Move: H4, Vertical, tiles: BeARD, score: 20.0, Move object:\n",
       " Move: H8, Vertical, tiles: BRAID, score: 20.0, Move object:\n",
       " Move: H8, Vertical, tiles: BeGAD, score: 20.0, Move object:\n",
       " Move: H8, Vertical, tiles: RABID, score: 20.0, Move object:\n",
       " Move: C8, Horizontal, tiles: BADGeR, score: 20.0, Move object:\n",
       " Move: H8, Vertical, tiles: ARDeB, score: 20.0, Move object:\n",
       " Move: D8, Horizontal, tiles: DeBAG, score: 20.0, Move object:\n",
       " Move: H8, Horizontal, tiles: BRAIDe, score: 20.0, Move object:\n",
       " Move: H4, Vertical, tiles: DeBAG, score: 20.0, Move object:\n",
       " Move: D8, Horizontal, tiles: BARDe, score: 20.0, Move object:\n",
       " Move: G8, Horizontal, tiles: BADGeR, score: 20.0, Move object:\n",
       " Move: H8, Horizontal, tiles: BeGAD, score: 20.0, Move object:\n",
       " Move: H4, Vertical, tiles: BAGIe, score: 20.0, Move object:\n",
       " Move: H8, Horizontal, tiles: BRAID, score: 20.0, Move object:\n",
       " Move: H4, Vertical, tiles: BARDe, score: 20.0, Move object:\n",
       " Move: H8, Horizontal, tiles: ARDeB, score: 20.0, Move object:\n",
       " Move: H4, Vertical, tiles: BAReD, score: 20.0, Move object:\n",
       " Move: D8, Horizontal, tiles: BIDeR, score: 20.0, Move object:\n",
       " Move: H3, Vertical, tiles: BARGeD, score: 20.0, Move object:\n",
       " Move: D8, Horizontal, tiles: RABID, score: 18.0, Move object:\n",
       " Move: H6, Vertical, tiles: GARBeD, score: 18.0, Move object:\n",
       " Move: H3, Vertical, tiles: BARDIe, score: 18.0, Move object:\n",
       " Move: H8, Vertical, tiles: BReID, score: 18.0, Move object:\n",
       " Move: H5, Vertical, tiles: GARBeD, score: 18.0, Move object:\n",
       " Move: H6, Vertical, tiles: BADGeR, score: 18.0, Move object:\n",
       " Move: E8, Horizontal, tiles: BeGIRD, score: 18.0, Move object:\n",
       " Move: C8, Horizontal, tiles: BRAIDe, score: 18.0, Move object:\n",
       " Move: H5, Vertical, tiles: BADGeR, score: 18.0, Move object:\n",
       " Move: H8, Horizontal, tiles: BReID, score: 18.0, Move object:\n",
       " Move: D8, Horizontal, tiles: ABIDeR, score: 18.0, Move object:\n",
       " Move: E8, Horizontal, tiles: GARBeD, score: 18.0, Move object:\n",
       " Move: G8, Horizontal, tiles: ABIDeR, score: 18.0, Move object:\n",
       " Move: H8, Vertical, tiles: BARDIe, score: 18.0, Move object:\n",
       " Move: H8, Horizontal, tiles: BARGeD, score: 18.0, Move object:\n",
       " Move: H8, Vertical, tiles: BARGeD, score: 18.0, Move object:\n",
       " Move: H8, Horizontal, tiles: ReBID, score: 18.0, Move object:\n",
       " Move: C8, Horizontal, tiles: BARDIe, score: 18.0, Move object:\n",
       " Move: H4, Vertical, tiles: ABIDeR, score: 18.0, Move object:\n",
       " Move: H3, Vertical, tiles: BeGIRD, score: 18.0, Move object:\n",
       " Move: H6, Vertical, tiles: BeGIRD, score: 18.0, Move object:\n",
       " Move: F8, Horizontal, tiles: BADGeR, score: 18.0, Move object:\n",
       " Move: E8, Horizontal, tiles: BARGeD, score: 18.0, Move object:\n",
       " Move: E8, Horizontal, tiles: BRIDGe, score: 18.0, Move object:\n",
       " Move: H8, Horizontal, tiles: BADGeR, score: 18.0, Move object:\n",
       " Move: H8, Horizontal, tiles: BeARD, score: 18.0, Move object:\n",
       " Move: H8, Vertical, tiles: BReAD, score: 18.0, Move object:\n",
       " Move: H5, Vertical, tiles: BeGIRD, score: 18.0, Move object:\n",
       " Move: H8, Horizontal, tiles: BReAD, score: 18.0, Move object:\n",
       " Move: C8, Horizontal, tiles: BeGIRD, score: 18.0, Move object:\n",
       " Move: H8, Horizontal, tiles: BARDIe, score: 18.0, Move object:\n",
       " Move: F8, Horizontal, tiles: BeGIRD, score: 18.0, Move object:\n",
       " Move: H4, Vertical, tiles: GARBe, score: 18.0, Move object:\n",
       " Move: H7, Vertical, tiles: BRIDGe, score: 18.0, Move object:\n",
       " Move: H8, Vertical, tiles: BADGeR, score: 18.0, Move object:\n",
       " Move: H4, Vertical, tiles: DeBAR, score: 18.0, Move object:\n",
       " Move: H8, Vertical, tiles: ReBID, score: 18.0, Move object:\n",
       " Move: H8, Horizontal, tiles: BAReD, score: 18.0, Move object:\n",
       " Move: D8, Horizontal, tiles: GIBeR, score: 18.0, Move object:\n",
       " Move: H8, Horizontal, tiles: GARBeD, score: 18.0, Move object:\n",
       " Move: D8, Horizontal, tiles: GARBe, score: 18.0, Move object:\n",
       " Move: G8, Horizontal, tiles: BRIDGe, score: 18.0, Move object:\n",
       " Move: H3, Vertical, tiles: BRAIDe, score: 18.0, Move object:\n",
       " Move: H8, Vertical, tiles: BAReD, score: 18.0, Move object:\n",
       " Move: F8, Horizontal, tiles: BRIDGe, score: 18.0, Move object:\n",
       " Move: H5, Vertical, tiles: BRIDGe, score: 18.0, Move object:\n",
       " Move: H7, Vertical, tiles: ABIDeR, score: 18.0, Move object:\n",
       " Move: H5, Vertical, tiles: BARGeD, score: 18.0, Move object:\n",
       " Move: D8, Horizontal, tiles: DeBAR, score: 18.0, Move object:\n",
       " Move: H4, Vertical, tiles: RABID, score: 18.0, Move object:\n",
       " Move: H8, Vertical, tiles: BeARD, score: 18.0, Move object:\n",
       " Move: E8, Horizontal, tiles: BADGeR, score: 18.0, Move object:\n",
       " Move: H6, Vertical, tiles: BARGeD, score: 18.0, Move object:\n",
       " Move: H8, Vertical, tiles: GARBeD, score: 18.0, Move object:\n",
       " Move: H4, Vertical, tiles: GIBeR, score: 18.0, Move object:\n",
       " Move: F8, Horizontal, tiles: BARGeD, score: 18.0, Move object:\n",
       " Move: H6, Vertical, tiles: BRIDGe, score: 18.0, Move object:\n",
       " Move: F8, Horizontal, tiles: GARBeD, score: 18.0, Move object:\n",
       " Move: H7, Vertical, tiles: GIBeD, score: 16.0, Move object:\n",
       " Move: F8, Horizontal, tiles: BRAIDe, score: 16.0, Move object:\n",
       " Move: H4, Vertical, tiles: ARDeB, score: 16.0, Move object:\n",
       " Move: F8, Horizontal, tiles: BeGAD, score: 16.0, Move object:\n",
       " Move: D8, Horizontal, tiles: GRIDe, score: 16.0, Move object:\n",
       " Move: D8, Horizontal, tiles: GRADe, score: 16.0, Move object:\n",
       " Move: H4, Vertical, tiles: GRADe, score: 16.0, Move object:\n",
       " Move: H5, Vertical, tiles: DeBAG, score: 16.0, Move object:\n",
       " Move: H6, Vertical, tiles: BRAIDe, score: 16.0, Move object:\n",
       " Move: H6, Vertical, tiles: BARDIe, score: 16.0, Move object:\n",
       " Move: G8, Horizontal, tiles: BeGAD, score: 16.0, Move object:\n",
       " Move: H6, Vertical, tiles: RABID, score: 16.0, Move object:\n",
       " Move: F8, Horizontal, tiles: RABID, score: 16.0, Move object:\n",
       " Move: H6, Vertical, tiles: BeGAD, score: 16.0, Move object:\n",
       " Move: H8, Horizontal, tiles: ABIDeR, score: 16.0, Move object:\n",
       " Move: H6, Vertical, tiles: ABIDeR, score: 16.0, Move object:\n",
       " Move: F8, Horizontal, tiles: DeBAG, score: 16.0, Move object:\n",
       " Move: E8, Horizontal, tiles: BADGe, score: 16.0, Move object:\n",
       " Move: H6, Vertical, tiles: DeBAG, score: 16.0, Move object:\n",
       " Move: H4, Vertical, tiles: ABIDe, score: 16.0, Move object:\n",
       " Move: H6, Vertical, tiles: BRAID, score: 16.0, Move object:\n",
       " Move: H4, Vertical, tiles: ReBID, score: 16.0, Move object:\n",
       " Move: E8, Horizontal, tiles: DeBAG, score: 16.0, Move object:\n",
       " Move: H8, Horizontal, tiles: BeGAR, score: 16.0, Move object:\n",
       " Move: F8, Horizontal, tiles: GIBeD, score: 16.0, Move object:\n",
       " Move: H4, Vertical, tiles: DeRIG, score: 16.0, Move object:\n",
       " Move: D8, Horizontal, tiles: ARDeB, score: 16.0, Move object:\n",
       " Move: H8, Horizontal, tiles: RAGeD, score: 16.0, Move object:\n",
       " Move: H8, Vertical, tiles: GIBeR, score: 16.0, Move object:\n",
       " Move: H5, Vertical, tiles: BRAID, score: 16.0, Move object:\n",
       " Move: E8, Horizontal, tiles: BRAIDe, score: 16.0, Move object:\n",
       " Move: E8, Horizontal, tiles: BeGAD, score: 16.0, Move object:\n",
       " Move: H5, Vertical, tiles: BeGAD, score: 16.0, Move object:\n",
       " Move: H5, Vertical, tiles: BADGe, score: 16.0, Move object:\n",
       " Move: F8, Horizontal, tiles: BARDIe, score: 16.0, Move object:\n",
       " Move: H7, Vertical, tiles: DeBAG, score: 16.0, Move object:\n",
       " Move: H8, Vertical, tiles: RAGeD, score: 16.0, Move object:\n",
       " Move: E8, Horizontal, tiles: BRAID, score: 16.0, Move object:\n",
       " Move: D8, Horizontal, tiles: DIRGe, score: 16.0, Move object:\n",
       " Move: H8, Horizontal, tiles: BADGe, score: 16.0, Move object:\n",
       " Move: G8, Horizontal, tiles: BADGe, score: 16.0, Move object:\n",
       " Move: H8, Vertical, tiles: DeRIG, score: 16.0, Move object:\n",
       " Move: F8, Horizontal, tiles: BRAID, score: 16.0, Move object:\n",
       " Move: H8, Horizontal, tiles: GIBeR, score: 16.0, Move object:\n",
       " Move: H8, Horizontal, tiles: BIDeR, score: 16.0, Move object:\n",
       " Move: H7, Vertical, tiles: BeGAD, score: 16.0, Move object:\n",
       " Move: G8, Horizontal, tiles: GIBeD, score: 16.0, Move object:\n",
       " Move: D8, Horizontal, tiles: ABIDe, score: 16.0, Move object:\n",
       " Move: H8, Vertical, tiles: BADGe, score: 16.0, Move object:\n",
       " Move: H8, Vertical, tiles: ABIDeR, score: 16.0, Move object:\n",
       " Move: H8, Vertical, tiles: DeBAR, score: 16.0, Move object:\n",
       " Move: H5, Vertical, tiles: RABID, score: 16.0, Move object:\n",
       " Move: H6, Vertical, tiles: BADGe, score: 16.0, Move object:\n",
       " Move: H7, Vertical, tiles: BADGe, score: 16.0, Move object:\n",
       " Move: H8, Vertical, tiles: BIDeR, score: 16.0, Move object:\n",
       " Move: H7, Vertical, tiles: BRAID, score: 16.0, Move object:\n",
       " Move: E8, Horizontal, tiles: ABIDeR, score: 16.0, Move object:\n",
       " Move: E8, Horizontal, tiles: BARDIe, score: 16.0, Move object:\n",
       " Move: H5, Vertical, tiles: GIBeD, score: 16.0, Move object:\n",
       " Move: H6, Vertical, tiles: GIBeD, score: 16.0, Move object:\n",
       " Move: H7, Vertical, tiles: BRAIDe, score: 16.0, Move object:\n",
       " Move: H5, Vertical, tiles: ABIDeR, score: 16.0, Move object:\n",
       " Move: E8, Horizontal, tiles: GIBeD, score: 16.0, Move object:\n",
       " Move: G8, Horizontal, tiles: RABID, score: 16.0, Move object:\n",
       " Move: D8, Horizontal, tiles: ReBID, score: 16.0, Move object:\n",
       " Move: E8, Horizontal, tiles: RABID, score: 16.0, Move object:\n",
       " Move: H7, Vertical, tiles: RABID, score: 16.0, Move object:\n",
       " Move: H4, Vertical, tiles: GRIDe, score: 16.0, Move object:\n",
       " Move: G8, Horizontal, tiles: BARDIe, score: 16.0, Move object:\n",
       " Move: H8, Horizontal, tiles: DeBAR, score: 16.0, Move object:\n",
       " Move: H5, Vertical, tiles: BARDIe, score: 16.0, Move object:\n",
       " Move: H8, Vertical, tiles: BeGAR, score: 16.0, Move object:\n",
       " Move: H5, Vertical, tiles: BRAIDe, score: 16.0, Move object:\n",
       " Move: F8, Horizontal, tiles: ABIDeR, score: 16.0, Move object:\n",
       " Move: H4, Vertical, tiles: DIRGe, score: 16.0, Move object:\n",
       " Move: G8, Horizontal, tiles: BRAIDe, score: 16.0, Move object:\n",
       " Move: H7, Vertical, tiles: BARDIe, score: 16.0, Move object:\n",
       " Move: H8, Horizontal, tiles: DeRIG, score: 16.0, Move object:\n",
       " Move: G8, Horizontal, tiles: BRAID, score: 16.0, Move object:\n",
       " Move: D8, Horizontal, tiles: DeRIG, score: 16.0, Move object:\n",
       " Move: G8, Horizontal, tiles: DeBAG, score: 16.0, Move object:\n",
       " Move: F8, Horizontal, tiles: BADGe, score: 16.0, Move object:\n",
       " Move: H8, Vertical, tiles: AIReD, score: 14.0, Move object:\n",
       " Move: H6, Vertical, tiles: DRAB, score: 14.0, Move object:\n",
       " Move: H6, Vertical, tiles: BAGIe, score: 14.0, Move object:\n",
       " Move: H6, Vertical, tiles: BAReD, score: 14.0, Move object:\n",
       " Move: H8, Vertical, tiles: GRAB, score: 14.0, Move object:\n",
       " Move: H6, Vertical, tiles: GIBeR, score: 14.0, Move object:\n",
       " Move: H6, Vertical, tiles: BeARD, score: 14.0, Move object:\n",
       " Move: H8, Horizontal, tiles: BARGe, score: 14.0, Move object:\n",
       " Move: E8, Horizontal, tiles: BRIDe, score: 14.0, Move object:\n",
       " Move: H5, Vertical, tiles: DRIB, score: 14.0, Move object:\n",
       " Move: H6, Vertical, tiles: ARDeB, score: 14.0, Move object:\n",
       " Move: H8, Horizontal, tiles: BRAD, score: 14.0, Move object:\n",
       " Move: H5, Vertical, tiles: BRIDe, score: 14.0, Move object:\n",
       " Move: H4, Vertical, tiles: RAGeD, score: 14.0, Move object:\n",
       " Move: H5, Vertical, tiles: BRAG, score: 14.0, Move object:\n",
       " Move: H5, Vertical, tiles: GARBe, score: 14.0, Move object:\n",
       " Move: E8, Horizontal, tiles: BIDeR, score: 14.0, Move object:\n",
       " Move: G8, Horizontal, tiles: DARB, score: 14.0, Move object:\n",
       " Move: H5, Vertical, tiles: BeGAR, score: 14.0, Move object:\n",
       " Move: H7, Vertical, tiles: DeBAR, score: 14.0, Move object:\n",
       " Move: F8, Horizontal, tiles: BRAD, score: 14.0, Move object:\n",
       " Move: F8, Horizontal, tiles: ABIDe, score: 14.0, Move object:\n",
       " Move: E8, Horizontal, tiles: BIGA, score: 14.0, Move object:\n",
       " Move: G8, Horizontal, tiles: BRAG, score: 14.0, Move object:\n",
       " Move: H8, Vertical, tiles: ABID, score: 14.0, Move object:\n",
       " Move: G8, Horizontal, tiles: BAReD, score: 14.0, Move object:\n",
       " Move: G8, Horizontal, tiles: BAGIe, score: 14.0, Move object:\n",
       " Move: F8, Horizontal, tiles: DRIB, score: 14.0, Move object:\n",
       " Move: G8, Horizontal, tiles: BRIDe, score: 14.0, Move object:\n",
       " Move: H5, Vertical, tiles: BARD, score: 14.0, Move object:\n",
       " Move: G8, Horizontal, tiles: ReBID, score: 14.0, Move object:\n",
       " Move: H7, Vertical, tiles: ABID, score: 14.0, Move object:\n",
       " Move: F8, Horizontal, tiles: GARBe, score: 14.0, Move object:\n",
       " Move: E8, Horizontal, tiles: BARDe, score: 14.0, Move object:\n",
       " Move: H5, Vertical, tiles: BIDeR, score: 14.0, Move object:\n",
       " Move: H5, Vertical, tiles: DRAB, score: 14.0, Move object:\n",
       " Move: G8, Horizontal, tiles: ABIDe, score: 14.0, Move object:\n",
       " Move: H4, Vertical, tiles: RADGe, score: 14.0, Move object:\n",
       " Move: H6, Vertical, tiles: DARB, score: 14.0, Move object:\n",
       " Move: H7, Vertical, tiles: GARBe, score: 14.0, Move object:\n",
       " Move: H8, Vertical, tiles: BRAG, score: 14.0, Move object:\n",
       " Move: H6, Vertical, tiles: BRAD, score: 14.0, Move object:\n",
       " Move: F8, Horizontal, tiles: BRAG, score: 14.0, Move object:\n",
       " Move: H5, Vertical, tiles: BReAD, score: 14.0, Move object:\n",
       " Move: H7, Vertical, tiles: BIGAe, score: 14.0, Move object:\n",
       " Move: F8, Horizontal, tiles: BIRD, score: 14.0, Move object:\n",
       " Move: F8, Horizontal, tiles: BReID, score: 14.0, Move object:\n",
       " Move: H8, Vertical, tiles: DARB, score: 14.0, Move object:\n",
       " Move: H5, Vertical, tiles: BARGe, score: 14.0, Move object:\n",
       " Move: G8, Horizontal, tiles: GARB, score: 14.0, Move object:\n",
       " Move: H5, Vertical, tiles: BIRD, score: 14.0, Move object:\n",
       " Move: G8, Horizontal, tiles: BReID, score: 14.0, Move object:\n",
       " Move: H6, Vertical, tiles: DeBAR, score: 14.0, Move object:\n",
       " Move: H7, Vertical, tiles: DRAB, score: 14.0, Move object:\n",
       " Move: H8, Horizontal, tiles: AIReD, score: 14.0, Move object:\n",
       " Move: H8, Horizontal, tiles: GARBe, score: 14.0, Move object:\n",
       " Move: G8, Horizontal, tiles: BeGAR, score: 14.0, Move object:\n",
       " Move: E8, Horizontal, tiles: GRAB, score: 14.0, Move object:\n",
       " Move: E8, Horizontal, tiles: BARD, score: 14.0, Move object:\n",
       " Move: H5, Vertical, tiles: ARDeB, score: 14.0, Move object:\n",
       " Move: H5, Vertical, tiles: BRAD, score: 14.0, Move object:\n",
       " Move: H7, Vertical, tiles: ABIDe, score: 14.0, Move object:\n",
       " Move: G8, Horizontal, tiles: GARBe, score: 14.0, Move object:\n",
       " Move: H6, Vertical, tiles: ABIDe, score: 14.0, Move object:\n",
       " Move: H7, Vertical, tiles: BARDe, score: 14.0, Move object:\n",
       " Move: E8, Horizontal, tiles: GARBe, score: 14.0, Move object:\n",
       " Move: G8, Horizontal, tiles: BIRD, score: 14.0, Move object:\n",
       " Move: H8, Horizontal, tiles: eRBIA, score: 14.0, Move object:\n",
       " Move: G8, Horizontal, tiles: ARDeB, score: 14.0, Move object:\n",
       " Move: H8, Vertical, tiles: GARBe, score: 14.0, Move object:\n",
       " Move: G8, Horizontal, tiles: ABID, score: 14.0, Move object:\n",
       " Move: H7, Vertical, tiles: BReID, score: 14.0, Move object:\n",
       " Move: H8, Horizontal, tiles: BAGIe, score: 14.0, Move object:\n",
       " Move: H8, Vertical, tiles: DRAB, score: 14.0, Move object:\n",
       " Move: E8, Horizontal, tiles: BARGe, score: 14.0, Move object:\n",
       " Move: F8, Horizontal, tiles: BRIG, score: 14.0, Move object:\n",
       " Move: F8, Horizontal, tiles: BRIDe, score: 14.0, Move object:\n",
       " Move: H6, Vertical, tiles: GARBe, score: 14.0, Move object:\n",
       " Move: H6, Vertical, tiles: BRIDe, score: 14.0, Move object:\n",
       " Move: H4, Vertical, tiles: DeAIR, score: 14.0, Move object:\n",
       " Move: H7, Vertical, tiles: DARB, score: 14.0, Move object:\n",
       " Move: E8, Horizontal, tiles: ABID, score: 14.0, Move object:\n",
       " Move: G8, Horizontal, tiles: DRAB, score: 14.0, Move object:\n",
       " Move: H6, Vertical, tiles: BRIG, score: 14.0, Move object:\n",
       " Move: H8, Horizontal, tiles: BIGAe, score: 14.0, Move object:\n",
       " Move: H7, Vertical, tiles: DRIB, score: 14.0, Move object:\n",
       " Move: G8, Horizontal, tiles: DRIB, score: 14.0, Move object:\n",
       " Move: H8, Vertical, tiles: BARGe, score: 14.0, Move object:\n",
       " Move: D8, Horizontal, tiles: RAGDe, score: 14.0, Move object:\n",
       " Move: H6, Vertical, tiles: BIRD, score: 14.0, Move object:\n",
       " Move: F8, Horizontal, tiles: BIGA, score: 14.0, Move object:\n",
       " Move: H8, Vertical, tiles: eRBIA, score: 14.0, Move object:\n",
       " Move: D8, Horizontal, tiles: DeAIR, score: 14.0, Move object:\n",
       " Move: E8, Horizontal, tiles: ARDeB, score: 14.0, Move object:\n",
       " Move: D8, Horizontal, tiles: RAGeD, score: 14.0, Move object:\n",
       " Move: H7, Vertical, tiles: BIDeR, score: 14.0, Move object:\n",
       " Move: G8, Horizontal, tiles: DeBAR, score: 14.0, Move object:\n",
       " Move: G8, Horizontal, tiles: GIBeR, score: 14.0, Move object:\n",
       " Move: F8, Horizontal, tiles: BARDe, score: 14.0, Move object:\n",
       " Move: H5, Vertical, tiles: BAReD, score: 14.0, Move object:\n",
       " Move: H6, Vertical, tiles: BARDe, score: 14.0, Move object:\n",
       " Move: E8, Horizontal, tiles: BAGIe, score: 14.0, Move object:\n",
       " Move: H6, Vertical, tiles: BIDeR, score: 14.0, Move object:\n",
       " Move: F8, Horizontal, tiles: ReBID, score: 14.0, Move object:\n",
       " Move: H8, Horizontal, tiles: BARD, score: 14.0, Move object:\n",
       " Move: F8, Horizontal, tiles: ABID, score: 14.0, Move object:\n",
       " Move: H5, Vertical, tiles: BIGAe, score: 14.0, Move object:\n",
       " Move: H8, Horizontal, tiles: DRAB, score: 14.0, Move object:\n",
       " Move: H7, Vertical, tiles: BRIDe, score: 14.0, Move object:\n",
       " Move: H5, Vertical, tiles: ReBID, score: 14.0, Move object:\n",
       " Move: F8, Horizontal, tiles: BIDeR, score: 14.0, Move object:\n",
       " Move: H6, Vertical, tiles: BReID, score: 14.0, Move object:\n",
       " Move: H8, Vertical, tiles: BRIDe, score: 14.0, Move object:\n",
       " Move: H7, Vertical, tiles: BIRD, score: 14.0, Move object:\n",
       " Move: H8, Vertical, tiles: BRAD, score: 14.0, Move object:\n",
       " Move: H8, Horizontal, tiles: BARDe, score: 14.0, Move object:\n",
       " Move: E8, Horizontal, tiles: BAReD, score: 14.0, Move object:\n",
       " Move: E8, Horizontal, tiles: BeARD, score: 14.0, Move object:\n",
       " Move: H8, Vertical, tiles: DRIB, score: 14.0, Move object:\n",
       " Move: F8, Horizontal, tiles: ARDeB, score: 14.0, Move object:\n",
       " Move: H8, Horizontal, tiles: BRIDe, score: 14.0, Move object:\n",
       " Move: H8, Horizontal, tiles: ABIDe, score: 14.0, Move object:\n",
       " Move: H8, Vertical, tiles: BAGIe, score: 14.0, Move object:\n",
       " Move: G8, Horizontal, tiles: BARGe, score: 14.0, Move object:\n",
       " Move: H8, Vertical, tiles: BIGA, score: 14.0, Move object:\n",
       " Move: G8, Horizontal, tiles: BeARD, score: 14.0, Move object:\n",
       " Move: G8, Horizontal, tiles: BARD, score: 14.0, Move object:\n",
       " Move: H5, Vertical, tiles: BReID, score: 14.0, Move object:\n",
       " Move: F8, Horizontal, tiles: DARB, score: 14.0, Move object:\n",
       " Move: E8, Horizontal, tiles: DARB, score: 14.0, Move object:\n",
       " Move: H7, Vertical, tiles: ReBID, score: 14.0, Move object:\n",
       " Move: H8, Horizontal, tiles: DRIB, score: 14.0, Move object:\n",
       " Move: G8, Horizontal, tiles: BIDeR, score: 14.0, Move object:\n",
       " Move: H5, Vertical, tiles: BeARD, score: 14.0, Move object:\n",
       " Move: H7, Vertical, tiles: GIBeR, score: 14.0, Move object:\n",
       " Move: E8, Horizontal, tiles: BRAG, score: 14.0, Move object:\n",
       " Move: G8, Horizontal, tiles: BRAD, score: 14.0, Move object:\n",
       " Move: F8, Horizontal, tiles: BeGAR, score: 14.0, Move object:\n",
       " Move: H5, Vertical, tiles: BARDe, score: 14.0, Move object:\n",
       " Move: H7, Vertical, tiles: BRAG, score: 14.0, Move object:\n",
       " Move: F8, Horizontal, tiles: BARGe, score: 14.0, Move object:\n",
       " Move: H7, Vertical, tiles: BARD, score: 14.0, Move object:\n",
       " Move: H8, Horizontal, tiles: BIRD, score: 14.0, Move object:\n",
       " Move: H8, Vertical, tiles: BARD, score: 14.0, Move object:\n",
       " Move: E8, Horizontal, tiles: BeGAR, score: 14.0, Move object:\n",
       " Move: F8, Horizontal, tiles: BARD, score: 14.0, Move object:\n",
       " Move: H6, Vertical, tiles: BIGA, score: 14.0, Move object:\n",
       " Move: E8, Horizontal, tiles: DeBAR, score: 14.0, Move object:\n",
       " Move: H6, Vertical, tiles: GARB, score: 14.0, Move object:\n",
       " Move: H8, Horizontal, tiles: BRIG, score: 14.0, Move object:\n",
       " Move: H6, Vertical, tiles: BRAG, score: 14.0, Move object:\n",
       " Move: F8, Horizontal, tiles: BAGIe, score: 14.0, Move object:\n",
       " Move: F8, Horizontal, tiles: BReAD, score: 14.0, Move object:\n",
       " Move: E8, Horizontal, tiles: BIGAe, score: 14.0, Move object:\n",
       " Move: H5, Vertical, tiles: GIBeR, score: 14.0, Move object:\n",
       " Move: E8, Horizontal, tiles: BReAD, score: 14.0, Move object:\n",
       " Move: H7, Vertical, tiles: BARGe, score: 14.0, Move object:\n",
       " Move: H8, Vertical, tiles: BRIG, score: 14.0, Move object:\n",
       " Move: F8, Horizontal, tiles: DRAB, score: 14.0, Move object:\n",
       " Move: H8, Horizontal, tiles: GRAB, score: 14.0, Move object:\n",
       " Move: H7, Vertical, tiles: BRIG, score: 14.0, Move object:\n",
       " Move: H7, Vertical, tiles: GARB, score: 14.0, Move object:\n",
       " Move: E8, Horizontal, tiles: BIRD, score: 14.0, Move object:\n",
       " Move: E8, Horizontal, tiles: ABIDe, score: 14.0, Move object:\n",
       " Move: H8, Vertical, tiles: BARDe, score: 14.0, Move object:\n",
       " Move: H8, Vertical, tiles: BIRD, score: 14.0, Move object:\n",
       " Move: E8, Horizontal, tiles: DRIB, score: 14.0, Move object:\n",
       " Move: D8, Horizontal, tiles: RADGe, score: 14.0, Move object:\n",
       " Move: H8, Vertical, tiles: GARB, score: 14.0, Move object:\n",
       " Move: H7, Vertical, tiles: GRAB, score: 14.0, Move object:\n",
       " Move: E8, Horizontal, tiles: BReID, score: 14.0, Move object:\n",
       " Move: G8, Horizontal, tiles: BARDe, score: 14.0, Move object:\n",
       " Move: G8, Horizontal, tiles: BIGAe, score: 14.0, Move object:\n",
       " Move: H5, Vertical, tiles: DeBAR, score: 14.0, Move object:\n",
       " Move: H6, Vertical, tiles: ReBID, score: 14.0, Move object:\n",
       " Move: F8, Horizontal, tiles: DeBAR, score: 14.0, Move object:\n",
       " Move: H5, Vertical, tiles: BAGIe, score: 14.0, Move object:\n",
       " Move: H7, Vertical, tiles: BeARD, score: 14.0, Move object:\n",
       " Move: F8, Horizontal, tiles: BIGAe, score: 14.0, Move object:\n",
       " Move: H8, Horizontal, tiles: BRAG, score: 14.0, Move object:\n",
       " Move: H6, Vertical, tiles: DRIB, score: 14.0, Move object:\n",
       " Move: G8, Horizontal, tiles: BReAD, score: 14.0, Move object:\n",
       " Move: H5, Vertical, tiles: ABID, score: 14.0, Move object:\n",
       " Move: H5, Vertical, tiles: ABIDe, score: 14.0, Move object:\n",
       " Move: H5, Vertical, tiles: BIGA, score: 14.0, Move object:\n",
       " Move: G8, Horizontal, tiles: BRIG, score: 14.0, Move object:\n",
       " Move: H8, Horizontal, tiles: DARB, score: 14.0, Move object:\n",
       " Move: H7, Vertical, tiles: BeGAR, score: 14.0, Move object:\n",
       " Move: H8, Vertical, tiles: ABIDe, score: 14.0, Move object:\n",
       " Move: H7, Vertical, tiles: BAGIe, score: 14.0, Move object:\n",
       " Move: H6, Vertical, tiles: ABID, score: 14.0, Move object:\n",
       " Move: H5, Vertical, tiles: DARB, score: 14.0, Move object:\n",
       " Move: H8, Horizontal, tiles: BIGA, score: 14.0, Move object:\n",
       " Move: H8, Horizontal, tiles: ABID, score: 14.0, Move object:\n",
       " Move: G8, Horizontal, tiles: BIGA, score: 14.0, Move object:\n",
       " Move: H6, Vertical, tiles: BARD, score: 14.0, Move object:\n",
       " Move: H6, Vertical, tiles: BReAD, score: 14.0, Move object:\n",
       " Move: E8, Horizontal, tiles: GARB, score: 14.0, Move object:\n",
       " Move: F8, Horizontal, tiles: GARB, score: 14.0, Move object:\n",
       " Move: H8, Vertical, tiles: BIGAe, score: 14.0, Move object:\n",
       " Move: F8, Horizontal, tiles: BeARD, score: 14.0, Move object:\n",
       " Move: H6, Vertical, tiles: BARGe, score: 14.0, Move object:\n",
       " Move: E8, Horizontal, tiles: GIBeR, score: 14.0, Move object:\n",
       " Move: E8, Horizontal, tiles: ReBID, score: 14.0, Move object:\n",
       " Move: F8, Horizontal, tiles: GIBeR, score: 14.0, Move object:\n",
       " Move: H7, Vertical, tiles: BIGA, score: 14.0, Move object:\n",
       " Move: H4, Vertical, tiles: RIDGe, score: 14.0, Move object:\n",
       " Move: H7, Vertical, tiles: BReAD, score: 14.0, Move object:\n",
       " Move: F8, Horizontal, tiles: GRAB, score: 14.0, Move object:\n",
       " Move: H6, Vertical, tiles: GRAB, score: 14.0, Move object:\n",
       " Move: E8, Horizontal, tiles: DRAB, score: 14.0, Move object:\n",
       " Move: H5, Vertical, tiles: BRIG, score: 14.0, Move object:\n",
       " Move: G8, Horizontal, tiles: GRAB, score: 14.0, Move object:\n",
       " Move: H6, Vertical, tiles: BIGAe, score: 14.0, Move object:\n",
       " Move: H5, Vertical, tiles: GRAB, score: 14.0, Move object:\n",
       " Move: E8, Horizontal, tiles: BRAD, score: 14.0, Move object:\n",
       " Move: D8, Horizontal, tiles: RIDGe, score: 14.0, Move object:\n",
       " Move: H7, Vertical, tiles: BRAD, score: 14.0, Move object:\n",
       " Move: H4, Vertical, tiles: RAGDe, score: 14.0, Move object:\n",
       " Move: F8, Horizontal, tiles: BAReD, score: 14.0, Move object:\n",
       " Move: H7, Vertical, tiles: BAReD, score: 14.0, Move object:\n",
       " Move: E8, Horizontal, tiles: BRIG, score: 14.0, Move object:\n",
       " Move: H6, Vertical, tiles: BeGAR, score: 14.0, Move object:\n",
       " Move: H5, Vertical, tiles: GARB, score: 14.0, Move object:\n",
       " Move: H7, Vertical, tiles: ARDeB, score: 14.0, Move object:\n",
       " Move: H8, Horizontal, tiles: GARB, score: 14.0, Move object:\n",
       " Move: E8, Horizontal, tiles: BReD, score: 12.0, Move object:\n",
       " Move: H6, Vertical, tiles: DeRIG, score: 12.0, Move object:\n",
       " Move: H7, Vertical, tiles: DARG, score: 12.0, Move object:\n",
       " Move: E8, Horizontal, tiles: GRIDe, score: 12.0, Move object:\n",
       " Move: F8, Horizontal, tiles: GADI, score: 12.0, Move object:\n",
       " Move: H6, Vertical, tiles: GRAD, score: 12.0, Move object:\n",
       " Move: H7, Vertical, tiles: BID, score: 12.0, Move object:\n",
       " Move: F8, Horizontal, tiles: DIeB, score: 12.0, Move object:\n",
       " Move: G8, Horizontal, tiles: BIG, score: 12.0, Move object:\n",
       " Move: H7, Vertical, tiles: GADI, score: 12.0, Move object:\n",
       " Move: H4, Vertical, tiles: IRADe, score: 12.0, Move object:\n",
       " Move: F8, Horizontal, tiles: RAGeD, score: 12.0, Move object:\n",
       " Move: H5, Vertical, tiles: RAGeD, score: 12.0, Move object:\n",
       " Move: H8, Vertical, tiles: BReD, score: 12.0, Move object:\n",
       " Move: F8, Horizontal, tiles: eRBIA, score: 12.0, Move object:\n",
       " Move: F8, Horizontal, tiles: BID, score: 12.0, Move object:\n",
       " Move: H8, Horizontal, tiles: ABRI, score: 12.0, Move object:\n",
       " Move: G8, Horizontal, tiles: GIRD, score: 12.0, Move object:\n",
       " Move: H7, Vertical, tiles: DIeB, score: 12.0, Move object:\n",
       " Move: H6, Vertical, tiles: BeRG, score: 12.0, Move object:\n",
       " Move: H5, Vertical, tiles: DIRGe, score: 12.0, Move object:\n",
       " Move: H5, Vertical, tiles: GRAD, score: 12.0, Move object:\n",
       " Move: H8, Vertical, tiles: GAB, score: 12.0, Move object:\n",
       " Move: H8, Vertical, tiles: RABI, score: 12.0, Move object:\n",
       " Move: H5, Vertical, tiles: DARG, score: 12.0, Move object:\n",
       " Move: G8, Horizontal, tiles: GRAD, score: 12.0, Move object:\n",
       " Move: H7, Vertical, tiles: RABI, score: 12.0, Move object:\n",
       " Move: H8, Horizontal, tiles: GAID, score: 12.0, Move object:\n",
       " Move: H8, Horizontal, tiles: GIRD, score: 12.0, Move object:\n",
       " Move: H8, Horizontal, tiles: GRID, score: 12.0, Move object:\n",
       " Move: G8, Horizontal, tiles: RADGe, score: 12.0, Move object:\n",
       " Move: H7, Vertical, tiles: DIB, score: 12.0, Move object:\n",
       " Move: H8, Horizontal, tiles: BIG, score: 12.0, Move object:\n",
       " Move: F8, Horizontal, tiles: DARG, score: 12.0, Move object:\n",
       " Move: H7, Vertical, tiles: IGAD, score: 12.0, Move object:\n",
       " Move: H4, Vertical, tiles: eRBIA, score: 12.0, Move object:\n",
       " Move: E8, Horizontal, tiles: IGAD, score: 12.0, Move object:\n",
       " Move: F8, Horizontal, tiles: BeRG, score: 12.0, Move object:\n",
       " Move: H8, Horizontal, tiles: ReDIA, score: 12.0, Move object:\n",
       " Move: H8, Vertical, tiles: DIRGe, score: 12.0, Move object:\n",
       " Move: F8, Horizontal, tiles: ABeD, score: 12.0, Move object:\n",
       " Move: H8, Horizontal, tiles: IGAD, score: 12.0, Move object:\n",
       " Move: H5, Vertical, tiles: DIeB, score: 12.0, Move object:\n",
       " Move: H6, Vertical, tiles: eRBIA, score: 12.0, Move object:\n",
       " Move: H8, Horizontal, tiles: GAB, score: 12.0, Move object:\n",
       " Move: H8, Vertical, tiles: BeAD, score: 12.0, Move object:\n",
       " Move: G8, Horizontal, tiles: DRAG, score: 12.0, Move object:\n",
       " Move: F8, Horizontal, tiles: GAB, score: 12.0, Move object:\n",
       " Move: H6, Vertical, tiles: BAD, score: 12.0, Move object:\n",
       " Move: E8, Horizontal, tiles: RIBA, score: 12.0, Move object:\n",
       " Move: H7, Vertical, tiles: GRIDe, score: 12.0, Move object:\n",
       " Move: H5, Vertical, tiles: RIBA, score: 12.0, Move object:\n",
       " Move: F8, Horizontal, tiles: IGAD, score: 12.0, Move object:\n",
       " Move: H5, Vertical, tiles: ABeD, score: 12.0, Move object:\n",
       " Move: G8, Horizontal, tiles: DARG, score: 12.0, Move object:\n",
       " Move: H7, Vertical, tiles: BAG, score: 12.0, Move object:\n",
       " Move: H5, Vertical, tiles: GIBe, score: 12.0, Move object:\n",
       " Move: H8, Horizontal, tiles: RIDGe, score: 12.0, Move object:\n",
       " Move: H8, Vertical, tiles: GRAD, score: 12.0, Move object:\n",
       " Move: H7, Vertical, tiles: BIDe, score: 12.0, Move object:\n",
       " Move: G8, Horizontal, tiles: RIBA, score: 12.0, Move object:\n",
       " Move: F8, Horizontal, tiles: RABI, score: 12.0, Move object:\n",
       " Move: H8, Horizontal, tiles: BAD, score: 12.0, Move object:\n",
       " Move: G8, Horizontal, tiles: eRBIA, score: 12.0, Move object:\n",
       " Move: H7, Vertical, tiles: BADe, score: 12.0, Move object:\n",
       " Move: G8, Horizontal, tiles: BReD, score: 12.0, Move object:\n",
       " Move: H5, Vertical, tiles: GAID, score: 12.0, Move object:\n",
       " Move: F8, Horizontal, tiles: GRID, score: 12.0, Move object:\n",
       " Move: H8, Horizontal, tiles: DIRGe, score: 12.0, Move object:\n",
       " Move: F8, Horizontal, tiles: BIDe, score: 12.0, Move object:\n",
       " Move: E8, Horizontal, tiles: ABeD, score: 12.0, Move object:\n",
       " Move: D8, Horizontal, tiles: AIDeR, score: 12.0, Move object:\n",
       " Move: H8, Horizontal, tiles: BReD, score: 12.0, Move object:\n",
       " Move: H6, Vertical, tiles: RIDGe, score: 12.0, Move object:\n",
       " Move: H7, Vertical, tiles: ABeD, score: 12.0, Move object:\n",
       " Move: G8, Horizontal, tiles: BAG, score: 12.0, Move object:\n",
       " Move: E8, Horizontal, tiles: DIRGe, score: 12.0, Move object:\n",
       " Move: H6, Vertical, tiles: BIDe, score: 12.0, Move object:\n",
       " Move: E8, Horizontal, tiles: ABRI, score: 12.0, Move object:\n",
       " Move: H6, Vertical, tiles: ABRI, score: 12.0, Move object:\n",
       " Move: H7, Vertical, tiles: GRAD, score: 12.0, Move object:\n",
       " Move: E8, Horizontal, tiles: GADI, score: 12.0, Move object:\n",
       " Move: H6, Vertical, tiles: BeAD, score: 12.0, Move object:\n",
       " Move: D8, Horizontal, tiles: AIReD, score: 12.0, Move object:\n",
       " Move: H8, Vertical, tiles: DARG, score: 12.0, Move object:\n",
       " Move: F8, Horizontal, tiles: DAB, score: 12.0, Move object:\n",
       " Move: E8, Horizontal, tiles: GRID, score: 12.0, Move object:\n",
       " Move: H6, Vertical, tiles: GRADe, score: 12.0, Move object:\n",
       " Move: G8, Horizontal, tiles: GIB, score: 12.0, Move object:\n",
       " Move: H4, Vertical, tiles: AIReD, score: 12.0, Move object:\n",
       " Move: H7, Vertical, tiles: DAB, score: 12.0, Move object:\n",
       " Move: H5, Vertical, tiles: eRBIA, score: 12.0, Move object:\n",
       " Move: H5, Vertical, tiles: RIDGe, score: 12.0, Move object:\n",
       " Move: H8, Vertical, tiles: GIB, score: 12.0, Move object:\n",
       " Move: G8, Horizontal, tiles: GRID, score: 12.0, Move object:\n",
       " Move: H5, Vertical, tiles: ABRI, score: 12.0, Move object:\n",
       " Move: F8, Horizontal, tiles: DeRIG, score: 12.0, Move object:\n",
       " Move: H4, Vertical, tiles: AIDeR, score: 12.0, Move object:\n",
       " Move: G8, Horizontal, tiles: BADe, score: 12.0, Move object:\n",
       " Move: F8, Horizontal, tiles: BeAD, score: 12.0, Move object:\n",
       " Move: H6, Vertical, tiles: GAID, score: 12.0, Move object:\n",
       " Move: H7, Vertical, tiles: GIB, score: 12.0, Move object:\n",
       " Move: D8, Horizontal, tiles: eRBIA, score: 12.0, Move object:\n",
       " Move: E8, Horizontal, tiles: RAGeD, score: 12.0, Move object:\n",
       " Move: G8, Horizontal, tiles: GRADe, score: 12.0, Move object:\n",
       " Move: H8, Vertical, tiles: RADGe, score: 12.0, Move object:\n",
       " Move: H6, Vertical, tiles: BID, score: 12.0, Move object:\n",
       " Move: F8, Horizontal, tiles: BReD, score: 12.0, Move object:\n",
       " Move: G8, Horizontal, tiles: BIDe, score: 12.0, Move object:\n",
       " Move: G8, Horizontal, tiles: IGAD, score: 12.0, Move object:\n",
       " Move: G8, Horizontal, tiles: RIDGe, score: 12.0, Move object:\n",
       " Move: H6, Vertical, tiles: DIeB, score: 12.0, Move object:\n",
       " Move: H7, Vertical, tiles: GRID, score: 12.0, Move object:\n",
       " Move: H8, Vertical, tiles: GRID, score: 12.0, Move object:\n",
       " Move: H7, Vertical, tiles: BIG, score: 12.0, Move object:\n",
       " Move: H6, Vertical, tiles: BADe, score: 12.0, Move object:\n",
       " Move: G8, Horizontal, tiles: DIeB, score: 12.0, Move object:\n",
       " Move: H6, Vertical, tiles: DAB, score: 12.0, Move object:\n",
       " Move: H8, Vertical, tiles: DRAG, score: 12.0, Move object:\n",
       " Move: H8, Vertical, tiles: DIeB, score: 12.0, Move object:\n",
       " Move: H6, Vertical, tiles: DARG, score: 12.0, Move object:\n",
       " Move: F8, Horizontal, tiles: DIRGe, score: 12.0, Move object:\n",
       " Move: H8, Vertical, tiles: GADI, score: 12.0, Move object:\n",
       " Move: E8, Horizontal, tiles: eRBIA, score: 12.0, Move object:\n",
       " Move: D8, Horizontal, tiles: IRADe, score: 12.0, Move object:\n",
       " Move: H8, Horizontal, tiles: DAB, score: 12.0, Move object:\n",
       " Move: G8, Horizontal, tiles: RAGeD, score: 12.0, Move object:\n",
       " Move: F8, Horizontal, tiles: DRAG, score: 12.0, Move object:\n",
       " Move: H5, Vertical, tiles: GADI, score: 12.0, Move object:\n",
       " Move: H8, Horizontal, tiles: GRADe, score: 12.0, Move object:\n",
       " Move: H5, Vertical, tiles: BADe, score: 12.0, Move object:\n",
       " Move: F8, Horizontal, tiles: GIRD, score: 12.0, Move object:\n",
       " Move: H8, Vertical, tiles: GAID, score: 12.0, Move object:\n",
       " Move: F8, Horizontal, tiles: RIBA, score: 12.0, Move object:\n",
       " Move: H6, Vertical, tiles: GIB, score: 12.0, Move object:\n",
       " Move: H6, Vertical, tiles: GADI, score: 12.0, Move object:\n",
       " Move: H5, Vertical, tiles: BeAD, score: 12.0, Move object:\n",
       " Move: H5, Vertical, tiles: BeRG, score: 12.0, Move object:\n",
       " Move: H7, Vertical, tiles: GRADe, score: 12.0, Move object:\n",
       " Move: G8, Horizontal, tiles: DAB, score: 12.0, Move object:\n",
       " Move: H6, Vertical, tiles: RADGe, score: 12.0, Move object:\n",
       " Move: H8, Vertical, tiles: AIDeR, score: 12.0, Move object:\n",
       " Move: H8, Vertical, tiles: DAB, score: 12.0, Move object:\n",
       " Move: H8, Horizontal, tiles: DARG, score: 12.0, Move object:\n",
       " Move: H7, Vertical, tiles: ABRI, score: 12.0, Move object:\n",
       " Move: H6, Vertical, tiles: RABI, score: 12.0, Move object:\n",
       " Move: H6, Vertical, tiles: DIB, score: 12.0, Move object:\n",
       " Move: G8, Horizontal, tiles: ABeD, score: 12.0, Move object:\n",
       " Move: G8, Horizontal, tiles: GAID, score: 12.0, Move object:\n",
       " Move: E8, Horizontal, tiles: DeRIG, score: 12.0, Move object:\n",
       " Move: G8, Horizontal, tiles: DIB, score: 12.0, Move object:\n",
       " Move: H8, Vertical, tiles: BIDe, score: 12.0, Move object:\n",
       " Move: H5, Vertical, tiles: RABI, score: 12.0, Move object:\n",
       " Move: H8, Horizontal, tiles: DRAG, score: 12.0, Move object:\n",
       " Move: H6, Vertical, tiles: BReD, score: 12.0, Move object:\n",
       " Move: H6, Vertical, tiles: IGAD, score: 12.0, Move object:\n",
       " Move: E8, Horizontal, tiles: BeAD, score: 12.0, Move object:\n",
       " Move: H7, Vertical, tiles: BeRG, score: 12.0, Move object:\n",
       " Move: D8, Horizontal, tiles: ReDIA, score: 12.0, Move object:\n",
       " Move: G8, Horizontal, tiles: GIBe, score: 12.0, Move object:\n",
       " Move: F8, Horizontal, tiles: BAG, score: 12.0, Move object:\n",
       " Move: H8, Horizontal, tiles: BID, score: 12.0, Move object:\n",
       " Move: F8, Horizontal, tiles: GRAD, score: 12.0, Move object:\n",
       " Move: H5, Vertical, tiles: GRIDe, score: 12.0, Move object:\n",
       " Move: E8, Horizontal, tiles: GRAD, score: 12.0, Move object:\n",
       " Move: G8, Horizontal, tiles: GADI, score: 12.0, Move object:\n",
       " Move: H8, Horizontal, tiles: ABeD, score: 12.0, Move object:\n",
       " Move: E8, Horizontal, tiles: GRADe, score: 12.0, Move object:\n",
       " Move: H6, Vertical, tiles: BIG, score: 12.0, Move object:\n",
       " Move: H8, Vertical, tiles: BID, score: 12.0, Move object:\n",
       " Move: H8, Horizontal, tiles: DeAIR, score: 12.0, Move object:\n",
       " Move: H8, Horizontal, tiles: GIBe, score: 12.0, Move object:\n",
       " Move: E8, Horizontal, tiles: GIBe, score: 12.0, Move object:\n",
       " Move: H8, Vertical, tiles: BADe, score: 12.0, Move object:\n",
       " Move: H8, Vertical, tiles: RIBA, score: 12.0, Move object:\n",
       " Move: H8, Horizontal, tiles: RIBA, score: 12.0, Move object:\n",
       " Move: H8, Horizontal, tiles: BADe, score: 12.0, Move object:\n",
       " Move: H8, Vertical, tiles: BeRG, score: 12.0, Move object:\n",
       " Move: H8, Vertical, tiles: GIBe, score: 12.0, Move object:\n",
       " Move: F8, Horizontal, tiles: GAID, score: 12.0, Move object:\n",
       " Move: H7, Vertical, tiles: eRBIA, score: 12.0, Move object:\n",
       " Move: E8, Horizontal, tiles: DARG, score: 12.0, Move object:\n",
       " Move: H5, Vertical, tiles: IGAD, score: 12.0, Move object:\n",
       " Move: H6, Vertical, tiles: GRID, score: 12.0, Move object:\n",
       " Move: E8, Horizontal, tiles: BeRG, score: 12.0, Move object:\n",
       " Move: E8, Horizontal, tiles: BADe, score: 12.0, Move object:\n",
       " Move: H5, Vertical, tiles: RADGe, score: 12.0, Move object:\n",
       " Move: H7, Vertical, tiles: GIRD, score: 12.0, Move object:\n",
       " Move: F8, Horizontal, tiles: GIB, score: 12.0, Move object:\n",
       " Move: H8, Vertical, tiles: BAG, score: 12.0, Move object:\n",
       " Move: G8, Horizontal, tiles: RABI, score: 12.0, Move object:\n",
       " Move: H6, Vertical, tiles: ABeD, score: 12.0, Move object:\n",
       " Move: E8, Horizontal, tiles: DIeB, score: 12.0, Move object:\n",
       " Move: E8, Horizontal, tiles: RADGe, score: 12.0, Move object:\n",
       " Move: H8, Horizontal, tiles: GRAD, score: 12.0, Move object:\n",
       " Move: H7, Vertical, tiles: GIBe, score: 12.0, Move object:\n",
       " Move: H8, Horizontal, tiles: GIB, score: 12.0, Move object:\n",
       " Move: H8, Vertical, tiles: DeAIR, score: 12.0, Move object:\n",
       " Move: H8, Vertical, tiles: ABRI, score: 12.0, Move object:\n",
       " Move: G8, Horizontal, tiles: BAD, score: 12.0, Move object:\n",
       " Move: H8, Vertical, tiles: BAD, score: 12.0, Move object:\n",
       " Move: H8, Vertical, tiles: GRADe, score: 12.0, Move object:\n",
       " Move: F8, Horizontal, tiles: RADGe, score: 12.0, Move object:\n",
       " Move: H8, Vertical, tiles: ABeD, score: 12.0, Move object:\n",
       " Move: F8, Horizontal, tiles: RIDGe, score: 12.0, Move object:\n",
       " Move: H6, Vertical, tiles: RAGeD, score: 12.0, Move object:\n",
       " Move: H6, Vertical, tiles: GIBe, score: 12.0, Move object:\n",
       " Move: H8, Horizontal, tiles: GADI, score: 12.0, Move object:\n",
       " Move: G8, Horizontal, tiles: DeRIG, score: 12.0, Move object:\n",
       " Move: H5, Vertical, tiles: GRADe, score: 12.0, Move object:\n",
       " Move: H7, Vertical, tiles: BAD, score: 12.0, Move object:\n",
       " Move: H7, Vertical, tiles: BReD, score: 12.0, Move object:\n",
       " Move: H8, Vertical, tiles: DIB, score: 12.0, Move object:\n",
       " Move: H7, Vertical, tiles: GAID, score: 12.0, Move object:\n",
       " Move: F8, Horizontal, tiles: ABRI, score: 12.0, Move object:\n",
       " Move: H8, Vertical, tiles: GRIDe, score: 12.0, Move object:\n",
       " Move: G8, Horizontal, tiles: DIRGe, score: 12.0, Move object:\n",
       " Move: H7, Vertical, tiles: GAB, score: 12.0, Move object:\n",
       " Move: H8, Horizontal, tiles: RABI, score: 12.0, Move object:\n",
       " Move: H6, Vertical, tiles: DIRGe, score: 12.0, Move object:\n",
       " Move: H4, Vertical, tiles: ReDIA, score: 12.0, Move object:\n",
       " Move: H6, Vertical, tiles: RIBA, score: 12.0, Move object:\n",
       " Move: H8, Vertical, tiles: IGAD, score: 12.0, Move object:\n",
       " Move: E8, Horizontal, tiles: RABI, score: 12.0, Move object:\n",
       " Move: H8, Vertical, tiles: RIDGe, score: 12.0, Move object:\n",
       " Move: H5, Vertical, tiles: BReD, score: 12.0, Move object:\n",
       " Move: H5, Vertical, tiles: GRID, score: 12.0, Move object:\n",
       " Move: G8, Horizontal, tiles: BeRG, score: 12.0, Move object:\n",
       " Move: H8, Horizontal, tiles: BIDe, score: 12.0, Move object:\n",
       " Move: H7, Vertical, tiles: DRAG, score: 12.0, Move object:\n",
       " Move: E8, Horizontal, tiles: RIDGe, score: 12.0, Move object:\n",
       " Move: E8, Horizontal, tiles: GIRD, score: 12.0, Move object:\n",
       " Move: H8, Vertical, tiles: GIRD, score: 12.0, Move object:\n",
       " Move: H6, Vertical, tiles: GAB, score: 12.0, Move object:\n",
       " Move: H8, Horizontal, tiles: GRIDe, score: 12.0, Move object:\n",
       " Move: H7, Vertical, tiles: RIDGe, score: 12.0, Move object:\n",
       " Move: H8, Horizontal, tiles: RADGe, score: 12.0, Move object:\n",
       " Move: E8, Horizontal, tiles: DRAG, score: 12.0, Move object:\n",
       " Move: H8, Horizontal, tiles: DIeB, score: 12.0, Move object:\n",
       " Move: H5, Vertical, tiles: DRAG, score: 12.0, Move object:\n",
       " Move: H7, Vertical, tiles: RIBA, score: 12.0, Move object:\n",
       " Move: H6, Vertical, tiles: BAG, score: 12.0, Move object:\n",
       " Move: H5, Vertical, tiles: GIRD, score: 12.0, Move object:\n",
       " Move: H7, Vertical, tiles: BeAD, score: 12.0, Move object:\n",
       " Move: G8, Horizontal, tiles: BeAD, score: 12.0, Move object:\n",
       " Move: H5, Vertical, tiles: DeRIG, score: 12.0, Move object:\n",
       " Move: H8, Horizontal, tiles: BeAD, score: 12.0, Move object:\n",
       " Move: F8, Horizontal, tiles: DIB, score: 12.0, Move object:\n",
       " Move: G8, Horizontal, tiles: GRIDe, score: 12.0, Move object:\n",
       " Move: H6, Vertical, tiles: GIRD, score: 12.0, Move object:\n",
       " Move: H5, Vertical, tiles: BIDe, score: 12.0, Move object:\n",
       " Move: F8, Horizontal, tiles: GRADe, score: 12.0, Move object:\n",
       " Move: F8, Horizontal, tiles: BADe, score: 12.0, Move object:\n",
       " Move: G8, Horizontal, tiles: BID, score: 12.0, Move object:\n",
       " Move: H5, Vertical, tiles: RAGDe, score: 12.0, Move object:\n",
       " Move: E8, Horizontal, tiles: RAGDe, score: 12.0, Move object:\n",
       " Move: F8, Horizontal, tiles: GIBe, score: 12.0, Move object:\n",
       " Move: H6, Vertical, tiles: GRIDe, score: 12.0, Move object:\n",
       " Move: E8, Horizontal, tiles: BIDe, score: 12.0, Move object:\n",
       " Move: F8, Horizontal, tiles: GRIDe, score: 12.0, Move object:\n",
       " Move: H7, Vertical, tiles: DIRGe, score: 12.0, Move object:\n",
       " Move: E8, Horizontal, tiles: GAID, score: 12.0, Move object:\n",
       " Move: H7, Vertical, tiles: RADGe, score: 12.0, Move object:\n",
       " Move: H8, Vertical, tiles: BIG, score: 12.0, Move object:\n",
       " Move: H7, Vertical, tiles: RAGeD, score: 12.0, Move object:\n",
       " Move: H7, Vertical, tiles: DeRIG, score: 12.0, Move object:\n",
       " Move: H8, Horizontal, tiles: AIDeR, score: 12.0, Move object:\n",
       " Move: H8, Horizontal, tiles: DIB, score: 12.0, Move object:\n",
       " Move: H8, Horizontal, tiles: BAG, score: 12.0, Move object:\n",
       " Move: F8, Horizontal, tiles: BAD, score: 12.0, Move object:\n",
       " Move: H8, Horizontal, tiles: BeRG, score: 12.0, Move object:\n",
       " Move: G8, Horizontal, tiles: GAB, score: 12.0, Move object:\n",
       " Move: H6, Vertical, tiles: DRAG, score: 12.0, Move object:\n",
       " Move: H8, Vertical, tiles: ReDIA, score: 12.0, Move object:\n",
       " Move: F8, Horizontal, tiles: BIG, score: 12.0, Move object:\n",
       " Move: G8, Horizontal, tiles: ABRI, score: 12.0, Move object:\n",
       " Move: E8, Horizontal, tiles: BRAe, score: 10.0, Move object:\n",
       " Move: H8, Horizontal, tiles: GIeD, score: 10.0, Move object:\n",
       " Move: H8, Vertical, tiles: BRIe, score: 10.0, Move object:\n",
       " Move: H7, Vertical, tiles: RAGI, score: 10.0, Move object:\n",
       " Move: H8, Horizontal, tiles: DReG, score: 10.0, Move object:\n",
       " Move: F8, Horizontal, tiles: RIB, score: 10.0, Move object:\n",
       " Move: H8, Horizontal, tiles: ABeR, score: 10.0, Move object:\n",
       " Move: H8, Vertical, tiles: ARID, score: 10.0, Move object:\n",
       " Move: H7, Vertical, tiles: BeG, score: 10.0, Move object:\n",
       " Move: H6, Vertical, tiles: BRIe, score: 10.0, Move object:\n",
       " Move: H5, Vertical, tiles: AIDeR, score: 10.0, Move object:\n",
       " Move: H8, Horizontal, tiles: eGAD, score: 10.0, Move object:\n",
       " Move: H7, Vertical, tiles: ABeR, score: 10.0, Move object:\n",
       " Move: H7, Vertical, tiles: GAeD, score: 10.0, Move object:\n",
       " Move: G8, Horizontal, tiles: GIeD, score: 10.0, Move object:\n",
       " Move: H5, Vertical, tiles: IRADe, score: 10.0, Move object:\n",
       " Move: H5, Vertical, tiles: DARI, score: 10.0, Move object:\n",
       " Move: H5, Vertical, tiles: RAID, score: 10.0, Move object:\n",
       " Move: G8, Horizontal, tiles: GARI, score: 10.0, Move object:\n",
       " Move: G8, Horizontal, tiles: DARI, score: 10.0, Move object:\n",
       " Move: H8, Vertical, tiles: AGeD, score: 10.0, Move object:\n",
       " Move: E8, Horizontal, tiles: AIReD, score: 10.0, Move object:\n",
       " Move: H6, Vertical, tiles: GARI, score: 10.0, Move object:\n",
       " Move: G8, Horizontal, tiles: BAR, score: 10.0, Move object:\n",
       " Move: F8, Horizontal, tiles: IRADe, score: 10.0, Move object:\n",
       " Move: H6, Vertical, tiles: GAD, score: 10.0, Move object:\n",
       " Move: H6, Vertical, tiles: eGAD, score: 10.0, Move object:\n",
       " Move: F8, Horizontal, tiles: DIG, score: 10.0, Move object:\n",
       " Move: H6, Vertical, tiles: ARID, score: 10.0, Move object:\n",
       " Move: E8, Horizontal, tiles: AGeD, score: 10.0, Move object:\n",
       " Move: E8, Horizontal, tiles: BIeR, score: 10.0, Move object:\n",
       " Move: H8, Vertical, tiles: BRA, score: 10.0, Move object:\n",
       " Move: H7, Vertical, tiles: BRAe, score: 10.0, Move object:\n",
       " Move: H7, Vertical, tiles: GAIR, score: 10.0, Move object:\n",
       " Move: H8, Vertical, tiles: RIB, score: 10.0, Move object:\n",
       " Move: H5, Vertical, tiles: BRAe, score: 10.0, Move object:\n",
       " Move: H5, Vertical, tiles: ReDIA, score: 10.0, Move object:\n",
       " Move: H8, Vertical, tiles: GADe, score: 10.0, Move object:\n",
       " Move: H7, Vertical, tiles: eGAD, score: 10.0, Move object:\n",
       " Move: F8, Horizontal, tiles: AIReD, score: 10.0, Move object:\n",
       " Move: H8, Horizontal, tiles: AGeD, score: 10.0, Move object:\n",
       " Move: H8, Vertical, tiles: RAGI, score: 10.0, Move object:\n",
       " Move: H8, Horizontal, tiles: BARe, score: 10.0, Move object:\n",
       " Move: H8, Horizontal, tiles: RIB, score: 10.0, Move object:\n",
       " Move: H6, Vertical, tiles: RIAD, score: 10.0, Move object:\n",
       " Move: F8, Horizontal, tiles: AGeD, score: 10.0, Move object:\n",
       " Move: H5, Vertical, tiles: AIReD, score: 10.0, Move object:\n",
       " Move: F8, Horizontal, tiles: DReG, score: 10.0, Move object:\n",
       " Move: H5, Vertical, tiles: BRIe, score: 10.0, Move object:\n",
       " Move: H7, Vertical, tiles: ARID, score: 10.0, Move object:\n",
       " Move: H7, Vertical, tiles: DeAIR, score: 10.0, Move object:\n",
       " Move: E8, Horizontal, tiles: RAGI, score: 10.0, Move object:\n",
       " Move: G8, Horizontal, tiles: RAGI, score: 10.0, Move object:\n",
       " Move: G8, Horizontal, tiles: eGAD, score: 10.0, Move object:\n",
       " Move: H6, Vertical, tiles: DARI, score: 10.0, Move object:\n",
       " Move: H6, Vertical, tiles: BRAe, score: 10.0, Move object:\n",
       " Move: H5, Vertical, tiles: AGeD, score: 10.0, Move object:\n",
       " Move: H8, Vertical, tiles: ABeR, score: 10.0, Move object:\n",
       " Move: H5, Vertical, tiles: eGAD, score: 10.0, Move object:\n",
       " Move: E8, Horizontal, tiles: BRIe, score: 10.0, Move object:\n",
       " Move: H7, Vertical, tiles: GARI, score: 10.0, Move object:\n",
       " Move: F8, Horizontal, tiles: eGAD, score: 10.0, Move object:\n",
       " Move: H6, Vertical, tiles: RIB, score: 10.0, Move object:\n",
       " Move: H6, Vertical, tiles: AIReD, score: 10.0, Move object:\n",
       " Move: H5, Vertical, tiles: GADe, score: 10.0, Move object:\n",
       " Move: H7, Vertical, tiles: AIReD, score: 10.0, Move object:\n",
       " Move: H6, Vertical, tiles: DeB, score: 10.0, Move object:\n",
       " Move: H7, Vertical, tiles: GID, score: 10.0, Move object:\n",
       " Move: H6, Vertical, tiles: BReI, score: 10.0, Move object:\n",
       " Move: H8, Horizontal, tiles: ARID, score: 10.0, Move object:\n",
       " Move: G8, Horizontal, tiles: ARID, score: 10.0, Move object:\n",
       " Move: H8, Horizontal, tiles: GAD, score: 10.0, Move object:\n",
       " Move: F8, Horizontal, tiles: ReDIA, score: 10.0, Move object:\n",
       " Move: H5, Vertical, tiles: RAGI, score: 10.0, Move object:\n",
       " Move: H8, Vertical, tiles: DARI, score: 10.0, Move object:\n",
       " Move: H5, Vertical, tiles: BeAR, score: 10.0, Move object:\n",
       " Move: H8, Vertical, tiles: DeB, score: 10.0, Move object:\n",
       " Move: F8, Horizontal, tiles: ARB, score: 10.0, Move object:\n",
       " Move: E8, Horizontal, tiles: GADe, score: 10.0, Move object:\n",
       " Move: H6, Vertical, tiles: ReDIA, score: 10.0, Move object:\n",
       " Move: F8, Horizontal, tiles: GIeD, score: 10.0, Move object:\n",
       " Move: H7, Vertical, tiles: GADe, score: 10.0, Move object:\n",
       " Move: E8, Horizontal, tiles: BReI, score: 10.0, Move object:\n",
       " Move: H8, Vertical, tiles: BeG, score: 10.0, Move object:\n",
       " Move: H7, Vertical, tiles: RIB, score: 10.0, Move object:\n",
       " Move: H5, Vertical, tiles: GAeD, score: 10.0, Move object:\n",
       " Move: H7, Vertical, tiles: RAID, score: 10.0, Move object:\n",
       " Move: H7, Vertical, tiles: BARe, score: 10.0, Move object:\n",
       " Move: H8, Horizontal, tiles: GARI, score: 10.0, Move object:\n",
       " Move: G8, Horizontal, tiles: DIG, score: 10.0, Move object:\n",
       " Move: H6, Vertical, tiles: BeG, score: 10.0, Move object:\n",
       " Move: G8, Horizontal, tiles: GAeD, score: 10.0, Move object:\n",
       " Move: F8, Horizontal, tiles: AIDeR, score: 10.0, Move object:\n",
       " Move: H6, Vertical, tiles: GAIR, score: 10.0, Move object:\n",
       " Move: G8, Horizontal, tiles: RIB, score: 10.0, Move object:\n",
       " Move: H8, Horizontal, tiles: RIAD, score: 10.0, Move object:\n",
       " Move: H8, Vertical, tiles: BReI, score: 10.0, Move object:\n",
       " Move: E8, Horizontal, tiles: BeAR, score: 10.0, Move object:\n",
       " Move: H7, Vertical, tiles: RIAD, score: 10.0, Move object:\n",
       " Move: F8, Horizontal, tiles: ABeR, score: 10.0, Move object:\n",
       " Move: H8, Vertical, tiles: BRAe, score: 10.0, Move object:\n",
       " Move: H6, Vertical, tiles: ABeR, score: 10.0, Move object:\n",
       " Move: G8, Horizontal, tiles: AGeD, score: 10.0, Move object:\n",
       " Move: G8, Horizontal, tiles: DAG, score: 10.0, Move object:\n",
       " Move: H8, Vertical, tiles: BIeR, score: 10.0, Move object:\n",
       " Move: H8, Vertical, tiles: GIeD, score: 10.0, Move object:\n",
       " Move: G8, Horizontal, tiles: BIeR, score: 10.0, Move object:\n",
       " Move: E8, Horizontal, tiles: ARID, score: 10.0, Move object:\n",
       " Move: G8, Horizontal, tiles: AIDeR, score: 10.0, Move object:\n",
       " Move: H6, Vertical, tiles: GIeD, score: 10.0, Move object:\n",
       " Move: H8, Vertical, tiles: BeAR, score: 10.0, Move object:\n",
       " Move: H8, Vertical, tiles: RAID, score: 10.0, Move object:\n",
       " Move: F8, Horizontal, tiles: BRAe, score: 10.0, Move object:\n",
       " Move: H8, Horizontal, tiles: DAG, score: 10.0, Move object:\n",
       " Move: E8, Horizontal, tiles: ReDIA, score: 10.0, Move object:\n",
       " Move: H8, Vertical, tiles: GAIR, score: 10.0, Move object:\n",
       " Move: H5, Vertical, tiles: DeAIR, score: 10.0, Move object:\n",
       " Move: H7, Vertical, tiles: BIeR, score: 10.0, Move object:\n",
       " Move: F8, Horizontal, tiles: RAID, score: 10.0, Move object:\n",
       " Move: H6, Vertical, tiles: BARe, score: 10.0, Move object:\n",
       " Move: F8, Horizontal, tiles: DARI, score: 10.0, Move object:\n",
       " Move: H8, Horizontal, tiles: IRADe, score: 10.0, Move object:\n",
       " Move: G8, Horizontal, tiles: GADe, score: 10.0, Move object:\n",
       " Move: F8, Horizontal, tiles: GAeD, score: 10.0, Move object:\n",
       " Move: H7, Vertical, tiles: ReDIA, score: 10.0, Move object:\n",
       " Move: H6, Vertical, tiles: AIDeR, score: 10.0, Move object:\n",
       " Move: H5, Vertical, tiles: DReG, score: 10.0, Move object:\n",
       " Move: H8, Vertical, tiles: GAD, score: 10.0, Move object:\n",
       " Move: E8, Horizontal, tiles: GIeD, score: 10.0, Move object:\n",
       " Move: H8, Horizontal, tiles: BIeR, score: 10.0, Move object:\n",
       " Move: G8, Horizontal, tiles: RIAD, score: 10.0, Move object:\n",
       " Move: F8, Horizontal, tiles: RIAD, score: 10.0, Move object:\n",
       " Move: H6, Vertical, tiles: DeAIR, score: 10.0, Move object:\n",
       " Move: H7, Vertical, tiles: DReG, score: 10.0, Move object:\n",
       " Move: H5, Vertical, tiles: BReI, score: 10.0, Move object:\n",
       " Move: H5, Vertical, tiles: ARID, score: 10.0, Move object:\n",
       " Move: G8, Horizontal, tiles: GID, score: 10.0, Move object:\n",
       " Move: E8, Horizontal, tiles: GARI, score: 10.0, Move object:\n",
       " Move: F8, Horizontal, tiles: BeG, score: 10.0, Move object:\n",
       " Move: G8, Horizontal, tiles: BRIe, score: 10.0, Move object:\n",
       " Move: H8, Horizontal, tiles: BRA, score: 10.0, Move object:\n",
       " Move: F8, Horizontal, tiles: BIeR, score: 10.0, Move object:\n",
       " Move: H7, Vertical, tiles: DIG, score: 10.0, Move object:\n",
       " Move: H6, Vertical, tiles: BeAR, score: 10.0, Move object:\n",
       " Move: H8, Vertical, tiles: BeD, score: 10.0, Move object:\n",
       " Move: H6, Vertical, tiles: DIG, score: 10.0, Move object:\n",
       " Move: H8, Vertical, tiles: DReG, score: 10.0, Move object:\n",
       " Move: G8, Horizontal, tiles: BRAe, score: 10.0, Move object:\n",
       " Move: H7, Vertical, tiles: IRADe, score: 10.0, Move object:\n",
       " Move: H7, Vertical, tiles: ARB, score: 10.0, Move object:\n",
       " Move: E8, Horizontal, tiles: IRADe, score: 10.0, Move object:\n",
       " Move: H8, Horizontal, tiles: BAR, score: 10.0, Move object:\n",
       " Move: H7, Vertical, tiles: BAR, score: 10.0, Move object:\n",
       " Move: H8, Horizontal, tiles: RAID, score: 10.0, Move object:\n",
       " Move: H8, Vertical, tiles: RIAD, score: 10.0, Move object:\n",
       " Move: H5, Vertical, tiles: GAIR, score: 10.0, Move object:\n",
       " Move: E8, Horizontal, tiles: DeAIR, score: 10.0, Move object:\n",
       " Move: H7, Vertical, tiles: DAG, score: 10.0, Move object:\n",
       " Move: H8, Vertical, tiles: eGAD, score: 10.0, Move object:\n",
       " Move: H8, Vertical, tiles: DAG, score: 10.0, Move object:\n",
       " Move: H8, Vertical, tiles: GARI, score: 10.0, Move object:\n",
       " Move: H6, Vertical, tiles: ARB, score: 10.0, Move object:\n",
       " Move: H5, Vertical, tiles: ABeR, score: 10.0, Move object:\n",
       " Move: F8, Horizontal, tiles: DAG, score: 10.0, Move object:\n",
       " Move: E8, Horizontal, tiles: AIDeR, score: 10.0, Move object:\n",
       " Move: H7, Vertical, tiles: GIeD, score: 10.0, Move object:\n",
       " Move: H8, Horizontal, tiles: BRIe, score: 10.0, Move object:\n",
       " Move: H7, Vertical, tiles: BRA, score: 10.0, Move object:\n",
       " Move: H8, Horizontal, tiles: GAeD, score: 10.0, Move object:\n",
       " Move: H8, Vertical, tiles: GAeD, score: 10.0, Move object:\n",
       " Move: H7, Vertical, tiles: AGeD, score: 10.0, Move object:\n",
       " Move: H8, Horizontal, tiles: ARB, score: 10.0, Move object:\n",
       " Move: H8, Horizontal, tiles: DARI, score: 10.0, Move object:\n",
       " Move: H8, Vertical, tiles: IRADe, score: 10.0, Move object:\n",
       " Move: H6, Vertical, tiles: BIeR, score: 10.0, Move object:\n",
       " Move: G8, Horizontal, tiles: BeG, score: 10.0, Move object:\n",
       " Move: F8, Horizontal, tiles: BRA, score: 10.0, Move object:\n",
       " Move: H7, Vertical, tiles: AIDeR, score: 10.0, Move object:\n",
       " Move: H6, Vertical, tiles: DReG, score: 10.0, Move object:\n",
       " Move: H8, Horizontal, tiles: BRAe, score: 10.0, Move object:\n",
       " Move: G8, Horizontal, tiles: BRA, score: 10.0, Move object:\n",
       " Move: H7, Vertical, tiles: DARI, score: 10.0, Move object:\n",
       " Move: F8, Horizontal, tiles: BAR, score: 10.0, Move object:\n",
       " Move: H6, Vertical, tiles: BAR, score: 10.0, Move object:\n",
       " Move: F8, Horizontal, tiles: RAGI, score: 10.0, Move object:\n",
       " Move: G8, Horizontal, tiles: AIReD, score: 10.0, Move object:\n",
       " Move: F8, Horizontal, tiles: DeAIR, score: 10.0, Move object:\n",
       " Move: H8, Vertical, tiles: BARe, score: 10.0, Move object:\n",
       " Move: H6, Vertical, tiles: GID, score: 10.0, Move object:\n",
       " Move: H7, Vertical, tiles: GAD, score: 10.0, Move object:\n",
       " Move: E8, Horizontal, tiles: ABeR, score: 10.0, Move object:\n",
       " Move: G8, Horizontal, tiles: IRADe, score: 10.0, Move object:\n",
       " Move: G8, Horizontal, tiles: GAIR, score: 10.0, Move object:\n",
       " Move: H8, Horizontal, tiles: GAIR, score: 10.0, Move object:\n",
       " Move: H6, Vertical, tiles: GADe, score: 10.0, Move object:\n",
       " Move: H6, Vertical, tiles: IRADe, score: 10.0, Move object:\n",
       " Move: G8, Horizontal, tiles: BeAR, score: 10.0, Move object:\n",
       " Move: H8, Horizontal, tiles: RAGI, score: 10.0, Move object:\n",
       " Move: H7, Vertical, tiles: DeB, score: 10.0, Move object:\n",
       " Move: E8, Horizontal, tiles: BARe, score: 10.0, Move object:\n",
       " Move: H8, Vertical, tiles: BAR, score: 10.0, Move object:\n",
       " Move: H5, Vertical, tiles: RIAD, score: 10.0, Move object:\n",
       " Move: H7, Vertical, tiles: BReI, score: 10.0, Move object:\n",
       " Move: F8, Horizontal, tiles: ARID, score: 10.0, Move object:\n",
       " Move: G8, Horizontal, tiles: GAD, score: 10.0, Move object:\n",
       " Move: H8, Horizontal, tiles: BReI, score: 10.0, Move object:\n",
       " Move: G8, Horizontal, tiles: RAID, score: 10.0, Move object:\n",
       " Move: E8, Horizontal, tiles: eGAD, score: 10.0, Move object:\n",
       " Move: H6, Vertical, tiles: BRA, score: 10.0, Move object:\n",
       " Move: E8, Horizontal, tiles: DReG, score: 10.0, Move object:\n",
       " Move: H8, Horizontal, tiles: BeAR, score: 10.0, Move object:\n",
       " Move: F8, Horizontal, tiles: GID, score: 10.0, Move object:\n",
       " Move: H7, Vertical, tiles: BeAR, score: 10.0, Move object:\n",
       " Move: F8, Horizontal, tiles: BReI, score: 10.0, Move object:\n",
       " Move: H5, Vertical, tiles: GIeD, score: 10.0, Move object:\n",
       " Move: G8, Horizontal, tiles: DeAIR, score: 10.0, Move object:\n",
       " Move: E8, Horizontal, tiles: RIAD, score: 10.0, Move object:\n",
       " Move: H6, Vertical, tiles: DAG, score: 10.0, Move object:\n",
       " Move: E8, Horizontal, tiles: GAIR, score: 10.0, Move object:\n",
       " Move: H8, Vertical, tiles: ARB, score: 10.0, Move object:\n",
       " Move: H8, Horizontal, tiles: BeD, score: 10.0, Move object:\n",
       " Move: G8, Horizontal, tiles: ARB, score: 10.0, Move object:\n",
       " Move: H8, Vertical, tiles: GID, score: 10.0, Move object:\n",
       " Move: G8, Horizontal, tiles: DReG, score: 10.0, Move object:\n",
       " Move: F8, Horizontal, tiles: BARe, score: 10.0, Move object:\n",
       " Move: G8, Horizontal, tiles: DeB, score: 10.0, Move object:\n",
       " Move: F8, Horizontal, tiles: BRIe, score: 10.0, Move object:\n",
       " Move: F8, Horizontal, tiles: GAD, score: 10.0, Move object:\n",
       " Move: H6, Vertical, tiles: GAeD, score: 10.0, Move object:\n",
       " Move: G8, Horizontal, tiles: BReI, score: 10.0, Move object:\n",
       " Move: G8, Horizontal, tiles: ReDIA, score: 10.0, Move object:\n",
       " Move: F8, Horizontal, tiles: DeB, score: 10.0, Move object:\n",
       " Move: H8, Vertical, tiles: DIG, score: 10.0, Move object:\n",
       " Move: E8, Horizontal, tiles: RAID, score: 10.0, Move object:\n",
       " Move: F8, Horizontal, tiles: BeAR, score: 10.0, Move object:\n",
       " Move: H6, Vertical, tiles: RAID, score: 10.0, Move object:\n",
       " Move: F8, Horizontal, tiles: GAIR, score: 10.0, Move object:\n",
       " Move: E8, Horizontal, tiles: GAeD, score: 10.0, Move object:\n",
       " Move: H8, Horizontal, tiles: DeB, score: 10.0, Move object:\n",
       " Move: H7, Vertical, tiles: BRIe, score: 10.0, Move object:\n",
       " Move: H5, Vertical, tiles: GARI, score: 10.0, Move object:\n",
       " Move: H8, Horizontal, tiles: GADe, score: 10.0, Move object:\n",
       " Move: G8, Horizontal, tiles: ABeR, score: 10.0, Move object:\n",
       " Move: H6, Vertical, tiles: BeD, score: 10.0, Move object:\n",
       " Move: F8, Horizontal, tiles: BeD, score: 10.0, Move object:\n",
       " Move: H8, Horizontal, tiles: BeG, score: 10.0, Move object:\n",
       " Move: H5, Vertical, tiles: BARe, score: 10.0, Move object:\n",
       " Move: H7, Vertical, tiles: BeD, score: 10.0, Move object:\n",
       " Move: E8, Horizontal, tiles: DARI, score: 10.0, Move object:\n",
       " Move: G8, Horizontal, tiles: BeD, score: 10.0, Move object:\n",
       " Move: H8, Horizontal, tiles: DIG, score: 10.0, Move object:\n",
       " Move: H6, Vertical, tiles: RAGI, score: 10.0, ...]"
      ]
     },
     "execution_count": 223,
     "metadata": {},
     "output_type": "execute_result"
    }
   ],
   "source": [
    "# Now we have the correct tiles in the rack and the board is advanced to the correct position,\n",
    "# let's get a list of all the moves ALexIS can come up with:\n",
    "\n",
    "alexis_moves = game.active_player.generate_all_moves()\n",
    "alexis_moves.sort(key=lambda x: x.score, reverse=True) # Sort if with highest scores first\n",
    "\n",
    "# put any blanks back to having letter un-assigned, ready for parsing Quackle move\n",
    "game.active_player.rack.reset_blanks()\n",
    "\n",
    "# here's what we got:\n",
    "alexis_moves\n"
   ]
  },
  {
   "cell_type": "code",
   "execution_count": 360,
   "metadata": {},
   "outputs": [
    {
     "name": "stdout",
     "output_type": "stream",
     "text": [
      "jlk\n"
     ]
    }
   ],
   "source": [
    "if 's':\n",
    "    print('jlk')"
   ]
  },
  {
   "cell_type": "code",
   "execution_count": 355,
   "metadata": {},
   "outputs": [
    {
     "data": {
      "text/plain": [
       "('', 'R')"
      ]
     },
     "execution_count": 355,
     "metadata": {},
     "output_type": "execute_result"
    }
   ],
   "source": [
    "# Now let's move onto getting our 'good' move from the GCG file:\n",
    "\n",
    "# GCG has digit(s) followed by letter for horizontal move, or vice versa for vertical,\n",
    "# wheras we are expecting digit, then letter, then 'H' or 'V', so let's fix that:\n",
    "\n",
    "start_square = current_move_info[2]\n",
    "\n",
    "if start_square.startswith('-'):\n",
    "    tiles = start_square[1]\n",
    "    start_square = ''\n",
    "elif start_square[0].isdigit():\n",
    "    start_square = start_square[-1] + start_square[:-1] + 'H'\n",
    "else:\n",
    "    start_square += 'V'\n",
    "\n",
    "start_square, tiles"
   ]
  },
  {
   "cell_type": "code",
   "execution_count": 354,
   "metadata": {},
   "outputs": [
    {
     "data": {
      "text/plain": [
       "['>Quackle:', 'EPRRRWW', '-RRWW', '+0', '0']"
      ]
     },
     "execution_count": 354,
     "metadata": {},
     "output_type": "execute_result"
    }
   ],
   "source": [
    "current_move_info"
   ]
  },
  {
   "cell_type": "code",
   "execution_count": 306,
   "metadata": {},
   "outputs": [
    {
     "data": {
      "text/plain": [
       "'.ONELIER'"
      ]
     },
     "execution_count": 306,
     "metadata": {},
     "output_type": "execute_result"
    }
   ],
   "source": [
    "# lowercase letters in the GCG represent blanks. We're expecting a question mark for a blank, \n",
    "# followed by the desired letter, so replace 'a' with '?A', etc:\n",
    "\n",
    "tiles = ''.join(['?'+letter.upper() if letter.islower() else letter for letter in current_move_info[3]])\n",
    "tiles"
   ]
  },
  {
   "cell_type": "code",
   "execution_count": 307,
   "metadata": {},
   "outputs": [
    {
     "data": {
      "text/plain": [
       "'ONELIER'"
      ]
     },
     "execution_count": 307,
     "metadata": {},
     "output_type": "execute_result"
    }
   ],
   "source": [
    "# GCG gives the start square as the first letter in the word, \n",
    "# and uses '.' as a placeholder for any tile already on the board, \n",
    "# whereas we list the first square we're actually playing on, and\n",
    "# just the tiles actually played, so let's strip out '.' and adjust the\n",
    "# starting square if necessary:\n",
    "\n",
    "if '.' in tiles:\n",
    "    start_square = list(start_square) # treat string as char list\n",
    "    x = 0\n",
    "    while tiles[x] == '.': # whilst there's a dot at the start\n",
    "        if start_square[-1] == 'V':\n",
    "            start_square[-2] = str(int(start_square[-2])+1) # increase the row if playing vertical\n",
    "        else:\n",
    "            start_square[0] = chr(ord(start_square[0])+1) # or the column if horizontal\n",
    "        x += 1\n",
    "    start_square = ''.join(start_square) # make a string again\n",
    "    tiles = tiles.replace('.','') # strip out any dot in the middle of the word\n",
    "tiles           "
   ]
  },
  {
   "cell_type": "code",
   "execution_count": 308,
   "metadata": {},
   "outputs": [
    {
     "data": {
      "text/plain": [
       "GameBoard object:\n",
       "     A B C D E F G H I J K L M N O\n",
       "   + - - - - - - - - - - - - - - - +\n",
       " 1 | = E . ' . . . = . . . . ' . = |\n",
       " 2 | . - . . . \" . . . \" . . . - . |\n",
       " 3 | . . - . . . ' . ' . . . - . . |\n",
       " 4 | ' . . - . . . ' . . . - . . ' |\n",
       " 5 | . . . . - . . . . . - . . . . |\n",
       " 6 | . \" . . . \" . . . \" . . . \" . |\n",
       " 7 | . . ' . . . ' . ' . . . ' . . |\n",
       " 8 | = . . ' . . . - . . . ' . . = |\n",
       " 9 | . . ' . . . ' . ' . . . ' . . |\n",
       "10 | . \" . . . \" . . . \" . . . \" . |\n",
       "11 | . . . . - . . . . . - . . . . |\n",
       "12 | ' . . - . . . ' . . . - . . ' |\n",
       "13 | . . - . . . ' . ' . . . - . . |\n",
       "14 | . - . . . \" . . . \" . . . - . |\n",
       "15 | = . . ' . . . = . . . . ' . = |\n",
       "   + - - - - - - - - - - - - - - - +\n",
       "     A B C D E F G H I J K L M N O"
      ]
     },
     "execution_count": 308,
     "metadata": {},
     "output_type": "execute_result"
    }
   ],
   "source": [
    "game.board"
   ]
  },
  {
   "cell_type": "code",
   "execution_count": 309,
   "metadata": {},
   "outputs": [
    {
     "data": {
      "text/plain": [
       "'B2V'"
      ]
     },
     "execution_count": 309,
     "metadata": {},
     "output_type": "execute_result"
    }
   ],
   "source": [
    "start_square"
   ]
  },
  {
   "cell_type": "code",
   "execution_count": 227,
   "metadata": {},
   "outputs": [],
   "source": [
    "cached_rack = copy.deepcopy(game.active_player.rack)"
   ]
  },
  {
   "cell_type": "code",
   "execution_count": 228,
   "metadata": {},
   "outputs": [
    {
     "data": {
      "text/plain": [
       "('D8H', 'BARDI?NG')"
      ]
     },
     "execution_count": 228,
     "metadata": {},
     "output_type": "execute_result"
    }
   ],
   "source": [
    "start_square, tiles"
   ]
  },
  {
   "cell_type": "code",
   "execution_count": 229,
   "metadata": {},
   "outputs": [
    {
     "data": {
      "text/plain": [
       "Move object:\n",
       "Move: D8, Horizontal, tiles: BARDInG, score: 76.0"
      ]
     },
     "execution_count": 229,
     "metadata": {},
     "output_type": "execute_result"
    }
   ],
   "source": [
    "# This will get a move and remove tiles from rack:\n",
    "quackle_move = gui.parse_move_string(start_square + tiles)\n",
    "\n",
    "# validator will place tiles onto row in course of validation, \n",
    "# so first we'll copy the row so as not to mess up the board:\n",
    "quackle_move.row = copy.deepcopy(quackle_move.row)\n",
    "game.validator.is_valid(quackle_move)\n",
    "\n",
    "# this will calculate score (but only if tiles are already played on row):\n",
    "quackle_move.calculate_score()\n",
    "\n",
    "quackle_move"
   ]
  },
  {
   "cell_type": "code",
   "execution_count": 230,
   "metadata": {},
   "outputs": [
    {
     "data": {
      "text/plain": [
       "array([ 7,  8,  9, 10, 11, 12, 13], dtype=int64)"
      ]
     },
     "execution_count": 230,
     "metadata": {},
     "output_type": "execute_result"
    }
   ],
   "source": [
    "# check we're tracking played squares:\n",
    "alexis_moves[6].played_squares"
   ]
  },
  {
   "cell_type": "code",
   "execution_count": 231,
   "metadata": {},
   "outputs": [],
   "source": [
    "# now choose some moves. If we do data augmentation by transposing the 'correct' Quackle-derived moves, \n",
    "# we'll have 2 correct moves, so picking six of these would give us multiples of 8 moves. \n",
    "# Picking the top couple and randomly picking the rest would analyse some 'good' moves \n",
    "# but still allow a little exploration (c.f. Q learning)\n",
    "\n",
    "if quackle_move in alexis_moves:\n",
    "    alexis_moves.remove(quackle_move)\n",
    "\n",
    "# just in case it's the end game:\n",
    "while len(alexis_moves) < 6:\n",
    "    # add a pass:\n",
    "    alexis_moves.append(Move(None, None, None))\n",
    "\n",
    "wrong_moves = []\n",
    "wrong_moves.append(alexis_moves.pop(0))\n",
    "wrong_moves.append(alexis_moves.pop(0))\n",
    "\n",
    "\n",
    "\n"
   ]
  },
  {
   "cell_type": "code",
   "execution_count": 232,
   "metadata": {},
   "outputs": [
    {
     "data": {
      "text/plain": [
       "[Move object:\n",
       " Move: D8, Horizontal, tiles: BRIGADe, score: 76.0, Move object:\n",
       " Move: H3, Vertical, tiles: ABRIDGe, score: 76.0]"
      ]
     },
     "execution_count": 232,
     "metadata": {},
     "output_type": "execute_result"
    }
   ],
   "source": [
    "wrong_moves"
   ]
  },
  {
   "cell_type": "code",
   "execution_count": 233,
   "metadata": {},
   "outputs": [
    {
     "data": {
      "text/plain": [
       "[Move object:\n",
       " Move: D8, Horizontal, tiles: BRIGADe, score: 76.0, Move object:\n",
       " Move: H3, Vertical, tiles: ABRIDGe, score: 76.0, Move object:\n",
       " Move: H8, Vertical, tiles: DRAB, score: 14.0, Move object:\n",
       " Move: Exchange ADGI, Move object:\n",
       " Move: H8, Vertical, tiles: IRe, score: 4.0, Move object:\n",
       " Move: E8, Horizontal, tiles: GRIDe, score: 12.0]"
      ]
     },
     "execution_count": 233,
     "metadata": {},
     "output_type": "execute_result"
    }
   ],
   "source": [
    "from random import choices\n",
    "\n",
    "wrong_moves.extend(choices(alexis_moves, k = 4))\n",
    "\n",
    "wrong_moves"
   ]
  },
  {
   "cell_type": "code",
   "execution_count": 234,
   "metadata": {},
   "outputs": [
    {
     "data": {
      "text/plain": [
       "row object:\n",
       " H | = . . ' . . . I R e . ' . . = |"
      ]
     },
     "execution_count": 234,
     "metadata": {},
     "output_type": "execute_result"
    }
   ],
   "source": [
    "game.validator.is_valid(wrong_moves[4])\n",
    "wrong_moves[4].calculate_score()\n",
    "wrong_moves[4].row"
   ]
  },
  {
   "cell_type": "code",
   "execution_count": 235,
   "metadata": {},
   "outputs": [
    {
     "data": {
      "text/plain": [
       "GameBoard object:\n",
       "     A B C D E F G H I J K L M N O\n",
       "   + - - - - - - - - - - - - - - - +\n",
       " 1 | = . . ' . . . = . . . . ' . = |\n",
       " 2 | . - . . . \" . . . \" . . . - . |\n",
       " 3 | . . - . . . ' . ' . . . - . . |\n",
       " 4 | ' . . - . . . ' . . . - . . ' |\n",
       " 5 | . . . . - . . . . . - . . . . |\n",
       " 6 | . \" . . . \" . . . \" . . . \" . |\n",
       " 7 | . . ' . . . ' . ' . . . ' . . |\n",
       " 8 | = . . ' . . . - . . . ' . . = |\n",
       " 9 | . . ' . . . ' . ' . . . ' . . |\n",
       "10 | . \" . . . \" . . . \" . . . \" . |\n",
       "11 | . . . . - . . . . . - . . . . |\n",
       "12 | ' . . - . . . ' . . . - . . ' |\n",
       "13 | . . - . . . ' . ' . . . - . . |\n",
       "14 | . - . . . \" . . . \" . . . - . |\n",
       "15 | = . . ' . . . = . . . . ' . = |\n",
       "   + - - - - - - - - - - - - - - - +\n",
       "     A B C D E F G H I J K L M N O"
      ]
     },
     "execution_count": 235,
     "metadata": {},
     "output_type": "execute_result"
    }
   ],
   "source": [
    "game.board"
   ]
  },
  {
   "cell_type": "code",
   "execution_count": 236,
   "metadata": {
    "scrolled": true
   },
   "outputs": [
    {
     "data": {
      "text/plain": [
       "row object:\n",
       " 8 | = . . ' . . . - . . . ' . . = |"
      ]
     },
     "execution_count": 236,
     "metadata": {},
     "output_type": "execute_result"
    }
   ],
   "source": [
    "game.board.existing_letters\n",
    "row = game.board.get_row(8, Direction.HORIZONTAL)\n",
    "row\n"
   ]
  },
  {
   "cell_type": "code",
   "execution_count": 237,
   "metadata": {},
   "outputs": [
    {
     "data": {
      "text/plain": [
       "array([-1,  0,  5,  0,  0,  0,  0,  0,  0,  0,  0,  0,  0,  0,  0,  0, -1],\n",
       "      dtype=int8)"
      ]
     },
     "execution_count": 237,
     "metadata": {},
     "output_type": "execute_result"
    }
   ],
   "source": [
    "game.board.existing_letters[1,2] = 5\n",
    "game.board.existing_letters[1,:]"
   ]
  },
  {
   "cell_type": "code",
   "execution_count": 238,
   "metadata": {},
   "outputs": [
    {
     "data": {
      "text/plain": [
       "Move object:\n",
       "Move: D8, Horizontal, tiles: BARDInG, score: 76.0"
      ]
     },
     "execution_count": 238,
     "metadata": {},
     "output_type": "execute_result"
    }
   ],
   "source": [
    "game.validator.is_valid(quackle_move)\n",
    "quackle_move.calculate_score()\n",
    "quackle_move"
   ]
  },
  {
   "cell_type": "code",
   "execution_count": 239,
   "metadata": {},
   "outputs": [],
   "source": [
    "from PIL import Image\n",
    "from IPython.display import display"
   ]
  },
  {
   "cell_type": "code",
   "execution_count": 240,
   "metadata": {},
   "outputs": [],
   "source": [
    "from model.move import Move\n"
   ]
  },
  {
   "cell_type": "code",
   "execution_count": 241,
   "metadata": {},
   "outputs": [
    {
     "data": {
      "text/plain": [
       "[Move object:\n",
       " Move: D8, Horizontal, tiles: BRIGADe, score: 76.0, Move object:\n",
       " Move: H3, Vertical, tiles: ABRIDGe, score: 76.0, Move object:\n",
       " Move: H8, Vertical, tiles: DRAB, score: 14.0, Move object:\n",
       " Move: Exchange ADGI, Move object:\n",
       " Move: H8, Vertical, tiles: IRe, score: 4.0, Move object:\n",
       " Move: E8, Horizontal, tiles: GRIDe, score: 12.0]"
      ]
     },
     "execution_count": 241,
     "metadata": {},
     "output_type": "execute_result"
    }
   ],
   "source": [
    "wrong_moves"
   ]
  },
  {
   "cell_type": "code",
   "execution_count": 242,
   "metadata": {},
   "outputs": [
    {
     "data": {
      "text/plain": [
       "Rack object containing the following tiles:"
      ]
     },
     "execution_count": 242,
     "metadata": {},
     "output_type": "execute_result"
    }
   ],
   "source": [
    "game.active_player.rack"
   ]
  },
  {
   "cell_type": "code",
   "execution_count": null,
   "metadata": {},
   "outputs": [],
   "source": []
  },
  {
   "cell_type": "code",
   "execution_count": 243,
   "metadata": {},
   "outputs": [
    {
     "data": {
      "text/plain": [
       "array([[  0,   0,   0,   0,   0,   0,   0,   0,   0,   0,   0,   0,   0,\n",
       "          0,   0,   0,   0],\n",
       "       [  0, -32,   0,   0,   0,   0,   0,   0, -32,   0,   0,   0,   0,\n",
       "          0,   0, -32,   0],\n",
       "       [  0,   0, -32,   0,   0,   0,   0,   0,   0,   0,   0,   0,   0,\n",
       "          0, -32,   0,   0],\n",
       "       [  0,   0,   0, -32,   0,   0,   0,   0,   0,   0,   0,   0,   0,\n",
       "        -32,   0,   0,   0],\n",
       "       [  0,   0,   0,   0, -32,   0,   0,   0,   0,   0,   0,   0, -32,\n",
       "          0,   0,   0,   0],\n",
       "       [  0,   0,   0,   0,   0, -32,   0,   0,   0,   0,   0, -32,   0,\n",
       "          0,   0,   0,   0],\n",
       "       [  0,   0,   0,   0,   0,   0,   0,   0,   0,   0,   0,   0,   0,\n",
       "          0,   0,   0,   0],\n",
       "       [  0,   0,   0,   0,   0,   0,   0,   0,   0,   0,   0,   0,   0,\n",
       "          0,   0,   0,   0],\n",
       "       [  0, -32,   0,   0,   0,   0,   0,   0, -32,   0,   0,   0,   0,\n",
       "          0,   0, -32,   0],\n",
       "       [  0,   0,   0,   0,   0,   0,   0,   0,   0,   0,   0,   0,   0,\n",
       "          0,   0,   0,   0],\n",
       "       [  0,   0,   0,   0,   0,   0,   0,   0,   0,   0,   0,   0,   0,\n",
       "          0,   0,   0,   0],\n",
       "       [  0,   0,   0,   0,   0, -32,   0,   0,   0,   0,   0, -32,   0,\n",
       "          0,   0,   0,   0],\n",
       "       [  0,   0,   0,   0, -32,   0,   0,   0,   0,   0,   0,   0, -32,\n",
       "          0,   0,   0,   0],\n",
       "       [  0,   0,   0, -32,   0,   0,   0,   0,   0,   0,   0,   0,   0,\n",
       "        -32,   0,   0,   0],\n",
       "       [  0,   0, -32,   0,   0,   0,   0,   0,   0,   0,   0,   0,   0,\n",
       "          0, -32,   0,   0],\n",
       "       [  0, -32,   0,   0,   0,   0,   0,   0, -32,   0,   0,   0,   0,\n",
       "          0,   0, -32,   0],\n",
       "       [  0,   0,   0,   0,   0,   0,   0,   0,   0,   0,   0,   0,   0,\n",
       "          0,   0,   0,   0]])"
      ]
     },
     "execution_count": 243,
     "metadata": {},
     "output_type": "execute_result"
    }
   ],
   "source": [
    "(z>3).astype(int)*-32"
   ]
  },
  {
   "cell_type": "code",
   "execution_count": null,
   "metadata": {},
   "outputs": [],
   "source": []
  },
  {
   "cell_type": "code",
   "execution_count": 245,
   "metadata": {},
   "outputs": [
    {
     "data": {
      "text/plain": [
       "[Move object:\n",
       " Move: D8, Horizontal, tiles: BRIGADe, score: 76.0, Move object:\n",
       " Move: H3, Vertical, tiles: ABRIDGe, score: 76.0, Move object:\n",
       " Move: H8, Vertical, tiles: DRAB, score: 14.0, Move object:\n",
       " Move: Exchange ADGI, Move object:\n",
       " Move: H8, Vertical, tiles: IRe, score: 4.0, Move object:\n",
       " Move: E8, Horizontal, tiles: GRIDe, score: 12.0]"
      ]
     },
     "execution_count": 245,
     "metadata": {},
     "output_type": "execute_result"
    }
   ],
   "source": [
    "wrong_moves"
   ]
  },
  {
   "cell_type": "code",
   "execution_count": 251,
   "metadata": {
    "scrolled": true
   },
   "outputs": [
    {
     "data": {
      "image/png": "[encoded data removed]",
      "text/plain": [
       "<PIL.Image.Image image mode=RGB size=256x256 at 0x2C71E0576A0>"
      ]
     },
     "metadata": {},
     "output_type": "display_data"
    },
    {
     "name": "stdout",
     "output_type": "stream",
     "text": [
      "Move: D8, Horizontal, tiles: BRIGADe, score: 76.0\n",
      "Move 0\n",
      "Move: D8, Horizontal, tiles: BRIGADe, score: 76.0\n",
      "base layer 0\n",
      "[[ 1  2  4  7  9 18  0  0  0  0  0  0  0  0  0  0]\n",
      " [ 0  0  5  0  0  0  0  0  0  0  0  0  0  0  0  0]\n",
      " [ 0  0  0  0  0  0  0  0  0  0  0  0  0  0  0  0]\n",
      " [ 0  0  0  0  0  0  0  0  0  0  0  0  0  0  0  0]\n",
      " [ 0  0  0  0  0  0  0  0  0  0  0  0  0  0  0  0]\n",
      " [ 0  0  0  0  0  0  0  0  0  0  0  0  0  0  0  0]\n",
      " [ 0  0  0  0  0  0  0  0  0  0  0  0  0  0  0  0]\n",
      " [ 0  0  0  0  0  0  0  0  0  0  0  0  0  0  0  0]\n",
      " [ 0  0  0  0  0  0  0  0  0  0  0  0  0  0  0  0]\n",
      " [ 0  0  0  0  0  0  0  0  0  0  0  0  0  0  0  0]\n",
      " [ 0  0  0  0  0  0  0  0  0  0  0  0  0  0  0  0]\n",
      " [ 0  0  0  0  0  0  0  0  0  0  0  0  0  0  0  0]\n",
      " [ 0  0  0  0  0  0  0  0  0  0  0  0  0  0  0  0]\n",
      " [ 0  0  0  0  0  0  0  0  0  0  0  0  0  0  0  0]\n",
      " [ 0  0  0  0  0  0  0  0  0  0  0  0  0  0  0  0]\n",
      " [ 0  0  0  0  0  0  0  0  0  0  0  0  0  0  0  0]]\n",
      "move layer 0\n",
      "[[ 0  0  0  0  0  0  0  0  0  0  0  0  0  0  0  0]\n",
      " [ 0  0  0  0  0  0  0  0  0  0  0  0  0  0  0  0]\n",
      " [ 0  0  0  0  0  0  0  0  0  0  0  0  0  0  0  0]\n",
      " [ 0  0  0  0  0  0  0  0  0  0  0  0  0  0  0  0]\n",
      " [ 0  0  0  0  0  0  0  0  0  0  0  0  0  0  0  0]\n",
      " [ 0  0  0  0  0  0  0  0  0  0  0  0  0  0  0  0]\n",
      " [ 0  0  0  0  0  0  0  0  0  0  0  0  0  0  0  0]\n",
      " [ 0  0  0  0  0  0  0  0  0  0  0  0  0  0  0  0]\n",
      " [ 0  0  0  0  2 18  9  7  1  4  5  0  0  0  0  0]\n",
      " [ 0  0  0  0  0  0  0  0  0  0  0  0  0  0  0  0]\n",
      " [ 0  0  0  0  0  0  0  0  0  0  0  0  0  0  0  0]\n",
      " [ 0  0  0  0  0  0  0  0  0  0  0  0  0  0  0  0]\n",
      " [ 0  0  0  0  0  0  0  0  0  0  0  0  0  0  0  0]\n",
      " [ 0  0  0  0  0  0  0  0  0  0  0  0  0  0  0  0]\n",
      " [ 0  0  0  0  0  0  0  0  0  0  0  0  0  0  0  0]\n",
      " [ 0  0  0  0  0  0  0  0  0  0  0  0  0  0  0  0]]\n",
      "score layer 0\n",
      "[[ 0  0  0  0  0  0  0  0  0  0  0  0  0  0  0  0]\n",
      " [ 0 24  0  0  4  0  0  0 24  0  0  0  0  4  0 24]\n",
      " [ 0  0 16  0  0  0  6  0  0  0  6  0  0  0 16  0]\n",
      " [ 0  0  0 16  0  0  0  4  0  4  0  0  0 16  0  0]\n",
      " [ 0  4  0  0 16  0  0  0  4  0  0  0 16  0  0  4]\n",
      " [ 0  0  0  0  0 16  0  0  0  0  0 16  0  0  0  0]\n",
      " [ 0  0  6  0  0  0  6  0  0  0  6  0  0  0  6  0]\n",
      " [ 0  0  0  4  0  0  0  4  0  4  0  0  0  4  0  0]\n",
      " [ 0 24  0  0  4  0  0  0 16  0  0  0  4  0  0 24]\n",
      " [ 0  0  0  4  0  0  0  4  0  4  0  0  0  4  0  0]\n",
      " [ 0  0  6  0  0  0  6  0  0  0  6  0  0  0  6  0]\n",
      " [ 0  0  0  0  0 16  0  0  0  0  0 16  0  0  0  0]\n",
      " [ 0  4  0  0 16  0  0  0  4  0  0  0 16  0  0  4]\n",
      " [ 0  0  0 16  0  0  0  4  0  4  0  0  0 16  0  0]\n",
      " [ 0  0 16  0  0  0  6  0  0  0  6  0  0  0 16  0]\n",
      " [ 0 24  0  0  4  0  0  0 24  0  0  0  0  4  0 24]]\n"
     ]
    },
    {
     "data": {
      "image/png": "[encoded data removed]",
      "text/plain": [
       "<PIL.Image.Image image mode=RGB size=256x256 at 0x2C71E0576A0>"
      ]
     },
     "metadata": {},
     "output_type": "display_data"
    },
    {
     "name": "stdout",
     "output_type": "stream",
     "text": [
      "Move: H3, Vertical, tiles: ABRIDGe, score: 76.0\n",
      "Move 1\n",
      "Move: H3, Vertical, tiles: ABRIDGe, score: 76.0\n",
      "base layer 1\n",
      "[[ 1  2  4  7  9 18  0  0  0  0  0  0  0  0  0  0]\n",
      " [ 0  0  5  0  0  0  0  0  0  0  0  0  0  0  0  0]\n",
      " [ 0  0  0  0  0  0  0  0  0  0  0  0  0  0  0  0]\n",
      " [ 0  0  0  0  0  0  0  0  0  0  0  0  0  0  0  0]\n",
      " [ 0  0  0  0  0  0  0  0  0  0  0  0  0  0  0  0]\n",
      " [ 0  0  0  0  0  0  0  0  0  0  0  0  0  0  0  0]\n",
      " [ 0  0  0  0  0  0  0  0  0  0  0  0  0  0  0  0]\n",
      " [ 0  0  0  0  0  0  0  0  0  0  0  0  0  0  0  0]\n",
      " [ 0  0  0  0  0  0  0  0  0  0  0  0  0  0  0  0]\n",
      " [ 0  0  0  0  0  0  0  0  0  0  0  0  0  0  0  0]\n",
      " [ 0  0  0  0  0  0  0  0  0  0  0  0  0  0  0  0]\n",
      " [ 0  0  0  0  0  0  0  0  0  0  0  0  0  0  0  0]\n",
      " [ 0  0  0  0  0  0  0  0  0  0  0  0  0  0  0  0]\n",
      " [ 0  0  0  0  0  0  0  0  0  0  0  0  0  0  0  0]\n",
      " [ 0  0  0  0  0  0  0  0  0  0  0  0  0  0  0  0]\n",
      " [ 0  0  0  0  0  0  0  0  0  0  0  0  0  0  0  0]]\n",
      "move layer 1\n",
      "[[ 0  0  0  0  0  0  0  0  0  0  0  0  0  0  0  0]\n",
      " [ 0  0  0  0  0  0  0  0  0  0  0  0  0  0  0  0]\n",
      " [ 0  0  0  0  0  0  0  0  0  0  0  0  0  0  0  0]\n",
      " [ 0  0  0  0  0  0  0  0  1  0  0  0  0  0  0  0]\n",
      " [ 0  0  0  0  0  0  0  0  2  0  0  0  0  0  0  0]\n",
      " [ 0  0  0  0  0  0  0  0 18  0  0  0  0  0  0  0]\n",
      " [ 0  0  0  0  0  0  0  0  9  0  0  0  0  0  0  0]\n",
      " [ 0  0  0  0  0  0  0  0  4  0  0  0  0  0  0  0]\n",
      " [ 0  0  0  0  0  0  0  0  7  0  0  0  0  0  0  0]\n",
      " [ 0  0  0  0  0  0  0  0  5  0  0  0  0  0  0  0]\n",
      " [ 0  0  0  0  0  0  0  0  0  0  0  0  0  0  0  0]\n",
      " [ 0  0  0  0  0  0  0  0  0  0  0  0  0  0  0  0]\n",
      " [ 0  0  0  0  0  0  0  0  0  0  0  0  0  0  0  0]\n",
      " [ 0  0  0  0  0  0  0  0  0  0  0  0  0  0  0  0]\n",
      " [ 0  0  0  0  0  0  0  0  0  0  0  0  0  0  0  0]\n",
      " [ 0  0  0  0  0  0  0  0  0  0  0  0  0  0  0  0]]\n",
      "score layer 1\n",
      "[[ 0  0  0  0  0  0  0  0  0  0  0  0  0  0  0  0]\n",
      " [ 0 24  0  0  4  0  0  0 24  0  0  0  0  4  0 24]\n",
      " [ 0  0 16  0  0  0  6  0  0  0  6  0  0  0 16  0]\n",
      " [ 0  0  0 16  0  0  0  4  0  4  0  0  0 16  0  0]\n",
      " [ 0  4  0  0 16  0  0  0  4  0  0  0 16  0  0  4]\n",
      " [ 0  0  0  0  0 16  0  0  0  0  0 16  0  0  0  0]\n",
      " [ 0  0  6  0  0  0  6  0  0  0  6  0  0  0  6  0]\n",
      " [ 0  0  0  4  0  0  0  4  0  4  0  0  0  4  0  0]\n",
      " [ 0 24  0  0  4  0  0  0 16  0  0  0  4  0  0 24]\n",
      " [ 0  0  0  4  0  0  0  4  0  4  0  0  0  4  0  0]\n",
      " [ 0  0  6  0  0  0  6  0  0  0  6  0  0  0  6  0]\n",
      " [ 0  0  0  0  0 16  0  0  0  0  0 16  0  0  0  0]\n",
      " [ 0  4  0  0 16  0  0  0  4  0  0  0 16  0  0  4]\n",
      " [ 0  0  0 16  0  0  0  4  0  4  0  0  0 16  0  0]\n",
      " [ 0  0 16  0  0  0  6  0  0  0  6  0  0  0 16  0]\n",
      " [ 0 24  0  0  4  0  0  0 24  0  0  0  0  4  0 24]]\n"
     ]
    },
    {
     "data": {
      "image/png": "[encoded data removed]",
      "text/plain": [
       "<PIL.Image.Image image mode=RGB size=256x256 at 0x2C71E0576A0>"
      ]
     },
     "metadata": {},
     "output_type": "display_data"
    },
    {
     "name": "stdout",
     "output_type": "stream",
     "text": [
      "Move: H8, Vertical, tiles: DRAB, score: 14.0\n",
      "Move 2\n",
      "Move: H8, Vertical, tiles: DRAB, score: 14.0\n",
      "base layer 2\n",
      "[[ 1  2  4  7  9 18  0  0  0  0  0  0  0  0  0  0]\n",
      " [ 0  0  5  0  0  0  0  0  0  0  0  0  0  0  0  0]\n",
      " [ 0  0  0  0  0  0  0  0  0  0  0  0  0  0  0  0]\n",
      " [ 0  0  0  0  0  0  0  0  0  0  0  0  0  0  0  0]\n",
      " [ 0  0  0  0  0  0  0  0  0  0  0  0  0  0  0  0]\n",
      " [ 0  0  0  0  0  0  0  0  0  0  0  0  0  0  0  0]\n",
      " [ 0  0  0  0  0  0  0  0  0  0  0  0  0  0  0  0]\n",
      " [ 0  0  0  0  0  0  0  0  0  0  0  0  0  0  0  0]\n",
      " [ 0  0  0  0  0  0  0  0  0  0  0  0  0  0  0  0]\n",
      " [ 0  0  0  0  0  0  0  0  0  0  0  0  0  0  0  0]\n",
      " [ 0  0  0  0  0  0  0  0  0  0  0  0  0  0  0  0]\n",
      " [ 0  0  0  0  0  0  0  0  0  0  0  0  0  0  0  0]\n",
      " [ 0  0  0  0  0  0  0  0  0  0  0  0  0  0  0  0]\n",
      " [ 0  0  0  0  0  0  0  0  0  0  0  0  0  0  0  0]\n",
      " [ 0  0  0  0  0  0  0  0  0  0  0  0  0  0  0  0]\n",
      " [ 0  0  0  0  0  0  0  0  0  0  0  0  0  0  0  0]]\n",
      "move layer 2\n",
      "[[ 0  0  0  0  0  0  0  0  0  0  0  0  0  0  0  0]\n",
      " [ 0  0  0  0  0  0  0  0  0  0  0  0  0  0  0  0]\n",
      " [ 0  0  0  0  0  0  0  0  0  0  0  0  0  0  0  0]\n",
      " [ 0  0  0  0  0  0  0  0  0  0  0  0  0  0  0  0]\n",
      " [ 0  0  0  0  0  0  0  0  0  0  0  0  0  0  0  0]\n",
      " [ 0  0  0  0  0  0  0  0  0  0  0  0  0  0  0  0]\n",
      " [ 0  0  0  0  0  0  0  0  0  0  0  0  0  0  0  0]\n",
      " [ 0  0  0  0  0  0  0  0  0  0  0  0  0  0  0  0]\n",
      " [ 0  0  0  0  0  0  0  0  4  0  0  0  0  0  0  0]\n",
      " [ 0  0  0  0  0  0  0  0 18  0  0  0  0  0  0  0]\n",
      " [ 0  0  0  0  0  0  0  0  1  0  0  0  0  0  0  0]\n",
      " [ 0  0  0  0  0  0  0  0  2  0  0  0  0  0  0  0]\n",
      " [ 0  0  0  0  0  0  0  0  0  0  0  0  0  0  0  0]\n",
      " [ 0  0  0  0  0  0  0  0  0  0  0  0  0  0  0  0]\n",
      " [ 0  0  0  0  0  0  0  0  0  0  0  0  0  0  0  0]\n",
      " [ 0  0  0  0  0  0  0  0  0  0  0  0  0  0  0  0]]\n",
      "score layer 2\n",
      "[[ 0  0  0  0  0  0  0  0  0  0  0  0  0  0  0  0]\n",
      " [ 0 24  0  0  4  0  0  0 24  0  0  0  0  4  0 24]\n",
      " [ 0  0 16  0  0  0  6  0  0  0  6  0  0  0 16  0]\n",
      " [ 0  0  0 16  0  0  0  4  0  4  0  0  0 16  0  0]\n",
      " [ 0  4  0  0 16  0  0  0  4  0  0  0 16  0  0  4]\n",
      " [ 0  0  0  0  0 16  0  0  0  0  0 16  0  0  0  0]\n",
      " [ 0  0  6  0  0  0  6  0  0  0  6  0  0  0  6  0]\n",
      " [ 0  0  0  4  0  0  0  4  0  4  0  0  0  4  0  0]\n",
      " [ 0 24  0  0  4  0  0  0 16  0  0  0  4  0  0 24]\n",
      " [ 0  0  0  4  0  0  0  4  0  4  0  0  0  4  0  0]\n",
      " [ 0  0  6  0  0  0  6  0  0  0  6  0  0  0  6  0]\n",
      " [ 0  0  0  0  0 16  0  0  0  0  0 16  0  0  0  0]\n",
      " [ 0  4  0  0 16  0  0  0  4  0  0  0 16  0  0  4]\n",
      " [ 0  0  0 16  0  0  0  4  0  4  0  0  0 16  0  0]\n",
      " [ 0  0 16  0  0  0  6  0  0  0  6  0  0  0 16  0]\n",
      " [ 0 24  0  0  4  0  0  0 24  0  0  0  0  4  0 24]]\n"
     ]
    },
    {
     "data": {
      "image/png": "[encoded data removed]",
      "text/plain": [
       "<PIL.Image.Image image mode=RGB size=256x256 at 0x2C71E0576A0>"
      ]
     },
     "metadata": {},
     "output_type": "display_data"
    },
    {
     "name": "stdout",
     "output_type": "stream",
     "text": [
      "Move: Exchange ADGI\n",
      "Move 3\n",
      "Move: Exchange ADGI\n",
      "base layer 3\n",
      "[[ 1  2  4  7  9 18  0  0  0  0  0  0  0  0  0  0]\n",
      " [ 0  0  5  0  0  0  0  0  0  0  0  0  0  0  0  0]\n",
      " [ 0  0  0  0  0  0  0  0  0  0  0  0  0  0  0  0]\n",
      " [ 0  0  0  0  0  0  0  0  0  0  0  0  0  0  0  0]\n",
      " [ 0  0  0  0  0  0  0  0  0  0  0  0  0  0  0  0]\n",
      " [ 0  0  0  0  0  0  0  0  0  0  0  0  0  0  0  0]\n",
      " [ 0  0  0  0  0  0  0  0  0  0  0  0  0  0  0  0]\n",
      " [ 0  0  0  0  0  0  0  0  0  0  0  0  0  0  0  0]\n",
      " [ 0  0  0  0  0  0  0  0  0  0  0  0  0  0  0  0]\n",
      " [ 0  0  0  0  0  0  0  0  0  0  0  0  0  0  0  0]\n",
      " [ 0  0  0  0  0  0  0  0  0  0  0  0  0  0  0  0]\n",
      " [ 0  0  0  0  0  0  0  0  0  0  0  0  0  0  0  0]\n",
      " [ 0  0  0  0  0  0  0  0  0  0  0  0  0  0  0  0]\n",
      " [ 0  0  0  0  0  0  0  0  0  0  0  0  0  0  0  0]\n",
      " [ 0  0  0  0  0  0  0  0  0  0  0  0  0  0  0  0]\n",
      " [ 0  0  0  0  0  0  0  0  0  0  0  0  0  0  0  0]]\n",
      "move layer 3\n",
      "[[1 4 7 9 0 0 0 0 0 0 0 0 0 0 0 0]\n",
      " [0 0 0 0 0 0 0 0 0 0 0 0 0 0 0 0]\n",
      " [0 0 0 0 0 0 0 0 0 0 0 0 0 0 0 0]\n",
      " [0 0 0 0 0 0 0 0 0 0 0 0 0 0 0 0]\n",
      " [0 0 0 0 0 0 0 0 0 0 0 0 0 0 0 0]\n",
      " [0 0 0 0 0 0 0 0 0 0 0 0 0 0 0 0]\n",
      " [0 0 0 0 0 0 0 0 0 0 0 0 0 0 0 0]\n",
      " [0 0 0 0 0 0 0 0 0 0 0 0 0 0 0 0]\n",
      " [0 0 0 0 0 0 0 0 0 0 0 0 0 0 0 0]\n",
      " [0 0 0 0 0 0 0 0 0 0 0 0 0 0 0 0]\n",
      " [0 0 0 0 0 0 0 0 0 0 0 0 0 0 0 0]\n",
      " [0 0 0 0 0 0 0 0 0 0 0 0 0 0 0 0]\n",
      " [0 0 0 0 0 0 0 0 0 0 0 0 0 0 0 0]\n",
      " [0 0 0 0 0 0 0 0 0 0 0 0 0 0 0 0]\n",
      " [0 0 0 0 0 0 0 0 0 0 0 0 0 0 0 0]\n",
      " [0 0 0 0 0 0 0 0 0 0 0 0 0 0 0 0]]\n",
      "score layer 3\n",
      "[[ 0  0  0  0  0  0  0  0  0  0  0  0  0  0  0  0]\n",
      " [ 0 24  0  0  4  0  0  0 24  0  0  0  0  4  0 24]\n",
      " [ 0  0 16  0  0  0  6  0  0  0  6  0  0  0 16  0]\n",
      " [ 0  0  0 16  0  0  0  4  0  4  0  0  0 16  0  0]\n",
      " [ 0  4  0  0 16  0  0  0  4  0  0  0 16  0  0  4]\n",
      " [ 0  0  0  0  0 16  0  0  0  0  0 16  0  0  0  0]\n",
      " [ 0  0  6  0  0  0  6  0  0  0  6  0  0  0  6  0]\n",
      " [ 0  0  0  4  0  0  0  4  0  4  0  0  0  4  0  0]\n",
      " [ 0 24  0  0  4  0  0  0 16  0  0  0  4  0  0 24]\n",
      " [ 0  0  0  4  0  0  0  4  0  4  0  0  0  4  0  0]\n",
      " [ 0  0  6  0  0  0  6  0  0  0  6  0  0  0  6  0]\n",
      " [ 0  0  0  0  0 16  0  0  0  0  0 16  0  0  0  0]\n",
      " [ 0  4  0  0 16  0  0  0  4  0  0  0 16  0  0  4]\n",
      " [ 0  0  0 16  0  0  0  4  0  4  0  0  0 16  0  0]\n",
      " [ 0  0 16  0  0  0  6  0  0  0  6  0  0  0 16  0]\n",
      " [ 0 24  0  0  4  0  0  0 24  0  0  0  0  4  0 24]]\n"
     ]
    },
    {
     "data": {
      "image/png": "[encoded data removed]",
      "text/plain": [
       "<PIL.Image.Image image mode=RGB size=256x256 at 0x2C71E0576A0>"
      ]
     },
     "metadata": {},
     "output_type": "display_data"
    },
    {
     "name": "stdout",
     "output_type": "stream",
     "text": [
      "Move: H8, Vertical, tiles: IRe, score: 4.0\n",
      "Move 4\n",
      "Move: H8, Vertical, tiles: IRe, score: 4.0\n",
      "base layer 4\n",
      "[[ 1  2  4  7  9 18  0  0  0  0  0  0  0  0  0  0]\n",
      " [ 0  0  5  0  0  0  0  0  0  0  0  0  0  0  0  0]\n",
      " [ 0  0  0  0  0  0  0  0  0  0  0  0  0  0  0  0]\n",
      " [ 0  0  0  0  0  0  0  0  0  0  0  0  0  0  0  0]\n",
      " [ 0  0  0  0  0  0  0  0  0  0  0  0  0  0  0  0]\n",
      " [ 0  0  0  0  0  0  0  0  0  0  0  0  0  0  0  0]\n",
      " [ 0  0  0  0  0  0  0  0  0  0  0  0  0  0  0  0]\n",
      " [ 0  0  0  0  0  0  0  0  0  0  0  0  0  0  0  0]\n",
      " [ 0  0  0  0  0  0  0  0  0  0  0  0  0  0  0  0]\n",
      " [ 0  0  0  0  0  0  0  0  0  0  0  0  0  0  0  0]\n",
      " [ 0  0  0  0  0  0  0  0  0  0  0  0  0  0  0  0]\n",
      " [ 0  0  0  0  0  0  0  0  0  0  0  0  0  0  0  0]\n",
      " [ 0  0  0  0  0  0  0  0  0  0  0  0  0  0  0  0]\n",
      " [ 0  0  0  0  0  0  0  0  0  0  0  0  0  0  0  0]\n",
      " [ 0  0  0  0  0  0  0  0  0  0  0  0  0  0  0  0]\n",
      " [ 0  0  0  0  0  0  0  0  0  0  0  0  0  0  0  0]]\n",
      "move layer 4\n",
      "[[ 0  0  0  0  0  0  0  0  0  0  0  0  0  0  0  0]\n",
      " [ 0  0  0  0  0  0  0  0  0  0  0  0  0  0  0  0]\n",
      " [ 0  0  0  0  0  0  0  0  0  0  0  0  0  0  0  0]\n",
      " [ 0  0  0  0  0  0  0  0  0  0  0  0  0  0  0  0]\n",
      " [ 0  0  0  0  0  0  0  0  0  0  0  0  0  0  0  0]\n",
      " [ 0  0  0  0  0  0  0  0  0  0  0  0  0  0  0  0]\n",
      " [ 0  0  0  0  0  0  0  0  0  0  0  0  0  0  0  0]\n",
      " [ 0  0  0  0  0  0  0  0  0  0  0  0  0  0  0  0]\n",
      " [ 0  0  0  0  0  0  0  0  9  0  0  0  0  0  0  0]\n",
      " [ 0  0  0  0  0  0  0  0 18  0  0  0  0  0  0  0]\n",
      " [ 0  0  0  0  0  0  0  0  5  0  0  0  0  0  0  0]\n",
      " [ 0  0  0  0  0  0  0  0  0  0  0  0  0  0  0  0]\n",
      " [ 0  0  0  0  0  0  0  0  0  0  0  0  0  0  0  0]\n",
      " [ 0  0  0  0  0  0  0  0  0  0  0  0  0  0  0  0]\n",
      " [ 0  0  0  0  0  0  0  0  0  0  0  0  0  0  0  0]\n",
      " [ 0  0  0  0  0  0  0  0  0  0  0  0  0  0  0  0]]\n",
      "score layer 4\n",
      "[[ 0  0  0  0  0  0  0  0  0  0  0  0  0  0  0  0]\n",
      " [ 0 24  0  0  4  0  0  0 24  0  0  0  0  4  0 24]\n",
      " [ 0  0 16  0  0  0  6  0  0  0  6  0  0  0 16  0]\n",
      " [ 0  0  0 16  0  0  0  4  0  4  0  0  0 16  0  0]\n",
      " [ 0  4  0  0 16  0  0  0  4  0  0  0 16  0  0  4]\n",
      " [ 0  0  0  0  0 16  0  0  0  0  0 16  0  0  0  0]\n",
      " [ 0  0  6  0  0  0  6  0  0  0  6  0  0  0  6  0]\n",
      " [ 0  0  0  4  0  0  0  4  0  4  0  0  0  4  0  0]\n",
      " [ 0 24  0  0  4  0  0  0 16  0  0  0  4  0  0 24]\n",
      " [ 0  0  0  4  0  0  0  4  0  4  0  0  0  4  0  0]\n",
      " [ 0  0  6  0  0  0  6  0  0  0  6  0  0  0  6  0]\n",
      " [ 0  0  0  0  0 16  0  0  0  0  0 16  0  0  0  0]\n",
      " [ 0  4  0  0 16  0  0  0  4  0  0  0 16  0  0  4]\n",
      " [ 0  0  0 16  0  0  0  4  0  4  0  0  0 16  0  0]\n",
      " [ 0  0 16  0  0  0  6  0  0  0  6  0  0  0 16  0]\n",
      " [ 0 24  0  0  4  0  0  0 24  0  0  0  0  4  0 24]]\n"
     ]
    },
    {
     "data": {
      "image/png": "[encoded data removed]",
      "text/plain": [
       "<PIL.Image.Image image mode=RGB size=256x256 at 0x2C71E0576A0>"
      ]
     },
     "metadata": {},
     "output_type": "display_data"
    },
    {
     "name": "stdout",
     "output_type": "stream",
     "text": [
      "Move: E8, Horizontal, tiles: GRIDe, score: 12.0\n",
      "Move 5\n",
      "Move: E8, Horizontal, tiles: GRIDe, score: 12.0\n",
      "base layer 5\n",
      "[[ 1  2  4  7  9 18  0  0  0  0  0  0  0  0  0  0]\n",
      " [ 0  0  5  0  0  0  0  0  0  0  0  0  0  0  0  0]\n",
      " [ 0  0  0  0  0  0  0  0  0  0  0  0  0  0  0  0]\n",
      " [ 0  0  0  0  0  0  0  0  0  0  0  0  0  0  0  0]\n",
      " [ 0  0  0  0  0  0  0  0  0  0  0  0  0  0  0  0]\n",
      " [ 0  0  0  0  0  0  0  0  0  0  0  0  0  0  0  0]\n",
      " [ 0  0  0  0  0  0  0  0  0  0  0  0  0  0  0  0]\n",
      " [ 0  0  0  0  0  0  0  0  0  0  0  0  0  0  0  0]\n",
      " [ 0  0  0  0  0  0  0  0  0  0  0  0  0  0  0  0]\n",
      " [ 0  0  0  0  0  0  0  0  0  0  0  0  0  0  0  0]\n",
      " [ 0  0  0  0  0  0  0  0  0  0  0  0  0  0  0  0]\n",
      " [ 0  0  0  0  0  0  0  0  0  0  0  0  0  0  0  0]\n",
      " [ 0  0  0  0  0  0  0  0  0  0  0  0  0  0  0  0]\n",
      " [ 0  0  0  0  0  0  0  0  0  0  0  0  0  0  0  0]\n",
      " [ 0  0  0  0  0  0  0  0  0  0  0  0  0  0  0  0]\n",
      " [ 0  0  0  0  0  0  0  0  0  0  0  0  0  0  0  0]]\n",
      "move layer 5\n",
      "[[ 0  0  0  0  0  0  0  0  0  0  0  0  0  0  0  0]\n",
      " [ 0  0  0  0  0  0  0  0  0  0  0  0  0  0  0  0]\n",
      " [ 0  0  0  0  0  0  0  0  0  0  0  0  0  0  0  0]\n",
      " [ 0  0  0  0  0  0  0  0  0  0  0  0  0  0  0  0]\n",
      " [ 0  0  0  0  0  0  0  0  0  0  0  0  0  0  0  0]\n",
      " [ 0  0  0  0  0  0  0  0  0  0  0  0  0  0  0  0]\n",
      " [ 0  0  0  0  0  0  0  0  0  0  0  0  0  0  0  0]\n",
      " [ 0  0  0  0  0  0  0  0  0  0  0  0  0  0  0  0]\n",
      " [ 0  0  0  0  0  7 18  9  4  5  0  0  0  0  0  0]\n",
      " [ 0  0  0  0  0  0  0  0  0  0  0  0  0  0  0  0]\n",
      " [ 0  0  0  0  0  0  0  0  0  0  0  0  0  0  0  0]\n",
      " [ 0  0  0  0  0  0  0  0  0  0  0  0  0  0  0  0]\n",
      " [ 0  0  0  0  0  0  0  0  0  0  0  0  0  0  0  0]\n",
      " [ 0  0  0  0  0  0  0  0  0  0  0  0  0  0  0  0]\n",
      " [ 0  0  0  0  0  0  0  0  0  0  0  0  0  0  0  0]\n",
      " [ 0  0  0  0  0  0  0  0  0  0  0  0  0  0  0  0]]\n",
      "score layer 5\n",
      "[[ 0  0  0  0  0  0  0  0  0  0  0  0  0  0  0  0]\n",
      " [ 0 24  0  0  4  0  0  0 24  0  0  0  0  4  0 24]\n",
      " [ 0  0 16  0  0  0  6  0  0  0  6  0  0  0 16  0]\n",
      " [ 0  0  0 16  0  0  0  4  0  4  0  0  0 16  0  0]\n",
      " [ 0  4  0  0 16  0  0  0  4  0  0  0 16  0  0  4]\n",
      " [ 0  0  0  0  0 16  0  0  0  0  0 16  0  0  0  0]\n",
      " [ 0  0  6  0  0  0  6  0  0  0  6  0  0  0  6  0]\n",
      " [ 0  0  0  4  0  0  0  4  0  4  0  0  0  4  0  0]\n",
      " [ 0 24  0  0  4  0  0  0 16  0  0  0  4  0  0 24]\n",
      " [ 0  0  0  4  0  0  0  4  0  4  0  0  0  4  0  0]\n",
      " [ 0  0  6  0  0  0  6  0  0  0  6  0  0  0  6  0]\n",
      " [ 0  0  0  0  0 16  0  0  0  0  0 16  0  0  0  0]\n",
      " [ 0  4  0  0 16  0  0  0  4  0  0  0 16  0  0  4]\n",
      " [ 0  0  0 16  0  0  0  4  0  4  0  0  0 16  0  0]\n",
      " [ 0  0 16  0  0  0  6  0  0  0  6  0  0  0 16  0]\n",
      " [ 0 24  0  0  4  0  0  0 24  0  0  0  0  4  0 24]]\n"
     ]
    }
   ],
   "source": [
    "for i in range(len(wrong_moves)):\n",
    "    base_layer = copy.deepcopy(game.board.existing_letters[:-1,:-1]) # slice off last sentinel\n",
    "    # set first sentinel squares to zero instead of sentinel value:\n",
    "    base_layer[0, :] = 0\n",
    "    base_layer[:,0] = 0\n",
    "    # put rack tiles we're playing from in first row:\n",
    "    base_layer[0][0:len(cached_rack)] = [ord(t)-64 for t in cached_rack.rack_tiles]\n",
    "\n",
    "    move_layer = np.zeros([16,16], dtype='int')\n",
    "\n",
    "    # set first sentinel squares to zero instead of sentinel value:\n",
    "    word_mult = np.where(game.board.word_multipliers>1, game.board.word_multipliers * 8, 0)\n",
    "    letter_mult = np.where(game.board.letter_multipliers>1, game.board.letter_multipliers*2, 0)\n",
    "    score_layer = np.where(game.board.existing_letter_scores > 0, game.board.existing_letter_scores*2, word_mult+letter_mult)\n",
    "    score_layer = score_layer[:-1,:-1] # slice off last sentinel\n",
    "    # set first sentinel squares to zero instead of sentinel value:\n",
    "    score_layer[0, :] = 0\n",
    "    score_layer[:,0] = 0\n",
    "    \n",
    "    move = wrong_moves[i]\n",
    "    move_tiles = move.tiles if move.tiles else []\n",
    "    \n",
    "    if move.direction == Direction.NOT_APPLICABLE: # pass or exchange\n",
    "        # put rack tiles we're exchanging in first row:\n",
    "        move_layer[0][0:len(move_tiles)] = [ord(t)-64 for t in move.tiles]\n",
    "\n",
    "    else: # regular move\n",
    "        row = move_layer[move.row.rank, :] if move.direction == Direction.HORIZONTAL else move_layer[:, move.row.rank]\n",
    "        # put rack tiles we're playing on board:\n",
    "        row[move.played_squares] = [ord(t)-64 for t in move.tiles]\n",
    "        # change score of square containing blank to zero:\n",
    "        score_layer = np.where(move_layer <= 26, score_layer, 0)\n",
    "        # change blanks to normal letter ordinal (by subtracting 32)\n",
    "        move_layer = np.where(move_layer <= 26, move_layer, move_layer - 32)\n",
    "\n",
    "    # flatten arrays and convert int8 to int so values aren't clipped at 128:\n",
    "    rgb = zip((base_layer.astype(int)).flatten()*9, (score_layer.astype(int)).flatten()*9, (move_layer.astype(int)).flatten()*9)\n",
    "    # put in a list:\n",
    "    rgb = [el for el in rgb]\n",
    "\n",
    "    # convert to an image, and resize so things like \n",
    "    # max pooling layers won't lose all the information in the image:\n",
    "    img = Image.new('RGB', (16, 16))\n",
    "    img.putdata(rgb)\n",
    "    img = img.resize((256,256),Image.NEAREST)\n",
    "    display(img)\n",
    "    img.save('alexis_game'+str(i)+'.png')\n",
    "    \n",
    "    print(move)\n",
    "    print(\"Move \"+str(i))\n",
    "    print(wrong_moves[i])\n",
    "    print(\"base layer \"+str(i))\n",
    "    print(base_layer)\n",
    "    print(\"move layer \"+str(i))\n",
    "    print(move_layer)\n",
    "    print(\"score layer \"+str(i))\n",
    "    print(score_layer)\n",
    "    "
   ]
  },
  {
   "cell_type": "code",
   "execution_count": 208,
   "metadata": {
    "scrolled": true
   },
   "outputs": [
    {
     "data": {
      "text/plain": [
       "dtype('int8')"
      ]
     },
     "execution_count": 208,
     "metadata": {},
     "output_type": "execute_result"
    }
   ],
   "source": [
    "x = np.stack((base_layer, score_layer, move_layer), axis=-1)\n",
    "x.flatten()\n",
    "x.dtype"
   ]
  },
  {
   "cell_type": "code",
   "execution_count": 272,
   "metadata": {},
   "outputs": [],
   "source": [
    "score_layer[8,3] = 99\n",
    "score_layer[1:16, 1:16] = score_layer[1:16, 1:16].T"
   ]
  },
  {
   "cell_type": "code",
   "execution_count": 273,
   "metadata": {},
   "outputs": [
    {
     "data": {
      "text/plain": [
       "array([[ 0,  0,  4,  0,  0,  0,  0,  0,  0,  0,  0,  0,  0,  0,  0,  0],\n",
       "       [ 0, 24,  0,  0,  4,  0,  0,  0, 24,  0,  0,  0,  4,  0,  0, 24],\n",
       "       [ 0,  0, 16,  0,  0,  0,  6,  0,  0,  0,  6,  0,  0,  0, 16,  0],\n",
       "       [ 0,  0,  0, 16,  0,  0,  0,  4, 99,  4,  0,  0,  0, 16,  0,  0],\n",
       "       [ 0,  4,  0,  0, 16,  0,  0,  0,  4,  0,  0,  0, 16,  0,  0,  4],\n",
       "       [ 0,  0,  0,  0,  0, 16,  0,  0,  0,  0,  0, 16,  0,  0,  0,  0],\n",
       "       [ 0,  0,  6,  0,  0,  0,  6,  0,  0,  0,  6,  0,  0,  0,  6,  0],\n",
       "       [ 0,  0,  0,  4,  0,  0,  0,  4,  0,  4,  0,  0,  0,  4,  0,  0],\n",
       "       [ 0, 24,  0,  0,  4,  0,  0,  0, 16,  0,  0,  0,  4,  0,  0, 24],\n",
       "       [ 0,  0,  0,  4,  0,  0,  0,  4,  0,  4,  0,  0,  0,  4,  0,  0],\n",
       "       [ 0,  0,  6,  0,  0,  0,  6,  0,  0,  0,  6,  0,  0,  0,  6,  0],\n",
       "       [ 0,  0,  0,  0,  0, 16,  0,  0,  0,  0,  0, 16,  0,  0,  0,  0],\n",
       "       [ 0,  0,  0,  0, 16,  0,  0,  0,  4,  0,  0,  0, 16,  0,  0,  0],\n",
       "       [ 0,  4,  0, 16,  0,  0,  0,  4,  0,  4,  0,  0,  0, 16,  0,  4],\n",
       "       [ 0,  0, 16,  0,  0,  0,  6,  0,  0,  0,  6,  0,  0,  0, 16,  0],\n",
       "       [ 0, 24,  0,  0,  4,  0,  0,  0, 24,  0,  0,  0,  4,  0,  0, 24]],\n",
       "      dtype=int8)"
      ]
     },
     "execution_count": 273,
     "metadata": {},
     "output_type": "execute_result"
    }
   ],
   "source": [
    "score_layer"
   ]
  },
  {
   "cell_type": "code",
   "execution_count": 253,
   "metadata": {},
   "outputs": [
    {
     "data": {
      "text/plain": [
       "array([ 4,  5,  6,  7,  8,  9, 10], dtype=int64)"
      ]
     },
     "execution_count": 253,
     "metadata": {},
     "output_type": "execute_result"
    }
   ],
   "source": [
    "quackle_move.played_squares"
   ]
  },
  {
   "cell_type": "code",
   "execution_count": 255,
   "metadata": {},
   "outputs": [
    {
     "ename": "NameError",
     "evalue": "name 'fred' is not defined",
     "traceback": [
      "\u001b[1;31m---------------------------------------------------------------------------\u001b[0m",
      "\u001b[1;31mNameError\u001b[0m                                 Traceback (most recent call last)",
      "\u001b[1;32m<ipython-input-255-08eb1c767b56>\u001b[0m in \u001b[0;36m<module>\u001b[1;34m()\u001b[0m\n\u001b[1;32m----> 1\u001b[1;33m \u001b[0mfred\u001b[0m\u001b[1;33m.\u001b[0m\u001b[0mappend\u001b[0m\u001b[1;33m(\u001b[0m\u001b[1;34m'5'\u001b[0m\u001b[1;33m)\u001b[0m\u001b[1;33m\u001b[0m\u001b[0m\n\u001b[0m",
      "\u001b[1;31mNameError\u001b[0m: name 'fred' is not defined"
     ],
     "output_type": "error"
    }
   ],
   "source": [
    "fred.append('5')"
   ]
  },
  {
   "cell_type": "code",
   "execution_count": 197,
   "metadata": {},
   "outputs": [
    {
     "ename": "SyntaxError",
     "evalue": "invalid syntax (<ipython-input-197-f62ec070f83b>, line 1)",
     "traceback": [
      "\u001b[1;36m  File \u001b[1;32m\"<ipython-input-197-f62ec070f83b>\"\u001b[1;36m, line \u001b[1;32m1\u001b[0m\n\u001b[1;33m    (base_layer*9).flatten(), (score_layer*9).flatten(), (move_layer*9).\u001b[0m\n\u001b[1;37m                                                                        ^\u001b[0m\n\u001b[1;31mSyntaxError\u001b[0m\u001b[1;31m:\u001b[0m invalid syntax\n"
     ],
     "output_type": "error"
    }
   ],
   "source": [
    "(base_layer*9).flatten(), (score_layer*9).flatten(), (move_layer*9)."
   ]
  },
  {
   "cell_type": "code",
   "execution_count": 167,
   "metadata": {},
   "outputs": [
    {
     "data": {
      "text/plain": [
       "[(9, 0, 0),\n",
       " (18, 0, 0),\n",
       " (36, 0, 0),\n",
       " (63, 0, 0),\n",
       " (81, 0, 0),\n",
       " (-94, 0, 0),\n",
       " (0, 0, 0),\n",
       " (0, 0, 0),\n",
       " (0, 0, 0),\n",
       " (0, 0, 0),\n",
       " (0, 0, 0),\n",
       " (0, 0, 0),\n",
       " (0, 0, 0),\n",
       " (0, 0, 0),\n",
       " (0, 0, 0),\n",
       " (0, 0, 0),\n",
       " (0, 0, 0),\n",
       " (0, -40, 0),\n",
       " (45, 0, 0),\n",
       " (0, 0, 0),\n",
       " (0, 36, 0),\n",
       " (0, 0, 0),\n",
       " (0, 0, 0),\n",
       " (0, 0, 0),\n",
       " (0, -40, 0),\n",
       " (0, 0, 0),\n",
       " (0, 0, 0),\n",
       " (0, 0, 0),\n",
       " (0, 0, 0),\n",
       " (0, 36, 0),\n",
       " (0, 0, 0),\n",
       " (0, -40, 0),\n",
       " (0, 0, 0),\n",
       " (0, 0, 0),\n",
       " (0, -112, 0),\n",
       " (0, 0, 0),\n",
       " (0, 0, 0),\n",
       " (0, 0, 0),\n",
       " (0, 54, 0),\n",
       " (0, 0, 0),\n",
       " (0, 0, 0),\n",
       " (0, 0, 0),\n",
       " (0, 54, 0),\n",
       " (0, 0, 0),\n",
       " (0, 0, 0),\n",
       " (0, 0, 0),\n",
       " (0, -112, 0),\n",
       " (0, 0, 0),\n",
       " (0, 0, 0),\n",
       " (0, 0, 0),\n",
       " (0, 0, 0),\n",
       " (0, -112, 0),\n",
       " (0, 0, 0),\n",
       " (0, 0, 0),\n",
       " (0, 0, 0),\n",
       " (0, 36, 0),\n",
       " (0, 0, 0),\n",
       " (0, 36, 0),\n",
       " (0, 0, 0),\n",
       " (0, 0, 0),\n",
       " (0, 0, 0),\n",
       " (0, -112, 0),\n",
       " (0, 0, 0),\n",
       " (0, 0, 0),\n",
       " (0, 0, 0),\n",
       " (0, 36, 0),\n",
       " (0, 0, 0),\n",
       " (0, 0, 0),\n",
       " (0, -112, 0),\n",
       " (0, 0, 0),\n",
       " (0, 0, 0),\n",
       " (0, 0, 0),\n",
       " (0, 36, 0),\n",
       " (0, 0, 0),\n",
       " (0, 0, 0),\n",
       " (0, 0, 0),\n",
       " (0, -112, 0),\n",
       " (0, 0, 0),\n",
       " (0, 0, 0),\n",
       " (0, 36, 0),\n",
       " (0, 0, 0),\n",
       " (0, 0, 0),\n",
       " (0, 0, 0),\n",
       " (0, 0, 0),\n",
       " (0, 0, 0),\n",
       " (0, -112, 0),\n",
       " (0, 0, 0),\n",
       " (0, 0, 0),\n",
       " (0, 0, 0),\n",
       " (0, 0, 0),\n",
       " (0, 0, 0),\n",
       " (0, -112, 0),\n",
       " (0, 0, 0),\n",
       " (0, 0, 0),\n",
       " (0, 0, 0),\n",
       " (0, 0, 0),\n",
       " (0, 0, 0),\n",
       " (0, 0, 0),\n",
       " (0, 54, 0),\n",
       " (0, 0, 0),\n",
       " (0, 0, 0),\n",
       " (0, 0, 0),\n",
       " (0, 54, 0),\n",
       " (0, 0, 0),\n",
       " (0, 0, 0),\n",
       " (0, 0, 0),\n",
       " (0, 54, 0),\n",
       " (0, 0, 0),\n",
       " (0, 0, 0),\n",
       " (0, 0, 0),\n",
       " (0, 54, 0),\n",
       " (0, 0, 0),\n",
       " (0, 0, 0),\n",
       " (0, 0, 0),\n",
       " (0, 0, 0),\n",
       " (0, 36, 0),\n",
       " (0, 0, 0),\n",
       " (0, 0, 0),\n",
       " (0, 0, 0),\n",
       " (0, 36, 0),\n",
       " (0, 0, 0),\n",
       " (0, 36, 0),\n",
       " (0, 0, 0),\n",
       " (0, 0, 0),\n",
       " (0, 0, 0),\n",
       " (0, 36, 0),\n",
       " (0, 0, 0),\n",
       " (0, 0, 0),\n",
       " (0, 0, 0),\n",
       " (0, -40, 0),\n",
       " (0, 0, 0),\n",
       " (0, 0, 0),\n",
       " (0, 36, 18),\n",
       " (0, 0, -94),\n",
       " (0, 0, 81),\n",
       " (0, 0, 63),\n",
       " (0, -112, 9),\n",
       " (0, 0, 36),\n",
       " (0, 0, 45),\n",
       " (0, 0, 0),\n",
       " (0, 36, 0),\n",
       " (0, 0, 0),\n",
       " (0, 0, 0),\n",
       " (0, -40, 0),\n",
       " (0, 0, 0),\n",
       " (0, 0, 0),\n",
       " (0, 0, 0),\n",
       " (0, 36, 0),\n",
       " (0, 0, 0),\n",
       " (0, 0, 0),\n",
       " (0, 0, 0),\n",
       " (0, 36, 0),\n",
       " (0, 0, 0),\n",
       " (0, 36, 0),\n",
       " (0, 0, 0),\n",
       " (0, 0, 0),\n",
       " (0, 0, 0),\n",
       " (0, 36, 0),\n",
       " (0, 0, 0),\n",
       " (0, 0, 0),\n",
       " (0, 0, 0),\n",
       " (0, 0, 0),\n",
       " (0, 54, 0),\n",
       " (0, 0, 0),\n",
       " (0, 0, 0),\n",
       " (0, 0, 0),\n",
       " (0, 54, 0),\n",
       " (0, 0, 0),\n",
       " (0, 0, 0),\n",
       " (0, 0, 0),\n",
       " (0, 54, 0),\n",
       " (0, 0, 0),\n",
       " (0, 0, 0),\n",
       " (0, 0, 0),\n",
       " (0, 54, 0),\n",
       " (0, 0, 0),\n",
       " (0, 0, 0),\n",
       " (0, 0, 0),\n",
       " (0, 0, 0),\n",
       " (0, 0, 0),\n",
       " (0, 0, 0),\n",
       " (0, -112, 0),\n",
       " (0, 0, 0),\n",
       " (0, 0, 0),\n",
       " (0, 0, 0),\n",
       " (0, 0, 0),\n",
       " (0, 0, 0),\n",
       " (0, -112, 0),\n",
       " (0, 0, 0),\n",
       " (0, 0, 0),\n",
       " (0, 0, 0),\n",
       " (0, 0, 0),\n",
       " (0, 0, 0),\n",
       " (0, 36, 0),\n",
       " (0, 0, 0),\n",
       " (0, 0, 0),\n",
       " (0, -112, 0),\n",
       " (0, 0, 0),\n",
       " (0, 0, 0),\n",
       " (0, 0, 0),\n",
       " (0, 36, 0),\n",
       " (0, 0, 0),\n",
       " (0, 0, 0),\n",
       " (0, 0, 0),\n",
       " (0, -112, 0),\n",
       " (0, 0, 0),\n",
       " (0, 0, 0),\n",
       " (0, 36, 0),\n",
       " (0, 0, 0),\n",
       " (0, 0, 0),\n",
       " (0, 0, 0),\n",
       " (0, -112, 0),\n",
       " (0, 0, 0),\n",
       " (0, 0, 0),\n",
       " (0, 0, 0),\n",
       " (0, 36, 0),\n",
       " (0, 0, 0),\n",
       " (0, 36, 0),\n",
       " (0, 0, 0),\n",
       " (0, 0, 0),\n",
       " (0, 0, 0),\n",
       " (0, -112, 0),\n",
       " (0, 0, 0),\n",
       " (0, 0, 0),\n",
       " (0, 0, 0),\n",
       " (0, 0, 0),\n",
       " (0, -112, 0),\n",
       " (0, 0, 0),\n",
       " (0, 0, 0),\n",
       " (0, 0, 0),\n",
       " (0, 54, 0),\n",
       " (0, 0, 0),\n",
       " (0, 0, 0),\n",
       " (0, 0, 0),\n",
       " (0, 54, 0),\n",
       " (0, 0, 0),\n",
       " (0, 0, 0),\n",
       " (0, 0, 0),\n",
       " (0, -112, 0),\n",
       " (0, 0, 0),\n",
       " (0, 0, 0),\n",
       " (0, -40, 0),\n",
       " (0, 0, 0),\n",
       " (0, 0, 0),\n",
       " (0, 36, 0),\n",
       " (0, 0, 0),\n",
       " (0, 0, 0),\n",
       " (0, 0, 0),\n",
       " (0, -40, 0),\n",
       " (0, 0, 0),\n",
       " (0, 0, 0),\n",
       " (0, 0, 0),\n",
       " (0, 0, 0),\n",
       " (0, 36, 0),\n",
       " (0, 0, 0),\n",
       " (0, -40, 0)]"
      ]
     },
     "execution_count": 167,
     "metadata": {},
     "output_type": "execute_result"
    }
   ],
   "source": [
    "rgb\n"
   ]
  },
  {
   "cell_type": "code",
   "execution_count": 171,
   "metadata": {},
   "outputs": [
    {
     "data": {
      "image/png": "[encoded data removed]",
      "text/plain": [
       "<PIL.Image.Image image mode=RGB size=256x256 at 0x2C71DAEE048>"
      ]
     },
     "metadata": {},
     "output_type": "display_data"
    }
   ],
   "source": [
    "img = Image.new('RGB', (16, 16))\n",
    "img.putdata(rgb)\n",
    "img = img.resize((256,256), Image.BILINEAR)\n",
    "display(img)"
   ]
  },
  {
   "cell_type": "code",
   "execution_count": 31,
   "metadata": {
    "scrolled": false
   },
   "outputs": [
    {
     "data": {
      "text/plain": [
       "array([[0, 0, 0, 0, 0, 0, 0, 0, 0, 0, 0, 0, 0, 0, 0, 0],\n",
       "       [0, 0, 5, 0, 0, 0, 0, 0, 0, 0, 0, 0, 0, 0, 0, 0],\n",
       "       [0, 0, 0, 0, 0, 0, 0, 0, 0, 0, 0, 0, 0, 0, 0, 0],\n",
       "       [0, 0, 0, 0, 0, 0, 0, 0, 0, 0, 0, 0, 0, 0, 0, 0],\n",
       "       [0, 0, 0, 0, 0, 0, 0, 0, 0, 0, 0, 0, 0, 0, 0, 0],\n",
       "       [0, 0, 0, 0, 0, 0, 0, 0, 0, 0, 0, 0, 0, 0, 0, 0],\n",
       "       [0, 0, 0, 0, 0, 0, 0, 0, 0, 0, 0, 0, 0, 0, 0, 0],\n",
       "       [0, 0, 0, 0, 0, 0, 0, 0, 0, 0, 0, 0, 0, 0, 0, 0],\n",
       "       [0, 0, 0, 0, 0, 0, 0, 0, 0, 0, 0, 0, 0, 0, 0, 0],\n",
       "       [0, 0, 0, 0, 0, 0, 0, 0, 0, 0, 0, 0, 0, 0, 0, 0],\n",
       "       [0, 0, 0, 0, 0, 0, 0, 0, 0, 0, 0, 0, 0, 0, 0, 0],\n",
       "       [0, 0, 0, 0, 0, 0, 0, 0, 0, 0, 0, 0, 0, 0, 0, 0],\n",
       "       [0, 0, 0, 0, 0, 0, 0, 0, 0, 0, 0, 0, 0, 0, 0, 0],\n",
       "       [0, 0, 0, 0, 0, 0, 0, 0, 0, 0, 0, 0, 0, 0, 0, 0],\n",
       "       [0, 0, 0, 0, 0, 0, 0, 0, 0, 0, 0, 0, 0, 0, 0, 0],\n",
       "       [0, 0, 0, 0, 0, 0, 0, 0, 0, 0, 0, 0, 0, 0, 0, 0]], dtype=int8)"
      ]
     },
     "execution_count": 31,
     "metadata": {},
     "output_type": "execute_result"
    }
   ],
   "source": [
    "b = game.board.existing_letters\n",
    "b = b[:-1,:-1]\n",
    "b[0, :] = 0\n",
    "b[:,0] = 0\n",
    "b"
   ]
  },
  {
   "cell_type": "code",
   "execution_count": 330,
   "metadata": {},
   "outputs": [
    {
     "ename": "AttributeError",
     "evalue": "'NoneType' object has no attribute 'isdigit'",
     "traceback": [
      "\u001b[1;31m---------------------------------------------------------------------------\u001b[0m",
      "\u001b[1;31mAttributeError\u001b[0m                            Traceback (most recent call last)",
      "\u001b[1;32m<ipython-input-330-bafe84bb4f85>\u001b[0m in \u001b[0;36m<module>\u001b[1;34m()\u001b[0m\n\u001b[1;32m----> 1\u001b[1;33m \u001b[1;32mNone\u001b[0m\u001b[1;33m.\u001b[0m\u001b[0misdigit\u001b[0m\u001b[1;33m(\u001b[0m\u001b[1;33m)\u001b[0m\u001b[1;33m\u001b[0m\u001b[0m\n\u001b[0m",
      "\u001b[1;31mAttributeError\u001b[0m: 'NoneType' object has no attribute 'isdigit'"
     ],
     "output_type": "error"
    }
   ],
   "source": [
    "None.isdigit()"
   ]
  },
  {
   "cell_type": "code",
   "execution_count": null,
   "metadata": {
    "scrolled": true
   },
   "outputs": [],
   "source": [
    "[i for i in range(1,1)]"
   ]
  },
  {
   "cell_type": "code",
   "execution_count": null,
   "metadata": {},
   "outputs": [],
   "source": [
    "base_board"
   ]
  },
  {
   "cell_type": "code",
   "execution_count": null,
   "metadata": {
    "scrolled": true
   },
   "outputs": [],
   "source": [
    "# don't mess up board:\n",
    "\n",
    "\n",
    "# game.validator.is_valid(quackle_move)\n",
    "\n",
    "quackle_move"
   ]
  },
  {
   "cell_type": "code",
   "execution_count": null,
   "metadata": {},
   "outputs": [],
   "source": [
    "# check we're now missing the played letters\n",
    "game.active_player.rack"
   ]
  },
  {
   "cell_type": "code",
   "execution_count": null,
   "metadata": {
    "scrolled": true
   },
   "outputs": [],
   "source": [
    "board = game.board\n",
    "board"
   ]
  },
  {
   "cell_type": "code",
   "execution_count": null,
   "metadata": {},
   "outputs": [],
   "source": [
    "# save board before play:\n",
    "pre_move_board = copy.deepcopy(board.existing_letters)\n",
    "pre_move_board"
   ]
  },
  {
   "cell_type": "code",
   "execution_count": null,
   "metadata": {},
   "outputs": [],
   "source": [
    "# now use actual board row:\n",
    "move.row = board.get_row(move.row.rank, move.direction)\n",
    "move.row.place_tiles(move.played_squares,move.tiles)\n",
    "game.validator.is_valid(move)\n",
    "game.execute_move(move)\n",
    "move"
   ]
  },
  {
   "cell_type": "code",
   "execution_count": null,
   "metadata": {
    "scrolled": true
   },
   "outputs": [],
   "source": [
    "game.validator.is_valid(move)"
   ]
  },
  {
   "cell_type": "code",
   "execution_count": null,
   "metadata": {},
   "outputs": [],
   "source": []
  },
  {
   "cell_type": "code",
   "execution_count": null,
   "metadata": {},
   "outputs": [],
   "source": [
    "board"
   ]
  },
  {
   "cell_type": "code",
   "execution_count": null,
   "metadata": {},
   "outputs": [],
   "source": [
    "board.existing_letters-pre_move_board"
   ]
  },
  {
   "cell_type": "code",
   "execution_count": null,
   "metadata": {},
   "outputs": [],
   "source": [
    "moves = player1.generate_all_moves()"
   ]
  },
  {
   "cell_type": "code",
   "execution_count": null,
   "metadata": {},
   "outputs": [],
   "source": [
    "moves"
   ]
  },
  {
   "cell_type": "code",
   "execution_count": null,
   "metadata": {},
   "outputs": [],
   "source": [
    "game.execute_move(move)\n",
    "game.change_active_player()\n",
    "game.update_players()\n",
    "board"
   ]
  },
  {
   "cell_type": "code",
   "execution_count": null,
   "metadata": {},
   "outputs": [],
   "source": [
    "game.validator.is_valid(move)\n",
    "move.calculate_score()\n",
    "move"
   ]
  },
  {
   "cell_type": "code",
   "execution_count": null,
   "metadata": {},
   "outputs": [],
   "source": [
    "move.row"
   ]
  },
  {
   "cell_type": "code",
   "execution_count": null,
   "metadata": {},
   "outputs": [],
   "source": [
    "game.board"
   ]
  },
  {
   "cell_type": "code",
   "execution_count": null,
   "metadata": {},
   "outputs": [],
   "source": []
  },
  {
   "cell_type": "code",
   "execution_count": null,
   "metadata": {},
   "outputs": [],
   "source": [
    "move.calculate_score()"
   ]
  },
  {
   "cell_type": "code",
   "execution_count": null,
   "metadata": {},
   "outputs": [],
   "source": [
    "tile_values = [(LETTER_VALUES[(ord(t)-64)] if t.isupper() else LETTER_VALUES[0]) for t in move.tiles]\n",
    "tile_values"
   ]
  },
  {
   "cell_type": "code",
   "execution_count": null,
   "metadata": {},
   "outputs": [],
   "source": [
    "squares_in_whole_word = move.row.squares_in_word(move.start_index)\n",
    "print(squares_in_whole_word)"
   ]
  },
  {
   "cell_type": "code",
   "execution_count": null,
   "metadata": {},
   "outputs": [],
   "source": [
    "game.active_player.rack.rack_tiles"
   ]
  },
  {
   "cell_type": "code",
   "execution_count": null,
   "metadata": {},
   "outputs": [],
   "source": [
    "board  = game.board\n",
    "board"
   ]
  },
  {
   "cell_type": "code",
   "execution_count": null,
   "metadata": {},
   "outputs": [],
   "source": [
    "import re"
   ]
  },
  {
   "cell_type": "code",
   "execution_count": null,
   "metadata": {
    "scrolled": true
   },
   "outputs": [],
   "source": [
    "re.sub(r'\\?.', lambda m: m.group(0).lower()[-1], 'D8HBARD?ING')"
   ]
  },
  {
   "cell_type": "code",
   "execution_count": null,
   "metadata": {},
   "outputs": [],
   "source": [
    "input_string = gui.strip_invalid_characters('D8HBARD?ING')"
   ]
  },
  {
   "cell_type": "code",
   "execution_count": null,
   "metadata": {},
   "outputs": [],
   "source": [
    "input_string"
   ]
  },
  {
   "cell_type": "code",
   "execution_count": null,
   "metadata": {},
   "outputs": [],
   "source": [
    "x = ord(input_string[0]) - 64\n",
    "y = gui.digits_in_string(input_string)"
   ]
  },
  {
   "cell_type": "code",
   "execution_count": null,
   "metadata": {},
   "outputs": [],
   "source": [
    "x, y"
   ]
  },
  {
   "cell_type": "code",
   "execution_count": null,
   "metadata": {},
   "outputs": [],
   "source": [
    "input_string = gui.letters_in_string(input_string)"
   ]
  },
  {
   "cell_type": "code",
   "execution_count": null,
   "metadata": {},
   "outputs": [],
   "source": [
    "input_string"
   ]
  },
  {
   "cell_type": "code",
   "execution_count": null,
   "metadata": {},
   "outputs": [],
   "source": [
    "if input_string[1] == 'H':\n",
    "    row = gui.board.get_row(y, Direction.HORIZONTAL)\n",
    "    starting_square = x"
   ]
  },
  {
   "cell_type": "code",
   "execution_count": null,
   "metadata": {},
   "outputs": [],
   "source": [
    "row"
   ]
  },
  {
   "cell_type": "code",
   "execution_count": null,
   "metadata": {},
   "outputs": [],
   "source": [
    "input_string = input_string[2:]"
   ]
  },
  {
   "cell_type": "code",
   "execution_count": null,
   "metadata": {},
   "outputs": [],
   "source": [
    "input_string = re.sub(r'\\?.', lambda m: m.group(0).lower()[-1], input_string)"
   ]
  },
  {
   "cell_type": "code",
   "execution_count": null,
   "metadata": {},
   "outputs": [],
   "source": [
    "input_string in gui.game.active_player.rack"
   ]
  },
  {
   "cell_type": "code",
   "execution_count": null,
   "metadata": {},
   "outputs": [],
   "source": [
    "'BARDIG' in game.active_player.rack"
   ]
  },
  {
   "cell_type": "code",
   "execution_count": null,
   "metadata": {},
   "outputs": [],
   "source": [
    "game.active_player.rack.rack_tiles = '@ABDGIR'"
   ]
  },
  {
   "cell_type": "code",
   "execution_count": null,
   "metadata": {},
   "outputs": [],
   "source": [
    "str(game.active_player.rack)"
   ]
  },
  {
   "cell_type": "code",
   "execution_count": null,
   "metadata": {},
   "outputs": [],
   "source": [
    "rack = game.active_player.rack"
   ]
  },
  {
   "cell_type": "code",
   "execution_count": null,
   "metadata": {},
   "outputs": [],
   "source": [
    "'DGI' in rack"
   ]
  },
  {
   "cell_type": "code",
   "execution_count": null,
   "metadata": {},
   "outputs": [],
   "source": []
  }
 ],
 "metadata": {
  "kernelspec": {
   "display_name": "Python 3",
   "language": "python",
   "name": "python3"
  },
  "language_info": {
   "codemirror_mode": {
    "name": "ipython",
    "version": 3
   },
   "file_extension": ".py",
   "mimetype": "text/x-python",
   "name": "python",
   "nbconvert_exporter": "python",
   "pygments_lexer": "ipython3",
   "version": "3.6.6"
  }
 },
 "nbformat": 4,
 "nbformat_minor": 2
}
