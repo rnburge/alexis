{
 "cells": [
  {
   "cell_type": "code",
   "execution_count": 1,
   "metadata": {},
   "outputs": [
    {
     "name": "stdout",
     "output_type": "stream",
     "text": [
      "/c/ProgramData/Anaconda3/python\n"
     ]
    }
   ],
   "source": [
    "!which python"
   ]
  },
  {
   "cell_type": "code",
   "execution_count": 2,
   "metadata": {},
   "outputs": [],
   "source": [
    "from controller.game import GameController\n",
    "from view.consolegui import ConsoleGui\n",
    "from model.humanplayer import HumanPlayer\n",
    "from model.bag import Bag\n",
    "from model.config import Direction\n",
    "from model.row import Row\n",
    "import numpy as np\n",
    "from model.config import LETTER_VALUES, NO_CROSS_WORD, RACK_SIZE, BONUS"
   ]
  },
  {
   "cell_type": "code",
   "execution_count": 3,
   "metadata": {},
   "outputs": [
    {
     "data": {
      "text/plain": [
       "GameBoard object:\n",
       "     A B C D E F G H I J K L M N O\n",
       "   + - - - - - - - - - - - - - - - +\n",
       " 1 | = . . ' . . . = . . . ' . . = |\n",
       " 2 | . - . . . \" . . . \" . . . - . |\n",
       " 3 | . . - . . . ' . ' . . . - . . |\n",
       " 4 | ' . . - . . . ' . . . - . . ' |\n",
       " 5 | . . . . - . . . . . - . . . . |\n",
       " 6 | . \" . . . \" . . . \" . . . \" . |\n",
       " 7 | . . ' . . . ' . ' . . . ' . . |\n",
       " 8 | = . . ' . . . * . . . ' . . = |\n",
       " 9 | . . ' . . . ' . ' . . . ' . . |\n",
       "10 | . \" . . . \" . . . \" . . . \" . |\n",
       "11 | . . . . - . . . . . - . . . . |\n",
       "12 | . . . - . . . ' . . . - . . . |\n",
       "13 | ' . - . . . ' . ' . . . - . ' |\n",
       "14 | . - . . . \" . . . \" . . . - . |\n",
       "15 | = . . ' . . . = . . . ' . . = |\n",
       "   + - - - - - - - - - - - - - - - +\n",
       "     A B C D E F G H I J K L M N O"
      ]
     },
     "execution_count": 3,
     "metadata": {},
     "output_type": "execute_result"
    }
   ],
   "source": [
    "players = [None, None]\n",
    "bag = Bag()\n",
    "game = GameController(players, bag)\n",
    "gui = ConsoleGui(game)\n",
    "player1 = HumanPlayer(bag, gui, \"Player 1\")\n",
    "player2 = HumanPlayer(bag, gui, \"Player 2\")\n",
    "game.players = [player1, player2]\n",
    "game.active_player = player2\n",
    "board = game.board\n",
    "lex = game.lexicon\n",
    "validator = game.validator\n",
    "board"
   ]
  },
  {
   "cell_type": "code",
   "execution_count": 4,
   "metadata": {},
   "outputs": [
    {
     "data": {
      "text/plain": [
       "Rack object containing the following tiles:\n",
       "ITOIIQO"
      ]
     },
     "execution_count": 4,
     "metadata": {},
     "output_type": "execute_result"
    }
   ],
   "source": [
    "player2.rack"
   ]
  },
  {
   "cell_type": "code",
   "execution_count": null,
   "metadata": {},
   "outputs": [
    {
     "name": "stdout",
     "output_type": "stream",
     "text": [
      "Player 2 to move\n",
      "(format: <startSquare><H/V><Tiles>,\n",
      "e.g. C8VDOG plays 'DOG' vertically from square C8\n",
      "Use ?<Tile> for blank followed by desired letter,\n",
      "e.g. C8VDO?G plays blank as 'G'\n",
      "Enter <Tiles> only to exchange, nothing to pass, \n",
      "'exit()' to quit: \n"
     ]
    }
   ],
   "source": [
    "move = gui.parse_move_string('G8HQI')"
   ]
  },
  {
   "cell_type": "code",
   "execution_count": null,
   "metadata": {},
   "outputs": [],
   "source": [
    "print(move)"
   ]
  },
  {
   "cell_type": "code",
   "execution_count": null,
   "metadata": {},
   "outputs": [],
   "source": [
    "validator.is_valid(move)"
   ]
  },
  {
   "cell_type": "code",
   "execution_count": null,
   "metadata": {},
   "outputs": [],
   "source": [
    "tile_values = [LETTER_VALUES[(ord(t)-64)] for t in move.tiles]"
   ]
  },
  {
   "cell_type": "code",
   "execution_count": null,
   "metadata": {},
   "outputs": [],
   "source": [
    "move.score"
   ]
  },
  {
   "cell_type": "code",
   "execution_count": null,
   "metadata": {},
   "outputs": [],
   "source": [
    "tile_values"
   ]
  },
  {
   "cell_type": "code",
   "execution_count": null,
   "metadata": {},
   "outputs": [],
   "source": [
    "squares_in_whole_word = move.row.squares_in_word(move.start_index)\n",
    "squares_in_whole_word"
   ]
  },
  {
   "cell_type": "code",
   "execution_count": null,
   "metadata": {},
   "outputs": [],
   "source": [
    "np.put(move.row.existing_letter_scores, move.played_squares, tile_values)"
   ]
  },
  {
   "cell_type": "code",
   "execution_count": null,
   "metadata": {},
   "outputs": [],
   "source": [
    "board"
   ]
  },
  {
   "cell_type": "code",
   "execution_count": null,
   "metadata": {},
   "outputs": [],
   "source": [
    "."
   ]
  },
  {
   "cell_type": "code",
   "execution_count": null,
   "metadata": {},
   "outputs": [],
   "source": []
  }
 ],
 "metadata": {
  "kernelspec": {
   "display_name": "Python 3",
   "language": "python",
   "name": "python3"
  },
  "language_info": {
   "codemirror_mode": {
    "name": "ipython",
    "version": 3
   },
   "file_extension": ".py",
   "mimetype": "text/x-python",
   "name": "python",
   "nbconvert_exporter": "python",
   "pygments_lexer": "ipython3",
   "version": "3.6.6"
  }
 },
 "nbformat": 4,
 "nbformat_minor": 2
}
