{
 "cells": [
  {
   "cell_type": "code",
   "execution_count": 1,
   "metadata": {},
   "outputs": [],
   "source": [
    "# auto reloading and inline display of matplotlib output:\n",
    "%reload_ext autoreload\n",
    "%autoreload 2\n",
    "%matplotlib inline"
   ]
  },
  {
   "cell_type": "code",
   "execution_count": 2,
   "metadata": {},
   "outputs": [
    {
     "ename": "ModuleNotFoundError",
     "evalue": "No module named 'controller'",
     "output_type": "error",
     "traceback": [
      "\u001b[1;31m---------------------------------------------------------------------------\u001b[0m",
      "\u001b[1;31mModuleNotFoundError\u001b[0m                       Traceback (most recent call last)",
      "\u001b[1;32m<ipython-input-2-1a58853742fd>\u001b[0m in \u001b[0;36m<module>\u001b[1;34m()\u001b[0m\n\u001b[1;32m----> 1\u001b[1;33m \u001b[1;32mfrom\u001b[0m \u001b[0mcontroller\u001b[0m\u001b[1;33m.\u001b[0m\u001b[0mgame\u001b[0m \u001b[1;32mimport\u001b[0m \u001b[0mGameController\u001b[0m\u001b[1;33m\u001b[0m\u001b[0m\n\u001b[0m\u001b[0;32m      2\u001b[0m \u001b[1;32mfrom\u001b[0m \u001b[0mview\u001b[0m\u001b[1;33m.\u001b[0m\u001b[0mconsolegui\u001b[0m \u001b[1;32mimport\u001b[0m \u001b[0mConsoleGui\u001b[0m\u001b[1;33m\u001b[0m\u001b[0m\n\u001b[0;32m      3\u001b[0m \u001b[1;32mfrom\u001b[0m \u001b[0mview\u001b[0m\u001b[1;33m.\u001b[0m\u001b[0mview\u001b[0m \u001b[1;32mimport\u001b[0m \u001b[0mView\u001b[0m\u001b[1;33m\u001b[0m\u001b[0m\n\u001b[0;32m      4\u001b[0m \u001b[1;32mfrom\u001b[0m \u001b[0mmodel\u001b[0m\u001b[1;33m.\u001b[0m\u001b[0mhumanplayer\u001b[0m \u001b[1;32mimport\u001b[0m \u001b[0mHumanPlayer\u001b[0m\u001b[1;33m\u001b[0m\u001b[0m\n\u001b[0;32m      5\u001b[0m \u001b[1;32mfrom\u001b[0m \u001b[0mmodel\u001b[0m\u001b[1;33m.\u001b[0m\u001b[0mdeepaiplayer\u001b[0m \u001b[1;32mimport\u001b[0m \u001b[0mDeepAiPlayer\u001b[0m\u001b[1;33m\u001b[0m\u001b[0m\n",
      "\u001b[1;31mModuleNotFoundError\u001b[0m: No module named 'controller'"
     ]
    }
   ],
   "source": [
    "from controller.game import GameController\n",
    "from view.consolegui import ConsoleGui\n",
    "from view.view import View\n",
    "from model.humanplayer import HumanPlayer\n",
    "from model.deepaiplayer import DeepAiPlayer\n",
    "from model.aiplayer import AiPlayer\n",
    "from model.bag import Bag\n",
    "#from model.config import Direction\n",
    "#from model.row import Row\n",
    "#import numpy as np\n",
    "#from model.config import LETTER_VALUES, NO_CROSS_WORD, RACK_SIZE, BONUS"
   ]
  },
  {
   "cell_type": "markdown",
   "metadata": {},
   "source": [
    "Alexis follows an MVC pattern where there is a game object acting as an overall coordinating controller, various objects represent all the elements of the game and there is a separate view which draws the board. Different players can use different views, so you could have a human player using the console-based view whilst an AI player uses the View superclass, which is an entirely headless view (essentially just an interface definition).\n",
    "There is something of a circular reference where the game object needs a list of the players, but each player also needs to know what game it's playing in, so we first initialise a list of the desired number of players with blank references:\n",
    "\n",
    "<pre>players = [None, None]</pre>\n",
    "When each player has been initialised it can be inserted into this list at the appropriate position, and if the game has been started before this happens it will wait until there are no blank spots left. This is partially for future-proofing, since this makes it easy to implement network play where one player starts a game and waits for a challenger to join."
   ]
  },
  {
   "cell_type": "code",
   "execution_count": null,
   "metadata": {},
   "outputs": [],
   "source": [
    "players = [None, None]\n",
    "bag = Bag()\n",
    "game = GameController(players, bag)\n",
    "headless_gui = View(game)\n",
    "console_gui = \n",
    "player1 = DeepAiPlayer(game, gui, \"Deep AI Player 1\")\n",
    "player2 = AiPlayer(game, gui, \"AI Player 2\")\n",
    "game.players = [player1, player2]\n",
    "\n",
    "game."
   ]
  }
 ],
 "metadata": {
  "kernelspec": {
   "display_name": "Python 3",
   "language": "python",
   "name": "python3"
  },
  "language_info": {
   "codemirror_mode": {
    "name": "ipython",
    "version": 3
   },
   "file_extension": ".py",
   "mimetype": "text/x-python",
   "name": "python",
   "nbconvert_exporter": "python",
   "pygments_lexer": "ipython3",
   "version": "3.6.6"
  }
 },
 "nbformat": 4,
 "nbformat_minor": 2
}
