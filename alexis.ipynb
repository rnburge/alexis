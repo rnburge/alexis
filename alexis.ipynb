{
 "cells": [
  {
   "cell_type": "code",
   "execution_count": 1,
   "metadata": {},
   "outputs": [
    {
     "name": "stdout",
     "output_type": "stream",
     "text": [
      "/c/ProgramData/Anaconda3/python\n"
     ]
    }
   ],
   "source": [
    "!which python"
   ]
  },
  {
   "cell_type": "code",
   "execution_count": 2,
   "metadata": {},
   "outputs": [],
   "source": [
    "from controller.game import GameController\n",
    "from view.consolegui import ConsoleGui\n",
    "from model.humanplayer import HumanPlayer\n",
    "from model.bag import Bag\n",
    "from model.config import Direction\n",
    "from model.row import Row\n",
    "import numpy as np\n",
    "from model.config import LETTER_VALUES, NO_CROSS_WORD, RACK_SIZE, BONUS"
   ]
  },
  {
   "cell_type": "code",
   "execution_count": 3,
   "metadata": {},
   "outputs": [
    {
     "data": {
      "text/plain": [
       "GameBoard object:\n",
       "     A B C D E F G H I J K L M N O\n",
       "   + - - - - - - - - - - - - - - - +\n",
       " 1 | = . . ' . . . = . . . ' . . = |\n",
       " 2 | . - . . . \" . . . \" . . . - . |\n",
       " 3 | . . - . . . ' . ' . . . - . . |\n",
       " 4 | ' . . - . . . ' . . . - . . ' |\n",
       " 5 | . . . . - . . . . . - . . . . |\n",
       " 6 | . \" . . . \" . . . \" . . . \" . |\n",
       " 7 | . . ' . . . ' . ' . . . ' . . |\n",
       " 8 | = . . ' . . . * . . . ' . . = |\n",
       " 9 | . . ' . . . ' . ' . . . ' . . |\n",
       "10 | . \" . . . \" . . . \" . . . \" . |\n",
       "11 | . . . . - . . . . . - . . . . |\n",
       "12 | . . . - . . . ' . . . - . . . |\n",
       "13 | ' . - . . . ' . ' . . . - . ' |\n",
       "14 | . - . . . \" . . . \" . . . - . |\n",
       "15 | = . . ' . . . = . . . ' . . = |\n",
       "   + - - - - - - - - - - - - - - - +\n",
       "     A B C D E F G H I J K L M N O"
      ]
     },
     "execution_count": 3,
     "metadata": {},
     "output_type": "execute_result"
    }
   ],
   "source": [
    "players = [None, None]\n",
    "bag = Bag()\n",
    "game = GameController(players, bag)\n",
    "gui = ConsoleGui(game)\n",
    "player1 = HumanPlayer(bag, gui, \"Player 1\")\n",
    "player2 = HumanPlayer(bag, gui, \"Player 2\")\n",
    "game.players = [player1, player2]\n",
    "game.active_player = player2\n",
    "board = game.board\n",
    "lex = game.lexicon\n",
    "validator = game.validator\n",
    "board"
   ]
  },
  {
   "cell_type": "code",
   "execution_count": 4,
   "metadata": {},
   "outputs": [
    {
     "data": {
      "text/plain": [
       "Rack object containing the following tiles:\n",
       "ITOIIQO"
      ]
     },
     "execution_count": 4,
     "metadata": {},
     "output_type": "execute_result"
    }
   ],
   "source": [
    "player2.rack"
   ]
  },
  {
   "cell_type": "code",
   "execution_count": 5,
   "metadata": {},
   "outputs": [],
   "source": [
    "move = gui.parse_move_string('G8HQI')"
   ]
  },
  {
   "cell_type": "code",
   "execution_count": 6,
   "metadata": {},
   "outputs": [
    {
     "name": "stdout",
     "output_type": "stream",
     "text": [
      "Move: G8, Horizontal, tiles: QI, forms word: , score: None\n"
     ]
    }
   ],
   "source": [
    "print(move)"
   ]
  },
  {
   "cell_type": "code",
   "execution_count": 7,
   "metadata": {},
   "outputs": [
    {
     "data": {
      "text/plain": [
       "True"
      ]
     },
     "execution_count": 7,
     "metadata": {},
     "output_type": "execute_result"
    }
   ],
   "source": [
    "validator.is_valid(move)"
   ]
  },
  {
   "cell_type": "code",
   "execution_count": 8,
   "metadata": {},
   "outputs": [],
   "source": [
    "tile_values = [LETTER_VALUES[(ord(t)-64)] for t in move.tiles]"
   ]
  },
  {
   "cell_type": "code",
   "execution_count": 9,
   "metadata": {},
   "outputs": [
    {
     "data": {
      "text/plain": [
       "22.0"
      ]
     },
     "execution_count": 9,
     "metadata": {},
     "output_type": "execute_result"
    }
   ],
   "source": [
    "move.score"
   ]
  },
  {
   "cell_type": "code",
   "execution_count": 10,
   "metadata": {},
   "outputs": [
    {
     "data": {
      "text/plain": [
       "[10, 1]"
      ]
     },
     "execution_count": 10,
     "metadata": {},
     "output_type": "execute_result"
    }
   ],
   "source": [
    "tile_values"
   ]
  },
  {
   "cell_type": "code",
   "execution_count": 11,
   "metadata": {},
   "outputs": [
    {
     "data": {
      "text/plain": [
       "array([7, 8], dtype=int64)"
      ]
     },
     "execution_count": 11,
     "metadata": {},
     "output_type": "execute_result"
    }
   ],
   "source": [
    "squares_in_whole_word = move.row.squares_in_word(move.start_index)\n",
    "squares_in_whole_word"
   ]
  },
  {
   "cell_type": "code",
   "execution_count": 12,
   "metadata": {},
   "outputs": [],
   "source": [
    "np.put(move.row.existing_letter_scores, move.played_squares, tile_values)"
   ]
  },
  {
   "cell_type": "code",
   "execution_count": 13,
   "metadata": {},
   "outputs": [
    {
     "data": {
      "text/plain": [
       "GameBoard object:\n",
       "     A B C D E F G H I J K L M N O\n",
       "   + - - - - - - - - - - - - - - - +\n",
       " 1 | = . . ' . . . = . . . ' . . = |\n",
       " 2 | . - . . . \" . . . \" . . . - . |\n",
       " 3 | . . - . . . ' . ' . . . - . . |\n",
       " 4 | ' . . - . . . ' . . . - . . ' |\n",
       " 5 | . . . . - . . . . . - . . . . |\n",
       " 6 | . \" . . . \" . . . \" . . . \" . |\n",
       " 7 | . . ' . . . ' . ' . . . ' . . |\n",
       " 8 | = . . ' . . Q I . . . ' . . = |\n",
       " 9 | . . ' . . . ' . ' . . . ' . . |\n",
       "10 | . \" . . . \" . . . \" . . . \" . |\n",
       "11 | . . . . - . . . . . - . . . . |\n",
       "12 | . . . - . . . ' . . . - . . . |\n",
       "13 | ' . - . . . ' . ' . . . - . ' |\n",
       "14 | . - . . . \" . . . \" . . . - . |\n",
       "15 | = . . ' . . . = . . . ' . . = |\n",
       "   + - - - - - - - - - - - - - - - +\n",
       "     A B C D E F G H I J K L M N O"
      ]
     },
     "execution_count": 13,
     "metadata": {},
     "output_type": "execute_result"
    }
   ],
   "source": [
    "board"
   ]
  },
  {
   "cell_type": "code",
   "execution_count": 14,
   "metadata": {},
   "outputs": [
    {
     "name": "stdout",
     "output_type": "stream",
     "text": [
      "hook_squares:               False\n",
      "word_multiplier:            1\n",
      "letter_multiplier:          2\n",
      "existing_letters:           none\n",
      "existing_letter_scores:     0\n",
      "this_row_crosschecks:       [1 1 1 1 1 1 1 1 1 1 1 1 1 1 1 1 1 1 1 1 1 1 1 1 1 1 1 1 1 1 1 1]\n",
      "this_row_crosschecks:       ABCDEFGHIJKLMNOPQRSTUVWXYZ\n",
      "orthogonal_row_crosschecks: [1 1 1 1 1 1 1 1 1 1 1 1 1 1 1 1 1 1 1 1 1 1 1 1 1 1 1 1 1 1 1 1]\n",
      "orthogonal_row_crosschecks: ABCDEFGHIJKLMNOPQRSTUVWXYZ\n",
      "this_row_cross_scores:      -1\n",
      "column_play_scores:         -1\n"
     ]
    }
   ],
   "source": [
    "gui.describe_square('G9')"
   ]
  },
  {
   "cell_type": "code",
   "execution_count": 15,
   "metadata": {},
   "outputs": [],
   "source": [
    "game.execute_move(move)"
   ]
  },
  {
   "cell_type": "code",
   "execution_count": 16,
   "metadata": {},
   "outputs": [
    {
     "data": {
      "text/plain": [
       "row object:\n",
       " 8 | = . . ' . * Q I * . . ' . . = |"
      ]
     },
     "execution_count": 16,
     "metadata": {},
     "output_type": "execute_result"
    }
   ],
   "source": [
    "row = move.row\n",
    "row"
   ]
  },
  {
   "cell_type": "code",
   "execution_count": null,
   "metadata": {},
   "outputs": [],
   "source": []
  },
  {
   "cell_type": "code",
   "execution_count": 17,
   "metadata": {},
   "outputs": [
    {
     "data": {
      "text/plain": [
       "array([False, False, False, False, False, False,  True, False, False,\n",
       "        True, False, False, False, False, False, False, False])"
      ]
     },
     "execution_count": 17,
     "metadata": {},
     "output_type": "execute_result"
    }
   ],
   "source": [
    "row.hook_squares"
   ]
  },
  {
   "cell_type": "code",
   "execution_count": 18,
   "metadata": {},
   "outputs": [
    {
     "name": "stdout",
     "output_type": "stream",
     "text": [
      "hook_squares:               True\n",
      "word_multiplier:            1\n",
      "letter_multiplier:          1\n",
      "existing_letters:           none\n",
      "existing_letter_scores:     0\n",
      "this_row_crosschecks:       [1 1 1 1 1 1 1 1 1 1 1 1 1 1 1 1 1 1 1 1 1 1 1 1 1 1 1 1 1 1 1 1]\n",
      "this_row_crosschecks:       ABCDEFGHIJKLMNOPQRSTUVWXYZ\n",
      "orthogonal_row_crosschecks: [1 0 0 0 0 0 0 0 0 0 0 0 0 0 1 0 0 0 0 1 0 0 0 0 0 0 0 1 1 1 1 1]\n",
      "orthogonal_row_crosschecks: NS\n",
      "this_row_cross_scores:      -1\n",
      "column_play_scores:         11\n"
     ]
    }
   ],
   "source": [
    "gui.describe_square('I8')"
   ]
  },
  {
   "cell_type": "code",
   "execution_count": 19,
   "metadata": {},
   "outputs": [],
   "source": [
    "col = board.get_row(9,Direction.VERTICAL)"
   ]
  },
  {
   "cell_type": "code",
   "execution_count": 20,
   "metadata": {},
   "outputs": [
    {
     "data": {
      "text/plain": [
       "row object:\n",
       " I | . . ' . . . ' * ' . . . ' . . |"
      ]
     },
     "execution_count": 20,
     "metadata": {},
     "output_type": "execute_result"
    }
   ],
   "source": [
    "col"
   ]
  },
  {
   "cell_type": "code",
   "execution_count": 21,
   "metadata": {},
   "outputs": [
    {
     "data": {
      "text/plain": [
       "array([         0, 4294967295, 4294967295, 4294967295, 4294967295,\n",
       "       4294967295, 4294967295, 4294967295, 4161290241, 4294967295,\n",
       "       4294967295, 4294967295, 4294967295, 4294967295, 4294967295,\n",
       "       4294967295,          0], dtype=uint32)"
      ]
     },
     "execution_count": 21,
     "metadata": {},
     "output_type": "execute_result"
    }
   ],
   "source": [
    "col.this_row_crosschecks"
   ]
  },
  {
   "cell_type": "code",
   "execution_count": 22,
   "metadata": {},
   "outputs": [
    {
     "name": "stdout",
     "output_type": "stream",
     "text": [
      "Move: G8, Horizontal, tiles: QI, forms word: QI, score: 22.0\n"
     ]
    }
   ],
   "source": [
    "print(move)"
   ]
  },
  {
   "cell_type": "code",
   "execution_count": 23,
   "metadata": {},
   "outputs": [
    {
     "data": {
      "text/plain": [
       "Move object:\n",
       "Move: G8, Horizontal, tiles: QI, forms word: QI, score: 22.0"
      ]
     },
     "execution_count": 23,
     "metadata": {},
     "output_type": "execute_result"
    }
   ],
   "source": [
    "move"
   ]
  },
  {
   "cell_type": "code",
   "execution_count": 24,
   "metadata": {},
   "outputs": [
    {
     "data": {
      "text/plain": [
       "GameBoard object:\n",
       "     A B C D E F G H I J K L M N O\n",
       "   + - - - - - - - - - - - - - - - +\n",
       " 1 | = . . ' . . . = . . . ' . . = |\n",
       " 2 | . - . . . \" . . . \" . . . - . |\n",
       " 3 | . . - . . . ' . ' . . . - . . |\n",
       " 4 | ' . . - . . . ' . . . - . . ' |\n",
       " 5 | . . . . - . . . . . - . . . . |\n",
       " 6 | . \" . . . \" . . . \" . . . \" . |\n",
       " 7 | . . ' . . . * * ' . . . ' . . |\n",
       " 8 | = . . ' . * Q I * . . ' . . = |\n",
       " 9 | . . ' . . . * * ' . . . ' . . |\n",
       "10 | . \" . . . \" . . . \" . . . \" . |\n",
       "11 | . . . . - . . . . . - . . . . |\n",
       "12 | . . . - . . . ' . . . - . . . |\n",
       "13 | ' . - . . . ' . ' . . . - . ' |\n",
       "14 | . - . . . \" . . . \" . . . - . |\n",
       "15 | = . . ' . . . = . . . ' . . = |\n",
       "   + - - - - - - - - - - - - - - - +\n",
       "     A B C D E F G H I J K L M N O"
      ]
     },
     "execution_count": 24,
     "metadata": {},
     "output_type": "execute_result"
    }
   ],
   "source": [
    "board"
   ]
  },
  {
   "cell_type": "code",
   "execution_count": 25,
   "metadata": {},
   "outputs": [
    {
     "data": {
      "text/plain": [
       "True"
      ]
     },
     "execution_count": 25,
     "metadata": {},
     "output_type": "execute_result"
    }
   ],
   "source": [
    "False is not None"
   ]
  },
  {
   "cell_type": "code",
   "execution_count": 26,
   "metadata": {},
   "outputs": [
    {
     "data": {
      "text/plain": [
       "False"
      ]
     },
     "execution_count": 26,
     "metadata": {},
     "output_type": "execute_result"
    }
   ],
   "source": [
    "\n",
    "None is not None"
   ]
  },
  {
   "cell_type": "code",
   "execution_count": 27,
   "metadata": {},
   "outputs": [
    {
     "data": {
      "text/plain": [
       "True"
      ]
     },
     "execution_count": 27,
     "metadata": {},
     "output_type": "execute_result"
    }
   ],
   "source": [
    "'CaT' in lex\n"
   ]
  },
  {
   "cell_type": "code",
   "execution_count": 37,
   "metadata": {},
   "outputs": [],
   "source": [
    "x = [1,2,0,4,5]"
   ]
  },
  {
   "cell_type": "code",
   "execution_count": 42,
   "metadata": {},
   "outputs": [],
   "source": [
    "y = np.where(x)"
   ]
  },
  {
   "cell_type": "code",
   "execution_count": 39,
   "metadata": {},
   "outputs": [
    {
     "data": {
      "text/plain": [
       "(array([0, 1, 3, 4], dtype=int64),)"
      ]
     },
     "execution_count": 39,
     "metadata": {},
     "output_type": "execute_result"
    }
   ],
   "source": [
    "y"
   ]
  },
  {
   "cell_type": "code",
   "execution_count": 40,
   "metadata": {},
   "outputs": [
    {
     "data": {
      "text/plain": [
       "[0, 2, 0, 4, 5]"
      ]
     },
     "execution_count": 40,
     "metadata": {},
     "output_type": "execute_result"
    }
   ],
   "source": [
    "x[0] = 0\n",
    "x"
   ]
  },
  {
   "cell_type": "code",
   "execution_count": 43,
   "metadata": {},
   "outputs": [
    {
     "data": {
      "text/plain": [
       "(array([1, 3, 4], dtype=int64),)"
      ]
     },
     "execution_count": 43,
     "metadata": {},
     "output_type": "execute_result"
    }
   ],
   "source": [
    "y"
   ]
  },
  {
   "cell_type": "code",
   "execution_count": 47,
   "metadata": {},
   "outputs": [
    {
     "data": {
      "text/plain": [
       "64"
      ]
     },
     "execution_count": 47,
     "metadata": {},
     "output_type": "execute_result"
    }
   ],
   "source": [
    "ord('@')"
   ]
  },
  {
   "cell_type": "code",
   "execution_count": 48,
   "metadata": {},
   "outputs": [
    {
     "data": {
      "text/plain": [
       "'A'"
      ]
     },
     "execution_count": 48,
     "metadata": {},
     "output_type": "execute_result"
    }
   ],
   "source": [
    "'a'.upper()"
   ]
  },
  {
   "cell_type": "code",
   "execution_count": 49,
   "metadata": {},
   "outputs": [
    {
     "data": {
      "text/plain": [
       "True"
      ]
     },
     "execution_count": 49,
     "metadata": {},
     "output_type": "execute_result"
    }
   ],
   "source": [
    "'hexact' in lex\n"
   ]
  },
  {
   "cell_type": "code",
   "execution_count": 50,
   "metadata": {},
   "outputs": [
    {
     "data": {
      "text/plain": [
       "True"
      ]
     },
     "execution_count": 50,
     "metadata": {},
     "output_type": "execute_result"
    }
   ],
   "source": [
    "'paramo' in lex\n"
   ]
  },
  {
   "cell_type": "code",
   "execution_count": 51,
   "metadata": {},
   "outputs": [
    {
     "data": {
      "text/plain": [
       "False"
      ]
     },
     "execution_count": 51,
     "metadata": {},
     "output_type": "execute_result"
    }
   ],
   "source": [
    "'overlya' in lex\n"
   ]
  },
  {
   "cell_type": "code",
   "execution_count": null,
   "metadata": {},
   "outputs": [],
   "source": []
  }
 ],
 "metadata": {
  "kernelspec": {
   "display_name": "Python 3",
   "language": "python",
   "name": "python3"
  },
  "language_info": {
   "codemirror_mode": {
    "name": "ipython",
    "version": 3
   },
   "file_extension": ".py",
   "mimetype": "text/x-python",
   "name": "python",
   "nbconvert_exporter": "python",
   "pygments_lexer": "ipython3",
   "version": "3.6.6"
  }
 },
 "nbformat": 4,
 "nbformat_minor": 2
}
