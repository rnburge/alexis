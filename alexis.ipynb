{
 "cells": [
  {
   "cell_type": "code",
   "execution_count": 1,
   "metadata": {},
   "outputs": [],
   "source": [
    "# auto reloading and inline display of matplotlib output:\n",
    "%reload_ext autoreload\n",
    "%autoreload 2\n",
    "%matplotlib inline"
   ]
  },
  {
   "cell_type": "code",
   "execution_count": 2,
   "metadata": {},
   "outputs": [
    {
     "name": "stderr",
     "output_type": "stream",
     "text": [
      "C:\\Users\\richard\\AppData\\Local\\conda\\conda\\envs\\fastai\\lib\\site-packages\\sklearn\\ensemble\\weight_boosting.py:29: DeprecationWarning: numpy.core.umath_tests is an internal NumPy module and should not be imported. It will be removed in a future NumPy release.\n",
      "  from numpy.core.umath_tests import inner1d\n"
     ]
    }
   ],
   "source": [
    "from controller.game import GameController\n",
    "from view.consolegui import ConsoleGui\n",
    "from view.view import View\n",
    "from model.humanplayer import HumanPlayer\n",
    "from model.deepaiplayer import DeepAiPlayer\n",
    "from model.aiplayer import AiPlayer\n",
    "from model.bag import Bag\n",
    "from model.config import Direction\n",
    "from model.row import Row\n",
    "import numpy as np\n",
    "from model.config import LETTER_VALUES, NO_CROSS_WORD, RACK_SIZE, BONUS"
   ]
  },
  {
   "cell_type": "code",
   "execution_count": 3,
   "metadata": {
    "scrolled": true
   },
   "outputs": [],
   "source": [
    "def new_game():\n",
    "    players = [None, None]\n",
    "    bag = Bag()\n",
    "    game = GameController(players, bag)\n",
    "    gui = View(game) # headless view\n",
    "    player1 = DeepAiPlayer(game, gui, \"Deep AI Player 1\")\n",
    "    player2 = AiPlayer(game, gui, \"AI Player 2\")\n",
    "    game.players = [player1, player2]\n",
    "    return (game, player1, player2)"
   ]
  },
  {
   "cell_type": "code",
   "execution_count": null,
   "metadata": {},
   "outputs": [
    {
     "name": "stdout",
     "output_type": "stream",
     "text": [
      "Waiting for players\n",
      "Starting game\n",
      "('AI Player 2', 'O', 'VIOLAS', Move object:\n",
      "Move: D8, Horizontal, tiles: VIOLAS, score: 26.0)\n",
      "('Deep AI Player 1', 'X', 'OLEATES', Move object:\n",
      "Move: G7, Vertical, tiles: OEATES, score: 10.0)\n",
      "('AI Player 2', '-', 'ATEMOYA', Move object:\n",
      "Move: I7, Horizontal, tiles: ATEMOYA, score: 67.0)\n",
      "('Deep AI Player 1', 'PF', 'SEXPOT', Move object:\n",
      "Move: H13, Horizontal, tiles: EXPOT, score: 23.0)\n",
      "('AI Player 2', 'UEU', 'IDEE', Move object:\n",
      "Move: L8, Horizontal, tiles: IDEE, score: 37.0)\n",
      "('Deep AI Player 1', 'PF', 'VITTAE', Move object:\n",
      "Move: D9, Vertical, tiles: ITTAE, score: 18.0)\n",
      "('AI Player 2', 'UUDI', 'HEED', Move object:\n",
      "Move: H12, Vertical, tiles: HED, score: 45.0)\n",
      "('Deep AI Player 1', 'NHJ', 'PREIF', Move object:\n",
      "Move: E5, Vertical, tiles: PREF, score: 25.0)\n",
      "('AI Player 2', 'UU', 'DINED', Move object:\n",
      "Move: K12, Horizontal, tiles: DINED, score: 25.0)\n",
      "('Deep AI Player 1', 'NHJOe', 'WIFIE', Move object:\n",
      "Move: C9, Horizontal, tiles: WI, score: 17.0)\n",
      "('AI Player 2', 'UUTL', 'NOG', Move object:\n",
      "Move: M6, Horizontal, tiles: NOG, score: 22.0)\n",
      "('Deep AI Player 1', 'NJV', 'HeRO', Move object:\n",
      "Move: D2, Vertical, tiles: HeRO, score: 16.0)\n",
      "('AI Player 2', 'TLU', 'RURU', Move object:\n",
      "Move: J11, Horizontal, tiles: RURU, score: 21.0)\n",
      "('Deep AI Player 1', 'NVNB', 'JAK', Move object:\n",
      "Move: C12, Vertical, tiles: JAK, score: 41.0)\n",
      "('AI Player 2', '-', 'REFUTAL', Move object:\n",
      "Move: C1, Vertical, tiles: REFUTAL, score: 92.0)\n",
      "('Deep AI Player 1', 'NNB', 'MAVIE', Move object:\n",
      "Move: K3, Vertical, tiles: MAVI, score: 20.0)\n",
      "('AI Player 2', 'W', 'BAsQUE', Move object:\n",
      "Move: A15, Horizontal, tiles: BAsQUE, score: 92.0)\n",
      "('Deep AI Player 1', 'BCL', 'NONAS', Move object:\n",
      "Move: H4, Horizontal, tiles: NONS, score: 12.0)\n",
      "('AI Player 2', 'WGNG', 'COZ', Move object:\n",
      "Move: G3, Horizontal, tiles: COZ, score: 50.0)\n",
      "('Deep AI Player 1', 'BCS', 'LIONLY', Move object:\n",
      "Move: H1, Vertical, tiles: LILY, score: 27.0)\n",
      "('AI Player 2', 'WGN', 'GIRN', Move object:\n",
      "Move: L9, Horizontal, tiles: GIRN, score: 30.0)\n",
      "('Deep AI Player 1', 'BC', 'SIR', Move object:\n",
      "Move: A1, Horizontal, tiles: SI, score: 9.0)\n",
      "('AI Player 2', 'G', 'PWN', Move object:\n",
      "Move: J14, Vertical, tiles: WN, score: 16.0)\n",
      "('Deep AI Player 1', 'C', 'JAB', Move object:\n",
      "Move: E12, Horizontal, tiles: B, score: 12.0)\n",
      "('AI Player 2', '-', 'FeG', Move object:\n",
      "Move: E3, Horizontal, tiles: G, score: 6.0)\n",
      "Game ended:\n",
      "Final scores:\n",
      "\n",
      "AI Player 2 scored 532.0\n",
      "Deep AI Player 1 scored 227.0\n",
      "\n",
      "Move list:\n",
      "Move 1: AI Player 2 - rack leave: O, made word: VIOLAS - Move: D8, Horizontal, tiles: VIOLAS, score: 26.0\n",
      "Move 2: Deep AI Player 1 - rack leave: X, made word: OLEATES - Move: G7, Vertical, tiles: OEATES, score: 10.0\n",
      "Move 3: AI Player 2 - rack leave: -, made word: ATEMOYA - Move: I7, Horizontal, tiles: ATEMOYA, score: 67.0\n",
      "Move 4: Deep AI Player 1 - rack leave: PF, made word: SEXPOT - Move: H13, Horizontal, tiles: EXPOT, score: 23.0\n",
      "Move 5: AI Player 2 - rack leave: UEU, made word: IDEE - Move: L8, Horizontal, tiles: IDEE, score: 37.0\n",
      "Move 6: Deep AI Player 1 - rack leave: PF, made word: VITTAE - Move: D9, Vertical, tiles: ITTAE, score: 18.0\n",
      "Move 7: AI Player 2 - rack leave: UUDI, made word: HEED - Move: H12, Vertical, tiles: HED, score: 45.0\n",
      "Move 8: Deep AI Player 1 - rack leave: NHJ, made word: PREIF - Move: E5, Vertical, tiles: PREF, score: 25.0\n",
      "Move 9: AI Player 2 - rack leave: UU, made word: DINED - Move: K12, Horizontal, tiles: DINED, score: 25.0\n",
      "Move 10: Deep AI Player 1 - rack leave: NHJOe, made word: WIFIE - Move: C9, Horizontal, tiles: WI, score: 17.0\n",
      "Move 11: AI Player 2 - rack leave: UUTL, made word: NOG - Move: M6, Horizontal, tiles: NOG, score: 22.0\n",
      "Move 12: Deep AI Player 1 - rack leave: NJV, made word: HeRO - Move: D2, Vertical, tiles: HeRO, score: 16.0\n",
      "Move 13: AI Player 2 - rack leave: TLU, made word: RURU - Move: J11, Horizontal, tiles: RURU, score: 21.0\n",
      "Move 14: Deep AI Player 1 - rack leave: NVNB, made word: JAK - Move: C12, Vertical, tiles: JAK, score: 41.0\n",
      "Move 15: AI Player 2 - rack leave: -, made word: REFUTAL - Move: C1, Vertical, tiles: REFUTAL, score: 92.0\n",
      "Move 16: Deep AI Player 1 - rack leave: NNB, made word: MAVIE - Move: K3, Vertical, tiles: MAVI, score: 20.0\n",
      "Move 17: AI Player 2 - rack leave: W, made word: BAsQUE - Move: A15, Horizontal, tiles: BAsQUE, score: 92.0\n",
      "Move 18: Deep AI Player 1 - rack leave: BCL, made word: NONAS - Move: H4, Horizontal, tiles: NONS, score: 12.0\n",
      "Move 19: AI Player 2 - rack leave: WGNG, made word: COZ - Move: G3, Horizontal, tiles: COZ, score: 50.0\n",
      "Move 20: Deep AI Player 1 - rack leave: BCS, made word: LIONLY - Move: H1, Vertical, tiles: LILY, score: 27.0\n",
      "Move 21: AI Player 2 - rack leave: WGN, made word: GIRN - Move: L9, Horizontal, tiles: GIRN, score: 30.0\n",
      "Move 22: Deep AI Player 1 - rack leave: BC, made word: SIR - Move: A1, Horizontal, tiles: SI, score: 9.0\n",
      "Move 23: AI Player 2 - rack leave: G, made word: PWN - Move: J14, Vertical, tiles: WN, score: 16.0\n",
      "Move 24: Deep AI Player 1 - rack leave: C, made word: JAB - Move: E12, Horizontal, tiles: B, score: 12.0\n",
      "Move 25: AI Player 2 - rack leave: -, made word: FeG - Move: E3, Horizontal, tiles: G, score: 6.0\n",
      "Move 26: Deep AI Player 1 - rack leave: C, made word: n/a - Final score adjustment: -3\n",
      "Move 27: AI Player 2 - rack leave: , made word: n/a - Final score adjustment: +3\n",
      "After 1 games: (draw, player1, player2) = (0, 0, 1)\n",
      "Waiting for players\n",
      "Starting game\n",
      "('Deep AI Player 1', 'VN', 'BERTH', Move object:\n",
      "Move: D8, Horizontal, tiles: BERTH, score: 26.0)\n",
      "('AI Player 2', 'EGF', 'JAYS', Move object:\n",
      "Move: I7, Vertical, tiles: JAYS, score: 37.0)\n",
      "('Deep AI Player 1', 'Fa', 'EEVNS', Move object:\n",
      "Move: H10, Vertical, tiles: EEVNS, score: 14.0)\n",
      "('AI Player 2', 'G', 'WAFTURE', Move object:\n",
      "Move: G5, Vertical, tiles: WAFURE, score: 23.0)\n",
      "('Deep AI Player 1', 'LPRW', 'FeRM', Move object:\n",
      "Move: F6, Vertical, tiles: FeM, score: 37.0)\n",
      "('AI Player 2', 'GTVDD', 'XIS', Move object:\n",
      "Move: F14, Horizontal, tiles: XI, score: 26.0)\n",
      "('Deep AI Player 1', 'LRWB', 'ZEP', Move object:\n",
      "Move: H4, Vertical, tiles: ZEP, score: 37.0)\n",
      "('AI Player 2', 'GDDR', 'VAT', Move object:\n",
      "Move: I3, Vertical, tiles: VAT, score: 27.0)\n",
      "('Deep AI Player 1', 'RWBLK', 'WETLY', Move object:\n",
      "Move: J5, Horizontal, tiles: LY, score: 22.0)\n",
      "('AI Player 2', '-', 'REBADGED', Move object:\n",
      "Move: D6, Vertical, tiles: READGED, score: 76.0)\n",
      "('Deep AI Player 1', 'K', 'BOWLER', Move object:\n",
      "Move: C2, Vertical, tiles: BOWLER, score: 29.0)\n",
      "('AI Player 2', 'EON', 'QUIT', Move object:\n",
      "Move: D15, Horizontal, tiles: QUIT, score: 34.0)\n",
      "('Deep AI Player 1', 'PIU', 'VOLKS', Move object:\n",
      "Move: J3, Horizontal, tiles: OLKS, score: 24.0)\n",
      "('AI Player 2', 'OON', 'CANE', Move object:\n",
      "Move: D1, Vertical, tiles: CANE, score: 34.0)\n",
      "('Deep AI Player 1', 'NI', 'PUDIC', Move object:\n",
      "Move: B6, Vertical, tiles: PUDIC, score: 36.0)\n",
      "('AI Player 2', '-', 'ISOGONES', Move object:\n",
      "Move: M2, Vertical, tiles: IOGONES, score: 61.0)\n",
      "('Deep AI Player 1', 'IOD', 'UNAI', Move object:\n",
      "Move: A4, Vertical, tiles: UNAI, score: 15.0)\n",
      "('AI Player 2', 'AA', 'COOING', Move object:\n",
      "Move: E1, Horizontal, tiles: OOING, score: 27.0)\n",
      "('Deep AI Player 1', 'IAN', 'DOEsT', Move object:\n",
      "Move: K8, Horizontal, tiles: DOsT, score: 18.0)\n",
      "('AI Player 2', 'LREE', 'AHA', Move object:\n",
      "Move: J9, Vertical, tiles: AHA, score: 34.0)\n",
      "('Deep AI Player 1', 'II', 'NORMAN', Move object:\n",
      "Move: I13, Horizontal, tiles: ORMAN, score: 18.0)\n",
      "('AI Player 2', 'RT', 'ELITE', Move object:\n",
      "Move: K12, Horizontal, tiles: ELITE, score: 22.0)\n",
      "('Deep AI Player 1', 'I', 'ION', Move object:\n",
      "Move: B3, Horizontal, tiles: I, score: 3.0)\n",
      "('AI Player 2', 'T', 'REM', Move object:\n",
      "Move: K11, Vertical, tiles: R, score: 14.0)\n",
      "('Deep AI Player 1', '-', 'IO', Move object:\n",
      "Move: L4, Horizontal, tiles: I, score: 16.0)\n",
      "Game ended:\n",
      "Final scores:\n",
      "\n",
      "Deep AI Player 1 scored 296.0\n",
      "AI Player 2 scored 414.0\n",
      "\n",
      "Move list:\n",
      "Move 1: Deep AI Player 1 - rack leave: VN, made word: BERTH - Move: D8, Horizontal, tiles: BERTH, score: 26.0\n",
      "Move 2: AI Player 2 - rack leave: EGF, made word: JAYS - Move: I7, Vertical, tiles: JAYS, score: 37.0\n",
      "Move 3: Deep AI Player 1 - rack leave: Fa, made word: EEVNS - Move: H10, Vertical, tiles: EEVNS, score: 14.0\n"
     ]
    },
    {
     "name": "stdout",
     "output_type": "stream",
     "text": [
      "Move 4: AI Player 2 - rack leave: G, made word: WAFTURE - Move: G5, Vertical, tiles: WAFURE, score: 23.0\n",
      "Move 5: Deep AI Player 1 - rack leave: LPRW, made word: FeRM - Move: F6, Vertical, tiles: FeM, score: 37.0\n",
      "Move 6: AI Player 2 - rack leave: GTVDD, made word: XIS - Move: F14, Horizontal, tiles: XI, score: 26.0\n",
      "Move 7: Deep AI Player 1 - rack leave: LRWB, made word: ZEP - Move: H4, Vertical, tiles: ZEP, score: 37.0\n",
      "Move 8: AI Player 2 - rack leave: GDDR, made word: VAT - Move: I3, Vertical, tiles: VAT, score: 27.0\n",
      "Move 9: Deep AI Player 1 - rack leave: RWBLK, made word: WETLY - Move: J5, Horizontal, tiles: LY, score: 22.0\n",
      "Move 10: AI Player 2 - rack leave: -, made word: REBADGED - Move: D6, Vertical, tiles: READGED, score: 76.0\n",
      "Move 11: Deep AI Player 1 - rack leave: K, made word: BOWLER - Move: C2, Vertical, tiles: BOWLER, score: 29.0\n",
      "Move 12: AI Player 2 - rack leave: EON, made word: QUIT - Move: D15, Horizontal, tiles: QUIT, score: 34.0\n",
      "Move 13: Deep AI Player 1 - rack leave: PIU, made word: VOLKS - Move: J3, Horizontal, tiles: OLKS, score: 24.0\n",
      "Move 14: AI Player 2 - rack leave: OON, made word: CANE - Move: D1, Vertical, tiles: CANE, score: 34.0\n",
      "Move 15: Deep AI Player 1 - rack leave: NI, made word: PUDIC - Move: B6, Vertical, tiles: PUDIC, score: 36.0\n",
      "Move 16: AI Player 2 - rack leave: -, made word: ISOGONES - Move: M2, Vertical, tiles: IOGONES, score: 61.0\n",
      "Move 17: Deep AI Player 1 - rack leave: IOD, made word: UNAI - Move: A4, Vertical, tiles: UNAI, score: 15.0\n",
      "Move 18: AI Player 2 - rack leave: AA, made word: COOING - Move: E1, Horizontal, tiles: OOING, score: 27.0\n",
      "Move 19: Deep AI Player 1 - rack leave: IAN, made word: DOEsT - Move: K8, Horizontal, tiles: DOsT, score: 18.0\n",
      "Move 20: AI Player 2 - rack leave: LREE, made word: AHA - Move: J9, Vertical, tiles: AHA, score: 34.0\n",
      "Move 21: Deep AI Player 1 - rack leave: II, made word: NORMAN - Move: I13, Horizontal, tiles: ORMAN, score: 18.0\n",
      "Move 22: AI Player 2 - rack leave: RT, made word: ELITE - Move: K12, Horizontal, tiles: ELITE, score: 22.0\n",
      "Move 23: Deep AI Player 1 - rack leave: I, made word: ION - Move: B3, Horizontal, tiles: I, score: 3.0\n",
      "Move 24: AI Player 2 - rack leave: T, made word: REM - Move: K11, Vertical, tiles: R, score: 14.0\n",
      "Move 25: Deep AI Player 1 - rack leave: -, made word: IO - Move: L4, Horizontal, tiles: I, score: 16.0\n",
      "Move 26: AI Player 2 - rack leave: T, made word: n/a - Final score adjustment: -1\n",
      "Move 27: Deep AI Player 1 - rack leave: , made word: n/a - Final score adjustment: +1\n",
      "After 2 games: (draw, player1, player2) = (0, 0, 2)\n",
      "Waiting for players\n",
      "Starting game\n",
      "('Deep AI Player 1', 'R', 'MINCER', Move object:\n",
      "Move: D8, Horizontal, tiles: MINCER, score: 26.0)\n",
      "('AI Player 2', '-', 'OVERHANG', Move object:\n",
      "Move: F2, Vertical, tiles: OVERHAG, score: 75.0)\n",
      "('Deep AI Player 1', 'D', 'ARMOIRE', Move object:\n",
      "Move: D6, Vertical, tiles: AROIRE, score: 18.0)\n",
      "('AI Player 2', 'Qo', 'PEARL', Move object:\n",
      "Move: C10, Vertical, tiles: PEARL, score: 22.0)\n",
      "('Deep AI Player 1', 'R', 'ORDEALS', Move object:\n",
      "Move: E5, Horizontal, tiles: ODEALS, score: 32.0)\n",
      "('AI Player 2', 'TN', 'QUASHeD', Move object:\n",
      "Move: B6, Horizontal, tiles: QUSeD, score: 46.0)\n",
      "('Deep AI Player 1', 'BO', 'JARVIE', Move object:\n",
      "Move: C3, Horizontal, tiles: JARIE, score: 34.0)\n",
      "('AI Player 2', '-', 'TWINING', Move object:\n",
      "Move: H2, Horizontal, tiles: TWINING, score: 78.0)\n",
      "('Deep AI Player 1', 'O', 'UNBUSY', Move object:\n",
      "Move: A2, Vertical, tiles: UNBUSY, score: 34.0)\n",
      "('AI Player 2', 'OI', 'SLEAZE', Move object:\n",
      "Move: B14, Horizontal, tiles: SEAZE, score: 70.0)\n",
      "('Deep AI Player 1', 'WF', 'DOMIC', Move object:\n",
      "Move: G15, Horizontal, tiles: DOMIC, score: 33.0)\n",
      "('AI Player 2', 'IUL', 'BOOTEE', Move object:\n",
      "Move: B4, Horizontal, tiles: OOTE, score: 31.0)\n",
      "('Deep AI Player 1', 'BA', 'WHEFT', Move object:\n",
      "Move: G13, Horizontal, tiles: WHEFT, score: 30.0)\n",
      "('AI Player 2', 'LLG', 'DUIT', Move object:\n",
      "Move: L3, Horizontal, tiles: DUIT, score: 20.0)\n",
      "('Deep AI Player 1', 'AV', 'BONNeT', Move object:\n",
      "Move: K8, Vertical, tiles: BONNe, score: 14.0)\n",
      "('AI Player 2', 'LFP', 'BILGE', Move object:\n",
      "Move: L8, Horizontal, tiles: ILGE, score: 27.0)\n",
      "('Deep AI Player 1', 'AOATE', 'VLY', Move object:\n",
      "Move: M7, Vertical, tiles: VY, score: 17.0)\n",
      "('AI Player 2', 'LFPAT', 'XI', Move object:\n",
      "Move: D15, Horizontal, tiles: XI, score: 36.0)\n",
      "('Deep AI Player 1', 'AAT', 'OKE', Move object:\n",
      "Move: I1, Horizontal, tiles: OKE, score: 20.0)\n",
      "('AI Player 2', 'LFT', 'PA', Move object:\n",
      "Move: E10, Vertical, tiles: PA, score: 21.0)\n",
      "('Deep AI Player 1', 'A', 'AT', Move object:\n",
      "Move: B1, Vertical, tiles: AT, score: 8.0)\n",
      "('AI Player 2', 'T', 'FLAT', Move object:\n",
      "Move: D1, Vertical, tiles: FL, score: 11.0)\n",
      "('Deep AI Player 1', '-', 'AWED', Move object:\n",
      "Move: G12, Vertical, tiles: A, score: 8.0)\n",
      "Game ended:\n",
      "Final scores:\n",
      "\n",
      "Deep AI Player 1 scored 275.0\n",
      "AI Player 2 scored 436.0\n",
      "\n",
      "Move list:\n",
      "Move 1: Deep AI Player 1 - rack leave: R, made word: MINCER - Move: D8, Horizontal, tiles: MINCER, score: 26.0\n",
      "Move 2: AI Player 2 - rack leave: -, made word: OVERHANG - Move: F2, Vertical, tiles: OVERHAG, score: 75.0\n",
      "Move 3: Deep AI Player 1 - rack leave: D, made word: ARMOIRE - Move: D6, Vertical, tiles: AROIRE, score: 18.0\n",
      "Move 4: AI Player 2 - rack leave: Qo, made word: PEARL - Move: C10, Vertical, tiles: PEARL, score: 22.0\n",
      "Move 5: Deep AI Player 1 - rack leave: R, made word: ORDEALS - Move: E5, Horizontal, tiles: ODEALS, score: 32.0\n",
      "Move 6: AI Player 2 - rack leave: TN, made word: QUASHeD - Move: B6, Horizontal, tiles: QUSeD, score: 46.0\n",
      "Move 7: Deep AI Player 1 - rack leave: BO, made word: JARVIE - Move: C3, Horizontal, tiles: JARIE, score: 34.0\n",
      "Move 8: AI Player 2 - rack leave: -, made word: TWINING - Move: H2, Horizontal, tiles: TWINING, score: 78.0\n",
      "Move 9: Deep AI Player 1 - rack leave: O, made word: UNBUSY - Move: A2, Vertical, tiles: UNBUSY, score: 34.0\n",
      "Move 10: AI Player 2 - rack leave: OI, made word: SLEAZE - Move: B14, Horizontal, tiles: SEAZE, score: 70.0\n",
      "Move 11: Deep AI Player 1 - rack leave: WF, made word: DOMIC - Move: G15, Horizontal, tiles: DOMIC, score: 33.0\n",
      "Move 12: AI Player 2 - rack leave: IUL, made word: BOOTEE - Move: B4, Horizontal, tiles: OOTE, score: 31.0\n",
      "Move 13: Deep AI Player 1 - rack leave: BA, made word: WHEFT - Move: G13, Horizontal, tiles: WHEFT, score: 30.0\n",
      "Move 14: AI Player 2 - rack leave: LLG, made word: DUIT - Move: L3, Horizontal, tiles: DUIT, score: 20.0\n",
      "Move 15: Deep AI Player 1 - rack leave: AV, made word: BONNeT - Move: K8, Vertical, tiles: BONNe, score: 14.0\n",
      "Move 16: AI Player 2 - rack leave: LFP, made word: BILGE - Move: L8, Horizontal, tiles: ILGE, score: 27.0\n",
      "Move 17: Deep AI Player 1 - rack leave: AOATE, made word: VLY - Move: M7, Vertical, tiles: VY, score: 17.0\n",
      "Move 18: AI Player 2 - rack leave: LFPAT, made word: XI - Move: D15, Horizontal, tiles: XI, score: 36.0\n",
      "Move 19: Deep AI Player 1 - rack leave: AAT, made word: OKE - Move: I1, Horizontal, tiles: OKE, score: 20.0\n",
      "Move 20: AI Player 2 - rack leave: LFT, made word: PA - Move: E10, Vertical, tiles: PA, score: 21.0\n",
      "Move 21: Deep AI Player 1 - rack leave: A, made word: AT - Move: B1, Vertical, tiles: AT, score: 8.0\n",
      "Move 22: AI Player 2 - rack leave: T, made word: FLAT - Move: D1, Vertical, tiles: FL, score: 11.0\n",
      "Move 23: Deep AI Player 1 - rack leave: -, made word: AWED - Move: G12, Vertical, tiles: A, score: 8.0\n",
      "Move 24: AI Player 2 - rack leave: T, made word: n/a - Final score adjustment: -1\n",
      "Move 25: Deep AI Player 1 - rack leave: , made word: n/a - Final score adjustment: +1\n",
      "After 3 games: (draw, player1, player2) = (0, 0, 3)\n",
      "Waiting for players\n",
      "Starting game\n",
      "('AI Player 2', 'DND', 'VINY', Move object:\n",
      "Move: G8, Horizontal, tiles: VINY, score: 20.0)\n",
      "('Deep AI Player 1', 'F', 'EULOGY', Move object:\n",
      "Move: K6, Vertical, tiles: EULOGY, score: 31.0)\n",
      "('AI Player 2', 'DNDQE', 'FOY', Move object:\n",
      "Move: J6, Vertical, tiles: FO, score: 32.0)\n",
      "('Deep AI Player 1', 'AS', 'SAFING', Move object:\n",
      "Move: F10, Horizontal, tiles: SAFIN, score: 14.0)\n",
      "('AI Player 2', 'DQ', 'DENCH', Move object:\n",
      "Move: L2, Vertical, tiles: DENCH, score: 31.0)\n",
      "('Deep AI Player 1', 'AAJAE', 'IS', Move object:\n",
      "Move: M2, Vertical, tiles: IS, score: 11.0)\n",
      "('AI Player 2', 'QNGR', 'WED', Move object:\n"
     ]
    },
    {
     "name": "stdout",
     "output_type": "stream",
     "text": [
      "Move: M1, Horizontal, tiles: WED, score: 43.0)\n",
      "('Deep AI Player 1', 'AAARI', 'JEDI', Move object:\n",
      "Move: J2, Horizontal, tiles: JE, score: 28.0)\n",
      "('AI Player 2', 'QR', 'GOWAN', Move object:\n",
      "Move: E11, Horizontal, tiles: GOWAN, score: 32.0)\n",
      "('Deep AI Player 1', 'AAA', 'RIMA', Move object:\n",
      "Move: G3, Horizontal, tiles: RIMA, score: 19.0)\n",
      "('AI Player 2', 'QOI', 'REIVE', Move object:\n",
      "Move: H1, Vertical, tiles: REVE, score: 36.0)\n",
      "('Deep AI Player 1', 'AACB', 'LAX', Move object:\n",
      "Move: F12, Horizontal, tiles: LAX, score: 48.0)\n",
      "('AI Player 2', 'QIOO', 'KOR', Move object:\n",
      "Move: F6, Horizontal, tiles: KOR, score: 26.0)\n",
      "('Deep AI Player 1', 'AACBUD', 'JEDIS', Move object:\n",
      "Move: N2, Horizontal, tiles: S, score: 30.0)\n",
      "('AI Player 2', 'QIOT', 'RONT', Move object:\n",
      "Move: J4, Horizontal, tiles: ROT, score: 21.0)\n",
      "('Deep AI Player 1', 'AACBA', 'DUE', Move object:\n",
      "Move: F2, Horizontal, tiles: DU, score: 10.0)\n",
      "('AI Player 2', 'QOT', 'GLID', Move object:\n",
      "Move: C13, Horizontal, tiles: GLID, score: 17.0)\n",
      "('Deep AI Player 1', 'ACA', 'BANI', Move object:\n",
      "Move: C1, Horizontal, tiles: BANI, score: 10.0)\n",
      "('AI Player 2', 'ORTO', 'QAT', Move object:\n",
      "Move: B2, Horizontal, tiles: QAT, score: 30.0)\n",
      "('Deep AI Player 1', 'AAI', 'PICE', Move object:\n",
      "Move: A3, Horizontal, tiles: PICE, score: 44.0)\n",
      "('AI Player 2', 'A', 'TOOTER', Move object:\n",
      "Move: B14, Horizontal, tiles: TOOTER, score: 31.0)\n",
      "('Deep AI Player 1', 'ABE', 'PITAs', Move object:\n",
      "Move: A4, Vertical, tiles: ITAs, score: 7.0)\n",
      "('AI Player 2', 'IRUH', 'ZOA', Move object:\n",
      "Move: A15, Horizontal, tiles: ZOA, score: 42.0)\n",
      "('Deep AI Player 1', 'ES', 'EMBAr', Move object:\n",
      "Move: L11, Vertical, tiles: EMBAr, score: 21.0)\n",
      "('AI Player 2', 'RLNT', 'HUI', Move object:\n",
      "Move: M11, Vertical, tiles: HUI, score: 33.0)\n",
      "('Deep AI Player 1', 'E', 'EUPHUISE', Move object:\n",
      "Move: M8, Vertical, tiles: EUPSE, score: 19.0)\n",
      "('AI Player 2', 'RLT', 'IN', Move object:\n",
      "Move: B4, Horizontal, tiles: N, score: 14.0)\n",
      "('Deep AI Player 1', '-', 'PE', Move object:\n",
      "Move: N10, Horizontal, tiles: E, score: 6.0)\n",
      "Game ended:\n",
      "Final scores:\n",
      "\n",
      "AI Player 2 scored 405.0\n",
      "Deep AI Player 1 scored 301.0\n",
      "\n",
      "Move list:\n",
      "Move 1: AI Player 2 - rack leave: DND, made word: VINY - Move: G8, Horizontal, tiles: VINY, score: 20.0\n",
      "Move 2: Deep AI Player 1 - rack leave: F, made word: EULOGY - Move: K6, Vertical, tiles: EULOGY, score: 31.0\n",
      "Move 3: AI Player 2 - rack leave: DNDQE, made word: FOY - Move: J6, Vertical, tiles: FO, score: 32.0\n",
      "Move 4: Deep AI Player 1 - rack leave: AS, made word: SAFING - Move: F10, Horizontal, tiles: SAFIN, score: 14.0\n",
      "Move 5: AI Player 2 - rack leave: DQ, made word: DENCH - Move: L2, Vertical, tiles: DENCH, score: 31.0\n",
      "Move 6: Deep AI Player 1 - rack leave: AAJAE, made word: IS - Move: M2, Vertical, tiles: IS, score: 11.0\n",
      "Move 7: AI Player 2 - rack leave: QNGR, made word: WED - Move: M1, Horizontal, tiles: WED, score: 43.0\n",
      "Move 8: Deep AI Player 1 - rack leave: AAARI, made word: JEDI - Move: J2, Horizontal, tiles: JE, score: 28.0\n",
      "Move 9: AI Player 2 - rack leave: QR, made word: GOWAN - Move: E11, Horizontal, tiles: GOWAN, score: 32.0\n",
      "Move 10: Deep AI Player 1 - rack leave: AAA, made word: RIMA - Move: G3, Horizontal, tiles: RIMA, score: 19.0\n",
      "Move 11: AI Player 2 - rack leave: QOI, made word: REIVE - Move: H1, Vertical, tiles: REVE, score: 36.0\n",
      "Move 12: Deep AI Player 1 - rack leave: AACB, made word: LAX - Move: F12, Horizontal, tiles: LAX, score: 48.0\n",
      "Move 13: AI Player 2 - rack leave: QIOO, made word: KOR - Move: F6, Horizontal, tiles: KOR, score: 26.0\n",
      "Move 14: Deep AI Player 1 - rack leave: AACBUD, made word: JEDIS - Move: N2, Horizontal, tiles: S, score: 30.0\n",
      "Move 15: AI Player 2 - rack leave: QIOT, made word: RONT - Move: J4, Horizontal, tiles: ROT, score: 21.0\n",
      "Move 16: Deep AI Player 1 - rack leave: AACBA, made word: DUE - Move: F2, Horizontal, tiles: DU, score: 10.0\n",
      "Move 17: AI Player 2 - rack leave: QOT, made word: GLID - Move: C13, Horizontal, tiles: GLID, score: 17.0\n",
      "Move 18: Deep AI Player 1 - rack leave: ACA, made word: BANI - Move: C1, Horizontal, tiles: BANI, score: 10.0\n",
      "Move 19: AI Player 2 - rack leave: ORTO, made word: QAT - Move: B2, Horizontal, tiles: QAT, score: 30.0\n",
      "Move 20: Deep AI Player 1 - rack leave: AAI, made word: PICE - Move: A3, Horizontal, tiles: PICE, score: 44.0\n",
      "Move 21: AI Player 2 - rack leave: A, made word: TOOTER - Move: B14, Horizontal, tiles: TOOTER, score: 31.0\n",
      "Move 22: Deep AI Player 1 - rack leave: ABE, made word: PITAs - Move: A4, Vertical, tiles: ITAs, score: 7.0\n",
      "Move 23: AI Player 2 - rack leave: IRUH, made word: ZOA - Move: A15, Horizontal, tiles: ZOA, score: 42.0\n",
      "Move 24: Deep AI Player 1 - rack leave: ES, made word: EMBAr - Move: L11, Vertical, tiles: EMBAr, score: 21.0\n",
      "Move 25: AI Player 2 - rack leave: RLNT, made word: HUI - Move: M11, Vertical, tiles: HUI, score: 33.0\n",
      "Move 26: Deep AI Player 1 - rack leave: E, made word: EUPHUISE - Move: M8, Vertical, tiles: EUPSE, score: 19.0\n",
      "Move 27: AI Player 2 - rack leave: RLT, made word: IN - Move: B4, Horizontal, tiles: N, score: 14.0\n",
      "Move 28: Deep AI Player 1 - rack leave: -, made word: PE - Move: N10, Horizontal, tiles: E, score: 6.0\n",
      "Move 29: AI Player 2 - rack leave: RLT, made word: n/a - Final score adjustment: -3\n",
      "Move 30: Deep AI Player 1 - rack leave: , made word: n/a - Final score adjustment: +3\n",
      "After 4 games: (draw, player1, player2) = (0, 0, 4)\n",
      "Waiting for players\n",
      "Starting game\n",
      "('AI Player 2', 'A', 'KEYSET', Move object:\n",
      "Move: D8, Horizontal, tiles: KEYSET, score: 36.0)\n",
      "('Deep AI Player 1', 'AIZJs', 'XI', Move object:\n",
      "Move: C9, Horizontal, tiles: XI, score: 23.0)\n",
      "('AI Player 2', 'DD', 'ATTAR', Move object:\n",
      "Move: F9, Horizontal, tiles: ATTAR, score: 20.0)\n",
      "('Deep AI Player 1', 'AJAI', 'sIZE', Move object:\n",
      "Move: E5, Vertical, tiles: sIZ, score: 24.0)\n",
      "('AI Player 2', 'R', 'ELIDED', Move object:\n",
      "Move: A10, Horizontal, tiles: ELIDED, score: 42.0)\n",
      "('Deep AI Player 1', 'JC', 'LAARI', Move object:\n",
      "Move: D1, Vertical, tiles: LAARI, score: 13.0)\n",
      "('AI Player 2', 'RQH', 'MIAOW', Move object:\n",
      "Move: B2, Horizontal, tiles: MIOW, score: 36.0)\n",
      "('Deep AI Player 1', 'JC', 'EUOUAE', Move object:\n",
      "Move: A5, Vertical, tiles: EUOUA, score: 18.0)\n",
      "('AI Player 2', 'RQGCD', 'HM', Move object:\n",
      "Move: B6, Vertical, tiles: HM, score: 32.0)\n",
      "('Deep AI Player 1', 'JCE', 'LOONS', Move object:\n",
      "Move: E1, Horizontal, tiles: OONS, score: 22.0)\n",
      "('AI Player 2', 'QG', 'CEDARN', Move object:\n",
      "Move: A3, Horizontal, tiles: CEDRN, score: 37.0)\n",
      "('Deep AI Player 1', 'JCEEG', 'WE', Move object:\n",
      "Move: A1, Horizontal, tiles: WE, score: 20.0)\n",
      "('AI Player 2', 'GTAI', 'QUIST', Move object:\n",
      "Move: G5, Vertical, tiles: QUI, score: 15.0)\n",
      "('Deep AI Player 1', 'CGVY', 'JEE', Move object:\n",
      "Move: I10, Horizontal, tiles: JEE, score: 26.0)\n",
      "('AI Player 2', 'GI', 'BAsTA', Move object:\n",
      "Move: L8, Vertical, tiles: BAsTA, score: 28.0)\n",
      "('Deep AI Player 1', 'CGF', 'LEVY', Move object:\n",
      "Move: M5, Vertical, tiles: LEVY, score: 21.0)\n",
      "('AI Player 2', '-', 'AGITATES', Move object:\n",
      "Move: H12, Horizontal, tiles: AGITTES, score: 61.0)\n",
      "('Deep AI Player 1', 'FG', 'CHING', Move object:\n",
      "Move: D13, Horizontal, tiles: CHING, score: 15.0)\n",
      "('AI Player 2', 'OVOB', 'PIP', Move object:\n",
      "Move: C12, Vertical, tiles: PIP, score: 38.0)\n",
      "('Deep AI Player 1', 'FGD', 'INULAS', Move object:\n",
      "Move: F6, Horizontal, tiles: NLAS, score: 10.0)\n",
      "('AI Player 2', 'OBU', 'OVEN', Move object:\n",
      "Move: A15, Horizontal, tiles: OVEN, score: 32.0)\n",
      "('Deep AI Player 1', 'GRRN', 'DIFF', Move object:\n",
      "Move: F12, Vertical, tiles: DFF, score: 19.0)\n",
      "('AI Player 2', 'UOO', 'FORB', Move object:\n",
      "Move: G15, Horizontal, tiles: ORB, score: 27.0)\n",
      "('Deep AI Player 1', 'GRN', 'RICHING', Move object:\n",
      "Move: B13, Horizontal, tiles: R, score: 13.0)\n",
      "('AI Player 2', 'U', 'POOF', Move object:\n",
      "Move: D14, Horizontal, tiles: OO, score: 18.0)\n",
      "('Deep AI Player 1', 'GN', 'ER', Move object:\n",
      "Move: E11, Vertical, tiles: R, score: 4.0)\n",
      "('AI Player 2', '-', 'UR', Move object:\n",
      "Move: B12, Vertical, tiles: U, score: 6.0)\n",
      "Game ended:\n",
      "Final scores:\n",
      "\n",
      "AI Player 2 scored 431.0\n",
      "Deep AI Player 1 scored 225.0\n",
      "\n",
      "Move list:\n",
      "Move 1: AI Player 2 - rack leave: A, made word: KEYSET - Move: D8, Horizontal, tiles: KEYSET, score: 36.0\n"
     ]
    },
    {
     "name": "stdout",
     "output_type": "stream",
     "text": [
      "Move 2: Deep AI Player 1 - rack leave: AIZJs, made word: XI - Move: C9, Horizontal, tiles: XI, score: 23.0\n",
      "Move 3: AI Player 2 - rack leave: DD, made word: ATTAR - Move: F9, Horizontal, tiles: ATTAR, score: 20.0\n",
      "Move 4: Deep AI Player 1 - rack leave: AJAI, made word: sIZE - Move: E5, Vertical, tiles: sIZ, score: 24.0\n",
      "Move 5: AI Player 2 - rack leave: R, made word: ELIDED - Move: A10, Horizontal, tiles: ELIDED, score: 42.0\n",
      "Move 6: Deep AI Player 1 - rack leave: JC, made word: LAARI - Move: D1, Vertical, tiles: LAARI, score: 13.0\n",
      "Move 7: AI Player 2 - rack leave: RQH, made word: MIAOW - Move: B2, Horizontal, tiles: MIOW, score: 36.0\n",
      "Move 8: Deep AI Player 1 - rack leave: JC, made word: EUOUAE - Move: A5, Vertical, tiles: EUOUA, score: 18.0\n",
      "Move 9: AI Player 2 - rack leave: RQGCD, made word: HM - Move: B6, Vertical, tiles: HM, score: 32.0\n",
      "Move 10: Deep AI Player 1 - rack leave: JCE, made word: LOONS - Move: E1, Horizontal, tiles: OONS, score: 22.0\n",
      "Move 11: AI Player 2 - rack leave: QG, made word: CEDARN - Move: A3, Horizontal, tiles: CEDRN, score: 37.0\n",
      "Move 12: Deep AI Player 1 - rack leave: JCEEG, made word: WE - Move: A1, Horizontal, tiles: WE, score: 20.0\n",
      "Move 13: AI Player 2 - rack leave: GTAI, made word: QUIST - Move: G5, Vertical, tiles: QUI, score: 15.0\n",
      "Move 14: Deep AI Player 1 - rack leave: CGVY, made word: JEE - Move: I10, Horizontal, tiles: JEE, score: 26.0\n",
      "Move 15: AI Player 2 - rack leave: GI, made word: BAsTA - Move: L8, Vertical, tiles: BAsTA, score: 28.0\n",
      "Move 16: Deep AI Player 1 - rack leave: CGF, made word: LEVY - Move: M5, Vertical, tiles: LEVY, score: 21.0\n",
      "Move 17: AI Player 2 - rack leave: -, made word: AGITATES - Move: H12, Horizontal, tiles: AGITTES, score: 61.0\n",
      "Move 18: Deep AI Player 1 - rack leave: FG, made word: CHING - Move: D13, Horizontal, tiles: CHING, score: 15.0\n",
      "Move 19: AI Player 2 - rack leave: OVOB, made word: PIP - Move: C12, Vertical, tiles: PIP, score: 38.0\n",
      "Move 20: Deep AI Player 1 - rack leave: FGD, made word: INULAS - Move: F6, Horizontal, tiles: NLAS, score: 10.0\n",
      "Move 21: AI Player 2 - rack leave: OBU, made word: OVEN - Move: A15, Horizontal, tiles: OVEN, score: 32.0\n",
      "Move 22: Deep AI Player 1 - rack leave: GRRN, made word: DIFF - Move: F12, Vertical, tiles: DFF, score: 19.0\n",
      "Move 23: AI Player 2 - rack leave: UOO, made word: FORB - Move: G15, Horizontal, tiles: ORB, score: 27.0\n",
      "Move 24: Deep AI Player 1 - rack leave: GRN, made word: RICHING - Move: B13, Horizontal, tiles: R, score: 13.0\n",
      "Move 25: AI Player 2 - rack leave: U, made word: POOF - Move: D14, Horizontal, tiles: OO, score: 18.0\n",
      "Move 26: Deep AI Player 1 - rack leave: GN, made word: ER - Move: E11, Vertical, tiles: R, score: 4.0\n",
      "Move 27: AI Player 2 - rack leave: -, made word: UR - Move: B12, Vertical, tiles: U, score: 6.0\n",
      "Move 28: Deep AI Player 1 - rack leave: GN, made word: n/a - Final score adjustment: -3\n",
      "Move 29: AI Player 2 - rack leave: , made word: n/a - Final score adjustment: +3\n",
      "After 5 games: (draw, player1, player2) = (0, 0, 5)\n",
      "Waiting for players\n",
      "Starting game\n",
      "('AI Player 2', 'U', 'WINIER', Move object:\n",
      "Move: D8, Horizontal, tiles: WINIER, score: 26.0)\n",
      "('Deep AI Player 1', 'DI', 'NOTUM', Move object:\n",
      "Move: C7, Horizontal, tiles: NOTUM, score: 27.0)\n",
      "('AI Player 2', 'WON', 'FURROW', Move object:\n",
      "Move: D3, Vertical, tiles: FURR, score: 24.0)\n",
      "('Deep AI Player 1', 'KB', 'UNHIVED', Move object:\n",
      "Move: F9, Vertical, tiles: HIVED, score: 16.0)\n",
      "('AI Player 2', 'NUTe', 'WOG', Move object:\n",
      "Move: C2, Vertical, tiles: WOG, score: 27.0)\n",
      "('Deep AI Player 1', 'B', 'KADDISH', Move object:\n",
      "Move: C13, Horizontal, tiles: KADISH, score: 42.0)\n",
      "('AI Player 2', '-', 'INTeRCUT', Move object:\n",
      "Move: I4, Vertical, tiles: INTeCUT, score: 62.0)\n",
      "('Deep AI Player 1', 'D', 'EBRIETY', Move object:\n",
      "Move: F4, Horizontal, tiles: EBRETY, score: 26.0)\n",
      "('AI Player 2', 'LMV', 'EXES', Move object:\n",
      "Move: I14, Horizontal, tiles: EXES, score: 32.0)\n",
      "('Deep AI Player 1', 'QA', 'sTIPED', Move object:\n",
      "Move: H11, Horizontal, tiles: sIPED, score: 16.0)\n",
      "('AI Player 2', 'C', 'VERMIL', Move object:\n",
      "Move: F15, Horizontal, tiles: VERMIL, score: 52.0)\n",
      "('Deep AI Player 1', 'QEA', 'DADOS', Move object:\n",
      "Move: M9, Vertical, tiles: DAOS, score: 18.0)\n",
      "('AI Player 2', '-', 'FOOTRACE', Move object:\n",
      "Move: K1, Vertical, tiles: FOORACE, score: 76.0)\n",
      "('Deep AI Player 1', 'QA', 'BEFOOL', Move object:\n",
      "Move: I1, Horizontal, tiles: BEOOL, score: 12.0)\n",
      "('AI Player 2', 'NAO', 'PONGA', Move object:\n",
      "Move: J3, Horizontal, tiles: PNGA, score: 25.0)\n",
      "('Deep AI Player 1', 'QA', 'SEIZA', Move object:\n",
      "Move: O3, Vertical, tiles: SEIZA, score: 24.0)\n",
      "('AI Player 2', 'NAUI', 'TAO', Move object:\n",
      "Move: B1, Vertical, tiles: TAO, score: 22.0)\n",
      "('Deep AI Player 1', 'QAA', 'YELT', Move object:\n",
      "Move: A3, Vertical, tiles: YELT, score: 18.0)\n",
      "('AI Player 2', 'NIN', 'JUGA', Move object:\n",
      "Move: F2, Horizontal, tiles: JUGA, score: 32.0)\n",
      "('Deep AI Player 1', 'QA', 'ALA', Move object:\n",
      "Move: D11, Vertical, tiles: AL, score: 6.0)\n",
      "('AI Player 2', '-', 'NONI', Move object:\n",
      "Move: L12, Horizontal, tiles: NNI, score: 14.0)\n",
      "Game ended:\n",
      "Final scores:\n",
      "\n",
      "AI Player 2 scored 403.0\n",
      "Deep AI Player 1 scored 194.0\n",
      "\n",
      "Move list:\n",
      "Move 1: AI Player 2 - rack leave: U, made word: WINIER - Move: D8, Horizontal, tiles: WINIER, score: 26.0\n",
      "Move 2: Deep AI Player 1 - rack leave: DI, made word: NOTUM - Move: C7, Horizontal, tiles: NOTUM, score: 27.0\n",
      "Move 3: AI Player 2 - rack leave: WON, made word: FURROW - Move: D3, Vertical, tiles: FURR, score: 24.0\n",
      "Move 4: Deep AI Player 1 - rack leave: KB, made word: UNHIVED - Move: F9, Vertical, tiles: HIVED, score: 16.0\n",
      "Move 5: AI Player 2 - rack leave: NUTe, made word: WOG - Move: C2, Vertical, tiles: WOG, score: 27.0\n",
      "Move 6: Deep AI Player 1 - rack leave: B, made word: KADDISH - Move: C13, Horizontal, tiles: KADISH, score: 42.0\n",
      "Move 7: AI Player 2 - rack leave: -, made word: INTeRCUT - Move: I4, Vertical, tiles: INTeCUT, score: 62.0\n",
      "Move 8: Deep AI Player 1 - rack leave: D, made word: EBRIETY - Move: F4, Horizontal, tiles: EBRETY, score: 26.0\n",
      "Move 9: AI Player 2 - rack leave: LMV, made word: EXES - Move: I14, Horizontal, tiles: EXES, score: 32.0\n",
      "Move 10: Deep AI Player 1 - rack leave: QA, made word: sTIPED - Move: H11, Horizontal, tiles: sIPED, score: 16.0\n",
      "Move 11: AI Player 2 - rack leave: C, made word: VERMIL - Move: F15, Horizontal, tiles: VERMIL, score: 52.0\n",
      "Move 12: Deep AI Player 1 - rack leave: QEA, made word: DADOS - Move: M9, Vertical, tiles: DAOS, score: 18.0\n",
      "Move 13: AI Player 2 - rack leave: -, made word: FOOTRACE - Move: K1, Vertical, tiles: FOORACE, score: 76.0\n",
      "Move 14: Deep AI Player 1 - rack leave: QA, made word: BEFOOL - Move: I1, Horizontal, tiles: BEOOL, score: 12.0\n",
      "Move 15: AI Player 2 - rack leave: NAO, made word: PONGA - Move: J3, Horizontal, tiles: PNGA, score: 25.0\n",
      "Move 16: Deep AI Player 1 - rack leave: QA, made word: SEIZA - Move: O3, Vertical, tiles: SEIZA, score: 24.0\n",
      "Move 17: AI Player 2 - rack leave: NAUI, made word: TAO - Move: B1, Vertical, tiles: TAO, score: 22.0\n",
      "Move 18: Deep AI Player 1 - rack leave: QAA, made word: YELT - Move: A3, Vertical, tiles: YELT, score: 18.0\n",
      "Move 19: AI Player 2 - rack leave: NIN, made word: JUGA - Move: F2, Horizontal, tiles: JUGA, score: 32.0\n",
      "Move 20: Deep AI Player 1 - rack leave: QA, made word: ALA - Move: D11, Vertical, tiles: AL, score: 6.0\n",
      "Move 21: AI Player 2 - rack leave: -, made word: NONI - Move: L12, Horizontal, tiles: NNI, score: 14.0\n",
      "Move 22: Deep AI Player 1 - rack leave: QA, made word: n/a - Final score adjustment: -11\n",
      "Move 23: AI Player 2 - rack leave: , made word: n/a - Final score adjustment: +11\n",
      "After 6 games: (draw, player1, player2) = (0, 0, 6)\n",
      "Waiting for players\n",
      "Starting game\n",
      "('AI Player 2', '-', 'MOTLIER', Move object:\n",
      "Move: D8, Horizontal, tiles: MOTLIER, score: 74.0)\n",
      "('Deep AI Player 1', '-', 'LITHEMIC', Move object:\n",
      "Move: D3, Vertical, tiles: LITHEIC, score: 80.0)\n",
      "('AI Player 2', 'BNNV', 'OFF', Move object:\n",
      "Move: G9, Horizontal, tiles: OFF, score: 31.0)\n",
      "('Deep AI Player 1', 'QRSNC', 'JET', Move object:\n",
      "Move: F6, Vertical, tiles: JE, score: 26.0)\n",
      "('AI Player 2', 'BNNVV', 'ST', Move object:\n",
      "Move: H7, Horizontal, tiles: ST, score: 16.0)\n",
      "('Deep AI Player 1', 'Q', 'NICHERS', Move object:\n",
      "Move: C4, Horizontal, tiles: NCHERS, score: 13.0)\n",
      "('AI Player 2', 'BNNVA', 'RAV', Move object:\n"
     ]
    },
    {
     "name": "stdout",
     "output_type": "stream",
     "text": [
      "Move: J9, Vertical, tiles: AV, score: 24.0)\n",
      "('Deep AI Player 1', 'ODO', 'QUIRE', Move object:\n",
      "Move: H1, Vertical, tiles: QUIE, score: 42.0)\n",
      "('AI Player 2', 'BNVA', 'GENA', Move object:\n",
      "Move: G3, Vertical, tiles: GNA, score: 23.0)\n",
      "('Deep AI Player 1', 'OWLU', 'DOZE', Move object:\n",
      "Move: A7, Horizontal, tiles: DOZ, score: 24.0)\n",
      "('AI Player 2', 'BNVOG', 'AX', Move object:\n",
      "Move: A8, Horizontal, tiles: AX, score: 45.0)\n",
      "('Deep AI Player 1', 'LUYRR', 'OW', Move object:\n",
      "Move: A6, Horizontal, tiles: OW, score: 38.0)\n",
      "('AI Player 2', 'BVOW', 'INGS', Move object:\n",
      "Move: I1, Vertical, tiles: ING, score: 27.0)\n",
      "('Deep AI Player 1', 'Y', 'RULIER', Move object:\n",
      "Move: F11, Horizontal, tiles: RULIER, score: 19.0)\n",
      "('AI Player 2', 'B', 'REWOVE', Move object:\n",
      "Move: J12, Horizontal, tiles: REWOVE, score: 36.0)\n",
      "('Deep AI Player 1', 'OMO', 'YIDS', Move object:\n",
      "Move: G13, Horizontal, tiles: YIDS, score: 23.0)\n",
      "('AI Player 2', 'BBDPN', 'INK', Move object:\n",
      "Move: H14, Vertical, tiles: NK, score: 21.0)\n",
      "('Deep AI Player 1', '-', 'ENDOSOME', Move object:\n",
      "Move: O5, Vertical, tiles: ENDOSOM, score: 83.0)\n",
      "('AI Player 2', 'BBDN', 'PUP', Move object:\n",
      "Move: N8, Vertical, tiles: PUP, score: 29.0)\n",
      "('Deep AI Player 1', 'EA', 'YOGAs', Move object:\n",
      "Move: M5, Vertical, tiles: YOGAs, score: 17.0)\n",
      "('AI Player 2', 'DNTU', 'eBB', Move object:\n",
      "Move: L4, Vertical, tiles: eBB, score: 23.0)\n",
      "('Deep AI Player 1', 'AEA', 'TRET', Move object:\n",
      "Move: N2, Vertical, tiles: TRET, score: 16.0)\n",
      "('AI Player 2', 'DTU', 'ANANA', Move object:\n",
      "Move: C1, Vertical, tiles: ANAA, score: 16.0)\n",
      "('Deep AI Player 1', 'EAE', 'AALII', Move object:\n",
      "Move: B1, Horizontal, tiles: ALII, score: 6.0)\n",
      "('AI Player 2', 'T', 'DUN', Move object:\n",
      "Move: F14, Horizontal, tiles: DU, score: 13.0)\n",
      "('Deep AI Player 1', 'E', 'ACE', Move object:\n",
      "Move: E3, Vertical, tiles: AE, score: 19.0)\n",
      "('AI Player 2', '-', 'TALA', Move object:\n",
      "Move: B3, Horizontal, tiles: T, score: 4.0)\n",
      "Game ended:\n",
      "Final scores:\n",
      "\n",
      "AI Player 2 scored 383.0\n",
      "Deep AI Player 1 scored 405.0\n",
      "\n",
      "Move list:\n",
      "Move 1: AI Player 2 - rack leave: -, made word: MOTLIER - Move: D8, Horizontal, tiles: MOTLIER, score: 74.0\n",
      "Move 2: Deep AI Player 1 - rack leave: -, made word: LITHEMIC - Move: D3, Vertical, tiles: LITHEIC, score: 80.0\n",
      "Move 3: AI Player 2 - rack leave: BNNV, made word: OFF - Move: G9, Horizontal, tiles: OFF, score: 31.0\n",
      "Move 4: Deep AI Player 1 - rack leave: QRSNC, made word: JET - Move: F6, Vertical, tiles: JE, score: 26.0\n",
      "Move 5: AI Player 2 - rack leave: BNNVV, made word: ST - Move: H7, Horizontal, tiles: ST, score: 16.0\n",
      "Move 6: Deep AI Player 1 - rack leave: Q, made word: NICHERS - Move: C4, Horizontal, tiles: NCHERS, score: 13.0\n",
      "Move 7: AI Player 2 - rack leave: BNNVA, made word: RAV - Move: J9, Vertical, tiles: AV, score: 24.0\n",
      "Move 8: Deep AI Player 1 - rack leave: ODO, made word: QUIRE - Move: H1, Vertical, tiles: QUIE, score: 42.0\n",
      "Move 9: AI Player 2 - rack leave: BNVA, made word: GENA - Move: G3, Vertical, tiles: GNA, score: 23.0\n",
      "Move 10: Deep AI Player 1 - rack leave: OWLU, made word: DOZE - Move: A7, Horizontal, tiles: DOZ, score: 24.0\n",
      "Move 11: AI Player 2 - rack leave: BNVOG, made word: AX - Move: A8, Horizontal, tiles: AX, score: 45.0\n",
      "Move 12: Deep AI Player 1 - rack leave: LUYRR, made word: OW - Move: A6, Horizontal, tiles: OW, score: 38.0\n",
      "Move 13: AI Player 2 - rack leave: BVOW, made word: INGS - Move: I1, Vertical, tiles: ING, score: 27.0\n",
      "Move 14: Deep AI Player 1 - rack leave: Y, made word: RULIER - Move: F11, Horizontal, tiles: RULIER, score: 19.0\n",
      "Move 15: AI Player 2 - rack leave: B, made word: REWOVE - Move: J12, Horizontal, tiles: REWOVE, score: 36.0\n",
      "Move 16: Deep AI Player 1 - rack leave: OMO, made word: YIDS - Move: G13, Horizontal, tiles: YIDS, score: 23.0\n",
      "Move 17: AI Player 2 - rack leave: BBDPN, made word: INK - Move: H14, Vertical, tiles: NK, score: 21.0\n",
      "Move 18: Deep AI Player 1 - rack leave: -, made word: ENDOSOME - Move: O5, Vertical, tiles: ENDOSOM, score: 83.0\n",
      "Move 19: AI Player 2 - rack leave: BBDN, made word: PUP - Move: N8, Vertical, tiles: PUP, score: 29.0\n",
      "Move 20: Deep AI Player 1 - rack leave: EA, made word: YOGAs - Move: M5, Vertical, tiles: YOGAs, score: 17.0\n",
      "Move 21: AI Player 2 - rack leave: DNTU, made word: eBB - Move: L4, Vertical, tiles: eBB, score: 23.0\n",
      "Move 22: Deep AI Player 1 - rack leave: AEA, made word: TRET - Move: N2, Vertical, tiles: TRET, score: 16.0\n",
      "Move 23: AI Player 2 - rack leave: DTU, made word: ANANA - Move: C1, Vertical, tiles: ANAA, score: 16.0\n",
      "Move 24: Deep AI Player 1 - rack leave: EAE, made word: AALII - Move: B1, Horizontal, tiles: ALII, score: 6.0\n",
      "Move 25: AI Player 2 - rack leave: T, made word: DUN - Move: F14, Horizontal, tiles: DU, score: 13.0\n",
      "Move 26: Deep AI Player 1 - rack leave: E, made word: ACE - Move: E3, Vertical, tiles: AE, score: 19.0\n",
      "Move 27: AI Player 2 - rack leave: -, made word: TALA - Move: B3, Horizontal, tiles: T, score: 4.0\n",
      "Move 28: Deep AI Player 1 - rack leave: E, made word: n/a - Final score adjustment: -1\n",
      "Move 29: AI Player 2 - rack leave: , made word: n/a - Final score adjustment: +1\n",
      "After 7 games: (draw, player1, player2) = (0, 1, 6)\n",
      "Waiting for players\n",
      "Starting game\n",
      "('AI Player 2', '-', 'AREOLAS', Move object:\n",
      "Move: C8, Horizontal, tiles: AREOLAS, score: 66.0)\n",
      "('Deep AI Player 1', 'AA', 'LINERS', Move object:\n",
      "Move: I3, Vertical, tiles: LINER, score: 8.0)\n",
      "('AI Player 2', 'VENI', 'OAF', Move object:\n",
      "Move: J4, Vertical, tiles: OAF, score: 31.0)\n",
      "('Deep AI Player 1', 'AAT', 'FAST', Move object:\n",
      "Move: K2, Vertical, tiles: FAST, score: 23.0)\n",
      "('AI Player 2', '-', 'ENVIsAGE', Move object:\n",
      "Move: C3, Vertical, tiles: ENVIsGE, score: 76.0)\n",
      "('Deep AI Player 1', 'A', 'VILAYET', Move object:\n",
      "Move: E3, Vertical, tiles: VILAYT, score: 26.0)\n",
      "('AI Player 2', 'ZENET', 'XU', Move object:\n",
      "Move: B6, Vertical, tiles: XU, score: 51.0)\n",
      "('Deep AI Player 1', 'ACT', 'MOCK', Move object:\n",
      "Move: D10, Vertical, tiles: MOCK, score: 28.0)\n",
      "('AI Player 2', 'NTIO', 'ZEE', Move object:\n",
      "Move: H1, Vertical, tiles: ZEE, score: 38.0)\n",
      "('Deep AI Player 1', 'CT', 'KeDDAH', Move object:\n",
      "Move: E13, Horizontal, tiles: eDDAH, score: 20.0)\n",
      "('AI Player 2', 'TNN', 'NGAIO', Move object:\n",
      "Move: H11, Vertical, tiles: NGIO, score: 24.0)\n",
      "('Deep AI Player 1', 'CIH', 'WOOTZ', Move object:\n",
      "Move: D1, Horizontal, tiles: WOOT, score: 21.0)\n",
      "('AI Player 2', 'NNTE', 'QAT', Move object:\n",
      "Move: B1, Vertical, tiles: QAT, score: 26.0)\n",
      "('Deep AI Player 1', 'CD', 'INSHIP', Move object:\n",
      "Move: G11, Horizontal, tiles: ISHIP, score: 22.0)\n",
      "('AI Player 2', 'NNR', 'WEET', Move object:\n",
      "Move: B10, Vertical, tiles: WEET, score: 31.0)\n",
      "('Deep AI Player 1', 'J', 'SOUCED', Move object:\n",
      "Move: J10, Horizontal, tiles: SOUCED, score: 26.0)\n",
      "('AI Player 2', 'NRL', 'BENT', Move object:\n",
      "Move: A12, Vertical, tiles: BENT, score: 36.0)\n",
      "('Deep AI Player 1', 'JB', 'DERNED', Move object:\n",
      "Move: O5, Vertical, tiles: DERNE, score: 24.0)\n",
      "('AI Player 2', 'R', 'MURLIN', Move object:\n",
      "Move: N1, Vertical, tiles: MURLIN, score: 27.0)\n",
      "('Deep AI Player 1', 'JBGI', 'OUP', Move object:\n",
      "Move: A7, Vertical, tiles: OUP, score: 17.0)\n",
      "('AI Player 2', 'IRA', 'ARMY', Move object:\n",
      "Move: L1, Horizontal, tiles: ARY, score: 30.0)\n",
      "('Deep AI Player 1', 'BG', 'AJI', Move object:\n",
      "Move: F6, Horizontal, tiles: JI, score: 26.0)\n",
      "('AI Player 2', '-', 'RUPIA', Move object:\n",
      "Move: L9, Vertical, tiles: RIA, score: 14.0)\n",
      "Game ended:\n",
      "Final scores:\n",
      "\n",
      "AI Player 2 scored 455.0\n",
      "Deep AI Player 1 scored 236.0\n",
      "\n",
      "Move list:\n",
      "Move 1: AI Player 2 - rack leave: -, made word: AREOLAS - Move: C8, Horizontal, tiles: AREOLAS, score: 66.0\n",
      "Move 2: Deep AI Player 1 - rack leave: AA, made word: LINERS - Move: I3, Vertical, tiles: LINER, score: 8.0\n",
      "Move 3: AI Player 2 - rack leave: VENI, made word: OAF - Move: J4, Vertical, tiles: OAF, score: 31.0\n",
      "Move 4: Deep AI Player 1 - rack leave: AAT, made word: FAST - Move: K2, Vertical, tiles: FAST, score: 23.0\n",
      "Move 5: AI Player 2 - rack leave: -, made word: ENVIsAGE - Move: C3, Vertical, tiles: ENVIsGE, score: 76.0\n",
      "Move 6: Deep AI Player 1 - rack leave: A, made word: VILAYET - Move: E3, Vertical, tiles: VILAYT, score: 26.0\n",
      "Move 7: AI Player 2 - rack leave: ZENET, made word: XU - Move: B6, Vertical, tiles: XU, score: 51.0\n"
     ]
    },
    {
     "name": "stdout",
     "output_type": "stream",
     "text": [
      "Move 8: Deep AI Player 1 - rack leave: ACT, made word: MOCK - Move: D10, Vertical, tiles: MOCK, score: 28.0\n",
      "Move 9: AI Player 2 - rack leave: NTIO, made word: ZEE - Move: H1, Vertical, tiles: ZEE, score: 38.0\n",
      "Move 10: Deep AI Player 1 - rack leave: CT, made word: KeDDAH - Move: E13, Horizontal, tiles: eDDAH, score: 20.0\n",
      "Move 11: AI Player 2 - rack leave: TNN, made word: NGAIO - Move: H11, Vertical, tiles: NGIO, score: 24.0\n",
      "Move 12: Deep AI Player 1 - rack leave: CIH, made word: WOOTZ - Move: D1, Horizontal, tiles: WOOT, score: 21.0\n",
      "Move 13: AI Player 2 - rack leave: NNTE, made word: QAT - Move: B1, Vertical, tiles: QAT, score: 26.0\n",
      "Move 14: Deep AI Player 1 - rack leave: CD, made word: INSHIP - Move: G11, Horizontal, tiles: ISHIP, score: 22.0\n",
      "Move 15: AI Player 2 - rack leave: NNR, made word: WEET - Move: B10, Vertical, tiles: WEET, score: 31.0\n",
      "Move 16: Deep AI Player 1 - rack leave: J, made word: SOUCED - Move: J10, Horizontal, tiles: SOUCED, score: 26.0\n",
      "Move 17: AI Player 2 - rack leave: NRL, made word: BENT - Move: A12, Vertical, tiles: BENT, score: 36.0\n",
      "Move 18: Deep AI Player 1 - rack leave: JB, made word: DERNED - Move: O5, Vertical, tiles: DERNE, score: 24.0\n",
      "Move 19: AI Player 2 - rack leave: R, made word: MURLIN - Move: N1, Vertical, tiles: MURLIN, score: 27.0\n",
      "Move 20: Deep AI Player 1 - rack leave: JBGI, made word: OUP - Move: A7, Vertical, tiles: OUP, score: 17.0\n",
      "Move 21: AI Player 2 - rack leave: IRA, made word: ARMY - Move: L1, Horizontal, tiles: ARY, score: 30.0\n",
      "Move 22: Deep AI Player 1 - rack leave: BG, made word: AJI - Move: F6, Horizontal, tiles: JI, score: 26.0\n",
      "Move 23: AI Player 2 - rack leave: -, made word: RUPIA - Move: L9, Vertical, tiles: RIA, score: 14.0\n",
      "Move 24: Deep AI Player 1 - rack leave: BG, made word: n/a - Final score adjustment: -5\n",
      "Move 25: AI Player 2 - rack leave: , made word: n/a - Final score adjustment: +5\n",
      "After 8 games: (draw, player1, player2) = (0, 1, 7)\n",
      "Waiting for players\n",
      "Starting game\n",
      "('Deep AI Player 1', '-', 'RENAMES', Move object:\n",
      "Move: C8, Horizontal, tiles: RENAMES, score: 70.0)\n",
      "('AI Player 2', 'RV', 'JAGGER', Move object:\n",
      "Move: D4, Vertical, tiles: JAGGR, score: 30.0)\n",
      "('Deep AI Player 1', 'NFNH', 'VOR', Move object:\n",
      "Move: E3, Vertical, tiles: VOR, score: 25.0)\n",
      "('AI Player 2', 'RVIN', 'TEX', Move object:\n",
      "Move: F4, Vertical, tiles: TEX, score: 39.0)\n",
      "('Deep AI Player 1', 'NFNKE', 'HE', Move object:\n",
      "Move: G7, Horizontal, tiles: HE, score: 22.0)\n",
      "('AI Player 2', 'NT', 'LIVOR', Move object:\n",
      "Move: H6, Horizontal, tiles: LIVOR, score: 19.0)\n",
      "('Deep AI Player 1', 'KZ', 'FUNNER', Move object:\n",
      "Move: L1, Vertical, tiles: FUNNE, score: 18.0)\n",
      "('AI Player 2', '-', 'INDRAFTS', Move object:\n",
      "Move: G1, Horizontal, tiles: INDRATS, score: 89.0)\n",
      "('Deep AI Player 1', 'NWWFC', 'ZEK', Move object:\n",
      "Move: K5, Horizontal, tiles: ZK, score: 54.0)\n",
      "('AI Player 2', 'AI', 'LAYUP', Move object:\n",
      "Move: B10, Horizontal, tiles: LAYUP, score: 37.0)\n",
      "('Deep AI Player 1', 'WWFL', 'CONN', Move object:\n",
      "Move: J3, Horizontal, tiles: CON, score: 12.0)\n",
      "('AI Player 2', 'OIR', 'ISBA', Move object:\n",
      "Move: N4, Vertical, tiles: ISBA, score: 29.0)\n",
      "('Deep AI Player 1', 'WU', 'FLOWN', Move object:\n",
      "Move: M7, Vertical, tiles: FLOWN, score: 25.0)\n",
      "('AI Player 2', 'ILI', 'ARCO', Move object:\n",
      "Move: O6, Vertical, tiles: ARCO, score: 28.0)\n",
      "('Deep AI Player 1', 'WQM', 'GOUGE', Move object:\n",
      "Move: A7, Horizontal, tiles: GOUE, score: 13.0)\n",
      "('AI Player 2', 'II', 'TAIGLE', Move object:\n",
      "Move: A4, Vertical, tiles: TAILE, score: 24.0)\n",
      "('Deep AI Player 1', 'WQB', 'OUMA', Move object:\n",
      "Move: B1, Vertical, tiles: OUMA, score: 14.0)\n",
      "('AI Player 2', 'IIA', 'sODDY', Move object:\n",
      "Move: A1, Horizontal, tiles: sDDY, score: 33.0)\n",
      "('Deep AI Player 1', 'QBHE', 'WaT', Move object:\n",
      "Move: G3, Vertical, tiles: WaT, score: 23.0)\n",
      "('AI Player 2', 'II', 'PATIO', Move object:\n",
      "Move: E11, Horizontal, tiles: PATIO, score: 26.0)\n",
      "('Deep AI Player 1', 'QBEE', 'HIE', Move object:\n",
      "Move: H10, Horizontal, tiles: HIE, score: 15.0)\n",
      "('AI Player 2', 'III', 'DEES', Move object:\n",
      "Move: F12, Horizontal, tiles: DEES, score: 24.0)\n",
      "('Deep AI Player 1', 'QB', 'TENE', Move object:\n",
      "Move: K11, Horizontal, tiles: TEE, score: 8.0)\n",
      "('AI Player 2', 'II', 'MI', Move object:\n",
      "Move: C3, Horizontal, tiles: I, score: 8.0)\n",
      "('Deep AI Player 1', 'B', 'QI', Move object:\n",
      "Move: I5, Vertical, tiles: Q, score: 11.0)\n",
      "('AI Player 2', 'I', 'PADI', Move object:\n",
      "Move: F13, Vertical, tiles: I, score: 7.0)\n",
      "('Deep AI Player 1', '-', 'OBO', Move object:\n",
      "Move: N9, Horizontal, tiles: B, score: 5.0)\n",
      "Game ended:\n",
      "Final scores:\n",
      "\n",
      "Deep AI Player 1 scored 316.0\n",
      "AI Player 2 scored 392.0\n",
      "\n",
      "Move list:\n",
      "Move 1: Deep AI Player 1 - rack leave: -, made word: RENAMES - Move: C8, Horizontal, tiles: RENAMES, score: 70.0\n",
      "Move 2: AI Player 2 - rack leave: RV, made word: JAGGER - Move: D4, Vertical, tiles: JAGGR, score: 30.0\n",
      "Move 3: Deep AI Player 1 - rack leave: NFNH, made word: VOR - Move: E3, Vertical, tiles: VOR, score: 25.0\n",
      "Move 4: AI Player 2 - rack leave: RVIN, made word: TEX - Move: F4, Vertical, tiles: TEX, score: 39.0\n",
      "Move 5: Deep AI Player 1 - rack leave: NFNKE, made word: HE - Move: G7, Horizontal, tiles: HE, score: 22.0\n",
      "Move 6: AI Player 2 - rack leave: NT, made word: LIVOR - Move: H6, Horizontal, tiles: LIVOR, score: 19.0\n",
      "Move 7: Deep AI Player 1 - rack leave: KZ, made word: FUNNER - Move: L1, Vertical, tiles: FUNNE, score: 18.0\n",
      "Move 8: AI Player 2 - rack leave: -, made word: INDRAFTS - Move: G1, Horizontal, tiles: INDRATS, score: 89.0\n",
      "Move 9: Deep AI Player 1 - rack leave: NWWFC, made word: ZEK - Move: K5, Horizontal, tiles: ZK, score: 54.0\n",
      "Move 10: AI Player 2 - rack leave: AI, made word: LAYUP - Move: B10, Horizontal, tiles: LAYUP, score: 37.0\n",
      "Move 11: Deep AI Player 1 - rack leave: WWFL, made word: CONN - Move: J3, Horizontal, tiles: CON, score: 12.0\n",
      "Move 12: AI Player 2 - rack leave: OIR, made word: ISBA - Move: N4, Vertical, tiles: ISBA, score: 29.0\n",
      "Move 13: Deep AI Player 1 - rack leave: WU, made word: FLOWN - Move: M7, Vertical, tiles: FLOWN, score: 25.0\n",
      "Move 14: AI Player 2 - rack leave: ILI, made word: ARCO - Move: O6, Vertical, tiles: ARCO, score: 28.0\n",
      "Move 15: Deep AI Player 1 - rack leave: WQM, made word: GOUGE - Move: A7, Horizontal, tiles: GOUE, score: 13.0\n",
      "Move 16: AI Player 2 - rack leave: II, made word: TAIGLE - Move: A4, Vertical, tiles: TAILE, score: 24.0\n",
      "Move 17: Deep AI Player 1 - rack leave: WQB, made word: OUMA - Move: B1, Vertical, tiles: OUMA, score: 14.0\n",
      "Move 18: AI Player 2 - rack leave: IIA, made word: sODDY - Move: A1, Horizontal, tiles: sDDY, score: 33.0\n",
      "Move 19: Deep AI Player 1 - rack leave: QBHE, made word: WaT - Move: G3, Vertical, tiles: WaT, score: 23.0\n",
      "Move 20: AI Player 2 - rack leave: II, made word: PATIO - Move: E11, Horizontal, tiles: PATIO, score: 26.0\n",
      "Move 21: Deep AI Player 1 - rack leave: QBEE, made word: HIE - Move: H10, Horizontal, tiles: HIE, score: 15.0\n",
      "Move 22: AI Player 2 - rack leave: III, made word: DEES - Move: F12, Horizontal, tiles: DEES, score: 24.0\n",
      "Move 23: Deep AI Player 1 - rack leave: QB, made word: TENE - Move: K11, Horizontal, tiles: TEE, score: 8.0\n",
      "Move 24: AI Player 2 - rack leave: II, made word: MI - Move: C3, Horizontal, tiles: I, score: 8.0\n",
      "Move 25: Deep AI Player 1 - rack leave: B, made word: QI - Move: I5, Vertical, tiles: Q, score: 11.0\n",
      "Move 26: AI Player 2 - rack leave: I, made word: PADI - Move: F13, Vertical, tiles: I, score: 7.0\n",
      "Move 27: Deep AI Player 1 - rack leave: -, made word: OBO - Move: N9, Horizontal, tiles: B, score: 5.0\n",
      "Move 28: AI Player 2 - rack leave: I, made word: n/a - Final score adjustment: -1\n",
      "Move 29: Deep AI Player 1 - rack leave: , made word: n/a - Final score adjustment: +1\n",
      "After 9 games: (draw, player1, player2) = (0, 1, 8)\n",
      "Waiting for players\n",
      "Starting game\n",
      "('AI Player 2', 'O', 'UNsAFE', Move object:\n",
      "Move: H8, Horizontal, tiles: UNsAFE, score: 24.0)\n",
      "('Deep AI Player 1', 'PA', 'HEWED', Move object:\n",
      "Move: K7, Horizontal, tiles: HEWED, score: 35.0)\n",
      "('AI Player 2', 'OJC', 'FENDY', Move object:\n",
      "Move: O4, Vertical, tiles: FENY, score: 48.0)\n",
      "('Deep AI Player 1', 'P', 'ToECAP', Move object:\n",
      "Move: C9, Horizontal, tiles: ToECAP, score: 15.0)\n",
      "('AI Player 2', 'OCT', 'JASY', Move object:\n",
      "Move: A8, Horizontal, tiles: JASY, score: 64.0)\n",
      "('Deep AI Player 1', 'BVN', 'STIRPS', Move object:\n"
     ]
    },
    {
     "name": "stdout",
     "output_type": "stream",
     "text": [
      "Move: C10, Vertical, tiles: IRPS, score: 16.0)\n",
      "('AI Player 2', 'CMMA', 'TOWN', Move object:\n",
      "Move: L6, Horizontal, tiles: TOW, score: 40.0)\n",
      "('Deep AI Player 1', 'BV', 'INTRON', Move object:\n",
      "Move: I3, Vertical, tiles: INTRO, score: 8.0)\n",
      "('AI Player 2', 'MMO', 'CAPIZ', Move object:\n",
      "Move: A12, Horizontal, tiles: CAIZ, score: 42.0)\n",
      "('Deep AI Player 1', 'V', 'ABUSERS', Move object:\n",
      "Move: G10, Vertical, tiles: BUSERS, score: 10.0)\n",
      "('AI Player 2', 'OUI', 'MIASM', Move object:\n",
      "Move: D15, Horizontal, tiles: MIAM, score: 36.0)\n",
      "('Deep AI Player 1', 'VN', 'LUNGER', Move object:\n",
      "Move: F11, Horizontal, tiles: LNGER, score: 14.0)\n",
      "('AI Player 2', 'UI', 'NOCEBO', Move object:\n",
      "Move: A10, Vertical, tiles: NOEBO, score: 30.0)\n",
      "('Deep AI Player 1', 'L', 'VENTRED', Move object:\n",
      "Move: F13, Horizontal, tiles: VNTRED, score: 12.0)\n",
      "('AI Player 2', 'UID', 'AGHA', Move object:\n",
      "Move: H1, Vertical, tiles: AGHA, score: 35.0)\n",
      "('Deep AI Player 1', 'LL', 'OUTDO', Move object:\n",
      "Move: J1, Vertical, tiles: OUTDO, score: 20.0)\n",
      "('AI Player 2', 'II', 'OULDER', Move object:\n",
      "Move: K1, Horizontal, tiles: ULDER, score: 27.0)\n",
      "('Deep AI Player 1', 'LLV', 'IKAT', Move object:\n",
      "Move: L14, Horizontal, tiles: IKAT, score: 19.0)\n",
      "('AI Player 2', 'IIG', 'AXITE', Move object:\n",
      "Move: O11, Vertical, tiles: AXIE, score: 60.0)\n",
      "('Deep AI Player 1', 'LLQI', 'DOVE', Move object:\n",
      "Move: M2, Vertical, tiles: OVE, score: 16.0)\n",
      "('AI Player 2', 'I', 'GIRO', Move object:\n",
      "Move: E14, Horizontal, tiles: GIO, score: 19.0)\n",
      "('Deep AI Player 1', 'QI', 'WELL', Move object:\n",
      "Move: N8, Vertical, tiles: LL, score: 16.0)\n",
      "('AI Player 2', '-', 'BI', Move object:\n",
      "Move: B14, Horizontal, tiles: I, score: 8.0)\n",
      "Game ended:\n",
      "Final scores:\n",
      "\n",
      "AI Player 2 scored 444.0\n",
      "Deep AI Player 1 scored 170.0\n",
      "\n",
      "Move list:\n",
      "Move 1: AI Player 2 - rack leave: O, made word: UNsAFE - Move: H8, Horizontal, tiles: UNsAFE, score: 24.0\n",
      "Move 2: Deep AI Player 1 - rack leave: PA, made word: HEWED - Move: K7, Horizontal, tiles: HEWED, score: 35.0\n",
      "Move 3: AI Player 2 - rack leave: OJC, made word: FENDY - Move: O4, Vertical, tiles: FENY, score: 48.0\n",
      "Move 4: Deep AI Player 1 - rack leave: P, made word: ToECAP - Move: C9, Horizontal, tiles: ToECAP, score: 15.0\n",
      "Move 5: AI Player 2 - rack leave: OCT, made word: JASY - Move: A8, Horizontal, tiles: JASY, score: 64.0\n",
      "Move 6: Deep AI Player 1 - rack leave: BVN, made word: STIRPS - Move: C10, Vertical, tiles: IRPS, score: 16.0\n",
      "Move 7: AI Player 2 - rack leave: CMMA, made word: TOWN - Move: L6, Horizontal, tiles: TOW, score: 40.0\n",
      "Move 8: Deep AI Player 1 - rack leave: BV, made word: INTRON - Move: I3, Vertical, tiles: INTRO, score: 8.0\n",
      "Move 9: AI Player 2 - rack leave: MMO, made word: CAPIZ - Move: A12, Horizontal, tiles: CAIZ, score: 42.0\n",
      "Move 10: Deep AI Player 1 - rack leave: V, made word: ABUSERS - Move: G10, Vertical, tiles: BUSERS, score: 10.0\n",
      "Move 11: AI Player 2 - rack leave: OUI, made word: MIASM - Move: D15, Horizontal, tiles: MIAM, score: 36.0\n",
      "Move 12: Deep AI Player 1 - rack leave: VN, made word: LUNGER - Move: F11, Horizontal, tiles: LNGER, score: 14.0\n",
      "Move 13: AI Player 2 - rack leave: UI, made word: NOCEBO - Move: A10, Vertical, tiles: NOEBO, score: 30.0\n",
      "Move 14: Deep AI Player 1 - rack leave: L, made word: VENTRED - Move: F13, Horizontal, tiles: VNTRED, score: 12.0\n",
      "Move 15: AI Player 2 - rack leave: UID, made word: AGHA - Move: H1, Vertical, tiles: AGHA, score: 35.0\n",
      "Move 16: Deep AI Player 1 - rack leave: LL, made word: OUTDO - Move: J1, Vertical, tiles: OUTDO, score: 20.0\n",
      "Move 17: AI Player 2 - rack leave: II, made word: OULDER - Move: K1, Horizontal, tiles: ULDER, score: 27.0\n",
      "Move 18: Deep AI Player 1 - rack leave: LLV, made word: IKAT - Move: L14, Horizontal, tiles: IKAT, score: 19.0\n",
      "Move 19: AI Player 2 - rack leave: IIG, made word: AXITE - Move: O11, Vertical, tiles: AXIE, score: 60.0\n",
      "Move 20: Deep AI Player 1 - rack leave: LLQI, made word: DOVE - Move: M2, Vertical, tiles: OVE, score: 16.0\n",
      "Move 21: AI Player 2 - rack leave: I, made word: GIRO - Move: E14, Horizontal, tiles: GIO, score: 19.0\n",
      "Move 22: Deep AI Player 1 - rack leave: QI, made word: WELL - Move: N8, Vertical, tiles: LL, score: 16.0\n",
      "Move 23: AI Player 2 - rack leave: -, made word: BI - Move: B14, Horizontal, tiles: I, score: 8.0\n",
      "Move 24: Deep AI Player 1 - rack leave: QI, made word: n/a - Final score adjustment: -11\n",
      "Move 25: AI Player 2 - rack leave: , made word: n/a - Final score adjustment: +11\n",
      "After 10 games: (draw, player1, player2) = (0, 1, 9)\n",
      "Waiting for players\n",
      "Starting game\n",
      "('AI Player 2', 'BTF', 'TYMP', Move object:\n",
      "Move: F8, Horizontal, tiles: TYMP, score: 22.0)\n",
      "('Deep AI Player 1', 'NW', 'WHIRRY', Move object:\n",
      "Move: G3, Vertical, tiles: WHIRR, score: 20.0)\n",
      "('AI Player 2', 'TLI', 'BRIeF', Move object:\n",
      "Move: F6, Horizontal, tiles: BIeF, score: 23.0)\n",
      "('Deep AI Player 1', 'NJDZR', 'PWN', Move object:\n",
      "Move: I9, Vertical, tiles: WN, score: 12.0)\n",
      "('AI Player 2', 'TLIR', 'PHO', Move object:\n",
      "Move: H1, Vertical, tiles: PHO, score: 29.0)\n",
      "('Deep AI Player 1', 'JZB', 'WONDER', Move object:\n",
      "Move: I3, Horizontal, tiles: NDER, score: 11.0)\n",
      "('AI Player 2', '-', 'PARIETAL', Move object:\n",
      "Move: I1, Horizontal, tiles: ARIETAL, score: 83.0)\n",
      "('Deep AI Player 1', 'JBG', 'TOZE', Move object:\n",
      "Move: C9, Horizontal, tiles: TOZE, score: 16.0)\n",
      "('AI Player 2', '-', 'MODERATE', Move object:\n",
      "Move: C3, Vertical, tiles: MODERAE, score: 74.0)\n",
      "('Deep AI Player 1', 'JBCA', 'GOAT', Move object:\n",
      "Move: A8, Horizontal, tiles: GOT, score: 21.0)\n",
      "('AI Player 2', '-', 'INOSITE', Move object:\n",
      "Move: F11, Horizontal, tiles: INOSITE, score: 73.0)\n",
      "('Deep AI Player 1', 'JA', 'RUBACE', Move object:\n",
      "Move: L4, Vertical, tiles: UBACE, score: 22.0)\n",
      "('AI Player 2', 'O', 'KEEVES', Move object:\n",
      "Move: A12, Horizontal, tiles: KEEVES, score: 38.0)\n",
      "('Deep AI Player 1', 'AVI', 'JEUX', Move object:\n",
      "Move: D1, Vertical, tiles: JEUX, score: 74.0)\n",
      "('AI Player 2', 'QTe', 'TOSSY', Move object:\n",
      "Move: M2, Vertical, tiles: OSSY, score: 47.0)\n",
      "('Deep AI Player 1', 'AG', 'VALID', Move object:\n",
      "Move: B2, Vertical, tiles: VALID, score: 51.0)\n",
      "('AI Player 2', 'QR', 'UNKeNT', Move object:\n",
      "Move: A10, Vertical, tiles: UNeNT, score: 27.0)\n",
      "('Deep AI Player 1', 'AGC', 'INGAN', Move object:\n",
      "Move: H10, Horizontal, tiles: IGAN, score: 23.0)\n",
      "('AI Player 2', 'QIAIU', 'ORBY', Move object:\n",
      "Move: J5, Horizontal, tiles: OR, score: 23.0)\n",
      "('Deep AI Player 1', 'CDAF', 'EGAL', Move object:\n",
      "Move: M8, Horizontal, tiles: GAL, score: 15.0)\n",
      "('AI Player 2', 'IO', 'QUALIA', Move object:\n",
      "Move: N6, Vertical, tiles: QULIA, score: 37.0)\n",
      "('Deep AI Player 1', 'CA', 'FED', Move object:\n",
      "Move: J12, Horizontal, tiles: FED, score: 32.0)\n",
      "('AI Player 2', '-', 'OI', Move object:\n",
      "Move: O5, Vertical, tiles: OI, score: 13.0)\n",
      "Game ended:\n",
      "Final scores:\n",
      "\n",
      "AI Player 2 scored 493.0\n",
      "Deep AI Player 1 scored 293.0\n",
      "\n",
      "Move list:\n",
      "Move 1: AI Player 2 - rack leave: BTF, made word: TYMP - Move: F8, Horizontal, tiles: TYMP, score: 22.0\n",
      "Move 2: Deep AI Player 1 - rack leave: NW, made word: WHIRRY - Move: G3, Vertical, tiles: WHIRR, score: 20.0\n",
      "Move 3: AI Player 2 - rack leave: TLI, made word: BRIeF - Move: F6, Horizontal, tiles: BIeF, score: 23.0\n",
      "Move 4: Deep AI Player 1 - rack leave: NJDZR, made word: PWN - Move: I9, Vertical, tiles: WN, score: 12.0\n",
      "Move 5: AI Player 2 - rack leave: TLIR, made word: PHO - Move: H1, Vertical, tiles: PHO, score: 29.0\n",
      "Move 6: Deep AI Player 1 - rack leave: JZB, made word: WONDER - Move: I3, Horizontal, tiles: NDER, score: 11.0\n",
      "Move 7: AI Player 2 - rack leave: -, made word: PARIETAL - Move: I1, Horizontal, tiles: ARIETAL, score: 83.0\n",
      "Move 8: Deep AI Player 1 - rack leave: JBG, made word: TOZE - Move: C9, Horizontal, tiles: TOZE, score: 16.0\n",
      "Move 9: AI Player 2 - rack leave: -, made word: MODERATE - Move: C3, Vertical, tiles: MODERAE, score: 74.0\n",
      "Move 10: Deep AI Player 1 - rack leave: JBCA, made word: GOAT - Move: A8, Horizontal, tiles: GOT, score: 21.0\n",
      "Move 11: AI Player 2 - rack leave: -, made word: INOSITE - Move: F11, Horizontal, tiles: INOSITE, score: 73.0\n",
      "Move 12: Deep AI Player 1 - rack leave: JA, made word: RUBACE - Move: L4, Vertical, tiles: UBACE, score: 22.0\n",
      "Move 13: AI Player 2 - rack leave: O, made word: KEEVES - Move: A12, Horizontal, tiles: KEEVES, score: 38.0\n"
     ]
    },
    {
     "name": "stdout",
     "output_type": "stream",
     "text": [
      "Move 14: Deep AI Player 1 - rack leave: AVI, made word: JEUX - Move: D1, Vertical, tiles: JEUX, score: 74.0\n",
      "Move 15: AI Player 2 - rack leave: QTe, made word: TOSSY - Move: M2, Vertical, tiles: OSSY, score: 47.0\n",
      "Move 16: Deep AI Player 1 - rack leave: AG, made word: VALID - Move: B2, Vertical, tiles: VALID, score: 51.0\n",
      "Move 17: AI Player 2 - rack leave: QR, made word: UNKeNT - Move: A10, Vertical, tiles: UNeNT, score: 27.0\n",
      "Move 18: Deep AI Player 1 - rack leave: AGC, made word: INGAN - Move: H10, Horizontal, tiles: IGAN, score: 23.0\n",
      "Move 19: AI Player 2 - rack leave: QIAIU, made word: ORBY - Move: J5, Horizontal, tiles: OR, score: 23.0\n",
      "Move 20: Deep AI Player 1 - rack leave: CDAF, made word: EGAL - Move: M8, Horizontal, tiles: GAL, score: 15.0\n",
      "Move 21: AI Player 2 - rack leave: IO, made word: QUALIA - Move: N6, Vertical, tiles: QULIA, score: 37.0\n",
      "Move 22: Deep AI Player 1 - rack leave: CA, made word: FED - Move: J12, Horizontal, tiles: FED, score: 32.0\n",
      "Move 23: AI Player 2 - rack leave: -, made word: OI - Move: O5, Vertical, tiles: OI, score: 13.0\n",
      "Move 24: Deep AI Player 1 - rack leave: CA, made word: n/a - Final score adjustment: -4\n",
      "Move 25: AI Player 2 - rack leave: , made word: n/a - Final score adjustment: +4\n",
      "After 11 games: (draw, player1, player2) = (0, 1, 10)\n",
      "Waiting for players\n",
      "Starting game\n",
      "('Deep AI Player 1', 'HG', 'GOLPe', Move object:\n",
      "Move: D8, Horizontal, tiles: GOLPe, score: 18.0)\n",
      "('AI Player 2', 'ETN', 'UNAI', Move object:\n",
      "Move: D9, Horizontal, tiles: UNAI, score: 17.0)\n",
      "('Deep AI Player 1', 'G', 'CHARTA', Move object:\n",
      "Move: G10, Horizontal, tiles: CHARTA, score: 20.0)\n",
      "('AI Player 2', '-', 'TENORITE', Move object:\n",
      "Move: J6, Vertical, tiles: TENOITE, score: 60.0)\n",
      "('Deep AI Player 1', 'GVF', 'SMAZE', Move object:\n",
      "Move: F13, Horizontal, tiles: SMAZ, score: 29.0)\n",
      "('AI Player 2', 'BLK', 'HOMAGE', Move object:\n",
      "Move: H11, Vertical, tiles: OMGE, score: 45.0)\n",
      "('Deep AI Player 1', 'FAQ', 'VOGIE', Move object:\n",
      "Move: D15, Horizontal, tiles: VOGI, score: 13.0)\n",
      "('AI Player 2', 'LIVA', 'BOKO', Move object:\n",
      "Move: E11, Horizontal, tiles: BOK, score: 32.0)\n",
      "('Deep AI Player 1', 'Q', 'FAIBLE', Move object:\n",
      "Move: I1, Vertical, tiles: FAIBLE, score: 14.0)\n",
      "('AI Player 2', 'LA', 'NOVITY', Move object:\n",
      "Move: K8, Horizontal, tiles: OVITY, score: 48.0)\n",
      "('Deep AI Player 1', 'QDAT', 'TORI', Move object:\n",
      "Move: I9, Horizontal, tiles: TRI, score: 15.0)\n",
      "('AI Player 2', 'A', 'SEAFOWL', Move object:\n",
      "Move: F1, Horizontal, tiles: SEAOWL, score: 39.0)\n",
      "('Deep AI Player 1', 'QDATJ', 'XI', Move object:\n",
      "Move: M7, Horizontal, tiles: XI, score: 36.0)\n",
      "('AI Player 2', 'AEEU', 'DEEV', Move object:\n",
      "Move: D12, Vertical, tiles: DEE, score: 16.0)\n",
      "('Deep AI Player 1', 'DJCR', 'QAT', Move object:\n",
      "Move: B10, Horizontal, tiles: QAT, score: 36.0)\n",
      "('AI Player 2', 'AEUNR', 'AWE', Move object:\n",
      "Move: J2, Horizontal, tiles: WE, score: 32.0)\n",
      "('Deep AI Player 1', 'CRDR', 'JEED', Move object:\n",
      "Move: B14, Horizontal, tiles: JED, score: 27.0)\n",
      "('AI Player 2', 'EUNRR', 'FA', Move object:\n",
      "Move: N6, Horizontal, tiles: FA, score: 27.0)\n",
      "('Deep AI Player 1', 'N', 'CaRRIED', Move object:\n",
      "Move: E3, Horizontal, tiles: CaRRED, score: 23.0)\n",
      "('AI Player 2', 'RN', 'HURDEN', Move object:\n",
      "Move: A12, Horizontal, tiles: HUREN, score: 20.0)\n",
      "('Deep AI Player 1', 'EAN', 'INULA', Move object:\n",
      "Move: O2, Vertical, tiles: INUL, score: 6.0)\n",
      "('AI Player 2', 'RN', 'SOUPY', Move object:\n",
      "Move: M1, Vertical, tiles: SOUPY, score: 37.0)\n",
      "('Deep AI Player 1', '-', 'SAINED', Move object:\n",
      "Move: J14, Horizontal, tiles: SAINED, score: 29.0)\n",
      "Game ended:\n",
      "Final scores:\n",
      "\n",
      "Deep AI Player 1 scored 268.0\n",
      "AI Player 2 scored 371.0\n",
      "\n",
      "Move list:\n",
      "Move 1: Deep AI Player 1 - rack leave: HG, made word: GOLPe - Move: D8, Horizontal, tiles: GOLPe, score: 18.0\n",
      "Move 2: AI Player 2 - rack leave: ETN, made word: UNAI - Move: D9, Horizontal, tiles: UNAI, score: 17.0\n",
      "Move 3: Deep AI Player 1 - rack leave: G, made word: CHARTA - Move: G10, Horizontal, tiles: CHARTA, score: 20.0\n",
      "Move 4: AI Player 2 - rack leave: -, made word: TENORITE - Move: J6, Vertical, tiles: TENOITE, score: 60.0\n",
      "Move 5: Deep AI Player 1 - rack leave: GVF, made word: SMAZE - Move: F13, Horizontal, tiles: SMAZ, score: 29.0\n",
      "Move 6: AI Player 2 - rack leave: BLK, made word: HOMAGE - Move: H11, Vertical, tiles: OMGE, score: 45.0\n",
      "Move 7: Deep AI Player 1 - rack leave: FAQ, made word: VOGIE - Move: D15, Horizontal, tiles: VOGI, score: 13.0\n",
      "Move 8: AI Player 2 - rack leave: LIVA, made word: BOKO - Move: E11, Horizontal, tiles: BOK, score: 32.0\n",
      "Move 9: Deep AI Player 1 - rack leave: Q, made word: FAIBLE - Move: I1, Vertical, tiles: FAIBLE, score: 14.0\n",
      "Move 10: AI Player 2 - rack leave: LA, made word: NOVITY - Move: K8, Horizontal, tiles: OVITY, score: 48.0\n",
      "Move 11: Deep AI Player 1 - rack leave: QDAT, made word: TORI - Move: I9, Horizontal, tiles: TRI, score: 15.0\n",
      "Move 12: AI Player 2 - rack leave: A, made word: SEAFOWL - Move: F1, Horizontal, tiles: SEAOWL, score: 39.0\n",
      "Move 13: Deep AI Player 1 - rack leave: QDATJ, made word: XI - Move: M7, Horizontal, tiles: XI, score: 36.0\n",
      "Move 14: AI Player 2 - rack leave: AEEU, made word: DEEV - Move: D12, Vertical, tiles: DEE, score: 16.0\n",
      "Move 15: Deep AI Player 1 - rack leave: DJCR, made word: QAT - Move: B10, Horizontal, tiles: QAT, score: 36.0\n",
      "Move 16: AI Player 2 - rack leave: AEUNR, made word: AWE - Move: J2, Horizontal, tiles: WE, score: 32.0\n",
      "Move 17: Deep AI Player 1 - rack leave: CRDR, made word: JEED - Move: B14, Horizontal, tiles: JED, score: 27.0\n",
      "Move 18: AI Player 2 - rack leave: EUNRR, made word: FA - Move: N6, Horizontal, tiles: FA, score: 27.0\n",
      "Move 19: Deep AI Player 1 - rack leave: N, made word: CaRRIED - Move: E3, Horizontal, tiles: CaRRED, score: 23.0\n",
      "Move 20: AI Player 2 - rack leave: RN, made word: HURDEN - Move: A12, Horizontal, tiles: HUREN, score: 20.0\n",
      "Move 21: Deep AI Player 1 - rack leave: EAN, made word: INULA - Move: O2, Vertical, tiles: INUL, score: 6.0\n",
      "Move 22: AI Player 2 - rack leave: RN, made word: SOUPY - Move: M1, Vertical, tiles: SOUPY, score: 37.0\n",
      "Move 23: Deep AI Player 1 - rack leave: -, made word: SAINED - Move: J14, Horizontal, tiles: SAINED, score: 29.0\n",
      "Move 24: AI Player 2 - rack leave: RN, made word: n/a - Final score adjustment: -2\n",
      "Move 25: Deep AI Player 1 - rack leave: , made word: n/a - Final score adjustment: +2\n",
      "After 12 games: (draw, player1, player2) = (0, 1, 11)\n",
      "Waiting for players\n",
      "Starting game\n",
      "('Deep AI Player 1', 'XI', 'REHAB', Move object:\n",
      "Move: D8, Horizontal, tiles: REHAB, score: 22.0)\n",
      "('AI Player 2', 'CMT', 'WILD', Move object:\n",
      "Move: G9, Horizontal, tiles: WILD, score: 26.0)\n",
      "('Deep AI Player 1', 'OI', 'AXION', Move object:\n",
      "Move: J8, Horizontal, tiles: AXION, score: 16.0)\n",
      "('AI Player 2', 'CI', 'METED', Move object:\n",
      "Move: C7, Horizontal, tiles: METED, score: 31.0)\n",
      "('Deep AI Player 1', 'OIOIU', 'FA', Move object:\n",
      "Move: F6, Horizontal, tiles: FA, score: 38.0)\n",
      "('AI Player 2', 'V', 'CERCOPID', Move object:\n",
      "Move: D6, Vertical, tiles: CCOPID, score: 30.0)\n",
      "('Deep AI Player 1', 'IA', 'ODIOUS', Move object:\n",
      "Move: C13, Horizontal, tiles: OIOUS, score: 16.0)\n",
      "('AI Player 2', '-', 'AVENTURE', Move object:\n",
      "Move: N5, Vertical, tiles: AVETURE, score: 71.0)\n",
      "('Deep AI Player 1', 'A', 'LOGGIE', Move object:\n",
      "Move: H1, Vertical, tiles: LOGGIE, score: 36.0)\n",
      "('AI Player 2', 'QENII', 'NY', Move object:\n",
      "Move: E14, Horizontal, tiles: NY, score: 28.0)\n",
      "('Deep AI Player 1', 'TM', 'THANK', Move object:\n",
      "Move: A15, Horizontal, tiles: THANK, score: 46.0)\n",
      "('AI Player 2', 'QEIR', 'JINX', Move object:\n",
      "Move: K5, Vertical, tiles: JIN, score: 36.0)\n",
      "('Deep AI Player 1', 'GE', 'MOOTS', Move object:\n",
      "Move: O1, Vertical, tiles: MOOTS, score: 26.0)\n",
      "('AI Player 2', 'QET', 'WIRY', Move object:\n",
      "Move: M12, Vertical, tiles: WIRY, score: 33.0)\n",
      "('Deep AI Player 1', 'I', 'FROGEYE', Move object:\n",
      "Move: H15, Horizontal, tiles: FROGEE, score: 42.0)\n",
      "('AI Player 2', 'EELE', 'QAT', Move object:\n",
      "Move: L11, Vertical, tiles: QAT, score: 38.0)\n",
      "('Deep AI Player 1', 'ZS', 'GUINEP', Move object:\n",
      "Move: I3, Horizontal, tiles: UINEP, score: 20.0)\n",
      "('AI Player 2', 'EBI', 'EELS', Move object:\n",
      "Move: O12, Vertical, tiles: EELS, score: 68.0)\n",
      "('Deep AI Player 1', 'ZSTR', 'ReAM', Move object:\n",
      "Move: L1, Horizontal, tiles: ReA, score: 5.0)\n",
      "('AI Player 2', 'EINV', 'ABA', Move object:\n"
     ]
    },
    {
     "name": "stdout",
     "output_type": "stream",
     "text": [
      "Move: I14, Horizontal, tiles: ABA, score: 26.0)\n",
      "('Deep AI Player 1', 'ZTL', 'DURST', Move object:\n",
      "Move: A11, Vertical, tiles: DURS, score: 7.0)\n",
      "('AI Player 2', 'IV', 'sEN', Move object:\n",
      "Move: O8, Vertical, tiles: sEN, score: 46.0)\n",
      "('Deep AI Player 1', 'L', 'ZIT', Move object:\n",
      "Move: J2, Vertical, tiles: ZT, score: 32.0)\n",
      "('AI Player 2', 'V', 'IO', Move object:\n",
      "Move: N2, Horizontal, tiles: I, score: 8.0)\n",
      "('Deep AI Player 1', '-', 'LOY', Move object:\n",
      "Move: F12, Vertical, tiles: L, score: 6.0)\n",
      "Game ended:\n",
      "Final scores:\n",
      "\n",
      "Deep AI Player 1 scored 316.0\n",
      "AI Player 2 scored 437.0\n",
      "\n",
      "Move list:\n",
      "Move 1: Deep AI Player 1 - rack leave: XI, made word: REHAB - Move: D8, Horizontal, tiles: REHAB, score: 22.0\n",
      "Move 2: AI Player 2 - rack leave: CMT, made word: WILD - Move: G9, Horizontal, tiles: WILD, score: 26.0\n",
      "Move 3: Deep AI Player 1 - rack leave: OI, made word: AXION - Move: J8, Horizontal, tiles: AXION, score: 16.0\n",
      "Move 4: AI Player 2 - rack leave: CI, made word: METED - Move: C7, Horizontal, tiles: METED, score: 31.0\n",
      "Move 5: Deep AI Player 1 - rack leave: OIOIU, made word: FA - Move: F6, Horizontal, tiles: FA, score: 38.0\n",
      "Move 6: AI Player 2 - rack leave: V, made word: CERCOPID - Move: D6, Vertical, tiles: CCOPID, score: 30.0\n",
      "Move 7: Deep AI Player 1 - rack leave: IA, made word: ODIOUS - Move: C13, Horizontal, tiles: OIOUS, score: 16.0\n",
      "Move 8: AI Player 2 - rack leave: -, made word: AVENTURE - Move: N5, Vertical, tiles: AVETURE, score: 71.0\n",
      "Move 9: Deep AI Player 1 - rack leave: A, made word: LOGGIE - Move: H1, Vertical, tiles: LOGGIE, score: 36.0\n",
      "Move 10: AI Player 2 - rack leave: QENII, made word: NY - Move: E14, Horizontal, tiles: NY, score: 28.0\n",
      "Move 11: Deep AI Player 1 - rack leave: TM, made word: THANK - Move: A15, Horizontal, tiles: THANK, score: 46.0\n",
      "Move 12: AI Player 2 - rack leave: QEIR, made word: JINX - Move: K5, Vertical, tiles: JIN, score: 36.0\n",
      "Move 13: Deep AI Player 1 - rack leave: GE, made word: MOOTS - Move: O1, Vertical, tiles: MOOTS, score: 26.0\n",
      "Move 14: AI Player 2 - rack leave: QET, made word: WIRY - Move: M12, Vertical, tiles: WIRY, score: 33.0\n",
      "Move 15: Deep AI Player 1 - rack leave: I, made word: FROGEYE - Move: H15, Horizontal, tiles: FROGEE, score: 42.0\n",
      "Move 16: AI Player 2 - rack leave: EELE, made word: QAT - Move: L11, Vertical, tiles: QAT, score: 38.0\n",
      "Move 17: Deep AI Player 1 - rack leave: ZS, made word: GUINEP - Move: I3, Horizontal, tiles: UINEP, score: 20.0\n",
      "Move 18: AI Player 2 - rack leave: EBI, made word: EELS - Move: O12, Vertical, tiles: EELS, score: 68.0\n",
      "Move 19: Deep AI Player 1 - rack leave: ZSTR, made word: ReAM - Move: L1, Horizontal, tiles: ReA, score: 5.0\n",
      "Move 20: AI Player 2 - rack leave: EINV, made word: ABA - Move: I14, Horizontal, tiles: ABA, score: 26.0\n",
      "Move 21: Deep AI Player 1 - rack leave: ZTL, made word: DURST - Move: A11, Vertical, tiles: DURS, score: 7.0\n",
      "Move 22: AI Player 2 - rack leave: IV, made word: sEN - Move: O8, Vertical, tiles: sEN, score: 46.0\n",
      "Move 23: Deep AI Player 1 - rack leave: L, made word: ZIT - Move: J2, Vertical, tiles: ZT, score: 32.0\n",
      "Move 24: AI Player 2 - rack leave: V, made word: IO - Move: N2, Horizontal, tiles: I, score: 8.0\n",
      "Move 25: Deep AI Player 1 - rack leave: -, made word: LOY - Move: F12, Vertical, tiles: L, score: 6.0\n",
      "Move 26: AI Player 2 - rack leave: V, made word: n/a - Final score adjustment: -4\n",
      "Move 27: Deep AI Player 1 - rack leave: , made word: n/a - Final score adjustment: +4\n",
      "After 13 games: (draw, player1, player2) = (0, 1, 12)\n",
      "Waiting for players\n",
      "Starting game\n",
      "('AI Player 2', 'E', 'sTATUA', Move object:\n",
      "Move: C8, Horizontal, tiles: sTATUA, score: 12.0)\n",
      "('Deep AI Player 1', 'O', 'AECIDIA', Move object:\n",
      "Move: E2, Vertical, tiles: AECIDI, score: 20.0)\n",
      "('AI Player 2', '-', 'INsECURE', Move object:\n",
      "Move: A4, Horizontal, tiles: INsEURE, score: 72.0)\n",
      "('Deep AI Player 1', 'BCE', 'OOHED', Move object:\n",
      "Move: H1, Vertical, tiles: OOHD, score: 27.0)\n",
      "('AI Player 2', '-', 'sPARTHES', Move object:\n",
      "Move: C9, Vertical, tiles: PARTHES, score: 80.0)\n",
      "('Deep AI Player 1', 'BC', 'TOURIE', Move object:\n",
      "Move: G1, Vertical, tiles: TOUIE, score: 20.0)\n",
      "('AI Player 2', 'O', 'BIOTRON', Move object:\n",
      "Move: A3, Vertical, tiles: BOTRON, score: 27.0)\n",
      "('Deep AI Player 1', '-', 'UNBRACES', Move object:\n",
      "Move: G9, Vertical, tiles: NBRACES, score: 66.0)\n",
      "('AI Player 2', 'OTXLW', 'ZO', Move object:\n",
      "Move: B10, Vertical, tiles: ZO, score: 64.0)\n",
      "('Deep AI Player 1', 'MI', 'FRYPAN', Move object:\n",
      "Move: F11, Horizontal, tiles: FYPAN, score: 28.0)\n",
      "('AI Player 2', 'LW', 'XYSTOI', Move object:\n",
      "Move: E15, Horizontal, tiles: XYTOI, score: 48.0)\n",
      "('Deep AI Player 1', 'V', 'AMMONIA', Move object:\n",
      "Move: J5, Vertical, tiles: AMMONI, score: 19.0)\n",
      "('AI Player 2', 'UA', 'DWILE', Move object:\n",
      "Move: A11, Vertical, tiles: DWILE, score: 43.0)\n",
      "('Deep AI Player 1', 'EG', 'VELLS', Move object:\n",
      "Move: K1, Vertical, tiles: VELLS, score: 20.0)\n",
      "('AI Player 2', 'UAI', 'JEWEL', Move object:\n",
      "Move: J2, Horizontal, tiles: JWEL, score: 62.0)\n",
      "('Deep AI Player 1', 'G', 'ENGINEER', Move object:\n",
      "Move: F9, Horizontal, tiles: EGIEER, score: 16.0)\n",
      "('AI Player 2', 'F', 'QUAIRS', Move object:\n",
      "Move: J14, Horizontal, tiles: QUAIRS, score: 101.0)\n",
      "('Deep AI Player 1', 'GGV', 'DANK', Move object:\n",
      "Move: L8, Horizontal, tiles: DANK, score: 40.0)\n",
      "('AI Player 2', '-', 'FY', Move object:\n",
      "Move: F14, Vertical, tiles: F, score: 29.0)\n",
      "Game ended:\n",
      "Final scores:\n",
      "\n",
      "AI Player 2 scored 546.0\n",
      "Deep AI Player 1 scored 248.0\n",
      "\n",
      "Move list:\n",
      "Move 1: AI Player 2 - rack leave: E, made word: sTATUA - Move: C8, Horizontal, tiles: sTATUA, score: 12.0\n",
      "Move 2: Deep AI Player 1 - rack leave: O, made word: AECIDIA - Move: E2, Vertical, tiles: AECIDI, score: 20.0\n",
      "Move 3: AI Player 2 - rack leave: -, made word: INsECURE - Move: A4, Horizontal, tiles: INsEURE, score: 72.0\n",
      "Move 4: Deep AI Player 1 - rack leave: BCE, made word: OOHED - Move: H1, Vertical, tiles: OOHD, score: 27.0\n",
      "Move 5: AI Player 2 - rack leave: -, made word: sPARTHES - Move: C9, Vertical, tiles: PARTHES, score: 80.0\n",
      "Move 6: Deep AI Player 1 - rack leave: BC, made word: TOURIE - Move: G1, Vertical, tiles: TOUIE, score: 20.0\n",
      "Move 7: AI Player 2 - rack leave: O, made word: BIOTRON - Move: A3, Vertical, tiles: BOTRON, score: 27.0\n",
      "Move 8: Deep AI Player 1 - rack leave: -, made word: UNBRACES - Move: G9, Vertical, tiles: NBRACES, score: 66.0\n",
      "Move 9: AI Player 2 - rack leave: OTXLW, made word: ZO - Move: B10, Vertical, tiles: ZO, score: 64.0\n",
      "Move 10: Deep AI Player 1 - rack leave: MI, made word: FRYPAN - Move: F11, Horizontal, tiles: FYPAN, score: 28.0\n",
      "Move 11: AI Player 2 - rack leave: LW, made word: XYSTOI - Move: E15, Horizontal, tiles: XYTOI, score: 48.0\n",
      "Move 12: Deep AI Player 1 - rack leave: V, made word: AMMONIA - Move: J5, Vertical, tiles: AMMONI, score: 19.0\n",
      "Move 13: AI Player 2 - rack leave: UA, made word: DWILE - Move: A11, Vertical, tiles: DWILE, score: 43.0\n",
      "Move 14: Deep AI Player 1 - rack leave: EG, made word: VELLS - Move: K1, Vertical, tiles: VELLS, score: 20.0\n",
      "Move 15: AI Player 2 - rack leave: UAI, made word: JEWEL - Move: J2, Horizontal, tiles: JWEL, score: 62.0\n",
      "Move 16: Deep AI Player 1 - rack leave: G, made word: ENGINEER - Move: F9, Horizontal, tiles: EGIEER, score: 16.0\n",
      "Move 17: AI Player 2 - rack leave: F, made word: QUAIRS - Move: J14, Horizontal, tiles: QUAIRS, score: 101.0\n",
      "Move 18: Deep AI Player 1 - rack leave: GGV, made word: DANK - Move: L8, Horizontal, tiles: DANK, score: 40.0\n",
      "Move 19: AI Player 2 - rack leave: -, made word: FY - Move: F14, Vertical, tiles: F, score: 29.0\n",
      "Move 20: Deep AI Player 1 - rack leave: GGV, made word: n/a - Final score adjustment: -8\n",
      "Move 21: AI Player 2 - rack leave: , made word: n/a - Final score adjustment: +8\n",
      "After 14 games: (draw, player1, player2) = (0, 1, 13)\n",
      "Waiting for players\n",
      "Starting game\n",
      "('AI Player 2', 'I', 'ARIARY', Move object:\n",
      "Move: G8, Horizontal, tiles: ARIARY, score: 26.0)\n",
      "('Deep AI Player 1', 'E', 'RETUNEs', Move object:\n",
      "Move: H9, Vertical, tiles: ETUNEs, score: 7.0)\n",
      "('AI Player 2', 'NCN', 'GRIZ', Move object:\n",
      "Move: D7, Horizontal, tiles: GRIZ, score: 45.0)\n",
      "('Deep AI Player 1', 'GV', 'VENDEE', Move object:\n",
      "Move: C13, Horizontal, tiles: VENDE, score: 22.0)\n",
      "('AI Player 2', 'CNBA', 'PENI', Move object:\n",
      "Move: G9, Horizontal, tiles: PNI, score: 32.0)\n",
      "('Deep AI Player 1', 'GOK', 'RIVO', Move object:\n"
     ]
    },
    {
     "name": "stdout",
     "output_type": "stream",
     "text": [
      "Move: A8, Horizontal, tiles: RIVO, score: 28.0)\n",
      "('AI Player 2', '-', 'CANNIBAL', Move object:\n",
      "Move: B4, Vertical, tiles: CANNBAL, score: 66.0)\n",
      "('Deep AI Player 1', 'GKT', 'TOYER', Move object:\n",
      "Move: E3, Vertical, tiles: TOYE, score: 16.0)\n",
      "('AI Player 2', 'UUO', 'TEIN', Move object:\n",
      "Move: D2, Vertical, tiles: TEIN, score: 19.0)\n",
      "('Deep AI Player 1', 'GD', 'KRAFT', Move object:\n",
      "Move: I7, Horizontal, tiles: KRAFT, score: 43.0)\n",
      "('AI Player 2', 'UOO', 'HUIS', Move object:\n",
      "Move: A1, Horizontal, tiles: HUIS, score: 30.0)\n",
      "('Deep AI Player 1', 'GU', 'TETRODE', Move object:\n",
      "Move: C3, Horizontal, tiles: TRODE, score: 20.0)\n",
      "('AI Player 2', 'UOOA', 'WAE', Move object:\n",
      "Move: D12, Horizontal, tiles: WAE, score: 27.0)\n",
      "('Deep AI Player 1', 'GIECE', 'OUD', Move object:\n",
      "Move: H1, Vertical, tiles: OU, score: 12.0)\n",
      "('AI Player 2', 'UOO', 'STOAE', Move object:\n",
      "Move: G10, Horizontal, tiles: SOAE, score: 36.0)\n",
      "('Deep AI Player 1', 'G', 'DECIME', Move object:\n",
      "Move: A10, Vertical, tiles: DECIME, score: 47.0)\n",
      "('AI Player 2', 'UOLL', 'OMS', Move object:\n",
      "Move: D11, Horizontal, tiles: OMS, score: 30.0)\n",
      "('Deep AI Player 1', 'TIB', 'WODGe', Move object:\n",
      "Move: G1, Horizontal, tiles: WDGe, score: 9.0)\n",
      "('AI Player 2', 'UOLLOJ', 'EX', Move object:\n",
      "Move: F6, Horizontal, tiles: X, score: 50.0)\n",
      "('Deep AI Player 1', 'H', 'sTIBIAL', Move object:\n",
      "Move: I14, Horizontal, tiles: TIBIAL, score: 20.0)\n",
      "('AI Player 2', 'OLLO', 'JEU', Move object:\n",
      "Move: M13, Horizontal, tiles: JEU, score: 40.0)\n",
      "('Deep AI Player 1', 'QGP', 'FAHS', Move object:\n",
      "Move: N4, Vertical, tiles: FAHS, score: 31.0)\n",
      "('AI Player 2', 'LO', 'VOL', Move object:\n",
      "Move: C9, Vertical, tiles: OL, score: 16.0)\n",
      "('Deep AI Player 1', 'QG', 'JAP', Move object:\n",
      "Move: M15, Vertical, tiles: P, score: 15.0)\n",
      "('AI Player 2', '-', 'LOT', Move object:\n",
      "Move: M5, Vertical, tiles: LO, score: 10.0)\n",
      "Game ended:\n",
      "Final scores:\n",
      "\n",
      "AI Player 2 scored 439.0\n",
      "Deep AI Player 1 scored 258.0\n",
      "\n",
      "Move list:\n",
      "Move 1: AI Player 2 - rack leave: I, made word: ARIARY - Move: G8, Horizontal, tiles: ARIARY, score: 26.0\n",
      "Move 2: Deep AI Player 1 - rack leave: E, made word: RETUNEs - Move: H9, Vertical, tiles: ETUNEs, score: 7.0\n",
      "Move 3: AI Player 2 - rack leave: NCN, made word: GRIZ - Move: D7, Horizontal, tiles: GRIZ, score: 45.0\n",
      "Move 4: Deep AI Player 1 - rack leave: GV, made word: VENDEE - Move: C13, Horizontal, tiles: VENDE, score: 22.0\n",
      "Move 5: AI Player 2 - rack leave: CNBA, made word: PENI - Move: G9, Horizontal, tiles: PNI, score: 32.0\n",
      "Move 6: Deep AI Player 1 - rack leave: GOK, made word: RIVO - Move: A8, Horizontal, tiles: RIVO, score: 28.0\n",
      "Move 7: AI Player 2 - rack leave: -, made word: CANNIBAL - Move: B4, Vertical, tiles: CANNBAL, score: 66.0\n",
      "Move 8: Deep AI Player 1 - rack leave: GKT, made word: TOYER - Move: E3, Vertical, tiles: TOYE, score: 16.0\n",
      "Move 9: AI Player 2 - rack leave: UUO, made word: TEIN - Move: D2, Vertical, tiles: TEIN, score: 19.0\n",
      "Move 10: Deep AI Player 1 - rack leave: GD, made word: KRAFT - Move: I7, Horizontal, tiles: KRAFT, score: 43.0\n",
      "Move 11: AI Player 2 - rack leave: UOO, made word: HUIS - Move: A1, Horizontal, tiles: HUIS, score: 30.0\n",
      "Move 12: Deep AI Player 1 - rack leave: GU, made word: TETRODE - Move: C3, Horizontal, tiles: TRODE, score: 20.0\n",
      "Move 13: AI Player 2 - rack leave: UOOA, made word: WAE - Move: D12, Horizontal, tiles: WAE, score: 27.0\n",
      "Move 14: Deep AI Player 1 - rack leave: GIECE, made word: OUD - Move: H1, Vertical, tiles: OU, score: 12.0\n",
      "Move 15: AI Player 2 - rack leave: UOO, made word: STOAE - Move: G10, Horizontal, tiles: SOAE, score: 36.0\n",
      "Move 16: Deep AI Player 1 - rack leave: G, made word: DECIME - Move: A10, Vertical, tiles: DECIME, score: 47.0\n",
      "Move 17: AI Player 2 - rack leave: UOLL, made word: OMS - Move: D11, Horizontal, tiles: OMS, score: 30.0\n",
      "Move 18: Deep AI Player 1 - rack leave: TIB, made word: WODGe - Move: G1, Horizontal, tiles: WDGe, score: 9.0\n",
      "Move 19: AI Player 2 - rack leave: UOLLOJ, made word: EX - Move: F6, Horizontal, tiles: X, score: 50.0\n",
      "Move 20: Deep AI Player 1 - rack leave: H, made word: sTIBIAL - Move: I14, Horizontal, tiles: TIBIAL, score: 20.0\n",
      "Move 21: AI Player 2 - rack leave: OLLO, made word: JEU - Move: M13, Horizontal, tiles: JEU, score: 40.0\n",
      "Move 22: Deep AI Player 1 - rack leave: QGP, made word: FAHS - Move: N4, Vertical, tiles: FAHS, score: 31.0\n",
      "Move 23: AI Player 2 - rack leave: LO, made word: VOL - Move: C9, Vertical, tiles: OL, score: 16.0\n",
      "Move 24: Deep AI Player 1 - rack leave: QG, made word: JAP - Move: M15, Vertical, tiles: P, score: 15.0\n",
      "Move 25: AI Player 2 - rack leave: -, made word: LOT - Move: M5, Vertical, tiles: LO, score: 10.0\n",
      "Move 26: Deep AI Player 1 - rack leave: QG, made word: n/a - Final score adjustment: -12\n",
      "Move 27: AI Player 2 - rack leave: , made word: n/a - Final score adjustment: +12\n",
      "After 15 games: (draw, player1, player2) = (0, 1, 14)\n",
      "Waiting for players\n",
      "Starting game\n",
      "('Deep AI Player 1', 'I', 'CAEOMA', Move object:\n",
      "Move: D8, Horizontal, tiles: CAEOMA, score: 26.0)\n",
      "('AI Player 2', '-', 'PIERCER', Move object:\n",
      "Move: G9, Horizontal, tiles: PIERCER, score: 80.0)\n",
      "('Deep AI Player 1', 'IJA', 'COITS', Move object:\n",
      "Move: D9, Vertical, tiles: OITS, score: 14.0)\n",
      "('AI Player 2', 'UNI', 'TOZE', Move object:\n",
      "Move: L8, Horizontal, tiles: TOZE, score: 47.0)\n",
      "('Deep AI Player 1', 'JA', 'SLIER', Move object:\n",
      "Move: C9, Vertical, tiles: SLIER, score: 21.0)\n",
      "('AI Player 2', 'UI', 'HANSA', Move object:\n",
      "Move: G7, Horizontal, tiles: HANSA, score: 34.0)\n",
      "('Deep AI Player 1', 'JAA', 'LIsTEE', Move object:\n",
      "Move: L5, Vertical, tiles: LIsE, score: 13.0)\n",
      "('AI Player 2', 'UIOT', 'BEN', Move object:\n",
      "Move: F10, Horizontal, tiles: BEN, score: 26.0)\n",
      "('Deep AI Player 1', 'JADU', 'UVA', Move object:\n",
      "Move: M3, Vertical, tiles: UVA, score: 14.0)\n",
      "('AI Player 2', 'UIT', 'MOKE', Move object:\n",
      "Move: B12, Vertical, tiles: MOKE, score: 27.0)\n",
      "('Deep AI Player 1', 'AUUF', 'JEED', Move object:\n",
      "Move: A15, Horizontal, tiles: JED, score: 42.0)\n",
      "('AI Player 2', '-', 'TURGIDER', Move object:\n",
      "Move: O2, Vertical, tiles: TURGIDR, score: 61.0)\n",
      "('Deep AI Player 1', 'UFO', 'PULA', Move object:\n",
      "Move: N1, Vertical, tiles: PULA, score: 20.0)\n",
      "('AI Player 2', 'AFY', 'CHEWY', Move object:\n",
      "Move: K10, Vertical, tiles: HEWY, score: 37.0)\n",
      "('Deep AI Player 1', 'OE', 'AURIFY', Move object:\n",
      "Move: F13, Horizontal, tiles: AURIF, score: 14.0)\n",
      "('AI Player 2', 'FDGL', 'XRAY', Move object:\n",
      "Move: H12, Vertical, tiles: XAY, score: 66.0)\n",
      "('Deep AI Player 1', 'EO', 'NOsEAN', Move object:\n",
      "Move: E4, Vertical, tiles: NOsEN, score: 13.0)\n",
      "('AI Player 2', 'GLT', 'FIDO', Move object:\n",
      "Move: D1, Vertical, tiles: FIDO, score: 28.0)\n",
      "('Deep AI Player 1', 'VO', 'TOWSE', Move object:\n",
      "Move: F1, Vertical, tiles: TOWSE, score: 15.0)\n",
      "('AI Player 2', 'LTNG', 'BAG', Move object:\n",
      "Move: C2, Vertical, tiles: BAG, score: 27.0)\n",
      "('Deep AI Player 1', 'VTI', 'TONDI', Move object:\n",
      "Move: G1, Horizontal, tiles: ONDI, score: 18.0)\n",
      "('AI Player 2', 'LTNG', 'QI', Move object:\n",
      "Move: N6, Horizontal, tiles: Q, score: 31.0)\n",
      "('Deep AI Player 1', '-', 'VITAMIN', Move object:\n",
      "Move: H4, Vertical, tiles: VIT, score: 16.0)\n",
      "Game ended:\n",
      "Final scores:\n",
      "\n",
      "Deep AI Player 1 scored 231.0\n",
      "AI Player 2 scored 459.0\n",
      "\n",
      "Move list:\n",
      "Move 1: Deep AI Player 1 - rack leave: I, made word: CAEOMA - Move: D8, Horizontal, tiles: CAEOMA, score: 26.0\n",
      "Move 2: AI Player 2 - rack leave: -, made word: PIERCER - Move: G9, Horizontal, tiles: PIERCER, score: 80.0\n",
      "Move 3: Deep AI Player 1 - rack leave: IJA, made word: COITS - Move: D9, Vertical, tiles: OITS, score: 14.0\n",
      "Move 4: AI Player 2 - rack leave: UNI, made word: TOZE - Move: L8, Horizontal, tiles: TOZE, score: 47.0\n",
      "Move 5: Deep AI Player 1 - rack leave: JA, made word: SLIER - Move: C9, Vertical, tiles: SLIER, score: 21.0\n",
      "Move 6: AI Player 2 - rack leave: UI, made word: HANSA - Move: G7, Horizontal, tiles: HANSA, score: 34.0\n",
      "Move 7: Deep AI Player 1 - rack leave: JAA, made word: LIsTEE - Move: L5, Vertical, tiles: LIsE, score: 13.0\n",
      "Move 8: AI Player 2 - rack leave: UIOT, made word: BEN - Move: F10, Horizontal, tiles: BEN, score: 26.0\n",
      "Move 9: Deep AI Player 1 - rack leave: JADU, made word: UVA - Move: M3, Vertical, tiles: UVA, score: 14.0\n",
      "Move 10: AI Player 2 - rack leave: UIT, made word: MOKE - Move: B12, Vertical, tiles: MOKE, score: 27.0\n"
     ]
    },
    {
     "name": "stdout",
     "output_type": "stream",
     "text": [
      "Move 11: Deep AI Player 1 - rack leave: AUUF, made word: JEED - Move: A15, Horizontal, tiles: JED, score: 42.0\n",
      "Move 12: AI Player 2 - rack leave: -, made word: TURGIDER - Move: O2, Vertical, tiles: TURGIDR, score: 61.0\n",
      "Move 13: Deep AI Player 1 - rack leave: UFO, made word: PULA - Move: N1, Vertical, tiles: PULA, score: 20.0\n",
      "Move 14: AI Player 2 - rack leave: AFY, made word: CHEWY - Move: K10, Vertical, tiles: HEWY, score: 37.0\n",
      "Move 15: Deep AI Player 1 - rack leave: OE, made word: AURIFY - Move: F13, Horizontal, tiles: AURIF, score: 14.0\n",
      "Move 16: AI Player 2 - rack leave: FDGL, made word: XRAY - Move: H12, Vertical, tiles: XAY, score: 66.0\n",
      "Move 17: Deep AI Player 1 - rack leave: EO, made word: NOsEAN - Move: E4, Vertical, tiles: NOsEN, score: 13.0\n",
      "Move 18: AI Player 2 - rack leave: GLT, made word: FIDO - Move: D1, Vertical, tiles: FIDO, score: 28.0\n",
      "Move 19: Deep AI Player 1 - rack leave: VO, made word: TOWSE - Move: F1, Vertical, tiles: TOWSE, score: 15.0\n",
      "Move 20: AI Player 2 - rack leave: LTNG, made word: BAG - Move: C2, Vertical, tiles: BAG, score: 27.0\n",
      "Move 21: Deep AI Player 1 - rack leave: VTI, made word: TONDI - Move: G1, Horizontal, tiles: ONDI, score: 18.0\n",
      "Move 22: AI Player 2 - rack leave: LTNG, made word: QI - Move: N6, Horizontal, tiles: Q, score: 31.0\n",
      "Move 23: Deep AI Player 1 - rack leave: -, made word: VITAMIN - Move: H4, Vertical, tiles: VIT, score: 16.0\n",
      "Move 24: AI Player 2 - rack leave: LTNG, made word: n/a - Final score adjustment: -5\n",
      "Move 25: Deep AI Player 1 - rack leave: , made word: n/a - Final score adjustment: +5\n",
      "After 16 games: (draw, player1, player2) = (0, 1, 15)\n",
      "Waiting for players\n",
      "Starting game\n",
      "('Deep AI Player 1', 'DT', 'NINTH', Move object:\n",
      "Move: D8, Horizontal, tiles: NINTH, score: 18.0)\n",
      "('AI Player 2', 'I', 'CONTENT', Move object:\n",
      "Move: D6, Vertical, tiles: COTENT, score: 18.0)\n",
      "('Deep AI Player 1', 'RL', 'PELTED', Move object:\n",
      "Move: C10, Horizontal, tiles: PLTED, score: 11.0)\n",
      "('AI Player 2', 'AR', 'DINKLY', Move object:\n",
      "Move: H11, Vertical, tiles: INKLY, score: 45.0)\n",
      "('Deep AI Player 1', 'R', 'FILERS', Move object:\n",
      "Move: I3, Vertical, tiles: FILERS, score: 23.0)\n",
      "('AI Player 2', 'RW', 'AZOLE', Move object:\n",
      "Move: H1, Vertical, tiles: AZOLE, score: 55.0)\n",
      "('Deep AI Player 1', 'R', 'MISMOVE', Move object:\n",
      "Move: G11, Horizontal, tiles: MSMOVE, score: 32.0)\n",
      "('AI Player 2', 'OOQ', 'ReSEW', Move object:\n",
      "Move: F6, Horizontal, tiles: ReSW, score: 32.0)\n",
      "('Deep AI Player 1', 'B', 'GINGERS', Move object:\n",
      "Move: M7, Vertical, tiles: GINGRS, score: 24.0)\n",
      "('AI Player 2', 'OOQA', 'EAVE', Move object:\n",
      "Move: L9, Vertical, tiles: EAE, score: 23.0)\n",
      "('Deep AI Player 1', 'HANX', 'BUKE', Move object:\n",
      "Move: F13, Horizontal, tiles: BUE, score: 12.0)\n",
      "('AI Player 2', 'OOQAO', 'AY', Move object:\n",
      "Move: E14, Horizontal, tiles: AY, score: 28.0)\n",
      "('Deep AI Player 1', 'AXU', 'CHINE', Move object:\n",
      "Move: K8, Horizontal, tiles: CHNE, score: 57.0)\n",
      "('AI Player 2', 'QAOOE', 'ONO', Move object:\n",
      "Move: C11, Horizontal, tiles: OO, score: 14.0)\n",
      "('Deep AI Player 1', 'AXVU', 'PUs', Move object:\n",
      "Move: K4, Vertical, tiles: PUs, score: 15.0)\n",
      "('AI Player 2', 'QOO', 'AJEE', Move object:\n",
      "Move: L1, Vertical, tiles: AJEE, score: 30.0)\n",
      "('Deep AI Player 1', 'AVURA', 'OX', Move object:\n",
      "Move: M2, Vertical, tiles: OX, score: 45.0)\n",
      "('AI Player 2', 'QODI', 'BOG', Move object:\n",
      "Move: N2, Vertical, tiles: BOG, score: 46.0)\n",
      "('Deep AI Player 1', 'UI', 'VARIA', Move object:\n",
      "Move: A15, Horizontal, tiles: VARIA, score: 29.0)\n",
      "('AI Player 2', 'ODATF', 'QIN', Move object:\n",
      "Move: N6, Vertical, tiles: QI, score: 35.0)\n",
      "('Deep AI Player 1', 'IDIDR', 'TOFU', Move object:\n",
      "Move: G3, Horizontal, tiles: TU, score: 8.0)\n",
      "('AI Player 2', 'FWU', 'DATO', Move object:\n",
      "Move: N11, Vertical, tiles: DATO, score: 31.0)\n",
      "('Deep AI Player 1', 'II', 'YARDED', Move object:\n",
      "Move: I15, Horizontal, tiles: ARDED, score: 13.0)\n",
      "('AI Player 2', 'UARI', 'FAW', Move object:\n",
      "Move: K1, Horizontal, tiles: FW, score: 30.0)\n",
      "('Deep AI Player 1', 'I', 'IO', Move object:\n",
      "Move: C7, Horizontal, tiles: I, score: 3.0)\n",
      "('AI Player 2', 'UA', 'RIZ', Move object:\n",
      "Move: F2, Horizontal, tiles: RI, score: 16.0)\n",
      "('Deep AI Player 1', '-', 'QI', Move object:\n",
      "Move: O6, Horizontal, tiles: I, score: 11.0)\n",
      "Game ended:\n",
      "Final scores:\n",
      "\n",
      "Deep AI Player 1 scored 303.0\n",
      "AI Player 2 scored 401.0\n",
      "\n",
      "Move list:\n",
      "Move 1: Deep AI Player 1 - rack leave: DT, made word: NINTH - Move: D8, Horizontal, tiles: NINTH, score: 18.0\n",
      "Move 2: AI Player 2 - rack leave: I, made word: CONTENT - Move: D6, Vertical, tiles: COTENT, score: 18.0\n",
      "Move 3: Deep AI Player 1 - rack leave: RL, made word: PELTED - Move: C10, Horizontal, tiles: PLTED, score: 11.0\n",
      "Move 4: AI Player 2 - rack leave: AR, made word: DINKLY - Move: H11, Vertical, tiles: INKLY, score: 45.0\n",
      "Move 5: Deep AI Player 1 - rack leave: R, made word: FILERS - Move: I3, Vertical, tiles: FILERS, score: 23.0\n",
      "Move 6: AI Player 2 - rack leave: RW, made word: AZOLE - Move: H1, Vertical, tiles: AZOLE, score: 55.0\n",
      "Move 7: Deep AI Player 1 - rack leave: R, made word: MISMOVE - Move: G11, Horizontal, tiles: MSMOVE, score: 32.0\n",
      "Move 8: AI Player 2 - rack leave: OOQ, made word: ReSEW - Move: F6, Horizontal, tiles: ReSW, score: 32.0\n",
      "Move 9: Deep AI Player 1 - rack leave: B, made word: GINGERS - Move: M7, Vertical, tiles: GINGRS, score: 24.0\n",
      "Move 10: AI Player 2 - rack leave: OOQA, made word: EAVE - Move: L9, Vertical, tiles: EAE, score: 23.0\n",
      "Move 11: Deep AI Player 1 - rack leave: HANX, made word: BUKE - Move: F13, Horizontal, tiles: BUE, score: 12.0\n",
      "Move 12: AI Player 2 - rack leave: OOQAO, made word: AY - Move: E14, Horizontal, tiles: AY, score: 28.0\n",
      "Move 13: Deep AI Player 1 - rack leave: AXU, made word: CHINE - Move: K8, Horizontal, tiles: CHNE, score: 57.0\n",
      "Move 14: AI Player 2 - rack leave: QAOOE, made word: ONO - Move: C11, Horizontal, tiles: OO, score: 14.0\n",
      "Move 15: Deep AI Player 1 - rack leave: AXVU, made word: PUs - Move: K4, Vertical, tiles: PUs, score: 15.0\n",
      "Move 16: AI Player 2 - rack leave: QOO, made word: AJEE - Move: L1, Vertical, tiles: AJEE, score: 30.0\n",
      "Move 17: Deep AI Player 1 - rack leave: AVURA, made word: OX - Move: M2, Vertical, tiles: OX, score: 45.0\n",
      "Move 18: AI Player 2 - rack leave: QODI, made word: BOG - Move: N2, Vertical, tiles: BOG, score: 46.0\n",
      "Move 19: Deep AI Player 1 - rack leave: UI, made word: VARIA - Move: A15, Horizontal, tiles: VARIA, score: 29.0\n",
      "Move 20: AI Player 2 - rack leave: ODATF, made word: QIN - Move: N6, Vertical, tiles: QI, score: 35.0\n",
      "Move 21: Deep AI Player 1 - rack leave: IDIDR, made word: TOFU - Move: G3, Horizontal, tiles: TU, score: 8.0\n",
      "Move 22: AI Player 2 - rack leave: FWU, made word: DATO - Move: N11, Vertical, tiles: DATO, score: 31.0\n",
      "Move 23: Deep AI Player 1 - rack leave: II, made word: YARDED - Move: I15, Horizontal, tiles: ARDED, score: 13.0\n",
      "Move 24: AI Player 2 - rack leave: UARI, made word: FAW - Move: K1, Horizontal, tiles: FW, score: 30.0\n",
      "Move 25: Deep AI Player 1 - rack leave: I, made word: IO - Move: C7, Horizontal, tiles: I, score: 3.0\n",
      "Move 26: AI Player 2 - rack leave: UA, made word: RIZ - Move: F2, Horizontal, tiles: RI, score: 16.0\n",
      "Move 27: Deep AI Player 1 - rack leave: -, made word: QI - Move: O6, Horizontal, tiles: I, score: 11.0\n",
      "Move 28: AI Player 2 - rack leave: UA, made word: n/a - Final score adjustment: -2\n",
      "Move 29: Deep AI Player 1 - rack leave: , made word: n/a - Final score adjustment: +2\n",
      "After 17 games: (draw, player1, player2) = (0, 1, 16)\n",
      "Waiting for players\n",
      "Starting game\n",
      "('AI Player 2', 'UEA', 'JADE', Move object:\n",
      "Move: G8, Horizontal, tiles: JADE, score: 24.0)\n",
      "('Deep AI Player 1', 'OBs', 'EVOE', Move object:\n",
      "Move: E9, Horizontal, tiles: EVOE, score: 20.0)\n",
      "('AI Player 2', 'AA', 'UKASE', Move object:\n",
      "Move: A8, Horizontal, tiles: UKASE, score: 32.0)\n",
      "('Deep AI Player 1', 'B', 'sOUPLED', Move object:\n",
      "Move: I2, Vertical, tiles: sOUPLE, score: 11.0)\n",
      "('AI Player 2', '-', 'TATHATAS', Move object:\n",
      "Move: C7, Vertical, tiles: TTHATAS, score: 76.0)\n",
      "('Deep AI Player 1', 'BL', 'ADMIRE', Move object:\n",
      "Move: D13, Horizontal, tiles: DMIRE, score: 10.0)\n",
      "('AI Player 2', 'UEI', 'RAKIA', Move object:\n",
      "Move: B6, Vertical, tiles: RAIA, score: 24.0)\n",
      "('Deep AI Player 1', 'B', 'BELONG', Move object:\n",
      "Move: A10, Vertical, tiles: BELONG, score: 38.0)\n",
      "('AI Player 2', 'UI', 'HOOEY', Move object:\n"
     ]
    },
    {
     "name": "stdout",
     "output_type": "stream",
     "text": [
      "Move: H12, Horizontal, tiles: HOOEY, score: 39.0)\n",
      "('Deep AI Player 1', 'BO', 'DEITY', Move object:\n",
      "Move: J9, Horizontal, tiles: DEITY, score: 13.0)\n",
      "('AI Player 2', 'UDGX', 'TIZ', Move object:\n",
      "Move: H1, Vertical, tiles: TIZ, score: 48.0)\n",
      "('Deep AI Player 1', '-', 'BONNIER', Move object:\n",
      "Move: I11, Horizontal, tiles: BONNIER, score: 83.0)\n",
      "('AI Player 2', 'DS', 'GUANXI', Move object:\n",
      "Move: L4, Vertical, tiles: GUANX, score: 44.0)\n",
      "('Deep AI Player 1', 'QIFWR', 'HEIL', Move object:\n",
      "Move: H14, Vertical, tiles: IL, score: 21.0)\n",
      "('AI Player 2', 'RU', 'DYNEINS', Move object:\n",
      "Move: N8, Vertical, tiles: DNINS, score: 26.0)\n",
      "('Deep AI Player 1', 'FWRWE', 'QI', Move object:\n",
      "Move: O7, Vertical, tiles: QI, score: 42.0)\n",
      "('AI Player 2', 'UVI', 'MARE', Move object:\n",
      "Move: J2, Vertical, tiles: MARE, score: 40.0)\n",
      "('Deep AI Player 1', 'WW', 'FORCES', Move object:\n",
      "Move: D3, Vertical, tiles: FORCE, score: 25.0)\n",
      "('AI Player 2', 'VIT', 'CUPS', Move object:\n",
      "Move: M3, Vertical, tiles: CUPS, score: 25.0)\n",
      "('Deep AI Player 1', 'WF', 'ALOWe', Move object:\n",
      "Move: C1, Vertical, tiles: ALOWe, score: 30.0)\n",
      "('AI Player 2', 'IT', 'GRAV', Move object:\n",
      "Move: A1, Horizontal, tiles: GRV, score: 36.0)\n",
      "('Deep AI Player 1', '-', 'WOWF', Move object:\n",
      "Move: E4, Horizontal, tiles: WF, score: 13.0)\n",
      "Game ended:\n",
      "Final scores:\n",
      "\n",
      "AI Player 2 scored 412.0\n",
      "Deep AI Player 1 scored 308.0\n",
      "\n",
      "Move list:\n",
      "Move 1: AI Player 2 - rack leave: UEA, made word: JADE - Move: G8, Horizontal, tiles: JADE, score: 24.0\n",
      "Move 2: Deep AI Player 1 - rack leave: OBs, made word: EVOE - Move: E9, Horizontal, tiles: EVOE, score: 20.0\n",
      "Move 3: AI Player 2 - rack leave: AA, made word: UKASE - Move: A8, Horizontal, tiles: UKASE, score: 32.0\n",
      "Move 4: Deep AI Player 1 - rack leave: B, made word: sOUPLED - Move: I2, Vertical, tiles: sOUPLE, score: 11.0\n",
      "Move 5: AI Player 2 - rack leave: -, made word: TATHATAS - Move: C7, Vertical, tiles: TTHATAS, score: 76.0\n",
      "Move 6: Deep AI Player 1 - rack leave: BL, made word: ADMIRE - Move: D13, Horizontal, tiles: DMIRE, score: 10.0\n",
      "Move 7: AI Player 2 - rack leave: UEI, made word: RAKIA - Move: B6, Vertical, tiles: RAIA, score: 24.0\n",
      "Move 8: Deep AI Player 1 - rack leave: B, made word: BELONG - Move: A10, Vertical, tiles: BELONG, score: 38.0\n",
      "Move 9: AI Player 2 - rack leave: UI, made word: HOOEY - Move: H12, Horizontal, tiles: HOOEY, score: 39.0\n",
      "Move 10: Deep AI Player 1 - rack leave: BO, made word: DEITY - Move: J9, Horizontal, tiles: DEITY, score: 13.0\n",
      "Move 11: AI Player 2 - rack leave: UDGX, made word: TIZ - Move: H1, Vertical, tiles: TIZ, score: 48.0\n",
      "Move 12: Deep AI Player 1 - rack leave: -, made word: BONNIER - Move: I11, Horizontal, tiles: BONNIER, score: 83.0\n",
      "Move 13: AI Player 2 - rack leave: DS, made word: GUANXI - Move: L4, Vertical, tiles: GUANX, score: 44.0\n",
      "Move 14: Deep AI Player 1 - rack leave: QIFWR, made word: HEIL - Move: H14, Vertical, tiles: IL, score: 21.0\n",
      "Move 15: AI Player 2 - rack leave: RU, made word: DYNEINS - Move: N8, Vertical, tiles: DNINS, score: 26.0\n",
      "Move 16: Deep AI Player 1 - rack leave: FWRWE, made word: QI - Move: O7, Vertical, tiles: QI, score: 42.0\n",
      "Move 17: AI Player 2 - rack leave: UVI, made word: MARE - Move: J2, Vertical, tiles: MARE, score: 40.0\n",
      "Move 18: Deep AI Player 1 - rack leave: WW, made word: FORCES - Move: D3, Vertical, tiles: FORCE, score: 25.0\n",
      "Move 19: AI Player 2 - rack leave: VIT, made word: CUPS - Move: M3, Vertical, tiles: CUPS, score: 25.0\n",
      "Move 20: Deep AI Player 1 - rack leave: WF, made word: ALOWe - Move: C1, Vertical, tiles: ALOWe, score: 30.0\n",
      "Move 21: AI Player 2 - rack leave: IT, made word: GRAV - Move: A1, Horizontal, tiles: GRV, score: 36.0\n",
      "Move 22: Deep AI Player 1 - rack leave: -, made word: WOWF - Move: E4, Horizontal, tiles: WF, score: 13.0\n",
      "Move 23: AI Player 2 - rack leave: IT, made word: n/a - Final score adjustment: -2\n",
      "Move 24: Deep AI Player 1 - rack leave: , made word: n/a - Final score adjustment: +2\n",
      "After 18 games: (draw, player1, player2) = (0, 1, 17)\n",
      "Waiting for players\n",
      "Starting game\n",
      "('AI Player 2', 'FG', 'SIZED', Move object:\n",
      "Move: H8, Horizontal, tiles: SIZED, score: 34.0)\n",
      "('Deep AI Player 1', 'G', 'STOWNDS', Move object:\n",
      "Move: H9, Vertical, tiles: TOWNDS, score: 12.0)\n",
      "('AI Player 2', 'AR', 'FAZING', Move object:\n",
      "Move: J6, Vertical, tiles: FAING, score: 29.0)\n",
      "('Deep AI Player 1', 'A', 'LIGATE', Move object:\n",
      "Move: I1, Vertical, tiles: LIGATE, score: 14.0)\n",
      "('AI Player 2', 'IRR', 'ARROW', Move object:\n",
      "Move: D11, Horizontal, tiles: ARRO, score: 16.0)\n",
      "('Deep AI Player 1', 'QA', 'SEABED', Move object:\n",
      "Move: C13, Horizontal, tiles: SEABE, score: 20.0)\n",
      "('AI Player 2', 'RO', 'CURIAL', Move object:\n",
      "Move: D1, Horizontal, tiles: CURIA, score: 33.0)\n",
      "('Deep AI Player 1', 'QAMT', 'EWT', Move object:\n",
      "Move: L9, Horizontal, tiles: EWT, score: 13.0)\n",
      "('AI Player 2', 'ARIU', 'FOR', Move object:\n",
      "Move: J2, Vertical, tiles: FOR, score: 32.0)\n",
      "('Deep AI Player 1', 'QM', 'TOOART', Move object:\n",
      "Move: C9, Horizontal, tiles: TOOAR, score: 8.0)\n",
      "('AI Player 2', 'IL', 'RAUPO', Move object:\n",
      "Move: A8, Horizontal, tiles: RAUPO, score: 41.0)\n",
      "('Deep AI Player 1', 'Q', 'METAYER', Move object:\n",
      "Move: A2, Vertical, tiles: METAYE, score: 13.0)\n",
      "('AI Player 2', 'IU', 'KILEY', Move object:\n",
      "Move: B14, Horizontal, tiles: KILEY, score: 61.0)\n",
      "('Deep AI Player 1', 'QA', 'SIDECAR', Move object:\n",
      "Move: D4, Horizontal, tiles: SIDEC, score: 26.0)\n",
      "('AI Player 2', 'UG', 'NUDIE', Move object:\n",
      "Move: B1, Vertical, tiles: NUDIE, score: 27.0)\n",
      "('Deep AI Player 1', 'QAT', 'XENON', Move object:\n",
      "Move: G3, Vertical, tiles: XNON, score: 21.0)\n",
      "('AI Player 2', 'I', 'BOUGHs', Move object:\n",
      "Move: O4, Vertical, tiles: BOUGHs, score: 48.0)\n",
      "('Deep AI Player 1', 'QVHe', 'TAM', Move object:\n",
      "Move: A15, Horizontal, tiles: TAM, score: 26.0)\n",
      "('AI Player 2', 'IILP', 'JIVE', Move object:\n",
      "Move: E3, Vertical, tiles: JVE, score: 28.0)\n",
      "('Deep AI Player 1', 'QH', 'ELVaN', Move object:\n",
      "Move: N1, Vertical, tiles: ELVaN, score: 19.0)\n",
      "('AI Player 2', '-', 'PILEI', Move object:\n",
      "Move: K1, Horizontal, tiles: PILI, score: 24.0)\n",
      "Game ended:\n",
      "Final scores:\n",
      "\n",
      "AI Player 2 scored 387.0\n",
      "Deep AI Player 1 scored 158.0\n",
      "\n",
      "Move list:\n",
      "Move 1: AI Player 2 - rack leave: FG, made word: SIZED - Move: H8, Horizontal, tiles: SIZED, score: 34.0\n",
      "Move 2: Deep AI Player 1 - rack leave: G, made word: STOWNDS - Move: H9, Vertical, tiles: TOWNDS, score: 12.0\n",
      "Move 3: AI Player 2 - rack leave: AR, made word: FAZING - Move: J6, Vertical, tiles: FAING, score: 29.0\n",
      "Move 4: Deep AI Player 1 - rack leave: A, made word: LIGATE - Move: I1, Vertical, tiles: LIGATE, score: 14.0\n",
      "Move 5: AI Player 2 - rack leave: IRR, made word: ARROW - Move: D11, Horizontal, tiles: ARRO, score: 16.0\n",
      "Move 6: Deep AI Player 1 - rack leave: QA, made word: SEABED - Move: C13, Horizontal, tiles: SEABE, score: 20.0\n",
      "Move 7: AI Player 2 - rack leave: RO, made word: CURIAL - Move: D1, Horizontal, tiles: CURIA, score: 33.0\n",
      "Move 8: Deep AI Player 1 - rack leave: QAMT, made word: EWT - Move: L9, Horizontal, tiles: EWT, score: 13.0\n",
      "Move 9: AI Player 2 - rack leave: ARIU, made word: FOR - Move: J2, Vertical, tiles: FOR, score: 32.0\n",
      "Move 10: Deep AI Player 1 - rack leave: QM, made word: TOOART - Move: C9, Horizontal, tiles: TOOAR, score: 8.0\n",
      "Move 11: AI Player 2 - rack leave: IL, made word: RAUPO - Move: A8, Horizontal, tiles: RAUPO, score: 41.0\n",
      "Move 12: Deep AI Player 1 - rack leave: Q, made word: METAYER - Move: A2, Vertical, tiles: METAYE, score: 13.0\n",
      "Move 13: AI Player 2 - rack leave: IU, made word: KILEY - Move: B14, Horizontal, tiles: KILEY, score: 61.0\n",
      "Move 14: Deep AI Player 1 - rack leave: QA, made word: SIDECAR - Move: D4, Horizontal, tiles: SIDEC, score: 26.0\n",
      "Move 15: AI Player 2 - rack leave: UG, made word: NUDIE - Move: B1, Vertical, tiles: NUDIE, score: 27.0\n",
      "Move 16: Deep AI Player 1 - rack leave: QAT, made word: XENON - Move: G3, Vertical, tiles: XNON, score: 21.0\n",
      "Move 17: AI Player 2 - rack leave: I, made word: BOUGHs - Move: O4, Vertical, tiles: BOUGHs, score: 48.0\n",
      "Move 18: Deep AI Player 1 - rack leave: QVHe, made word: TAM - Move: A15, Horizontal, tiles: TAM, score: 26.0\n",
      "Move 19: AI Player 2 - rack leave: IILP, made word: JIVE - Move: E3, Vertical, tiles: JVE, score: 28.0\n"
     ]
    },
    {
     "name": "stdout",
     "output_type": "stream",
     "text": [
      "Move 20: Deep AI Player 1 - rack leave: QH, made word: ELVaN - Move: N1, Vertical, tiles: ELVaN, score: 19.0\n",
      "Move 21: AI Player 2 - rack leave: -, made word: PILEI - Move: K1, Horizontal, tiles: PILI, score: 24.0\n",
      "Move 22: Deep AI Player 1 - rack leave: QH, made word: n/a - Final score adjustment: -14\n",
      "Move 23: AI Player 2 - rack leave: , made word: n/a - Final score adjustment: +14\n",
      "After 19 games: (draw, player1, player2) = (0, 1, 18)\n",
      "Waiting for players\n",
      "Starting game\n",
      "('AI Player 2', 'QD', 'AGENE', Move object:\n",
      "Move: H8, Horizontal, tiles: AGENE, score: 14.0)\n",
      "('Deep AI Player 1', 'N', 'PAROLE', Move object:\n",
      "Move: C9, Horizontal, tiles: PAROLE, score: 14.0)\n",
      "('AI Player 2', 'QDSSL', 'HA', Move object:\n",
      "Move: F10, Horizontal, tiles: HA, score: 28.0)\n",
      "('Deep AI Player 1', 'UN', 'YOKING', Move object:\n",
      "Move: I3, Vertical, tiles: YOKIN, score: 19.0)\n",
      "('AI Player 2', 'QDSLVT', 'YOKINGS', Move object:\n",
      "Move: I9, Vertical, tiles: S, score: 26.0)\n",
      "('Deep AI Player 1', '-', 'UNTWINED', Move object:\n",
      "Move: K3, Vertical, tiles: UNTWIED, score: 74.0)\n",
      "('AI Player 2', 'DLVB', 'QATS', Move object:\n",
      "Move: D8, Vertical, tiles: QTS, score: 23.0)\n",
      "('Deep AI Player 1', 'VEX', 'SaFT', Move object:\n",
      "Move: H1, Vertical, tiles: SaFT, score: 32.0)\n",
      "('AI Player 2', 'VBR', 'AWDL', Move object:\n",
      "Move: L10, Vertical, tiles: AWDL, score: 19.0)\n",
      "('Deep AI Player 1', 'VUA', 'EXPEL', Move object:\n",
      "Move: H13, Horizontal, tiles: EXPE, score: 22.0)\n",
      "('AI Player 2', 'OMAA', 'VERB', Move object:\n",
      "Move: H12, Vertical, tiles: VRB, score: 39.0)\n",
      "('Deep AI Player 1', 'VA', 'UNUSED', Move object:\n",
      "Move: E1, Horizontal, tiles: UNUED, score: 7.0)\n",
      "('AI Player 2', 'AFO', 'CAMO', Move object:\n",
      "Move: L1, Vertical, tiles: CAMO, score: 24.0)\n",
      "('Deep AI Player 1', 'AD', 'VErSIFY', Move object:\n",
      "Move: C3, Horizontal, tiles: VErSI, score: 32.0)\n",
      "('AI Player 2', 'ORA', 'FERIA', Move object:\n",
      "Move: F14, Horizontal, tiles: FEIA, score: 33.0)\n",
      "('Deep AI Player 1', 'L', 'MIDAIR', Move object:\n",
      "Move: J15, Horizontal, tiles: MIDAIR, score: 37.0)\n",
      "('AI Player 2', 'ORAO', 'CHIB', Move object:\n",
      "Move: M1, Horizontal, tiles: HIB, score: 45.0)\n",
      "('Deep AI Player 1', 'N', 'BOOTLEG', Move object:\n",
      "Move: O2, Vertical, tiles: OOTLEG, score: 11.0)\n",
      "('AI Player 2', 'RACT', 'ZOO', Move object:\n",
      "Move: M14, Horizontal, tiles: ZOO, score: 41.0)\n",
      "('Deep AI Player 1', 'JY', 'INTRO', Move object:\n",
      "Move: C11, Vertical, tiles: INTRO, score: 12.0)\n",
      "('AI Player 2', 'RERA', 'ATOC', Move object:\n",
      "Move: A15, Horizontal, tiles: ATC, score: 27.0)\n",
      "('Deep AI Player 1', 'JNE', 'GULY', Move object:\n",
      "Move: M4, Vertical, tiles: GULY, score: 16.0)\n",
      "('AI Player 2', 'RI', 'EAR', Move object:\n",
      "Move: N6, Vertical, tiles: EAR, score: 14.0)\n",
      "('Deep AI Player 1', 'J', 'NE', Move object:\n",
      "Move: D4, Horizontal, tiles: NE, score: 9.0)\n",
      "('AI Player 2', '-', 'DARI', Move object:\n",
      "Move: M10, Horizontal, tiles: RI, score: 7.0)\n",
      "Game ended:\n",
      "Final scores:\n",
      "\n",
      "AI Player 2 scored 348.0\n",
      "Deep AI Player 1 scored 277.0\n",
      "\n",
      "Move list:\n",
      "Move 1: AI Player 2 - rack leave: QD, made word: AGENE - Move: H8, Horizontal, tiles: AGENE, score: 14.0\n",
      "Move 2: Deep AI Player 1 - rack leave: N, made word: PAROLE - Move: C9, Horizontal, tiles: PAROLE, score: 14.0\n",
      "Move 3: AI Player 2 - rack leave: QDSSL, made word: HA - Move: F10, Horizontal, tiles: HA, score: 28.0\n",
      "Move 4: Deep AI Player 1 - rack leave: UN, made word: YOKING - Move: I3, Vertical, tiles: YOKIN, score: 19.0\n",
      "Move 5: AI Player 2 - rack leave: QDSLVT, made word: YOKINGS - Move: I9, Vertical, tiles: S, score: 26.0\n",
      "Move 6: Deep AI Player 1 - rack leave: -, made word: UNTWINED - Move: K3, Vertical, tiles: UNTWIED, score: 74.0\n",
      "Move 7: AI Player 2 - rack leave: DLVB, made word: QATS - Move: D8, Vertical, tiles: QTS, score: 23.0\n",
      "Move 8: Deep AI Player 1 - rack leave: VEX, made word: SaFT - Move: H1, Vertical, tiles: SaFT, score: 32.0\n",
      "Move 9: AI Player 2 - rack leave: VBR, made word: AWDL - Move: L10, Vertical, tiles: AWDL, score: 19.0\n",
      "Move 10: Deep AI Player 1 - rack leave: VUA, made word: EXPEL - Move: H13, Horizontal, tiles: EXPE, score: 22.0\n",
      "Move 11: AI Player 2 - rack leave: OMAA, made word: VERB - Move: H12, Vertical, tiles: VRB, score: 39.0\n",
      "Move 12: Deep AI Player 1 - rack leave: VA, made word: UNUSED - Move: E1, Horizontal, tiles: UNUED, score: 7.0\n",
      "Move 13: AI Player 2 - rack leave: AFO, made word: CAMO - Move: L1, Vertical, tiles: CAMO, score: 24.0\n",
      "Move 14: Deep AI Player 1 - rack leave: AD, made word: VErSIFY - Move: C3, Horizontal, tiles: VErSI, score: 32.0\n",
      "Move 15: AI Player 2 - rack leave: ORA, made word: FERIA - Move: F14, Horizontal, tiles: FEIA, score: 33.0\n",
      "Move 16: Deep AI Player 1 - rack leave: L, made word: MIDAIR - Move: J15, Horizontal, tiles: MIDAIR, score: 37.0\n",
      "Move 17: AI Player 2 - rack leave: ORAO, made word: CHIB - Move: M1, Horizontal, tiles: HIB, score: 45.0\n",
      "Move 18: Deep AI Player 1 - rack leave: N, made word: BOOTLEG - Move: O2, Vertical, tiles: OOTLEG, score: 11.0\n",
      "Move 19: AI Player 2 - rack leave: RACT, made word: ZOO - Move: M14, Horizontal, tiles: ZOO, score: 41.0\n",
      "Move 20: Deep AI Player 1 - rack leave: JY, made word: INTRO - Move: C11, Vertical, tiles: INTRO, score: 12.0\n",
      "Move 21: AI Player 2 - rack leave: RERA, made word: ATOC - Move: A15, Horizontal, tiles: ATC, score: 27.0\n",
      "Move 22: Deep AI Player 1 - rack leave: JNE, made word: GULY - Move: M4, Vertical, tiles: GULY, score: 16.0\n",
      "Move 23: AI Player 2 - rack leave: RI, made word: EAR - Move: N6, Vertical, tiles: EAR, score: 14.0\n",
      "Move 24: Deep AI Player 1 - rack leave: J, made word: NE - Move: D4, Horizontal, tiles: NE, score: 9.0\n",
      "Move 25: AI Player 2 - rack leave: -, made word: DARI - Move: M10, Horizontal, tiles: RI, score: 7.0\n",
      "Move 26: Deep AI Player 1 - rack leave: J, made word: n/a - Final score adjustment: -8\n",
      "Move 27: AI Player 2 - rack leave: , made word: n/a - Final score adjustment: +8\n",
      "After 20 games: (draw, player1, player2) = (0, 1, 19)\n",
      "Waiting for players\n",
      "Starting game\n",
      "('Deep AI Player 1', 'TL', 'YONIC', Move object:\n",
      "Move: D8, Horizontal, tiles: YONIC, score: 28.0)\n",
      "('AI Player 2', '-', 'EMINENCE', Move object:\n",
      "Move: H2, Vertical, tiles: EMINENE, score: 63.0)\n",
      "('Deep AI Player 1', 'L', 'VIDETTE', Move object:\n",
      "Move: G4, Horizontal, tiles: VDETTE, score: 22.0)\n",
      "('AI Player 2', 'II', 'LEAFY', Move object:\n",
      "Move: J5, Horizontal, tiles: LEAFY, score: 35.0)\n",
      "('Deep AI Player 1', 'GA', 'OUTLAY', Move object:\n",
      "Move: D3, Vertical, tiles: OUTLA, score: 18.0)\n",
      "('AI Player 2', 'IIWr', 'POSY', Move object:\n",
      "Move: N2, Vertical, tiles: POS, score: 30.0)\n",
      "('Deep AI Player 1', 'GAO', 'KEFIRS', Move object:\n",
      "Move: M3, Vertical, tiles: KIRS, score: 40.0)\n",
      "('AI Player 2', 'IIRR', 'HeW', Move object:\n",
      "Move: O1, Vertical, tiles: HeW, score: 37.0)\n",
      "('Deep AI Player 1', 'GQO', 'DOSAI', Move object:\n",
      "Move: K8, Horizontal, tiles: DOAI, score: 21.0)\n",
      "('AI Player 2', 'IIRRW', 'JO', Move object:\n",
      "Move: C3, Vertical, tiles: JO, score: 38.0)\n",
      "('Deep AI Player 1', 'QV', 'TROGS', Move object:\n",
      "Move: I9, Vertical, tiles: TROGS, score: 11.0)\n",
      "('AI Player 2', 'IRRRU', 'IWI', Move object:\n",
      "Move: G9, Vertical, tiles: WI, score: 20.0)\n",
      "('Deep AI Player 1', 'QGC', 'EAVES', Move object:\n",
      "Move: E13, Horizontal, tiles: EAVE, score: 12.0)\n",
      "('AI Player 2', 'IRRRD', 'XU', Move object:\n",
      "Move: F10, Vertical, tiles: XU, score: 50.0)\n",
      "('Deep AI Player 1', 'QGCZ', 'FEUD', Move object:\n",
      "Move: I1, Vertical, tiles: FEU, score: 16.0)\n",
      "('AI Player 2', 'RRI', 'EAVESDRIP', Move object:\n",
      "Move: J13, Horizontal, tiles: DRIP, score: 30.0)\n",
      "('Deep AI Player 1', 'QC', 'GAZIER', Move object:\n",
      "Move: L10, Vertical, tiles: GAZER, score: 32.0)\n",
      "('AI Player 2', 'E', 'RINsER', Move object:\n",
      "Move: N10, Vertical, tiles: RINsER, score: 29.0)\n",
      "('Deep AI Player 1', 'QA', 'COLIN', Move object:\n",
      "Move: A12, Horizontal, tiles: COLIN, score: 22.0)\n",
      "('AI Player 2', 'EU', 'TAMBAC', Move object:\n",
      "Move: A7, Vertical, tiles: TAMBA, score: 36.0)\n",
      "('Deep AI Player 1', 'QAANI', 'TALI', Move object:\n",
      "Move: K11, Horizontal, tiles: TL, score: 8.0)\n",
      "('AI Player 2', 'ES', 'DOUGH', Move object:\n",
      "Move: B14, Horizontal, tiles: DOUGH, score: 53.0)\n",
      "('Deep AI Player 1', 'AAB', 'QIN', Move object:\n",
      "Move: A15, Horizontal, tiles: QIN, score: 41.0)\n",
      "('AI Player 2', 'E', 'US', Move object:\n",
      "Move: D15, Vertical, tiles: S, score: 17.0)\n",
      "('Deep AI Player 1', '-', 'ABA', Move object:\n"
     ]
    },
    {
     "name": "stdout",
     "output_type": "stream",
     "text": [
      "Move: F15, Horizontal, tiles: ABA, score: 21.0)\n",
      "Game ended:\n",
      "Final scores:\n",
      "\n",
      "Deep AI Player 1 scored 293.0\n",
      "AI Player 2 scored 437.0\n",
      "\n",
      "Move list:\n",
      "Move 1: Deep AI Player 1 - rack leave: TL, made word: YONIC - Move: D8, Horizontal, tiles: YONIC, score: 28.0\n",
      "Move 2: AI Player 2 - rack leave: -, made word: EMINENCE - Move: H2, Vertical, tiles: EMINENE, score: 63.0\n",
      "Move 3: Deep AI Player 1 - rack leave: L, made word: VIDETTE - Move: G4, Horizontal, tiles: VDETTE, score: 22.0\n",
      "Move 4: AI Player 2 - rack leave: II, made word: LEAFY - Move: J5, Horizontal, tiles: LEAFY, score: 35.0\n",
      "Move 5: Deep AI Player 1 - rack leave: GA, made word: OUTLAY - Move: D3, Vertical, tiles: OUTLA, score: 18.0\n",
      "Move 6: AI Player 2 - rack leave: IIWr, made word: POSY - Move: N2, Vertical, tiles: POS, score: 30.0\n",
      "Move 7: Deep AI Player 1 - rack leave: GAO, made word: KEFIRS - Move: M3, Vertical, tiles: KIRS, score: 40.0\n",
      "Move 8: AI Player 2 - rack leave: IIRR, made word: HeW - Move: O1, Vertical, tiles: HeW, score: 37.0\n",
      "Move 9: Deep AI Player 1 - rack leave: GQO, made word: DOSAI - Move: K8, Horizontal, tiles: DOAI, score: 21.0\n",
      "Move 10: AI Player 2 - rack leave: IIRRW, made word: JO - Move: C3, Vertical, tiles: JO, score: 38.0\n",
      "Move 11: Deep AI Player 1 - rack leave: QV, made word: TROGS - Move: I9, Vertical, tiles: TROGS, score: 11.0\n",
      "Move 12: AI Player 2 - rack leave: IRRRU, made word: IWI - Move: G9, Vertical, tiles: WI, score: 20.0\n",
      "Move 13: Deep AI Player 1 - rack leave: QGC, made word: EAVES - Move: E13, Horizontal, tiles: EAVE, score: 12.0\n",
      "Move 14: AI Player 2 - rack leave: IRRRD, made word: XU - Move: F10, Vertical, tiles: XU, score: 50.0\n",
      "Move 15: Deep AI Player 1 - rack leave: QGCZ, made word: FEUD - Move: I1, Vertical, tiles: FEU, score: 16.0\n",
      "Move 16: AI Player 2 - rack leave: RRI, made word: EAVESDRIP - Move: J13, Horizontal, tiles: DRIP, score: 30.0\n",
      "Move 17: Deep AI Player 1 - rack leave: QC, made word: GAZIER - Move: L10, Vertical, tiles: GAZER, score: 32.0\n",
      "Move 18: AI Player 2 - rack leave: E, made word: RINsER - Move: N10, Vertical, tiles: RINsER, score: 29.0\n",
      "Move 19: Deep AI Player 1 - rack leave: QA, made word: COLIN - Move: A12, Horizontal, tiles: COLIN, score: 22.0\n",
      "Move 20: AI Player 2 - rack leave: EU, made word: TAMBAC - Move: A7, Vertical, tiles: TAMBA, score: 36.0\n",
      "Move 21: Deep AI Player 1 - rack leave: QAANI, made word: TALI - Move: K11, Horizontal, tiles: TL, score: 8.0\n",
      "Move 22: AI Player 2 - rack leave: ES, made word: DOUGH - Move: B14, Horizontal, tiles: DOUGH, score: 53.0\n",
      "Move 23: Deep AI Player 1 - rack leave: AAB, made word: QIN - Move: A15, Horizontal, tiles: QIN, score: 41.0\n",
      "Move 24: AI Player 2 - rack leave: E, made word: US - Move: D15, Vertical, tiles: S, score: 17.0\n",
      "Move 25: Deep AI Player 1 - rack leave: -, made word: ABA - Move: F15, Horizontal, tiles: ABA, score: 21.0\n",
      "Move 26: AI Player 2 - rack leave: E, made word: n/a - Final score adjustment: -1\n",
      "Move 27: Deep AI Player 1 - rack leave: , made word: n/a - Final score adjustment: +1\n",
      "After 21 games: (draw, player1, player2) = (0, 1, 20)\n",
      "Waiting for players\n",
      "Starting game\n",
      "('Deep AI Player 1', 'A', 'TUNNED', Move object:\n",
      "Move: D8, Horizontal, tiles: TUNNED, score: 16.0)\n",
      "('AI Player 2', 'NKE', 'EYRE', Move object:\n",
      "Move: F9, Horizontal, tiles: EYRE, score: 29.0)\n",
      "('Deep AI Player 1', 'AA', 'PAUSE', Move object:\n",
      "Move: C5, Vertical, tiles: PAUSE, score: 17.0)\n",
      "('AI Player 2', 'DX', 'LIKEN', Move object:\n",
      "Move: D10, Horizontal, tiles: LIKEN, score: 45.0)\n",
      "('Deep AI Player 1', 'AA', 'RATIO', Move object:\n",
      "Move: B1, Vertical, tiles: RATIO, score: 14.0)\n",
      "('AI Player 2', 'DTAM', 'GREX', Move object:\n",
      "Move: A1, Horizontal, tiles: GEX, score: 60.0)\n",
      "('Deep AI Player 1', 'AOG', 'HAJI', Move object:\n",
      "Move: A5, Vertical, tiles: HAJI, score: 50.0)\n",
      "('AI Player 2', 'DMRD', 'QAT', Move object:\n",
      "Move: C11, Horizontal, tiles: QAT, score: 30.0)\n",
      "('Deep AI Player 1', 'A', 'ONAGRI', Move object:\n",
      "Move: I7, Horizontal, tiles: ONAGRI, score: 14.0)\n",
      "('AI Player 2', 'MDU', 'DWARF', Move object:\n",
      "Move: K5, Vertical, tiles: DWRF, score: 24.0)\n",
      "('Deep AI Player 1', 'AZII', 'ETUI', Move object:\n",
      "Move: A3, Horizontal, tiles: EUI, score: 8.0)\n",
      "('AI Player 2', 'GT', 'MAUND', Move object:\n",
      "Move: D12, Horizontal, tiles: MAUND, score: 33.0)\n",
      "('Deep AI Player 1', 'IPH', 'WAZIR', Move object:\n",
      "Move: M3, Vertical, tiles: WAZI, score: 34.0)\n",
      "('AI Player 2', 'TEi', 'TOGa', Move object:\n",
      "Move: N2, Vertical, tiles: TOGa, score: 26.0)\n",
      "('Deep AI Player 1', 'IHE', 'LOPE', Move object:\n",
      "Move: O1, Vertical, tiles: LOPE, score: 36.0)\n",
      "('AI Player 2', '-', 'EARnEST', Move object:\n",
      "Move: G13, Horizontal, tiles: EARnEST, score: 72.0)\n",
      "('Deep AI Player 1', 'IHFE', 'ODE', Move object:\n",
      "Move: D4, Horizontal, tiles: ODE, score: 12.0)\n",
      "('AI Player 2', 'VV', 'BLABS', Move object:\n",
      "Move: A13, Horizontal, tiles: BLABS, score: 30.0)\n",
      "('Deep AI Player 1', 'HC', 'FERMI', Move object:\n",
      "Move: F3, Horizontal, tiles: FERMI, score: 19.0)\n",
      "('AI Player 2', 'VILI', 'SOV', Move object:\n",
      "Move: M8, Horizontal, tiles: SOV, score: 38.0)\n",
      "('Deep AI Player 1', 'CN', 'TORCHY', Move object:\n",
      "Move: H1, Vertical, tiles: TOCHY, score: 51.0)\n",
      "('AI Player 2', 'IIO', 'VLY', Move object:\n",
      "Move: F6, Horizontal, tiles: VL, score: 17.0)\n",
      "('Deep AI Player 1', 'C', 'ANA', Move object:\n",
      "Move: B6, Horizontal, tiles: N, score: 13.0)\n",
      "('AI Player 2', 'I', 'BIO', Move object:\n",
      "Move: A14, Vertical, tiles: IO, score: 15.0)\n",
      "('Deep AI Player 1', '-', 'CAGE', Move object:\n",
      "Move: L4, Horizontal, tiles: C, score: 14.0)\n",
      "Game ended:\n",
      "Final scores:\n",
      "\n",
      "Deep AI Player 1 scored 299.0\n",
      "AI Player 2 scored 418.0\n",
      "\n",
      "Move list:\n",
      "Move 1: Deep AI Player 1 - rack leave: A, made word: TUNNED - Move: D8, Horizontal, tiles: TUNNED, score: 16.0\n",
      "Move 2: AI Player 2 - rack leave: NKE, made word: EYRE - Move: F9, Horizontal, tiles: EYRE, score: 29.0\n",
      "Move 3: Deep AI Player 1 - rack leave: AA, made word: PAUSE - Move: C5, Vertical, tiles: PAUSE, score: 17.0\n",
      "Move 4: AI Player 2 - rack leave: DX, made word: LIKEN - Move: D10, Horizontal, tiles: LIKEN, score: 45.0\n",
      "Move 5: Deep AI Player 1 - rack leave: AA, made word: RATIO - Move: B1, Vertical, tiles: RATIO, score: 14.0\n",
      "Move 6: AI Player 2 - rack leave: DTAM, made word: GREX - Move: A1, Horizontal, tiles: GEX, score: 60.0\n",
      "Move 7: Deep AI Player 1 - rack leave: AOG, made word: HAJI - Move: A5, Vertical, tiles: HAJI, score: 50.0\n",
      "Move 8: AI Player 2 - rack leave: DMRD, made word: QAT - Move: C11, Horizontal, tiles: QAT, score: 30.0\n",
      "Move 9: Deep AI Player 1 - rack leave: A, made word: ONAGRI - Move: I7, Horizontal, tiles: ONAGRI, score: 14.0\n",
      "Move 10: AI Player 2 - rack leave: MDU, made word: DWARF - Move: K5, Vertical, tiles: DWRF, score: 24.0\n",
      "Move 11: Deep AI Player 1 - rack leave: AZII, made word: ETUI - Move: A3, Horizontal, tiles: EUI, score: 8.0\n",
      "Move 12: AI Player 2 - rack leave: GT, made word: MAUND - Move: D12, Horizontal, tiles: MAUND, score: 33.0\n",
      "Move 13: Deep AI Player 1 - rack leave: IPH, made word: WAZIR - Move: M3, Vertical, tiles: WAZI, score: 34.0\n",
      "Move 14: AI Player 2 - rack leave: TEi, made word: TOGa - Move: N2, Vertical, tiles: TOGa, score: 26.0\n",
      "Move 15: Deep AI Player 1 - rack leave: IHE, made word: LOPE - Move: O1, Vertical, tiles: LOPE, score: 36.0\n",
      "Move 16: AI Player 2 - rack leave: -, made word: EARnEST - Move: G13, Horizontal, tiles: EARnEST, score: 72.0\n",
      "Move 17: Deep AI Player 1 - rack leave: IHFE, made word: ODE - Move: D4, Horizontal, tiles: ODE, score: 12.0\n",
      "Move 18: AI Player 2 - rack leave: VV, made word: BLABS - Move: A13, Horizontal, tiles: BLABS, score: 30.0\n",
      "Move 19: Deep AI Player 1 - rack leave: HC, made word: FERMI - Move: F3, Horizontal, tiles: FERMI, score: 19.0\n",
      "Move 20: AI Player 2 - rack leave: VILI, made word: SOV - Move: M8, Horizontal, tiles: SOV, score: 38.0\n",
      "Move 21: Deep AI Player 1 - rack leave: CN, made word: TORCHY - Move: H1, Vertical, tiles: TOCHY, score: 51.0\n",
      "Move 22: AI Player 2 - rack leave: IIO, made word: VLY - Move: F6, Horizontal, tiles: VL, score: 17.0\n",
      "Move 23: Deep AI Player 1 - rack leave: C, made word: ANA - Move: B6, Horizontal, tiles: N, score: 13.0\n",
      "Move 24: AI Player 2 - rack leave: I, made word: BIO - Move: A14, Vertical, tiles: IO, score: 15.0\n",
      "Move 25: Deep AI Player 1 - rack leave: -, made word: CAGE - Move: L4, Horizontal, tiles: C, score: 14.0\n"
     ]
    },
    {
     "name": "stdout",
     "output_type": "stream",
     "text": [
      "Move 26: AI Player 2 - rack leave: I, made word: n/a - Final score adjustment: -1\n",
      "Move 27: Deep AI Player 1 - rack leave: , made word: n/a - Final score adjustment: +1\n",
      "After 22 games: (draw, player1, player2) = (0, 1, 21)\n",
      "Waiting for players\n",
      "Starting game\n",
      "('AI Player 2', 'C', 'WITANS', Move object:\n",
      "Move: D8, Horizontal, tiles: WITANS, score: 26.0)\n",
      "('Deep AI Player 1', 'IOAA', 'FEE', Move object:\n",
      "Move: G7, Horizontal, tiles: FEE, score: 25.0)\n",
      "('AI Player 2', 'CNV', 'WIDDY', Move object:\n",
      "Move: E7, Vertical, tiles: WDDY, score: 26.0)\n",
      "('Deep AI Player 1', 'IAA', 'SOUP', Move object:\n",
      "Move: H6, Horizontal, tiles: SOUP, score: 14.0)\n",
      "('AI Player 2', 'VUR', 'CODON', Move object:\n",
      "Move: C9, Horizontal, tiles: COON, score: 26.0)\n",
      "('Deep AI Player 1', 'IAA', 'CAUPS', Move object:\n",
      "Move: C10, Vertical, tiles: AUPS, score: 18.0)\n",
      "('AI Player 2', 'RDAU', 'GUV', Move object:\n",
      "Move: J5, Horizontal, tiles: GUV, score: 25.0)\n",
      "('Deep AI Player 1', 'AB', 'SAMITE', Move object:\n",
      "Move: D13, Horizontal, tiles: AMITE, score: 9.0)\n",
      "('AI Player 2', 'RAUR', 'JEDI', Move object:\n",
      "Move: H12, Vertical, tiles: JDI, score: 60.0)\n"
     ]
    }
   ],
   "source": [
    "winners = []\n",
    "move_lists = {}\n",
    "\n",
    "for i in range(100):\n",
    "    game, player1, player2 = new_game()\n",
    "    move_lists[i] = game.run_game()\n",
    "    if player1.score > player2.score:\n",
    "        winners.append(1)\n",
    "    elif player2.score > player1.score:\n",
    "        winners.append(2)\n",
    "    else:\n",
    "        winners.append(0) # draw\n",
    "        \n",
    "    x = np.array(winners)\n",
    "    print (\"After \" + str(len(winners)) + \" games: (draw, player1, player2) = \" \n",
    "           + str((len(x[x==0]), len(x[x==1]), len(x[x==2]))))"
   ]
  },
  {
   "cell_type": "code",
   "execution_count": null,
   "metadata": {},
   "outputs": [],
   "source": []
  },
  {
   "cell_type": "code",
   "execution_count": null,
   "metadata": {},
   "outputs": [],
   "source": []
  },
  {
   "cell_type": "code",
   "execution_count": null,
   "metadata": {},
   "outputs": [],
   "source": []
  },
  {
   "cell_type": "code",
   "execution_count": null,
   "metadata": {},
   "outputs": [],
   "source": []
  },
  {
   "cell_type": "code",
   "execution_count": null,
   "metadata": {},
   "outputs": [],
   "source": []
  },
  {
   "cell_type": "code",
   "execution_count": null,
   "metadata": {},
   "outputs": [],
   "source": []
  },
  {
   "cell_type": "code",
   "execution_count": null,
   "metadata": {},
   "outputs": [],
   "source": []
  },
  {
   "cell_type": "code",
   "execution_count": null,
   "metadata": {},
   "outputs": [],
   "source": []
  },
  {
   "cell_type": "code",
   "execution_count": null,
   "metadata": {},
   "outputs": [],
   "source": []
  },
  {
   "cell_type": "code",
   "execution_count": null,
   "metadata": {},
   "outputs": [],
   "source": []
  },
  {
   "cell_type": "code",
   "execution_count": 5,
   "metadata": {},
   "outputs": [],
   "source": [
    "moves = player1.generate_all_moves()"
   ]
  },
  {
   "cell_type": "code",
   "execution_count": 6,
   "metadata": {},
   "outputs": [
    {
     "data": {
      "text/plain": [
       "Rack object containing the following tiles:\n",
       "AGILPRZ"
      ]
     },
     "execution_count": 6,
     "metadata": {},
     "output_type": "execute_result"
    }
   ],
   "source": [
    "player1.rack"
   ]
  },
  {
   "cell_type": "code",
   "execution_count": 7,
   "metadata": {},
   "outputs": [],
   "source": [
    "player1.generate_images(moves)"
   ]
  },
  {
   "cell_type": "code",
   "execution_count": 10,
   "metadata": {},
   "outputs": [],
   "source": [
    "import os\n",
    "image_paths = [player1.img_path + 'temp/' + file_name for file_name in os.listdir(player1.img_path + 'temp')]"
   ]
  },
  {
   "cell_type": "code",
   "execution_count": 12,
   "metadata": {},
   "outputs": [],
   "source": [
    "from fastai.dataset import open_image\n",
    "images = [player1.transforms(open_image(image_path)) for image_path in image_paths]"
   ]
  },
  {
   "cell_type": "code",
   "execution_count": 14,
   "metadata": {},
   "outputs": [],
   "source": [
    "predictions = [np.exp(player1.learn.predict_array(img[None])[0][0]) for img in images]\n",
    "predictions"
   ]
  },
  {
   "cell_type": "code",
   "execution_count": 19,
   "metadata": {},
   "outputs": [
    {
     "data": {
      "text/plain": [
       "0.4279545"
      ]
     },
     "execution_count": 19,
     "metadata": {},
     "output_type": "execute_result"
    }
   ],
   "source": [
    "np.argmax(predictions)\n",
    "predictions[486]"
   ]
  },
  {
   "cell_type": "code",
   "execution_count": 18,
   "metadata": {
    "scrolled": true
   },
   "outputs": [
    {
     "data": {
      "text/plain": [
       "Move object:\n",
       "Move: I3, Vertical, tiles: TABBID, score: 16.0"
      ]
     },
     "execution_count": 18,
     "metadata": {},
     "output_type": "execute_result"
    }
   ],
   "source": [
    "player1.best_move(moves)"
   ]
  },
  {
   "cell_type": "code",
   "execution_count": 15,
   "metadata": {},
   "outputs": [
    {
     "data": {
      "text/plain": [
       "-4.6535335"
      ]
     },
     "execution_count": 15,
     "metadata": {},
     "output_type": "execute_result"
    }
   ],
   "source": [
    "img = player1.transforms(open_image('data/temp/option_0043.png'))\n",
    "pred = player1.learn.predict_array(img[None])[0][0]\n",
    "pred"
   ]
  },
  {
   "cell_type": "code",
   "execution_count": 16,
   "metadata": {},
   "outputs": [
    {
     "data": {
      "text/plain": [
       "0.009527876"
      ]
     },
     "execution_count": 16,
     "metadata": {},
     "output_type": "execute_result"
    }
   ],
   "source": [
    "np.exp(pred)"
   ]
  },
  {
   "cell_type": "code",
   "execution_count": null,
   "metadata": {},
   "outputs": [],
   "source": []
  },
  {
   "cell_type": "code",
   "execution_count": 5,
   "metadata": {},
   "outputs": [
    {
     "data": {
      "text/plain": [
       "Rack object containing the following tiles:\n",
       "@AEMQSY"
      ]
     },
     "execution_count": 5,
     "metadata": {},
     "output_type": "execute_result"
    }
   ],
   "source": [
    "rack = player1.rack\n",
    "rack"
   ]
  },
  {
   "cell_type": "code",
   "execution_count": 6,
   "metadata": {},
   "outputs": [
    {
     "data": {
      "text/plain": [
       "<model.deepaiplayer.DeepAiPlayer at 0x1f65e5d6d30>"
      ]
     },
     "execution_count": 6,
     "metadata": {},
     "output_type": "execute_result"
    }
   ],
   "source": [
    "player1"
   ]
  },
  {
   "cell_type": "code",
   "execution_count": 8,
   "metadata": {},
   "outputs": [],
   "source": [
    "rack.rack_tiles[3] = 'g'"
   ]
  },
  {
   "cell_type": "code",
   "execution_count": 9,
   "metadata": {},
   "outputs": [
    {
     "data": {
      "text/plain": [
       "Rack object containing the following tiles:\n",
       "EGGHILg"
      ]
     },
     "execution_count": 9,
     "metadata": {},
     "output_type": "execute_result"
    }
   ],
   "source": [
    "rack"
   ]
  },
  {
   "cell_type": "code",
   "execution_count": 10,
   "metadata": {},
   "outputs": [
    {
     "data": {
      "text/plain": [
       "False"
      ]
     },
     "execution_count": 10,
     "metadata": {},
     "output_type": "execute_result"
    }
   ],
   "source": [
    "'@' in rack"
   ]
  },
  {
   "cell_type": "code",
   "execution_count": null,
   "metadata": {},
   "outputs": [],
   "source": []
  },
  {
   "cell_type": "code",
   "execution_count": null,
   "metadata": {},
   "outputs": [],
   "source": []
  },
  {
   "cell_type": "code",
   "execution_count": null,
   "metadata": {},
   "outputs": [],
   "source": []
  },
  {
   "cell_type": "code",
   "execution_count": null,
   "metadata": {},
   "outputs": [],
   "source": []
  },
  {
   "cell_type": "code",
   "execution_count": 17,
   "metadata": {},
   "outputs": [
    {
     "data": {
      "text/plain": [
       "array([False,  True,  True,  True,  True,  True,  True,  True,  True, False])"
      ]
     },
     "execution_count": 17,
     "metadata": {},
     "output_type": "execute_result"
    }
   ],
   "source": [
    "b = x>0\n",
    "b"
   ]
  },
  {
   "cell_type": "code",
   "execution_count": 21,
   "metadata": {},
   "outputs": [
    {
     "name": "stdout",
     "output_type": "stream",
     "text": [
      "(draw, player1, player2) = (2, 5, 3)\n"
     ]
    }
   ],
   "source": [
    "print (\"(draw, player1, player2) = \" + str((len(x[x==0]), len(x[x==1]), len(x[x==2]))))"
   ]
  },
  {
   "cell_type": "code",
   "execution_count": 6,
   "metadata": {},
   "outputs": [],
   "source": [
    "game.active_player = player1"
   ]
  },
  {
   "cell_type": "code",
   "execution_count": 7,
   "metadata": {},
   "outputs": [
    {
     "name": "stdout",
     "output_type": "stream",
     "text": [
      "Waiting for players\n",
      "Starting game\n",
      "Deep AI Player 1: Best move is: Move: G8, Horizontal, tiles: SNAILY, score: 26.0\n",
      "Deep AI Player 1: Best move is: Move: H9, Vertical, tiles: ONSUIT, score: 8.0\n",
      "Deep AI Player 1: Best move is: Move: J6, Horizontal, tiles: TEMED, score: 16.0\n",
      "Deep AI Player 1: Best move is: Move: G13, Vertical, tiles: sAZ, score: 14.0\n",
      "Deep AI Player 1: Best move is: Move: M3, Vertical, tiles: PRII, score: 20.0\n",
      "Deep AI Player 1: Best move is: Move: D11, Horizontal, tiles: DHAL, score: 18.0\n",
      "Deep AI Player 1: Best move is: Move: D8, Vertical, tiles: GLOE, score: 18.0\n",
      "Deep AI Player 1: Best move is: Move: L2, Vertical, tiles: DOO, score: 16.0\n",
      "Deep AI Player 1: Best move is: Move: H2, Horizontal, tiles: STAI, score: 8.0\n",
      "Deep AI Player 1: Best move is: Move: F3, Horizontal, tiles: EWE, score: 13.0\n",
      "Deep AI Player 1: Best move is: Move: A9, Horizontal, tiles: BAYE, score: 14.0\n",
      "Deep AI Player 1: Best move is: Move: B8, Horizontal, tiles: POO, score: 18.0\n",
      "Deep AI Player 1: Best move is: Move: E2, Horizontal, tiles: AE, score: 8.0\n",
      "Game ended:\n",
      "Final scores:\n",
      "\n",
      "Deep AI Player 1 scored 200.0\n",
      "AI Player 2 scored 375.0\n",
      "\n",
      "Move list:\n",
      "Move 1: Deep AI Player 1 - rack leave: S, made word: SNAILY - Move: G8, Horizontal, tiles: SNAILY, score: 26.0\n",
      "Move 2: AI Player 2 - rack leave: V, made word: THILLER - Move: K5, Vertical, tiles: THILER, score: 40.0\n",
      "Move 3: Deep AI Player 1 - rack leave: D, made word: NONSUIT - Move: H9, Vertical, tiles: ONSUIT, score: 8.0\n",
      "Move 4: AI Player 2 - rack leave: V, made word: FANJeT - Move: J10, Vertical, tiles: FANJeT, score: 38.0\n",
      "Move 5: Deep AI Player 1 - rack leave: As, made word: THEMED - Move: J6, Horizontal, tiles: TEMED, score: 16.0\n",
      "Move 6: AI Player 2 - rack leave: VANW, made word: TAXI - Move: I7, Vertical, tiles: TXI, score: 43.0\n",
      "Move 7: Deep AI Player 1 - rack leave: AARA, made word: sAZ - Move: G13, Vertical, tiles: sAZ, score: 14.0\n",
      "Move 8: AI Player 2 - rack leave: WU, made word: NAVAID - Move: O1, Vertical, tiles: NAVAI, score: 33.0\n",
      "Move 9: Deep AI Player 1 - rack leave: AAA, made word: PRIMI - Move: M3, Vertical, tiles: PRII, score: 20.0\n",
      "Move 10: AI Player 2 - rack leave: WBFR, made word: JUVE - Move: K13, Horizontal, tiles: UVE, score: 28.0\n",
      "Move 11: Deep AI Player 1 - rack leave: AAL, made word: DHALS - Move: D11, Horizontal, tiles: DHAL, score: 18.0\n",
      "Move 12: AI Player 2 - rack leave: BRCGN, made word: FAW - Move: F10, Vertical, tiles: FW, score: 17.0\n",
      "Move 13: Deep AI Player 1 - rack leave: AAI, made word: GLODE - Move: D8, Vertical, tiles: GLOE, score: 18.0\n",
      "Move 14: AI Player 2 - rack leave: GN, made word: TERBIC - Move: K15, Horizontal, tiles: ERBIC, score: 39.0\n",
      "Move 15: Deep AI Player 1 - rack leave: AAIT, made word: DOO - Move: L2, Vertical, tiles: DOO, score: 16.0\n",
      "Move 16: AI Player 2 - rack leave: NEU, made word: KEGS - Move: N10, Vertical, tiles: KEGS, score: 34.0\n",
      "Move 17: Deep AI Player 1 - rack leave: AAB, made word: STAID - Move: H2, Horizontal, tiles: STAI, score: 8.0\n",
      "Move 18: AI Player 2 - rack leave: NNR, made word: GRUE - Move: F1, Horizontal, tiles: GRUE, score: 23.0\n",
      "Move 19: Deep AI Player 1 - rack leave: AABP, made word: EWE - Move: F3, Horizontal, tiles: EWE, score: 13.0\n",
      "Move 20: AI Player 2 - rack leave: NRC, made word: MUON - Move: O8, Vertical, tiles: MUON, score: 26.0\n",
      "Move 21: Deep AI Player 1 - rack leave: APO, made word: BAYLE - Move: A9, Horizontal, tiles: BAYE, score: 14.0\n",
      "Move 22: AI Player 2 - rack leave: NRCROD, made word: QAT - Move: F14, Horizontal, tiles: Q, score: 32.0\n",
      "Move 23: Deep AI Player 1 - rack leave: AE, made word: POGO - Move: B8, Horizontal, tiles: POO, score: 18.0\n",
      "Move 24: AI Player 2 - rack leave: NRR, made word: DOC - Move: A7, Horizontal, tiles: DOC, score: 25.0\n",
      "Move 25: Deep AI Player 1 - rack leave: -, made word: AE - Move: E2, Horizontal, tiles: AE, score: 8.0\n",
      "Move 26: AI Player 2 - rack leave: NRR, made word: n/a - Final score adjustment: -3\n",
      "Move 27: Deep AI Player 1 - rack leave: , made word: n/a - Final score adjustment: +3\n"
     ]
    }
   ],
   "source": [
    "game.start_game()"
   ]
  },
  {
   "cell_type": "code",
   "execution_count": 6,
   "metadata": {},
   "outputs": [
    {
     "data": {
      "text/plain": [
       "[Move object:\n",
       " Move: H8, Horizontal, tiles: WEIR, score: 14.0, Move object:\n",
       " Move: Exchange TRIE, Move object:\n",
       " Move: H8, Horizontal, tiles: TWEER, score: 18.0, Move object:\n",
       " Move: F8, Horizontal, tiles: WET, score: 12.0, Move object:\n",
       " Move: G8, Horizontal, tiles: TEE, score: 6.0, Move object:\n",
       " Move: D8, Horizontal, tiles: TWIRE, score: 18.0, Move object:\n",
       " Move: F8, Horizontal, tiles: WRITE, score: 16.0, Move object:\n",
       " Move: H6, Vertical, tiles: WEET, score: 14.0, Move object:\n",
       " Move: H8, Horizontal, tiles: WE, score: 10.0, Move object:\n",
       " Move: E8, Horizontal, tiles: WIRE, score: 14.0, Move object:\n",
       " Move: H5, Vertical, tiles: WERE, score: 14.0, Move object:\n",
       " Move: G8, Horizontal, tiles: ER, score: 4.0, Move object:\n",
       " Move: H8, Vertical, tiles: RETE, score: 8.0, Move object:\n",
       " Move: E8, Horizontal, tiles: WEET, score: 14.0, Move object:\n",
       " Move: H8, Horizontal, tiles: EWT, score: 12.0, Move object:\n",
       " Move: Exchange ETWII, Move object:\n",
       " Move: H8, Horizontal, tiles: TIER, score: 8.0, Move object:\n",
       " Move: H8, Horizontal, tiles: TWIER, score: 18.0, Move object:\n",
       " Move: Exchange EE, Move object:\n",
       " Move: Exchange WII, Move object:\n",
       " Move: Exchange EWIE, Move object:\n",
       " Move: H8, Vertical, tiles: REWET, score: 18.0, Move object:\n",
       " Move: H8, Horizontal, tiles: WEER, score: 14.0, Move object:\n",
       " Move: D8, Horizontal, tiles: TWEER, score: 18.0, Move object:\n",
       " Move: H7, Vertical, tiles: TIE, score: 6.0, Move object:\n",
       " Move: F8, Horizontal, tiles: EEW, score: 12.0, Move object:\n",
       " Move: Exchange ETRI, Move object:\n",
       " Move: G8, Horizontal, tiles: ERE, score: 6.0, Move object:\n",
       " Move: G8, Horizontal, tiles: TEER, score: 8.0, Move object:\n",
       " Move: H8, Vertical, tiles: WEE, score: 12.0, Move object:\n",
       " Move: Exchange ETE, Move object:\n",
       " Move: H8, Horizontal, tiles: WITE, score: 14.0, Move object:\n",
       " Move: H6, Vertical, tiles: RET, score: 6.0, Move object:\n",
       " Move: F8, Horizontal, tiles: WRIT, score: 14.0, Move object:\n",
       " Move: H6, Vertical, tiles: TIER, score: 8.0, Move object:\n",
       " Move: E8, Horizontal, tiles: TWEER, score: 16.0, Move object:\n",
       " Move: H8, Vertical, tiles: WIT, score: 12.0, Move object:\n",
       " Move: H6, Vertical, tiles: IRE, score: 6.0, Move object:\n",
       " Move: E8, Horizontal, tiles: RITE, score: 8.0, Move object:\n",
       " Move: H7, Vertical, tiles: EWT, score: 12.0, Move object:\n",
       " Move: H8, Horizontal, tiles: ER, score: 4.0, Move object:\n",
       " Move: H7, Vertical, tiles: RITE, score: 8.0, Move object:\n",
       " Move: G8, Horizontal, tiles: EWE, score: 12.0, Move object:\n",
       " Move: F8, Horizontal, tiles: TRIE, score: 8.0, Move object:\n",
       " Move: H8, Horizontal, tiles: RETIE, score: 12.0, Move object:\n",
       " Move: Exchange TIIE, Move object:\n",
       " Move: H8, Vertical, tiles: TWIRE, score: 18.0, Move object:\n",
       " Move: F8, Horizontal, tiles: RIT, score: 6.0, Move object:\n",
       " Move: Exchange ERI, Move object:\n",
       " Move: G8, Horizontal, tiles: REW, score: 12.0, Move object:\n",
       " Move: H5, Vertical, tiles: RETE, score: 8.0, Move object:\n",
       " Move: Exchange ETR, Move object:\n",
       " Move: H7, Vertical, tiles: WERE, score: 14.0, Move object:\n",
       " Move: H5, Vertical, tiles: TWEER, score: 16.0, Move object:\n",
       " Move: Exchange EWRIIE, Move object:\n",
       " Move: H7, Vertical, tiles: RETE, score: 8.0, Move object:\n",
       " Move: F8, Horizontal, tiles: RETE, score: 8.0, Move object:\n",
       " Move: H5, Vertical, tiles: TREE, score: 8.0, Move object:\n",
       " Move: Exchange R, Move object:\n",
       " Move: F8, Horizontal, tiles: REI, score: 6.0, Move object:\n",
       " Move: F8, Horizontal, tiles: EWE, score: 12.0, Move object:\n",
       " Move: H7, Vertical, tiles: EWER, score: 14.0, Move object:\n",
       " Move: Exchange TIE, Move object:\n",
       " Move: G8, Horizontal, tiles: TEW, score: 12.0, Move object:\n",
       " Move: G8, Horizontal, tiles: EEW, score: 12.0, Move object:\n",
       " Move: H7, Vertical, tiles: WET, score: 12.0, Move object:\n",
       " Move: Exchange ETII, Move object:\n",
       " Move: H8, Vertical, tiles: WRIT, score: 14.0, Move object:\n",
       " Move: H5, Vertical, tiles: WRITE, score: 16.0, Move object:\n",
       " Move: E8, Horizontal, tiles: TREE, score: 8.0, Move object:\n",
       " Move: Exchange EWR, Move object:\n",
       " Move: Exchange ETWE, Move object:\n",
       " Move: G8, Horizontal, tiles: RETIE, score: 10.0, Move object:\n",
       " Move: F8, Horizontal, tiles: RITE, score: 8.0, Move object:\n",
       " Move: G8, Horizontal, tiles: WITE, score: 14.0, Move object:\n",
       " Move: F8, Horizontal, tiles: EWT, score: 12.0, Move object:\n",
       " Move: H8, Horizontal, tiles: TWIRE, score: 18.0, Move object:\n",
       " Move: Exchange TI, Move object:\n",
       " Move: G8, Horizontal, tiles: RE, score: 4.0, Move object:\n",
       " Move: H7, Vertical, tiles: RETIE, score: 10.0, Move object:\n",
       " Move: H8, Vertical, tiles: EE, score: 4.0, Move object:\n",
       " Move: H8, Horizontal, tiles: RE, score: 4.0, Move object:\n",
       " Move: H6, Vertical, tiles: TIE, score: 6.0, Move object:\n",
       " Move: H8, Horizontal, tiles: TWEE, score: 14.0, Move object:\n",
       " Move: Exchange TWII, Move object:\n",
       " Move: H8, Horizontal, tiles: REW, score: 12.0, Move object:\n",
       " Move: H7, Vertical, tiles: WEET, score: 14.0, Move object:\n",
       " Move: Exchange ETWR, Move object:\n",
       " Move: H6, Vertical, tiles: WET, score: 12.0, Move object:\n",
       " Move: Exchange WRIE, Move object:\n",
       " Move: Exchange EWRII, Move object:\n",
       " Move: G8, Horizontal, tiles: RITE, score: 8.0, Move object:\n",
       " Move: G8, Horizontal, tiles: WET, score: 12.0, Move object:\n",
       " Move: H8, Horizontal, tiles: RETE, score: 8.0, Move object:\n",
       " Move: H7, Vertical, tiles: ET, score: 4.0, Move object:\n",
       " Move: H6, Vertical, tiles: EEW, score: 12.0, Move object:\n",
       " Move: H4, Vertical, tiles: RETIE, score: 12.0, Move object:\n",
       " Move: Exchange WRII, Move object:\n",
       " Move: G8, Horizontal, tiles: TIE, score: 6.0, Move object:\n",
       " Move: H8, Vertical, tiles: IRE, score: 6.0, Move object:\n",
       " Move: H6, Vertical, tiles: TWEE, score: 14.0, Move object:\n",
       " Move: H7, Vertical, tiles: TEW, score: 12.0, Move object:\n",
       " Move: H8, Horizontal, tiles: TIRE, score: 8.0, Move object:\n",
       " Move: H7, Vertical, tiles: TRIE, score: 8.0, Move object:\n",
       " Move: H7, Vertical, tiles: REWET, score: 16.0, Move object:\n",
       " Move: Exchange TRI, Move object:\n",
       " Move: Exchange E, Move object:\n",
       " Move: F8, Horizontal, tiles: WEIR, score: 14.0, Move object:\n",
       " Move: Exchange I, Move object:\n",
       " Move: H7, Vertical, tiles: TREE, score: 8.0, Move object:\n",
       " Move: Exchange EIIE, Move object:\n",
       " Move: H7, Vertical, tiles: WEIR, score: 14.0, Move object:\n",
       " Move: H5, Vertical, tiles: WEET, score: 14.0, Move object:\n",
       " Move: H7, Vertical, tiles: RET, score: 6.0, Move object:\n",
       " Move: H5, Vertical, tiles: WITE, score: 14.0, Move object:\n",
       " Move: Exchange TR, Move object:\n",
       " Move: H8, Horizontal, tiles: TREW, score: 14.0, Move object:\n",
       " Move: Exchange WRIIE, Move object:\n",
       " Move: H6, Vertical, tiles: WIT, score: 12.0, Move object:\n",
       " Move: Exchange T, Move object:\n",
       " Move: Exchange TW, Move object:\n",
       " Move: E8, Horizontal, tiles: TIRE, score: 8.0, Move object:\n",
       " Move: Exchange ETWRII, Move object:\n",
       " Move: Exchange TWRIE, Move object:\n",
       " Move: H8, Vertical, tiles: TREW, score: 14.0, Move object:\n",
       " Move: H6, Vertical, tiles: REE, score: 6.0, Move object:\n",
       " Move: H6, Vertical, tiles: TEER, score: 8.0, Move object:\n",
       " Move: G8, Horizontal, tiles: TIER, score: 8.0, Move object:\n",
       " Move: H7, Vertical, tiles: WERT, score: 14.0, Move object:\n",
       " Move: H7, Vertical, tiles: WRITE, score: 16.0, Move object:\n",
       " Move: H8, Vertical, tiles: RE, score: 4.0, Move object:\n",
       " Move: G8, Horizontal, tiles: REE, score: 6.0, Move object:\n",
       " Move: H8, Vertical, tiles: TRIE, score: 8.0, Move object:\n",
       " Move: H6, Vertical, tiles: TEW, score: 12.0, Move object:\n",
       " Move: H5, Vertical, tiles: WEER, score: 14.0, Move object:\n",
       " Move: H5, Vertical, tiles: WIRE, score: 14.0, Move object:\n",
       " Move: G8, Horizontal, tiles: WRIT, score: 14.0, Move object:\n",
       " Move: F8, Horizontal, tiles: TEE, score: 6.0, Move object:\n",
       " Move: Exchange TWRII, Move object:\n",
       " Move: Exchange WR, Move object:\n",
       " Move: Exchange ETWIIE, Move object:\n",
       " Move: G8, Horizontal, tiles: WIT, score: 12.0, Move object:\n",
       " Move: G8, Horizontal, tiles: TWEE, score: 14.0, Move object:\n",
       " Move: F8, Horizontal, tiles: IRE, score: 6.0, Move object:\n",
       " Move: H5, Vertical, tiles: TWEE, score: 14.0, Move object:\n",
       " Move: H6, Vertical, tiles: TEE, score: 6.0, Move object:\n",
       " Move: H5, Vertical, tiles: RETIE, score: 10.0, Move object:\n",
       " Move: G8, Horizontal, tiles: TE, score: 4.0, Move object:\n",
       " Move: G8, Horizontal, tiles: TREW, score: 14.0, Move object:\n",
       " Move: F8, Horizontal, tiles: WEET, score: 14.0, Move object:\n",
       " Move: H7, Vertical, tiles: IRE, score: 6.0, Move object:\n",
       " Move: G8, Horizontal, tiles: WRITE, score: 16.0, Move object:\n",
       " Move: H6, Vertical, tiles: WITE, score: 14.0, Move object:\n",
       " Move: pass, Move object:\n",
       " Move: G8, Horizontal, tiles: TWIRE, score: 16.0, Move object:\n",
       " Move: Exchange ETRII, Move object:\n",
       " Move: G8, Horizontal, tiles: RET, score: 6.0, Move object:\n",
       " Move: Exchange ERII, Move object:\n",
       " Move: H8, Vertical, tiles: EEW, score: 12.0, Move object:\n",
       " Move: Exchange ETIE, Move object:\n",
       " Move: H8, Vertical, tiles: EWER, score: 14.0, Move object:\n",
       " Move: Exchange EW, Move object:\n",
       " Move: E8, Horizontal, tiles: EWER, score: 14.0, Move object:\n",
       " Move: Exchange TWIE, Move object:\n",
       " Move: H6, Vertical, tiles: TREE, score: 8.0, Move object:\n",
       " Move: H8, Vertical, tiles: WET, score: 12.0, Move object:\n",
       " Move: E8, Horizontal, tiles: TRIE, score: 8.0, Move object:\n",
       " Move: H5, Vertical, tiles: TWIER, score: 16.0, Move object:\n",
       " Move: Exchange TRII, Move object:\n",
       " Move: F8, Horizontal, tiles: TWIRE, score: 16.0, Move object:\n",
       " Move: H7, Vertical, tiles: TIRE, score: 8.0, Move object:\n",
       " Move: F8, Horizontal, tiles: TEW, score: 12.0, Move object:\n",
       " Move: E8, Horizontal, tiles: WEER, score: 14.0, Move object:\n",
       " Move: F8, Horizontal, tiles: WERE, score: 14.0, Move object:\n",
       " Move: H6, Vertical, tiles: EWER, score: 14.0, Move object:\n",
       " Move: H5, Vertical, tiles: WRIT, score: 14.0, Move object:\n",
       " Move: G8, Horizontal, tiles: TRIE, score: 8.0, Move object:\n",
       " Move: E8, Horizontal, tiles: WERT, score: 14.0, Move object:\n",
       " Move: H8, Horizontal, tiles: TEER, score: 8.0, Move object:\n",
       " Move: G8, Horizontal, tiles: WEET, score: 14.0, Move object:\n",
       " Move: H5, Vertical, tiles: TIER, score: 8.0, Move object:\n",
       " Move: H7, Vertical, tiles: WEER, score: 14.0, Move object:\n",
       " Move: Exchange ETWRE, Move object:\n",
       " Move: H8, Vertical, tiles: WERE, score: 14.0, Move object:\n",
       " Move: Exchange TWR, Move object:\n",
       " Move: H7, Vertical, tiles: WITE, score: 14.0, Move object:\n",
       " Move: Exchange EWI, Move object:\n",
       " Move: H7, Vertical, tiles: TEER, score: 8.0, Move object:\n",
       " Move: H8, Vertical, tiles: RIT, score: 6.0, Move object:\n",
       " Move: H5, Vertical, tiles: EWER, score: 14.0, Move object:\n",
       " Move: Exchange ETW, Move object:\n",
       " Move: Exchange EWE, Move object:\n",
       " Move: H8, Vertical, tiles: WEIR, score: 14.0, Move object:\n",
       " Move: H5, Vertical, tiles: TREW, score: 14.0, Move object:\n",
       " Move: Exchange ER, Move object:\n",
       " Move: H6, Vertical, tiles: EWE, score: 12.0, Move object:\n",
       " Move: Exchange WI, Move object:\n",
       " Move: H8, Vertical, tiles: TEW, score: 12.0, Move object:\n",
       " Move: H8, Vertical, tiles: EWT, score: 12.0, Move object:\n",
       " Move: H8, Horizontal, tiles: TI, score: 4.0, Move object:\n",
       " Move: Exchange TWRI, Move object:\n",
       " Move: E8, Horizontal, tiles: WEIR, score: 14.0, Move object:\n",
       " Move: F8, Horizontal, tiles: TIER, score: 8.0, Move object:\n",
       " Move: G8, Horizontal, tiles: IWI, score: 12.0, Move object:\n",
       " Move: F8, Horizontal, tiles: REE, score: 6.0, Move object:\n",
       " Move: Exchange EWRE, Move object:\n",
       " Move: Exchange EII, Move object:\n",
       " Move: H8, Vertical, tiles: RITE, score: 8.0, Move object:\n",
       " Move: E8, Horizontal, tiles: WRITE, score: 16.0, Move object:\n",
       " Move: H8, Horizontal, tiles: TREE, score: 8.0, Move object:\n",
       " Move: F8, Horizontal, tiles: WITE, score: 14.0, Move object:\n",
       " Move: H8, Horizontal, tiles: TIE, score: 6.0, Move object:\n",
       " Move: H8, Horizontal, tiles: WRITE, score: 18.0, Move object:\n",
       " Move: H5, Vertical, tiles: WERT, score: 14.0, Move object:\n",
       " Move: H7, Vertical, tiles: EWE, score: 12.0, Move object:\n",
       " Move: H8, Vertical, tiles: TWIER, score: 18.0, Move object:\n",
       " Move: F8, Horizontal, tiles: ERE, score: 6.0, Move object:\n",
       " Move: H4, Vertical, tiles: TWEER, score: 18.0, Move object:\n",
       " Move: H8, Vertical, tiles: ER, score: 4.0, Move object:\n",
       " Move: H6, Vertical, tiles: TRIE, score: 8.0, Move object:\n",
       " Move: G8, Horizontal, tiles: TWIER, score: 16.0, Move object:\n",
       " Move: H6, Vertical, tiles: RETE, score: 8.0, Move object:\n",
       " Move: F8, Horizontal, tiles: TEER, score: 8.0, Move object:\n",
       " Move: Exchange ETRIE, Move object:\n",
       " Move: H7, Vertical, tiles: TREW, score: 14.0, Move object:\n",
       " Move: H8, Vertical, tiles: ET, score: 4.0, Move object:\n",
       " Move: E8, Horizontal, tiles: REWET, score: 16.0, Move object:\n",
       " Move: H8, Horizontal, tiles: WRIT, score: 14.0, Move object:\n",
       " Move: H6, Vertical, tiles: WRITE, score: 16.0, Move object:\n",
       " Move: G8, Horizontal, tiles: RIT, score: 6.0, Move object:\n",
       " Move: H8, Horizontal, tiles: EWE, score: 12.0, Move object:\n",
       " Move: H7, Vertical, tiles: ERE, score: 6.0, Move object:\n",
       " Move: Exchange TWIIE, Move object:\n",
       " Move: Exchange TE, Move object:\n",
       " Move: G8, Horizontal, tiles: TIRE, score: 8.0, Move object:\n",
       " Move: H8, Horizontal, tiles: EEW, score: 12.0, Move object:\n",
       " Move: H8, Vertical, tiles: TE, score: 4.0, Move object:\n",
       " Move: H6, Vertical, tiles: REW, score: 12.0, Move object:\n",
       " Move: Exchange ETI, Move object:\n",
       " Move: G8, Horizontal, tiles: EWT, score: 12.0, Move object:\n",
       " Move: Exchange WRI, Move object:\n",
       " Move: E8, Horizontal, tiles: RETIE, score: 10.0, Move object:\n",
       " Move: H8, Horizontal, tiles: REWET, score: 18.0, Move object:\n",
       " Move: F8, Horizontal, tiles: REW, score: 12.0, Move object:\n",
       " Move: Exchange IIE, Move object:\n",
       " Move: Exchange WIIE, Move object:\n",
       " Move: H8, Vertical, tiles: WIRE, score: 14.0, Move object:\n",
       " Move: H5, Vertical, tiles: RITE, score: 8.0, Move object:\n",
       " Move: H6, Vertical, tiles: REWET, score: 16.0, Move object:\n",
       " Move: H5, Vertical, tiles: WEIR, score: 14.0, Move object:\n",
       " Move: H8, Horizontal, tiles: EE, score: 4.0, Move object:\n",
       " Move: H8, Vertical, tiles: TEER, score: 8.0, Move object:\n",
       " Move: H8, Horizontal, tiles: RIT, score: 6.0, Move object:\n",
       " Move: H8, Horizontal, tiles: TRIE, score: 8.0, Move object:\n",
       " Move: D8, Horizontal, tiles: REWET, score: 18.0, Move object:\n",
       " Move: Exchange ETWRI, Move object:\n",
       " Move: Exchange W, Move object:\n",
       " Move: Exchange RIIE, Move object:\n",
       " Move: H8, Horizontal, tiles: EWER, score: 14.0, Move object:\n",
       " Move: F8, Horizontal, tiles: TWIER, score: 16.0, Move object:\n",
       " Move: H8, Vertical, tiles: TIE, score: 6.0, Move object:\n",
       " Move: H7, Vertical, tiles: ER, score: 4.0, Move object:\n",
       " Move: D8, Horizontal, tiles: TWIER, score: 18.0, Move object:\n",
       " Move: H8, Vertical, tiles: EWE, score: 12.0, Move object:\n",
       " Move: Exchange EWII, Move object:\n",
       " Move: H6, Vertical, tiles: TREW, score: 14.0, Move object:\n",
       " Move: Exchange TWRIIE, Move object:\n",
       " Move: F8, Horizontal, tiles: WEER, score: 14.0, Move object:\n",
       " Move: E8, Horizontal, tiles: TEER, score: 8.0, Move object:\n",
       " Move: H6, Vertical, tiles: WERE, score: 14.0, Move object:\n",
       " Move: Exchange TII, Move object:\n",
       " Move: Exchange EI, Move object:\n",
       " Move: F8, Horizontal, tiles: TREE, score: 8.0, Move object:\n",
       " Move: H7, Vertical, tiles: REW, score: 12.0, Move object:\n",
       " Move: H5, Vertical, tiles: TEER, score: 8.0, Move object:\n",
       " Move: Exchange ETWIE, Move object:\n",
       " Move: E8, Horizontal, tiles: WERE, score: 14.0, Move object:\n",
       " Move: H8, Vertical, tiles: TREE, score: 8.0, Move object:\n",
       " Move: Exchange EWRIE, Move object:\n",
       " Move: H7, Vertical, tiles: WIT, score: 12.0, Move object:\n",
       " Move: H6, Vertical, tiles: ERE, score: 6.0, Move object:\n",
       " Move: H8, Horizontal, tiles: WERT, score: 14.0, Move object:\n",
       " Move: F8, Horizontal, tiles: WIT, score: 12.0, Move object:\n",
       " Move: H8, Horizontal, tiles: IWI, score: 12.0, Move object:\n",
       " Move: H8, Horizontal, tiles: IRE, score: 6.0, Move object:\n",
       " Move: H6, Vertical, tiles: REI, score: 6.0, Move object:\n",
       " Move: G8, Horizontal, tiles: WE, score: 10.0, Move object:\n",
       " Move: H4, Vertical, tiles: WRITE, score: 24.0, Move object:\n",
       " Move: Exchange ERIIE, Move object:\n",
       " Move: Exchange RIE, Move object:\n",
       " Move: H8, Horizontal, tiles: REI, score: 6.0, Move object:\n",
       " Move: H8, Vertical, tiles: REW, score: 12.0, Move object:\n",
       " Move: E8, Horizontal, tiles: TIER, score: 8.0, Move object:\n",
       " Move: F8, Horizontal, tiles: TIRE, score: 8.0, Move object:\n",
       " Move: H8, Vertical, tiles: TWEE, score: 14.0, Move object:\n",
       " Move: Exchange EWIIE, Move object:\n",
       " Move: H8, Vertical, tiles: TEE, score: 6.0, Move object:\n",
       " Move: H6, Vertical, tiles: RIT, score: 6.0, Move object:\n",
       " Move: H8, Horizontal, tiles: TEW, score: 12.0, Move object:\n",
       " Move: H6, Vertical, tiles: RITE, score: 8.0, Move object:\n",
       " Move: Exchange WE, Move object:\n",
       " Move: H6, Vertical, tiles: WIRE, score: 14.0, Move object:\n",
       " Move: H7, Vertical, tiles: IT, score: 4.0, Move object:\n",
       " Move: H7, Vertical, tiles: TWEE, score: 14.0, Move object:\n",
       " Move: E8, Horizontal, tiles: WITE, score: 14.0, Move object:\n",
       " Move: H6, Vertical, tiles: WEIR, score: 14.0, Move object:\n",
       " Move: H7, Vertical, tiles: WRIT, score: 14.0, Move object:\n",
       " Move: E8, Horizontal, tiles: WRIT, score: 14.0, Move object:\n",
       " Move: G8, Horizontal, tiles: TWEER, score: 16.0, Move object:\n",
       " Move: H8, Horizontal, tiles: WEE, score: 12.0, Move object:\n",
       " Move: H7, Vertical, tiles: REI, score: 6.0, Move object:\n",
       " Move: H7, Vertical, tiles: RIT, score: 6.0, Move object:\n",
       " Move: F8, Horizontal, tiles: RETIE, score: 10.0, Move object:\n",
       " Move: H7, Vertical, tiles: TEE, score: 6.0, Move object:\n",
       " Move: H5, Vertical, tiles: TRIE, score: 8.0, Move object:\n",
       " Move: E8, Horizontal, tiles: TWEE, score: 14.0, Move object:\n",
       " Move: H8, Vertical, tiles: RETIE, score: 12.0, Move object:\n",
       " Move: E8, Horizontal, tiles: TWIER, score: 16.0, Move object:\n",
       " Move: Exchange WRE, Move object:\n",
       " Move: F8, Horizontal, tiles: TREW, score: 14.0, Move object:\n",
       " Move: Exchange EIE, Move object:\n",
       " Move: H6, Vertical, tiles: TWEER, score: 16.0, Move object:\n",
       " Move: H8, Vertical, tiles: TI, score: 4.0, Move object:\n",
       " Move: Exchange ET, Move object:\n",
       " Move: F8, Horizontal, tiles: WERT, score: 14.0, Move object:\n",
       " Move: G8, Horizontal, tiles: TREE, score: 8.0, Move object:\n",
       " Move: H8, Horizontal, tiles: WERE, score: 14.0, Move object:\n",
       " Move: Exchange IE, Move object:\n",
       " Move: H8, Horizontal, tiles: TE, score: 4.0, Move object:\n",
       " Move: H8, Vertical, tiles: IT, score: 4.0, Move object:\n",
       " Move: H8, Horizontal, tiles: ERE, score: 6.0, Move object:\n",
       " Move: F8, Horizontal, tiles: WIRE, score: 14.0, Move object:\n",
       " Move: G8, Horizontal, tiles: WIRE, score: 14.0, Move object:\n",
       " Move: H7, Vertical, tiles: TWIER, score: 16.0, Move object:\n",
       " Move: H8, Vertical, tiles: REI, score: 6.0, Move object:\n",
       " Move: G8, Horizontal, tiles: WEIR, score: 14.0, Move object:\n",
       " Move: G8, Horizontal, tiles: ET, score: 4.0, Move object:\n",
       " Move: H6, Vertical, tiles: WERT, score: 14.0, Move object:\n",
       " Move: H6, Vertical, tiles: TIRE, score: 8.0, Move object:\n",
       " Move: H8, Horizontal, tiles: ET, score: 4.0, Move object:\n",
       " Move: Exchange ETWRIE, Move object:\n",
       " Move: Exchange RI, Move object:\n",
       " Move: H7, Vertical, tiles: TE, score: 4.0, Move object:\n",
       " Move: Exchange TWRE, Move object:\n",
       " Move: G8, Horizontal, tiles: WEER, score: 14.0, Move object:\n",
       " Move: H7, Vertical, tiles: TI, score: 4.0, Move object:\n",
       " Move: E8, Horizontal, tiles: RETE, score: 8.0, Move object:\n",
       " Move: H8, Vertical, tiles: WE, score: 10.0, Move object:\n",
       " Move: H6, Vertical, tiles: TWIER, score: 16.0, Move object:\n",
       " Move: Exchange WIE, Move object:\n",
       " Move: G8, Horizontal, tiles: TI, score: 4.0, Move object:\n",
       " Move: H8, Horizontal, tiles: WIT, score: 12.0, Move object:\n",
       " Move: H8, Horizontal, tiles: RET, score: 6.0, Move object:\n",
       " Move: G8, Horizontal, tiles: WEE, score: 12.0, Move object:\n",
       " Move: Exchange ETWI, Move object:\n",
       " Move: H8, Vertical, tiles: ERE, score: 6.0, Move object:\n",
       " Move: H8, Horizontal, tiles: IT, score: 4.0, Move object:\n",
       " Move: Exchange II, Move object:\n",
       " Move: G8, Horizontal, tiles: REI, score: 6.0, Move object:\n",
       " Move: H6, Vertical, tiles: WEER, score: 14.0, Move object:\n",
       " Move: Exchange ETRE, Move object:\n",
       " Move: H4, Vertical, tiles: REWET, score: 18.0, Move object:\n",
       " Move: E8, Horizontal, tiles: TWIRE, score: 16.0, Move object:\n",
       " Move: H8, Vertical, tiles: RET, score: 6.0, Move object:\n",
       " Move: H8, Vertical, tiles: TWEER, score: 18.0, Move object:\n",
       " Move: F8, Horizontal, tiles: TWEER, score: 16.0, Move object:\n",
       " Move: H6, Vertical, tiles: IWI, score: 12.0, Move object:\n",
       " Move: H8, Vertical, tiles: WEER, score: 14.0, Move object:\n",
       " Move: F8, Horizontal, tiles: REWET, score: 16.0, Move object:\n",
       " Move: H8, Vertical, tiles: IWI, score: 12.0, Move object:\n",
       " Move: H8, Horizontal, tiles: RITE, score: 8.0, Move object:\n",
       " Move: H8, Vertical, tiles: TIRE, score: 8.0, Move object:\n",
       " Move: H8, Vertical, tiles: WEET, score: 14.0, Move object:\n",
       " Move: H6, Vertical, tiles: WEE, score: 12.0, Move object:\n",
       " Move: H8, Vertical, tiles: WRITE, score: 18.0, Move object:\n",
       " Move: H7, Vertical, tiles: EE, score: 4.0, Move object:\n",
       " Move: H8, Horizontal, tiles: WEET, score: 14.0, Move object:\n",
       " Move: F8, Horizontal, tiles: IWI, score: 12.0, Move object:\n",
       " Move: G8, Horizontal, tiles: IT, score: 4.0, Move object:\n",
       " Move: H7, Vertical, tiles: IWI, score: 12.0, Move object:\n",
       " Move: Exchange RE, Move object:\n",
       " Move: H4, Vertical, tiles: TWIRE, score: 18.0, Move object:\n",
       " Move: Exchange TRE, Move object:\n",
       " Move: H5, Vertical, tiles: REWET, score: 16.0, Move object:\n",
       " Move: H4, Vertical, tiles: TWIER, score: 18.0, Move object:\n",
       " Move: F8, Horizontal, tiles: WEE, score: 12.0, Move object:\n",
       " Move: H8, Vertical, tiles: TIER, score: 8.0, Move object:\n",
       " Move: H6, Vertical, tiles: TWIRE, score: 16.0, Move object:\n",
       " Move: H6, Vertical, tiles: RETIE, score: 10.0, Move object:\n",
       " Move: Exchange ETIIE, Move object:\n",
       " Move: H7, Vertical, tiles: EEW, score: 12.0, Move object:\n",
       " Move: H8, Horizontal, tiles: WIRE, score: 14.0, Move object:\n",
       " Move: H8, Vertical, tiles: WITE, score: 14.0, Move object:\n",
       " Move: H7, Vertical, tiles: RE, score: 4.0, Move object:\n",
       " Move: H8, Horizontal, tiles: WET, score: 12.0, Move object:\n",
       " Move: Exchange ETRIIE, Move object:\n",
       " Move: Exchange TRIIE, Move object:\n",
       " Move: H6, Vertical, tiles: EWT, score: 12.0, Move object:\n",
       " Move: D8, Horizontal, tiles: WRITE, score: 24.0, Move object:\n",
       " Move: H7, Vertical, tiles: WIRE, score: 14.0, Move object:\n",
       " Move: F8, Horizontal, tiles: TIE, score: 6.0, Move object:\n",
       " Move: F8, Horizontal, tiles: EWER, score: 14.0, Move object:\n",
       " Move: H8, Vertical, tiles: REE, score: 6.0, Move object:\n",
       " Move: E8, Horizontal, tiles: TREW, score: 14.0, Move object:\n",
       " Move: H6, Vertical, tiles: WRIT, score: 14.0, Move object:\n",
       " Move: H7, Vertical, tiles: TWIRE, score: 16.0, Move object:\n",
       " Move: G8, Horizontal, tiles: WERE, score: 14.0, Move object:\n",
       " Move: H8, Horizontal, tiles: REE, score: 6.0, Move object:\n",
       " Move: H7, Vertical, tiles: TIER, score: 8.0, Move object:\n",
       " Move: H5, Vertical, tiles: TWIRE, score: 16.0, Move object:\n",
       " Move: Exchange EWRI, Move object:\n",
       " Move: Exchange TWE, Move object:\n",
       " Move: H8, Horizontal, tiles: TEE, score: 6.0, Move object:\n",
       " Move: G8, Horizontal, tiles: EWER, score: 14.0, Move object:\n",
       " Move: F8, Horizontal, tiles: RET, score: 6.0, Move object:\n",
       " Move: G8, Horizontal, tiles: WERT, score: 14.0, Move object:\n",
       " Move: H7, Vertical, tiles: WE, score: 10.0, Move object:\n",
       " Move: H7, Vertical, tiles: TWEER, score: 16.0, Move object:\n",
       " Move: H8, Vertical, tiles: WERT, score: 14.0, Move object:\n",
       " Move: H7, Vertical, tiles: WEE, score: 12.0, Move object:\n",
       " Move: G8, Horizontal, tiles: REWET, score: 16.0, Move object:\n",
       " Move: D8, Horizontal, tiles: RETIE, score: 12.0, Move object:\n",
       " Move: Exchange ERE, Move object:\n",
       " Move: G8, Horizontal, tiles: IRE, score: 6.0, Move object:\n",
       " Move: G8, Horizontal, tiles: EE, score: 4.0, Move object:\n",
       " Move: F8, Horizontal, tiles: TWEE, score: 14.0, Move object:\n",
       " Move: G8, Horizontal, tiles: RETE, score: 8.0, Move object:\n",
       " Move: H7, Vertical, tiles: REE, score: 6.0, Move object:\n",
       " Move: Exchange TWI, Move object:\n",
       " Move: H5, Vertical, tiles: TIRE, score: 8.0, Move object:\n",
       " Move: Exchange ERIE, Move object:\n",
       " Move: Exchange RII]"
      ]
     },
     "execution_count": 6,
     "metadata": {},
     "output_type": "execute_result"
    }
   ],
   "source": [
    "moves"
   ]
  },
  {
   "cell_type": "code",
   "execution_count": 17,
   "metadata": {},
   "outputs": [
    {
     "data": {
      "text/plain": [
       "<super: model.deepaiplayer.DeepAiPlayer,\n",
       "        <model.deepaiplayer.DeepAiPlayer at 0x226eb648828>>"
      ]
     },
     "execution_count": 17,
     "metadata": {},
     "output_type": "execute_result"
    }
   ],
   "source": [
    "super(type(player1), player1).best_move(moves)\n",
    "\n"
   ]
  },
  {
   "cell_type": "code",
   "execution_count": 23,
   "metadata": {
    "scrolled": true
   },
   "outputs": [
    {
     "name": "stdout",
     "output_type": "stream",
     "text": [
      "Deep AI Player 1: Best move is: Move: H7, Vertical, tiles: WET, score: 12.0\n"
     ]
    }
   ],
   "source": [
    "best_move_deep = player1.best_move(moves)\n",
    "player1.rack.add_tiles(best_move_deep.tiles)\n",
    "best_move_regular = super(type(player1), player1).best_move(moves)\n",
    "\n"
   ]
  },
  {
   "cell_type": "code",
   "execution_count": 22,
   "metadata": {},
   "outputs": [],
   "source": [
    "player1.rack.add_tiles(best_move_deep.tiles)"
   ]
  },
  {
   "cell_type": "code",
   "execution_count": 19,
   "metadata": {},
   "outputs": [
    {
     "ename": "TypeError",
     "evalue": "object of type 'Move' has no len()",
     "output_type": "error",
     "traceback": [
      "\u001b[1;31m---------------------------------------------------------------------------\u001b[0m",
      "\u001b[1;31mTypeError\u001b[0m                                 Traceback (most recent call last)",
      "\u001b[1;32m<ipython-input-19-e0f9cbe3c02d>\u001b[0m in \u001b[0;36m<module>\u001b[1;34m()\u001b[0m\n\u001b[1;32m----> 1\u001b[1;33m \u001b[0mplayer1\u001b[0m\u001b[1;33m.\u001b[0m\u001b[0mrack\u001b[0m\u001b[1;33m.\u001b[0m\u001b[0madd_tiles\u001b[0m\u001b[1;33m(\u001b[0m\u001b[0mbest_move\u001b[0m\u001b[1;33m)\u001b[0m\u001b[1;33m\u001b[0m\u001b[0m\n\u001b[0m",
      "\u001b[1;32mC:\\code\\alexis\\model\\rack.py\u001b[0m in \u001b[0;36madd_tiles\u001b[1;34m(self, new_tiles)\u001b[0m\n\u001b[0;32m     16\u001b[0m     \u001b[1;32mdef\u001b[0m \u001b[0madd_tiles\u001b[0m\u001b[1;33m(\u001b[0m\u001b[0mself\u001b[0m\u001b[1;33m,\u001b[0m \u001b[0mnew_tiles\u001b[0m\u001b[1;33m)\u001b[0m\u001b[1;33m:\u001b[0m\u001b[1;33m\u001b[0m\u001b[0m\n\u001b[0;32m     17\u001b[0m         \u001b[1;34m\"\"\" Add the supplied list of tiles to the rack \"\"\"\u001b[0m\u001b[1;33m\u001b[0m\u001b[0m\n\u001b[1;32m---> 18\u001b[1;33m         \u001b[1;32mif\u001b[0m \u001b[1;33m(\u001b[0m\u001b[0mlen\u001b[0m\u001b[1;33m(\u001b[0m\u001b[0mself\u001b[0m\u001b[1;33m.\u001b[0m\u001b[0mrack_tiles\u001b[0m\u001b[1;33m)\u001b[0m \u001b[1;33m+\u001b[0m \u001b[0mlen\u001b[0m\u001b[1;33m(\u001b[0m\u001b[0mnew_tiles\u001b[0m\u001b[1;33m)\u001b[0m\u001b[1;33m)\u001b[0m \u001b[1;33m>\u001b[0m \u001b[0mRACK_SIZE\u001b[0m\u001b[1;33m:\u001b[0m\u001b[1;33m\u001b[0m\u001b[0m\n\u001b[0m\u001b[0;32m     19\u001b[0m             \u001b[1;32mraise\u001b[0m \u001b[0mValueError\u001b[0m\u001b[1;33m(\u001b[0m\u001b[1;34m\"Too many tiles supplied\"\u001b[0m\u001b[1;33m)\u001b[0m\u001b[1;33m\u001b[0m\u001b[0m\n\u001b[0;32m     20\u001b[0m         \u001b[0mself\u001b[0m\u001b[1;33m.\u001b[0m\u001b[0mrack_tiles\u001b[0m\u001b[1;33m.\u001b[0m\u001b[0mextend\u001b[0m\u001b[1;33m(\u001b[0m\u001b[0mnew_tiles\u001b[0m\u001b[1;33m)\u001b[0m\u001b[1;33m\u001b[0m\u001b[0m\n",
      "\u001b[1;31mTypeError\u001b[0m: object of type 'Move' has no len()"
     ]
    }
   ],
   "source": [
    "player1.rack.add_tiles(best_move)"
   ]
  },
  {
   "cell_type": "code",
   "execution_count": 8,
   "metadata": {},
   "outputs": [],
   "source": [
    "from fastai.transforms import *\n",
    "trn_tfms,val_tfms = tfms_from_model('resnet18',256)"
   ]
  },
  {
   "cell_type": "code",
   "execution_count": 11,
   "metadata": {},
   "outputs": [
    {
     "data": {
      "text/plain": [
       "'C:\\\\code\\\\alexis'"
      ]
     },
     "execution_count": 11,
     "metadata": {},
     "output_type": "execute_result"
    }
   ],
   "source": [
    "pwd"
   ]
  },
  {
   "cell_type": "code",
   "execution_count": 22,
   "metadata": {},
   "outputs": [
    {
     "ename": "AttributeError",
     "evalue": "'PngImageFile' object has no attribute 'shape'",
     "output_type": "error",
     "traceback": [
      "\u001b[1;31m---------------------------------------------------------------------------\u001b[0m",
      "\u001b[1;31mAttributeError\u001b[0m                            Traceback (most recent call last)",
      "\u001b[1;32m<ipython-input-22-db988bd064f7>\u001b[0m in \u001b[0;36m<module>\u001b[1;34m()\u001b[0m\n\u001b[0;32m      2\u001b[0m \u001b[0mimg\u001b[0m\u001b[1;33m.\u001b[0m\u001b[0mresize\u001b[0m\u001b[1;33m(\u001b[0m\u001b[1;33m(\u001b[0m\u001b[1;36m256\u001b[0m\u001b[1;33m,\u001b[0m\u001b[1;36m256\u001b[0m\u001b[1;33m)\u001b[0m\u001b[1;33m,\u001b[0m\u001b[0mImage\u001b[0m\u001b[1;33m.\u001b[0m\u001b[0mNEAREST\u001b[0m\u001b[1;33m)\u001b[0m\u001b[1;33m\u001b[0m\u001b[0m\n\u001b[0;32m      3\u001b[0m \u001b[1;33m\u001b[0m\u001b[0m\n\u001b[1;32m----> 4\u001b[1;33m \u001b[0mim\u001b[0m \u001b[1;33m=\u001b[0m \u001b[0mtrn_tfms\u001b[0m\u001b[1;33m(\u001b[0m\u001b[0mimg\u001b[0m\u001b[1;33m)\u001b[0m\u001b[1;33m\u001b[0m\u001b[0m\n\u001b[0m\u001b[0;32m      5\u001b[0m \u001b[0mpreds\u001b[0m \u001b[1;33m=\u001b[0m \u001b[0mplayer1\u001b[0m\u001b[1;33m.\u001b[0m\u001b[0mlearn\u001b[0m\u001b[1;33m.\u001b[0m\u001b[0mpredict_array\u001b[0m\u001b[1;33m(\u001b[0m\u001b[0mim\u001b[0m\u001b[1;33m[\u001b[0m\u001b[1;32mNone\u001b[0m\u001b[1;33m]\u001b[0m\u001b[1;33m)\u001b[0m\u001b[1;33m\u001b[0m\u001b[0m\n",
      "\u001b[1;32mC:\\code\\alexis\\fastai\\transforms.py\u001b[0m in \u001b[0;36m__call__\u001b[1;34m(self, im, y)\u001b[0m\n\u001b[0;32m    639\u001b[0m         \u001b[0mself\u001b[0m\u001b[1;33m.\u001b[0m\u001b[0mtfms\u001b[0m\u001b[1;33m.\u001b[0m\u001b[0mappend\u001b[0m\u001b[1;33m(\u001b[0m\u001b[0mChannelOrder\u001b[0m\u001b[1;33m(\u001b[0m\u001b[0mtfm_y\u001b[0m\u001b[1;33m)\u001b[0m\u001b[1;33m)\u001b[0m\u001b[1;33m\u001b[0m\u001b[0m\n\u001b[0;32m    640\u001b[0m \u001b[1;33m\u001b[0m\u001b[0m\n\u001b[1;32m--> 641\u001b[1;33m     \u001b[1;32mdef\u001b[0m \u001b[0m__call__\u001b[0m\u001b[1;33m(\u001b[0m\u001b[0mself\u001b[0m\u001b[1;33m,\u001b[0m \u001b[0mim\u001b[0m\u001b[1;33m,\u001b[0m \u001b[0my\u001b[0m\u001b[1;33m=\u001b[0m\u001b[1;32mNone\u001b[0m\u001b[1;33m)\u001b[0m\u001b[1;33m:\u001b[0m \u001b[1;32mreturn\u001b[0m \u001b[0mcompose\u001b[0m\u001b[1;33m(\u001b[0m\u001b[0mim\u001b[0m\u001b[1;33m,\u001b[0m \u001b[0my\u001b[0m\u001b[1;33m,\u001b[0m \u001b[0mself\u001b[0m\u001b[1;33m.\u001b[0m\u001b[0mtfms\u001b[0m\u001b[1;33m)\u001b[0m\u001b[1;33m\u001b[0m\u001b[0m\n\u001b[0m\u001b[0;32m    642\u001b[0m     \u001b[1;32mdef\u001b[0m \u001b[0m__repr__\u001b[0m\u001b[1;33m(\u001b[0m\u001b[0mself\u001b[0m\u001b[1;33m)\u001b[0m\u001b[1;33m:\u001b[0m \u001b[1;32mreturn\u001b[0m \u001b[0mstr\u001b[0m\u001b[1;33m(\u001b[0m\u001b[0mself\u001b[0m\u001b[1;33m.\u001b[0m\u001b[0mtfms\u001b[0m\u001b[1;33m)\u001b[0m\u001b[1;33m\u001b[0m\u001b[0m\n\u001b[0;32m    643\u001b[0m \u001b[1;33m\u001b[0m\u001b[0m\n",
      "\u001b[1;32mC:\\code\\alexis\\fastai\\transforms.py\u001b[0m in \u001b[0;36mcompose\u001b[1;34m(im, y, fns)\u001b[0m\n\u001b[0;32m    615\u001b[0m     \u001b[1;32mfor\u001b[0m \u001b[0mfn\u001b[0m \u001b[1;32min\u001b[0m \u001b[0mfns\u001b[0m\u001b[1;33m:\u001b[0m\u001b[1;33m\u001b[0m\u001b[0m\n\u001b[0;32m    616\u001b[0m         \u001b[1;31m#pdb.set_trace()\u001b[0m\u001b[1;33m\u001b[0m\u001b[1;33m\u001b[0m\u001b[0m\n\u001b[1;32m--> 617\u001b[1;33m         \u001b[0mim\u001b[0m\u001b[1;33m,\u001b[0m \u001b[0my\u001b[0m \u001b[1;33m=\u001b[0m\u001b[0mfn\u001b[0m\u001b[1;33m(\u001b[0m\u001b[0mim\u001b[0m\u001b[1;33m,\u001b[0m \u001b[0my\u001b[0m\u001b[1;33m)\u001b[0m\u001b[1;33m\u001b[0m\u001b[0m\n\u001b[0m\u001b[0;32m    618\u001b[0m     \u001b[1;32mreturn\u001b[0m \u001b[0mim\u001b[0m \u001b[1;32mif\u001b[0m \u001b[0my\u001b[0m \u001b[1;32mis\u001b[0m \u001b[1;32mNone\u001b[0m \u001b[1;32melse\u001b[0m \u001b[1;33m(\u001b[0m\u001b[0mim\u001b[0m\u001b[1;33m,\u001b[0m \u001b[0my\u001b[0m\u001b[1;33m)\u001b[0m\u001b[1;33m\u001b[0m\u001b[0m\n\u001b[0;32m    619\u001b[0m \u001b[1;33m\u001b[0m\u001b[0m\n",
      "\u001b[1;32mC:\\code\\alexis\\fastai\\transforms.py\u001b[0m in \u001b[0;36m__call__\u001b[1;34m(self, x, y)\u001b[0m\n\u001b[0;32m    231\u001b[0m     \u001b[1;32mdef\u001b[0m \u001b[0m__call__\u001b[0m\u001b[1;33m(\u001b[0m\u001b[0mself\u001b[0m\u001b[1;33m,\u001b[0m \u001b[0mx\u001b[0m\u001b[1;33m,\u001b[0m \u001b[0my\u001b[0m\u001b[1;33m)\u001b[0m\u001b[1;33m:\u001b[0m\u001b[1;33m\u001b[0m\u001b[0m\n\u001b[0;32m    232\u001b[0m         \u001b[0mself\u001b[0m\u001b[1;33m.\u001b[0m\u001b[0mset_state\u001b[0m\u001b[1;33m(\u001b[0m\u001b[1;33m)\u001b[0m\u001b[1;33m\u001b[0m\u001b[0m\n\u001b[1;32m--> 233\u001b[1;33m         x,y = ((self.transform(x),y) if self.tfm_y==TfmType.NO\n\u001b[0m\u001b[0;32m    234\u001b[0m                 \u001b[1;32melse\u001b[0m \u001b[0mself\u001b[0m\u001b[1;33m.\u001b[0m\u001b[0mtransform\u001b[0m\u001b[1;33m(\u001b[0m\u001b[0mx\u001b[0m\u001b[1;33m,\u001b[0m\u001b[0my\u001b[0m\u001b[1;33m)\u001b[0m \u001b[1;32mif\u001b[0m \u001b[0mself\u001b[0m\u001b[1;33m.\u001b[0m\u001b[0mtfm_y\u001b[0m \u001b[1;32min\u001b[0m \u001b[1;33m(\u001b[0m\u001b[0mTfmType\u001b[0m\u001b[1;33m.\u001b[0m\u001b[0mPIXEL\u001b[0m\u001b[1;33m,\u001b[0m \u001b[0mTfmType\u001b[0m\u001b[1;33m.\u001b[0m\u001b[0mCLASS\u001b[0m\u001b[1;33m)\u001b[0m\u001b[1;33m\u001b[0m\u001b[0m\n\u001b[0;32m    235\u001b[0m                 else self.transform_coord(x,y))\n",
      "\u001b[1;32mC:\\code\\alexis\\fastai\\transforms.py\u001b[0m in \u001b[0;36mtransform\u001b[1;34m(self, x, y)\u001b[0m\n\u001b[0;32m    239\u001b[0m \u001b[1;33m\u001b[0m\u001b[0m\n\u001b[0;32m    240\u001b[0m     \u001b[1;32mdef\u001b[0m \u001b[0mtransform\u001b[0m\u001b[1;33m(\u001b[0m\u001b[0mself\u001b[0m\u001b[1;33m,\u001b[0m \u001b[0mx\u001b[0m\u001b[1;33m,\u001b[0m \u001b[0my\u001b[0m\u001b[1;33m=\u001b[0m\u001b[1;32mNone\u001b[0m\u001b[1;33m)\u001b[0m\u001b[1;33m:\u001b[0m\u001b[1;33m\u001b[0m\u001b[0m\n\u001b[1;32m--> 241\u001b[1;33m         \u001b[0mx\u001b[0m \u001b[1;33m=\u001b[0m \u001b[0mself\u001b[0m\u001b[1;33m.\u001b[0m\u001b[0mdo_transform\u001b[0m\u001b[1;33m(\u001b[0m\u001b[0mx\u001b[0m\u001b[1;33m,\u001b[0m\u001b[1;32mFalse\u001b[0m\u001b[1;33m)\u001b[0m\u001b[1;33m\u001b[0m\u001b[0m\n\u001b[0m\u001b[0;32m    242\u001b[0m         \u001b[1;32mreturn\u001b[0m \u001b[1;33m(\u001b[0m\u001b[0mx\u001b[0m\u001b[1;33m,\u001b[0m \u001b[0mself\u001b[0m\u001b[1;33m.\u001b[0m\u001b[0mdo_transform\u001b[0m\u001b[1;33m(\u001b[0m\u001b[0my\u001b[0m\u001b[1;33m,\u001b[0m\u001b[1;32mTrue\u001b[0m\u001b[1;33m)\u001b[0m\u001b[1;33m)\u001b[0m \u001b[1;32mif\u001b[0m \u001b[0my\u001b[0m \u001b[1;32mis\u001b[0m \u001b[1;32mnot\u001b[0m \u001b[1;32mNone\u001b[0m \u001b[1;32melse\u001b[0m \u001b[0mx\u001b[0m\u001b[1;33m\u001b[0m\u001b[0m\n\u001b[0;32m    243\u001b[0m \u001b[1;33m\u001b[0m\u001b[0m\n",
      "\u001b[1;32mC:\\code\\alexis\\fastai\\transforms.py\u001b[0m in \u001b[0;36mdo_transform\u001b[1;34m(self, x, is_y)\u001b[0m\n\u001b[0;32m    366\u001b[0m     \u001b[1;32mdef\u001b[0m \u001b[0mdo_transform\u001b[0m\u001b[1;33m(\u001b[0m\u001b[0mself\u001b[0m\u001b[1;33m,\u001b[0m \u001b[0mx\u001b[0m\u001b[1;33m,\u001b[0m \u001b[0mis_y\u001b[0m\u001b[1;33m)\u001b[0m\u001b[1;33m:\u001b[0m\u001b[1;33m\u001b[0m\u001b[0m\n\u001b[0;32m    367\u001b[0m         \u001b[1;32mif\u001b[0m \u001b[0mis_y\u001b[0m\u001b[1;33m:\u001b[0m \u001b[1;32mreturn\u001b[0m \u001b[0mscale_min\u001b[0m\u001b[1;33m(\u001b[0m\u001b[0mx\u001b[0m\u001b[1;33m,\u001b[0m \u001b[0mself\u001b[0m\u001b[1;33m.\u001b[0m\u001b[0msz_y\u001b[0m\u001b[1;33m,\u001b[0m \u001b[0mcv2\u001b[0m\u001b[1;33m.\u001b[0m\u001b[0mINTER_AREA\u001b[0m \u001b[1;32mif\u001b[0m \u001b[0mself\u001b[0m\u001b[1;33m.\u001b[0m\u001b[0mtfm_y\u001b[0m \u001b[1;33m==\u001b[0m \u001b[0mTfmType\u001b[0m\u001b[1;33m.\u001b[0m\u001b[0mPIXEL\u001b[0m \u001b[1;32melse\u001b[0m \u001b[0mcv2\u001b[0m\u001b[1;33m.\u001b[0m\u001b[0mINTER_NEAREST\u001b[0m\u001b[1;33m)\u001b[0m\u001b[1;33m\u001b[0m\u001b[0m\n\u001b[1;32m--> 368\u001b[1;33m         \u001b[1;32melse\u001b[0m   \u001b[1;33m:\u001b[0m \u001b[1;32mreturn\u001b[0m \u001b[0mscale_min\u001b[0m\u001b[1;33m(\u001b[0m\u001b[0mx\u001b[0m\u001b[1;33m,\u001b[0m \u001b[0mself\u001b[0m\u001b[1;33m.\u001b[0m\u001b[0msz\u001b[0m\u001b[1;33m,\u001b[0m   \u001b[0mcv2\u001b[0m\u001b[1;33m.\u001b[0m\u001b[0mINTER_AREA\u001b[0m   \u001b[1;33m)\u001b[0m\u001b[1;33m\u001b[0m\u001b[0m\n\u001b[0m\u001b[0;32m    369\u001b[0m \u001b[1;33m\u001b[0m\u001b[0m\n\u001b[0;32m    370\u001b[0m \u001b[1;33m\u001b[0m\u001b[0m\n",
      "\u001b[1;32mC:\\code\\alexis\\fastai\\transforms.py\u001b[0m in \u001b[0;36mscale_min\u001b[1;34m(im, targ, interpolation)\u001b[0m\n\u001b[0;32m     10\u001b[0m         \u001b[0mtarg\u001b[0m \u001b[1;33m(\u001b[0m\u001b[0mint\u001b[0m\u001b[1;33m)\u001b[0m\u001b[1;33m:\u001b[0m \u001b[0mtarget\u001b[0m \u001b[0msize\u001b[0m\u001b[1;33m\u001b[0m\u001b[0m\n\u001b[0;32m     11\u001b[0m     \"\"\"\n\u001b[1;32m---> 12\u001b[1;33m     \u001b[0mr\u001b[0m\u001b[1;33m,\u001b[0m\u001b[0mc\u001b[0m\u001b[1;33m,\u001b[0m\u001b[1;33m*\u001b[0m\u001b[0m_\u001b[0m \u001b[1;33m=\u001b[0m \u001b[0mim\u001b[0m\u001b[1;33m.\u001b[0m\u001b[0mshape\u001b[0m\u001b[1;33m\u001b[0m\u001b[0m\n\u001b[0m\u001b[0;32m     13\u001b[0m     \u001b[0mratio\u001b[0m \u001b[1;33m=\u001b[0m \u001b[0mtarg\u001b[0m\u001b[1;33m/\u001b[0m\u001b[0mmin\u001b[0m\u001b[1;33m(\u001b[0m\u001b[0mr\u001b[0m\u001b[1;33m,\u001b[0m\u001b[0mc\u001b[0m\u001b[1;33m)\u001b[0m\u001b[1;33m\u001b[0m\u001b[0m\n\u001b[0;32m     14\u001b[0m     \u001b[0msz\u001b[0m \u001b[1;33m=\u001b[0m \u001b[1;33m(\u001b[0m\u001b[0mscale_to\u001b[0m\u001b[1;33m(\u001b[0m\u001b[0mc\u001b[0m\u001b[1;33m,\u001b[0m \u001b[0mratio\u001b[0m\u001b[1;33m,\u001b[0m \u001b[0mtarg\u001b[0m\u001b[1;33m)\u001b[0m\u001b[1;33m,\u001b[0m \u001b[0mscale_to\u001b[0m\u001b[1;33m(\u001b[0m\u001b[0mr\u001b[0m\u001b[1;33m,\u001b[0m \u001b[0mratio\u001b[0m\u001b[1;33m,\u001b[0m \u001b[0mtarg\u001b[0m\u001b[1;33m)\u001b[0m\u001b[1;33m)\u001b[0m\u001b[1;33m\u001b[0m\u001b[0m\n",
      "\u001b[1;31mAttributeError\u001b[0m: 'PngImageFile' object has no attribute 'shape'"
     ]
    }
   ],
   "source": [
    "img = Image.open('data/test/option_0000.png')\n",
    "img.resize((256,256),Image.NEAREST)\n",
    "\n",
    "im = trn_tfms(img)\n",
    "preds = player1.learn.predict_array(im[None])"
   ]
  },
  {
   "cell_type": "code",
   "execution_count": 4,
   "metadata": {},
   "outputs": [
    {
     "data": {
      "text/plain": [
       "Rack object containing the following tiles:\n",
       "IIIOOQT"
      ]
     },
     "execution_count": 4,
     "metadata": {},
     "output_type": "execute_result"
    }
   ],
   "source": [
    "player2.rack"
   ]
  },
  {
   "cell_type": "code",
   "execution_count": 5,
   "metadata": {},
   "outputs": [],
   "source": [
    "move = gui.parse_move_string('G8HQI')"
   ]
  },
  {
   "cell_type": "code",
   "execution_count": 6,
   "metadata": {},
   "outputs": [
    {
     "name": "stdout",
     "output_type": "stream",
     "text": [
      "Move: G8, Horizontal, tiles: QI, forms word: , score: None\n"
     ]
    }
   ],
   "source": [
    "print(move)"
   ]
  },
  {
   "cell_type": "code",
   "execution_count": 7,
   "metadata": {},
   "outputs": [
    {
     "data": {
      "text/plain": [
       "True"
      ]
     },
     "execution_count": 7,
     "metadata": {},
     "output_type": "execute_result"
    }
   ],
   "source": [
    "validator.is_valid(move)"
   ]
  },
  {
   "cell_type": "code",
   "execution_count": 8,
   "metadata": {},
   "outputs": [],
   "source": [
    "tile_values = [LETTER_VALUES[(ord(t)-64)] for t in move.tiles]"
   ]
  },
  {
   "cell_type": "code",
   "execution_count": 9,
   "metadata": {},
   "outputs": [
    {
     "data": {
      "text/plain": [
       "22.0"
      ]
     },
     "execution_count": 9,
     "metadata": {},
     "output_type": "execute_result"
    }
   ],
   "source": [
    "move.score"
   ]
  },
  {
   "cell_type": "code",
   "execution_count": 10,
   "metadata": {},
   "outputs": [
    {
     "data": {
      "text/plain": [
       "[10, 1]"
      ]
     },
     "execution_count": 10,
     "metadata": {},
     "output_type": "execute_result"
    }
   ],
   "source": [
    "tile_values"
   ]
  },
  {
   "cell_type": "code",
   "execution_count": 11,
   "metadata": {},
   "outputs": [
    {
     "data": {
      "text/plain": [
       "array([7, 8], dtype=int64)"
      ]
     },
     "execution_count": 11,
     "metadata": {},
     "output_type": "execute_result"
    }
   ],
   "source": [
    "squares_in_whole_word = move.row.squares_in_word(move.start_index)\n",
    "squares_in_whole_word"
   ]
  },
  {
   "cell_type": "code",
   "execution_count": 12,
   "metadata": {},
   "outputs": [],
   "source": [
    "np.put(move.row.existing_letter_scores, move.played_squares, tile_values)"
   ]
  },
  {
   "cell_type": "code",
   "execution_count": 13,
   "metadata": {},
   "outputs": [
    {
     "data": {
      "text/plain": [
       "GameBoard object:\n",
       "     A B C D E F G H I J K L M N O\n",
       "   + - - - - - - - - - - - - - - - +\n",
       " 1 | = . . ' . . . = . . . ' . . = |\n",
       " 2 | . - . . . \" . . . \" . . . - . |\n",
       " 3 | . . - . . . ' . ' . . . - . . |\n",
       " 4 | ' . . - . . . ' . . . - . . ' |\n",
       " 5 | . . . . - . . . . . - . . . . |\n",
       " 6 | . \" . . . \" . . . \" . . . \" . |\n",
       " 7 | . . ' . . . ' . ' . . . ' . . |\n",
       " 8 | = . . ' . . Q I . . . ' . . = |\n",
       " 9 | . . ' . . . ' . ' . . . ' . . |\n",
       "10 | . \" . . . \" . . . \" . . . \" . |\n",
       "11 | . . . . - . . . . . - . . . . |\n",
       "12 | . . . - . . . ' . . . - . . . |\n",
       "13 | ' . - . . . ' . ' . . . - . ' |\n",
       "14 | . - . . . \" . . . \" . . . - . |\n",
       "15 | = . . ' . . . = . . . ' . . = |\n",
       "   + - - - - - - - - - - - - - - - +\n",
       "     A B C D E F G H I J K L M N O"
      ]
     },
     "execution_count": 13,
     "metadata": {},
     "output_type": "execute_result"
    }
   ],
   "source": [
    "board"
   ]
  },
  {
   "cell_type": "code",
   "execution_count": 14,
   "metadata": {},
   "outputs": [
    {
     "name": "stdout",
     "output_type": "stream",
     "text": [
      "hook_squares:               False\n",
      "word_multiplier:            1\n",
      "letter_multiplier:          2\n",
      "existing_letters:           none\n",
      "existing_letter_scores:     0\n",
      "this_row_crosschecks:       [1 1 1 1 1 1 1 1 1 1 1 1 1 1 1 1 1 1 1 1 1 1 1 1 1 1 1 1 1 1 1 1]\n",
      "this_row_crosschecks:       ABCDEFGHIJKLMNOPQRSTUVWXYZ\n",
      "orthogonal_row_crosschecks: [1 1 1 1 1 1 1 1 1 1 1 1 1 1 1 1 1 1 1 1 1 1 1 1 1 1 1 1 1 1 1 1]\n",
      "orthogonal_row_crosschecks: ABCDEFGHIJKLMNOPQRSTUVWXYZ\n",
      "this_row_cross_scores:      -1\n",
      "column_play_scores:         -1\n"
     ]
    }
   ],
   "source": [
    "gui.describe_square('G9')"
   ]
  },
  {
   "cell_type": "code",
   "execution_count": 15,
   "metadata": {},
   "outputs": [],
   "source": [
    "game.execute_move(move)"
   ]
  },
  {
   "cell_type": "code",
   "execution_count": 16,
   "metadata": {},
   "outputs": [
    {
     "data": {
      "text/plain": [
       "row object:\n",
       " 8 | = . . ' . * Q I * . . ' . . = |"
      ]
     },
     "execution_count": 16,
     "metadata": {},
     "output_type": "execute_result"
    }
   ],
   "source": [
    "row = move.row\n",
    "row"
   ]
  },
  {
   "cell_type": "code",
   "execution_count": null,
   "metadata": {},
   "outputs": [],
   "source": []
  },
  {
   "cell_type": "code",
   "execution_count": 17,
   "metadata": {},
   "outputs": [
    {
     "data": {
      "text/plain": [
       "array([False, False, False, False, False, False,  True, False, False,\n",
       "        True, False, False, False, False, False, False, False])"
      ]
     },
     "execution_count": 17,
     "metadata": {},
     "output_type": "execute_result"
    }
   ],
   "source": [
    "row.hook_squares"
   ]
  },
  {
   "cell_type": "code",
   "execution_count": 18,
   "metadata": {},
   "outputs": [
    {
     "name": "stdout",
     "output_type": "stream",
     "text": [
      "hook_squares:               True\n",
      "word_multiplier:            1\n",
      "letter_multiplier:          1\n",
      "existing_letters:           none\n",
      "existing_letter_scores:     0\n",
      "this_row_crosschecks:       [1 1 1 1 1 1 1 1 1 1 1 1 1 1 1 1 1 1 1 1 1 1 1 1 1 1 1 1 1 1 1 1]\n",
      "this_row_crosschecks:       ABCDEFGHIJKLMNOPQRSTUVWXYZ\n",
      "orthogonal_row_crosschecks: [1 0 0 0 0 0 0 0 0 0 0 0 0 0 1 0 0 0 0 1 0 0 0 0 0 0 0 1 1 1 1 1]\n",
      "orthogonal_row_crosschecks: NS\n",
      "this_row_cross_scores:      -1\n",
      "column_play_scores:         11\n"
     ]
    }
   ],
   "source": [
    "gui.describe_square('I8')"
   ]
  },
  {
   "cell_type": "code",
   "execution_count": 19,
   "metadata": {},
   "outputs": [],
   "source": [
    "col = board.get_row(9,Direction.VERTICAL)"
   ]
  },
  {
   "cell_type": "code",
   "execution_count": 20,
   "metadata": {},
   "outputs": [
    {
     "data": {
      "text/plain": [
       "row object:\n",
       " I | . . ' . . . ' * ' . . . ' . . |"
      ]
     },
     "execution_count": 20,
     "metadata": {},
     "output_type": "execute_result"
    }
   ],
   "source": [
    "col"
   ]
  },
  {
   "cell_type": "code",
   "execution_count": 21,
   "metadata": {},
   "outputs": [
    {
     "data": {
      "text/plain": [
       "array([         0, 4294967295, 4294967295, 4294967295, 4294967295,\n",
       "       4294967295, 4294967295, 4294967295, 4161290241, 4294967295,\n",
       "       4294967295, 4294967295, 4294967295, 4294967295, 4294967295,\n",
       "       4294967295,          0], dtype=uint32)"
      ]
     },
     "execution_count": 21,
     "metadata": {},
     "output_type": "execute_result"
    }
   ],
   "source": [
    "col.this_row_crosschecks"
   ]
  },
  {
   "cell_type": "code",
   "execution_count": 22,
   "metadata": {},
   "outputs": [
    {
     "name": "stdout",
     "output_type": "stream",
     "text": [
      "Move: G8, Horizontal, tiles: QI, forms word: QI, score: 22.0\n"
     ]
    }
   ],
   "source": [
    "print(move)"
   ]
  },
  {
   "cell_type": "code",
   "execution_count": 23,
   "metadata": {},
   "outputs": [
    {
     "data": {
      "text/plain": [
       "Move object:\n",
       "Move: G8, Horizontal, tiles: QI, forms word: QI, score: 22.0"
      ]
     },
     "execution_count": 23,
     "metadata": {},
     "output_type": "execute_result"
    }
   ],
   "source": [
    "move"
   ]
  },
  {
   "cell_type": "code",
   "execution_count": 24,
   "metadata": {},
   "outputs": [
    {
     "data": {
      "text/plain": [
       "GameBoard object:\n",
       "     A B C D E F G H I J K L M N O\n",
       "   + - - - - - - - - - - - - - - - +\n",
       " 1 | = . . ' . . . = . . . ' . . = |\n",
       " 2 | . - . . . \" . . . \" . . . - . |\n",
       " 3 | . . - . . . ' . ' . . . - . . |\n",
       " 4 | ' . . - . . . ' . . . - . . ' |\n",
       " 5 | . . . . - . . . . . - . . . . |\n",
       " 6 | . \" . . . \" . . . \" . . . \" . |\n",
       " 7 | . . ' . . . * * ' . . . ' . . |\n",
       " 8 | = . . ' . * Q I * . . ' . . = |\n",
       " 9 | . . ' . . . * * ' . . . ' . . |\n",
       "10 | . \" . . . \" . . . \" . . . \" . |\n",
       "11 | . . . . - . . . . . - . . . . |\n",
       "12 | . . . - . . . ' . . . - . . . |\n",
       "13 | ' . - . . . ' . ' . . . - . ' |\n",
       "14 | . - . . . \" . . . \" . . . - . |\n",
       "15 | = . . ' . . . = . . . ' . . = |\n",
       "   + - - - - - - - - - - - - - - - +\n",
       "     A B C D E F G H I J K L M N O"
      ]
     },
     "execution_count": 24,
     "metadata": {},
     "output_type": "execute_result"
    }
   ],
   "source": [
    "board"
   ]
  },
  {
   "cell_type": "code",
   "execution_count": 25,
   "metadata": {},
   "outputs": [
    {
     "data": {
      "text/plain": [
       "True"
      ]
     },
     "execution_count": 25,
     "metadata": {},
     "output_type": "execute_result"
    }
   ],
   "source": [
    "False is not None"
   ]
  },
  {
   "cell_type": "code",
   "execution_count": 26,
   "metadata": {},
   "outputs": [
    {
     "data": {
      "text/plain": [
       "False"
      ]
     },
     "execution_count": 26,
     "metadata": {},
     "output_type": "execute_result"
    }
   ],
   "source": [
    "\n",
    "None is not None"
   ]
  },
  {
   "cell_type": "code",
   "execution_count": 27,
   "metadata": {},
   "outputs": [
    {
     "data": {
      "text/plain": [
       "True"
      ]
     },
     "execution_count": 27,
     "metadata": {},
     "output_type": "execute_result"
    }
   ],
   "source": [
    "'CaT' in lex\n"
   ]
  },
  {
   "cell_type": "code",
   "execution_count": 28,
   "metadata": {},
   "outputs": [],
   "source": [
    "x = [1,2,0,4,5]"
   ]
  },
  {
   "cell_type": "code",
   "execution_count": 29,
   "metadata": {},
   "outputs": [],
   "source": [
    "y = np.where(x)"
   ]
  },
  {
   "cell_type": "code",
   "execution_count": 30,
   "metadata": {},
   "outputs": [
    {
     "data": {
      "text/plain": [
       "(array([0, 1, 3, 4], dtype=int64),)"
      ]
     },
     "execution_count": 30,
     "metadata": {},
     "output_type": "execute_result"
    }
   ],
   "source": [
    "y"
   ]
  },
  {
   "cell_type": "code",
   "execution_count": 31,
   "metadata": {},
   "outputs": [
    {
     "data": {
      "text/plain": [
       "[0, 2, 0, 4, 5]"
      ]
     },
     "execution_count": 31,
     "metadata": {},
     "output_type": "execute_result"
    }
   ],
   "source": [
    "x[0] = 0\n",
    "x"
   ]
  },
  {
   "cell_type": "code",
   "execution_count": 32,
   "metadata": {},
   "outputs": [
    {
     "data": {
      "text/plain": [
       "(array([0, 1, 3, 4], dtype=int64),)"
      ]
     },
     "execution_count": 32,
     "metadata": {},
     "output_type": "execute_result"
    }
   ],
   "source": [
    "y"
   ]
  },
  {
   "cell_type": "code",
   "execution_count": 33,
   "metadata": {},
   "outputs": [
    {
     "data": {
      "text/plain": [
       "64"
      ]
     },
     "execution_count": 33,
     "metadata": {},
     "output_type": "execute_result"
    }
   ],
   "source": [
    "ord('@')"
   ]
  },
  {
   "cell_type": "code",
   "execution_count": 34,
   "metadata": {},
   "outputs": [
    {
     "data": {
      "text/plain": [
       "'A'"
      ]
     },
     "execution_count": 34,
     "metadata": {},
     "output_type": "execute_result"
    }
   ],
   "source": [
    "'a'.upper()"
   ]
  },
  {
   "cell_type": "code",
   "execution_count": 35,
   "metadata": {},
   "outputs": [
    {
     "data": {
      "text/plain": [
       "True"
      ]
     },
     "execution_count": 35,
     "metadata": {},
     "output_type": "execute_result"
    }
   ],
   "source": [
    "'hexact' in lex\n"
   ]
  },
  {
   "cell_type": "code",
   "execution_count": 36,
   "metadata": {},
   "outputs": [
    {
     "data": {
      "text/plain": [
       "True"
      ]
     },
     "execution_count": 36,
     "metadata": {},
     "output_type": "execute_result"
    }
   ],
   "source": [
    "'paramo' in lex\n"
   ]
  },
  {
   "cell_type": "code",
   "execution_count": 37,
   "metadata": {},
   "outputs": [
    {
     "data": {
      "text/plain": [
       "False"
      ]
     },
     "execution_count": 37,
     "metadata": {},
     "output_type": "execute_result"
    }
   ],
   "source": [
    "'overlya' in lex\n"
   ]
  },
  {
   "cell_type": "code",
   "execution_count": 38,
   "metadata": {},
   "outputs": [
    {
     "name": "stdout",
     "output_type": "stream",
     "text": [
      "hook_squares:               False\n",
      "word_multiplier:            1\n",
      "letter_multiplier:          1\n",
      "existing_letters:           Q\n",
      "existing_letter_scores:     10\n",
      "this_row_crosschecks:       [1 1 1 1 1 1 1 1 1 1 1 1 1 1 1 1 1 1 1 1 1 1 1 1 1 1 1 1 1 1 1 1]\n",
      "this_row_crosschecks:       ABCDEFGHIJKLMNOPQRSTUVWXYZ\n",
      "orthogonal_row_crosschecks: [1 1 1 1 1 1 1 1 1 1 1 1 1 1 1 1 1 1 1 1 1 1 1 1 1 1 1 1 1 1 1 1]\n",
      "orthogonal_row_crosschecks: ABCDEFGHIJKLMNOPQRSTUVWXYZ\n",
      "this_row_cross_scores:      -1\n",
      "column_play_scores:         -1\n"
     ]
    }
   ],
   "source": [
    "gui.describe_square('G8')"
   ]
  },
  {
   "cell_type": "code",
   "execution_count": 39,
   "metadata": {},
   "outputs": [
    {
     "data": {
      "text/plain": [
       "Move object:\n",
       "Move: G9, Vertical, tiles: I, forms word: Q, score: None"
      ]
     },
     "execution_count": 39,
     "metadata": {},
     "output_type": "execute_result"
    }
   ],
   "source": [
    "move = gui.parse_move_string('G9VI')\n",
    "move"
   ]
  },
  {
   "cell_type": "code",
   "execution_count": 40,
   "metadata": {},
   "outputs": [
    {
     "data": {
      "text/plain": [
       "[1]"
      ]
     },
     "execution_count": 40,
     "metadata": {},
     "output_type": "execute_result"
    }
   ],
   "source": [
    "tile_values = [(LETTER_VALUES[(ord(t)-64)] if t.isupper() else LETTER_VALUES[0]) for t in move.tiles]\n",
    "tile_values"
   ]
  },
  {
   "cell_type": "code",
   "execution_count": 41,
   "metadata": {},
   "outputs": [
    {
     "data": {
      "text/plain": [
       "array([8], dtype=int64)"
      ]
     },
     "execution_count": 41,
     "metadata": {},
     "output_type": "execute_result"
    }
   ],
   "source": [
    "squares_in_whole_word = move.row.squares_in_word(move.start_index)\n",
    "squares_in_whole_word"
   ]
  },
  {
   "cell_type": "code",
   "execution_count": 42,
   "metadata": {},
   "outputs": [
    {
     "data": {
      "text/plain": [
       "array([ 9, 10, 11, 12, 13, 14, 15], dtype=int64)"
      ]
     },
     "execution_count": 42,
     "metadata": {},
     "output_type": "execute_result"
    }
   ],
   "source": [
    "empties = move.row.empty_squares(9)\n",
    "empties"
   ]
  },
  {
   "cell_type": "code",
   "execution_count": 43,
   "metadata": {},
   "outputs": [
    {
     "data": {
      "text/plain": [
       "8"
      ]
     },
     "execution_count": 43,
     "metadata": {},
     "output_type": "execute_result"
    }
   ],
   "source": [
    "start_square = move.row.start_of_word(9)\n",
    "start_square"
   ]
  },
  {
   "cell_type": "code",
   "execution_count": 44,
   "metadata": {},
   "outputs": [
    {
     "data": {
      "text/plain": [
       "9"
      ]
     },
     "execution_count": 44,
     "metadata": {},
     "output_type": "execute_result"
    }
   ],
   "source": [
    "end_square = BOARD_SIZE if len(empties) == 0 else empties[0]\n",
    "end_square"
   ]
  },
  {
   "cell_type": "code",
   "execution_count": 45,
   "metadata": {},
   "outputs": [
    {
     "data": {
      "text/plain": [
       "[1]"
      ]
     },
     "execution_count": 45,
     "metadata": {},
     "output_type": "execute_result"
    }
   ],
   "source": [
    "tile_values"
   ]
  },
  {
   "cell_type": "code",
   "execution_count": 46,
   "metadata": {},
   "outputs": [
    {
     "data": {
      "text/plain": [
       "array([ 0,  0,  0,  0,  0,  0,  0,  0, 10,  0,  0,  0,  0,  0,  0,  0,  0],\n",
       "      dtype=int8)"
      ]
     },
     "execution_count": 46,
     "metadata": {},
     "output_type": "execute_result"
    }
   ],
   "source": [
    "move.row.existing_letter_scores"
   ]
  },
  {
   "cell_type": "code",
   "execution_count": 47,
   "metadata": {},
   "outputs": [
    {
     "data": {
      "text/plain": [
       "array([9], dtype=int64)"
      ]
     },
     "execution_count": 47,
     "metadata": {},
     "output_type": "execute_result"
    }
   ],
   "source": [
    "move.played_squares"
   ]
  },
  {
   "cell_type": "code",
   "execution_count": 48,
   "metadata": {},
   "outputs": [],
   "source": [
    "np.put(move.row.existing_letter_scores, move.played_squares, tile_values)"
   ]
  },
  {
   "cell_type": "code",
   "execution_count": 49,
   "metadata": {},
   "outputs": [
    {
     "data": {
      "text/plain": [
       "10"
      ]
     },
     "execution_count": 49,
     "metadata": {},
     "output_type": "execute_result"
    }
   ],
   "source": [
    "score = np.sum((move.row.existing_letter_scores * move.row.letter_multipliers)[squares_in_whole_word])\n",
    "score"
   ]
  },
  {
   "cell_type": "code",
   "execution_count": 50,
   "metadata": {},
   "outputs": [
    {
     "data": {
      "text/plain": [
       "10"
      ]
     },
     "execution_count": 50,
     "metadata": {},
     "output_type": "execute_result"
    }
   ],
   "source": [
    "score *= np.prod(move.row.word_multipliers[move.played_squares])\n",
    "score"
   ]
  },
  {
   "cell_type": "code",
   "execution_count": 51,
   "metadata": {
    "scrolled": true
   },
   "outputs": [
    {
     "data": {
      "text/plain": [
       "0.0"
      ]
     },
     "execution_count": 51,
     "metadata": {},
     "output_type": "execute_result"
    }
   ],
   "source": [
    "np.sum(np.where(\n",
    "            move.row.this_row_cross_scores != NO_CROSS_WORD,\n",
    "            ((move.row.existing_letter_scores * move.row.letter_multipliers\n",
    "              + move.row.this_row_cross_scores) * move.row.word_multipliers),\n",
    "            np.zeros(17))[move.played_squares])"
   ]
  },
  {
   "cell_type": "code",
   "execution_count": 52,
   "metadata": {},
   "outputs": [
    {
     "data": {
      "text/plain": [
       "array([-1, -1, -1, -1, -1, -1, -1, -1, -1, -1, -1, -1, -1, -1, -1, -1, -1])"
      ]
     },
     "execution_count": 52,
     "metadata": {},
     "output_type": "execute_result"
    }
   ],
   "source": [
    "move.row.this_row_cross_scores"
   ]
  },
  {
   "cell_type": "code",
   "execution_count": 53,
   "metadata": {},
   "outputs": [
    {
     "data": {
      "text/plain": [
       "array([False, False, False, False, False, False, False,  True, False,\n",
       "        True, False, False, False, False, False, False, False])"
      ]
     },
     "execution_count": 53,
     "metadata": {},
     "output_type": "execute_result"
    }
   ],
   "source": [
    "move.row.orthogonal_column_cross_scores != NO_CROSS_WORD"
   ]
  },
  {
   "cell_type": "code",
   "execution_count": 54,
   "metadata": {},
   "outputs": [
    {
     "data": {
      "text/plain": [
       "array([ 0,  0,  0,  0,  0,  0,  0,  0, 10,  2,  0,  0,  0,  0,  0,  0,  0],\n",
       "      dtype=int8)"
      ]
     },
     "execution_count": 54,
     "metadata": {},
     "output_type": "execute_result"
    }
   ],
   "source": [
    "move.row.existing_letter_scores * move.row.letter_multipliers\n"
   ]
  },
  {
   "cell_type": "code",
   "execution_count": 55,
   "metadata": {},
   "outputs": [
    {
     "data": {
      "text/plain": [
       "array([ 0, -1, -1, -1, -1, -1, -1, 10, -1, 10, -1, -1, -1, -1, -1, -1,  0])"
      ]
     },
     "execution_count": 55,
     "metadata": {},
     "output_type": "execute_result"
    }
   ],
   "source": [
    "move.row.orthogonal_column_cross_scores * move.row.word_multipliers\n"
   ]
  },
  {
   "cell_type": "code",
   "execution_count": 56,
   "metadata": {},
   "outputs": [
    {
     "data": {
      "text/plain": [
       "array([0, 1, 1, 1, 1, 1, 1, 1, 1, 1, 1, 1, 1, 1, 1, 1, 0], dtype=int8)"
      ]
     },
     "execution_count": 56,
     "metadata": {},
     "output_type": "execute_result"
    }
   ],
   "source": [
    "move.row.word_multipliers\n"
   ]
  },
  {
   "cell_type": "code",
   "execution_count": null,
   "metadata": {},
   "outputs": [],
   "source": []
  },
  {
   "cell_type": "code",
   "execution_count": 57,
   "metadata": {},
   "outputs": [
    {
     "data": {
      "text/plain": [
       "10"
      ]
     },
     "execution_count": 57,
     "metadata": {},
     "output_type": "execute_result"
    }
   ],
   "source": [
    "score"
   ]
  },
  {
   "cell_type": "code",
   "execution_count": 58,
   "metadata": {},
   "outputs": [
    {
     "data": {
      "text/plain": [
       "<model.humanplayer.HumanPlayer at 0x5a997f0>"
      ]
     },
     "execution_count": 58,
     "metadata": {},
     "output_type": "execute_result"
    }
   ],
   "source": [
    "game.active_player\n"
   ]
  },
  {
   "cell_type": "code",
   "execution_count": 59,
   "metadata": {},
   "outputs": [
    {
     "data": {
      "text/plain": [
       "<model.movevalidator.MoveValidator at 0x5a997b8>"
      ]
     },
     "execution_count": 59,
     "metadata": {},
     "output_type": "execute_result"
    }
   ],
   "source": [
    "game.validator"
   ]
  },
  {
   "cell_type": "code",
   "execution_count": 60,
   "metadata": {},
   "outputs": [
    {
     "data": {
      "text/plain": [
       "True"
      ]
     },
     "execution_count": 60,
     "metadata": {},
     "output_type": "execute_result"
    }
   ],
   "source": [
    "validator.is_valid(move)"
   ]
  },
  {
   "cell_type": "code",
   "execution_count": 61,
   "metadata": {},
   "outputs": [
    {
     "data": {
      "text/plain": [
       "Move object:\n",
       "Move: G9, Vertical, tiles: I, forms word: QI, score: 12.0"
      ]
     },
     "execution_count": 61,
     "metadata": {},
     "output_type": "execute_result"
    }
   ],
   "source": [
    "move"
   ]
  },
  {
   "cell_type": "code",
   "execution_count": 64,
   "metadata": {},
   "outputs": [
    {
     "data": {
      "text/plain": [
       "12"
      ]
     },
     "execution_count": 64,
     "metadata": {},
     "output_type": "execute_result"
    }
   ],
   "source": [
    "player1.rack.score_of_remaining_tiles()"
   ]
  },
  {
   "cell_type": "code",
   "execution_count": 65,
   "metadata": {},
   "outputs": [],
   "source": [
    "x  = [1,2,3]"
   ]
  },
  {
   "cell_type": "code",
   "execution_count": 66,
   "metadata": {},
   "outputs": [
    {
     "data": {
      "text/plain": [
       "False"
      ]
     },
     "execution_count": 66,
     "metadata": {},
     "output_type": "execute_result"
    }
   ],
   "source": [
    "not x"
   ]
  },
  {
   "cell_type": "code",
   "execution_count": 67,
   "metadata": {},
   "outputs": [
    {
     "name": "stdout",
     "output_type": "stream",
     "text": [
      "blah\n"
     ]
    }
   ],
   "source": [
    "if x:\n",
    "    print('blah')"
   ]
  },
  {
   "cell_type": "code",
   "execution_count": 68,
   "metadata": {},
   "outputs": [],
   "source": [
    "y = (1,2,3)"
   ]
  },
  {
   "cell_type": "code",
   "execution_count": 69,
   "metadata": {},
   "outputs": [
    {
     "data": {
      "text/plain": [
       "False"
      ]
     },
     "execution_count": 69,
     "metadata": {},
     "output_type": "execute_result"
    }
   ],
   "source": [
    "not y"
   ]
  },
  {
   "cell_type": "code",
   "execution_count": 70,
   "metadata": {},
   "outputs": [],
   "source": [
    "y = ()"
   ]
  },
  {
   "cell_type": "code",
   "execution_count": 71,
   "metadata": {},
   "outputs": [
    {
     "data": {
      "text/plain": [
       "True"
      ]
     },
     "execution_count": 71,
     "metadata": {},
     "output_type": "execute_result"
    }
   ],
   "source": [
    "not y\n"
   ]
  },
  {
   "cell_type": "code",
   "execution_count": 73,
   "metadata": {},
   "outputs": [],
   "source": [
    "import queue\n",
    "\n"
   ]
  },
  {
   "cell_type": "code",
   "execution_count": 74,
   "metadata": {},
   "outputs": [],
   "source": [
    "x = np.full(17, None)"
   ]
  },
  {
   "cell_type": "code",
   "execution_count": 75,
   "metadata": {},
   "outputs": [
    {
     "data": {
      "text/plain": [
       "array([None, None, None, None, None, None, None, None, None, None, None,\n",
       "       None, None, None, None, None, None], dtype=object)"
      ]
     },
     "execution_count": 75,
     "metadata": {},
     "output_type": "execute_result"
    }
   ],
   "source": [
    "x\n"
   ]
  },
  {
   "cell_type": "code",
   "execution_count": 86,
   "metadata": {},
   "outputs": [],
   "source": [
    "x = [1,2,3]"
   ]
  },
  {
   "cell_type": "code",
   "execution_count": 77,
   "metadata": {},
   "outputs": [],
   "source": [
    "y=[[7,8,9],[4,5,6],[3,4,5]]\n"
   ]
  },
  {
   "cell_type": "code",
   "execution_count": 78,
   "metadata": {},
   "outputs": [
    {
     "data": {
      "text/plain": [
       "[[7, 8, 9], [4, 5, 6], [3, 4, 5]]"
      ]
     },
     "execution_count": 78,
     "metadata": {},
     "output_type": "execute_result"
    }
   ],
   "source": [
    "y\n"
   ]
  },
  {
   "cell_type": "code",
   "execution_count": 90,
   "metadata": {},
   "outputs": [],
   "source": [
    "import itertools\n",
    "x.extend(itertools.chain.from_iterable(y))"
   ]
  },
  {
   "cell_type": "code",
   "execution_count": 91,
   "metadata": {},
   "outputs": [
    {
     "data": {
      "text/plain": [
       "[1, 2, 3, 7, 8, 9, 4, 5, 6, 3, 4, 5]"
      ]
     },
     "execution_count": 91,
     "metadata": {},
     "output_type": "execute_result"
    }
   ],
   "source": [
    "x"
   ]
  },
  {
   "cell_type": "code",
   "execution_count": null,
   "metadata": {},
   "outputs": [],
   "source": []
  }
 ],
 "metadata": {
  "kernelspec": {
   "display_name": "Python 3",
   "language": "python",
   "name": "python3"
  },
  "language_info": {
   "codemirror_mode": {
    "name": "ipython",
    "version": 3
   },
   "file_extension": ".py",
   "mimetype": "text/x-python",
   "name": "python",
   "nbconvert_exporter": "python",
   "pygments_lexer": "ipython3",
   "version": "3.6.6"
  }
 },
 "nbformat": 4,
 "nbformat_minor": 2
}
